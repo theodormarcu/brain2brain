{
 "cells": [
  {
   "cell_type": "code",
   "execution_count": 1,
   "metadata": {},
   "outputs": [],
   "source": [
    "import tensorflow.keras as keras\n",
    "import tensorflow as tf"
   ]
  },
  {
   "cell_type": "markdown",
   "metadata": {},
   "source": [
    "# Keras Learning I\n",
    "### Classifying Movie Reviews Using Keras"
   ]
  },
  {
   "cell_type": "code",
   "execution_count": 2,
   "metadata": {},
   "outputs": [],
   "source": [
    "# Imports\n",
    "from tensorflow.keras.datasets import imdb\n",
    "from tensorflow.keras.datasets import reuters\n",
    "# Numpy\n",
    "import numpy as np\n",
    "# Model Definition\n",
    "from tensorflow.keras import models\n",
    "from tensorflow.keras import layers\n",
    "from tensorflow.keras.utils import to_categorical\n",
    "# Timing\n",
    "import time\n",
    "# Plotting\n",
    "import matplotlib.pyplot as plt"
   ]
  },
  {
   "cell_type": "code",
   "execution_count": 3,
   "metadata": {},
   "outputs": [
    {
     "name": "stdout",
     "output_type": "stream",
     "text": [
      "Downloading data from https://storage.googleapis.com/tensorflow/tf-keras-datasets/imdb.npz\n",
      "17465344/17464789 [==============================] - 0s 0us/step\n"
     ]
    }
   ],
   "source": [
    "# Loading the IMDB Dataset\n",
    "(train_data, train_labels), (test_data, test_labels) = imdb.load_data(num_words=10000)"
   ]
  },
  {
   "cell_type": "code",
   "execution_count": 4,
   "metadata": {},
   "outputs": [
    {
     "name": "stdout",
     "output_type": "stream",
     "text": [
      "Downloading data from https://storage.googleapis.com/tensorflow/tf-keras-datasets/imdb_word_index.json\n",
      "1646592/1641221 [==============================] - 0s 0us/step\n"
     ]
    }
   ],
   "source": [
    "word_index = imdb.get_word_index()\n",
    "reverse_word_index = dict(\n",
    "    [(value, key) for (key, value) in word_index.items()])\n",
    "decoded_review = ''.join(\n",
    "    [reverse_word_index.get(i-3, '?') for i in train_data[0]])"
   ]
  },
  {
   "cell_type": "code",
   "execution_count": 5,
   "metadata": {},
   "outputs": [],
   "source": [
    "# Encoding the integer sequences into a binary matrix\n",
    "def vectorize_sequences(sequences, dimension=10000):\n",
    "    # Create an all zero matrix of shape (len(seq), dim)\n",
    "    results = np.zeros((len(sequences), dimension))\n",
    "    # Set specific indices of results[i] to 1s\n",
    "    for i, sequence in enumerate(sequences):\n",
    "        results[i, sequence] = 1\n",
    "    return results\n",
    "\n",
    "x_train = vectorize_sequences(train_data) # Vectorize train_data\n",
    "x_test = vectorize_sequences(test_data)  # Vectorize test_data\n",
    "y_train = np.asarray(train_labels).astype('float32')\n",
    "y_test = np.asarray(test_labels).astype('float32')"
   ]
  },
  {
   "cell_type": "code",
   "execution_count": 6,
   "metadata": {},
   "outputs": [
    {
     "data": {
      "text/plain": [
       "array([0., 1., 1., ..., 0., 0., 0.])"
      ]
     },
     "execution_count": 6,
     "metadata": {},
     "output_type": "execute_result"
    }
   ],
   "source": [
    "x_train[0]"
   ]
  },
  {
   "cell_type": "markdown",
   "metadata": {},
   "source": [
    "### Book Notes:\n",
    "\n",
    "* The input data is vectors, and the labels are scalars (1s and 0s).\n",
    "* A simple stack  of fully connected (Dense) layers with relu activations: Dense(16, activation='relu')\n",
    "* 16 --> number of hidden units of the layer.\n",
    "\n",
    "#### Architecture (explained in Ch. 4):\n",
    "* Two intermediate layers with 16 hidden units each.\n",
    "* A third layer that will output the scalar prediction regarding the sentiment of the current review."
   ]
  },
  {
   "cell_type": "code",
   "execution_count": 7,
   "metadata": {},
   "outputs": [],
   "source": [
    "# Model Definition\n",
    "model = models.Sequential()\n",
    "model.add(layers.Dense(16, activation='relu', input_shape = (10000,)))\n",
    "model.add(layers.Dense(16, activation='relu'))\n",
    "model.add(layers.Dense(1, activation='sigmoid'))"
   ]
  },
  {
   "cell_type": "code",
   "execution_count": 8,
   "metadata": {},
   "outputs": [],
   "source": [
    "# Compiling the model\n",
    "model.compile(optimizer=\"rmsprop\",\n",
    "              loss=\"binary_crossentropy\",\n",
    "              metrics=['accuracy'])"
   ]
  },
  {
   "cell_type": "code",
   "execution_count": 9,
   "metadata": {},
   "outputs": [],
   "source": [
    "# Setting aside a validation set\n",
    "x_val = x_train[:10000]\n",
    "partial_x_train = x_train[10000:]\n",
    "y_val = y_train[:10000]\n",
    "partial_y_train = y_train[10000:]"
   ]
  },
  {
   "cell_type": "code",
   "execution_count": 10,
   "metadata": {},
   "outputs": [
    {
     "name": "stdout",
     "output_type": "stream",
     "text": [
      "Train on 15000 samples, validate on 10000 samples\n",
      "Epoch 1/20\n",
      "15000/15000 [==============================] - 2s 130us/sample - loss: 0.5238 - accuracy: 0.7863 - val_loss: 0.4085 - val_accuracy: 0.8631\n",
      "Epoch 2/20\n",
      "15000/15000 [==============================] - 1s 55us/sample - loss: 0.3223 - accuracy: 0.9037 - val_loss: 0.3173 - val_accuracy: 0.8858\n",
      "Epoch 3/20\n",
      "15000/15000 [==============================] - 1s 53us/sample - loss: 0.2359 - accuracy: 0.9239 - val_loss: 0.2822 - val_accuracy: 0.8921\n",
      "Epoch 4/20\n",
      "15000/15000 [==============================] - 1s 53us/sample - loss: 0.1843 - accuracy: 0.9413 - val_loss: 0.2747 - val_accuracy: 0.8906\n",
      "Epoch 5/20\n",
      "15000/15000 [==============================] - 1s 50us/sample - loss: 0.1520 - accuracy: 0.9523 - val_loss: 0.2771 - val_accuracy: 0.8889\n",
      "Epoch 6/20\n",
      "15000/15000 [==============================] - 1s 51us/sample - loss: 0.1245 - accuracy: 0.9616 - val_loss: 0.3192 - val_accuracy: 0.8777\n",
      "Epoch 7/20\n",
      "15000/15000 [==============================] - 1s 51us/sample - loss: 0.1025 - accuracy: 0.9705 - val_loss: 0.3126 - val_accuracy: 0.8853\n",
      "Epoch 8/20\n",
      "15000/15000 [==============================] - 1s 53us/sample - loss: 0.0853 - accuracy: 0.9767 - val_loss: 0.3413 - val_accuracy: 0.8766\n",
      "Epoch 9/20\n",
      "15000/15000 [==============================] - 1s 50us/sample - loss: 0.0717 - accuracy: 0.9822 - val_loss: 0.3756 - val_accuracy: 0.8727\n",
      "Epoch 10/20\n",
      "15000/15000 [==============================] - 1s 52us/sample - loss: 0.0564 - accuracy: 0.9873 - val_loss: 0.3806 - val_accuracy: 0.8728\n",
      "Epoch 11/20\n",
      "15000/15000 [==============================] - 1s 52us/sample - loss: 0.0456 - accuracy: 0.9901 - val_loss: 0.4616 - val_accuracy: 0.8602\n",
      "Epoch 12/20\n",
      "15000/15000 [==============================] - 1s 51us/sample - loss: 0.0376 - accuracy: 0.9921 - val_loss: 0.4457 - val_accuracy: 0.8652\n",
      "Epoch 13/20\n",
      "15000/15000 [==============================] - 1s 54us/sample - loss: 0.0305 - accuracy: 0.9943 - val_loss: 0.4400 - val_accuracy: 0.8759\n",
      "Epoch 14/20\n",
      "15000/15000 [==============================] - 1s 53us/sample - loss: 0.0234 - accuracy: 0.9956 - val_loss: 0.4889 - val_accuracy: 0.8667\n",
      "Epoch 15/20\n",
      "15000/15000 [==============================] - 1s 51us/sample - loss: 0.0164 - accuracy: 0.9983 - val_loss: 0.5268 - val_accuracy: 0.8656\n",
      "Epoch 16/20\n",
      "15000/15000 [==============================] - 1s 52us/sample - loss: 0.0138 - accuracy: 0.9985 - val_loss: 0.5448 - val_accuracy: 0.8710\n",
      "Epoch 17/20\n",
      "15000/15000 [==============================] - 1s 53us/sample - loss: 0.0109 - accuracy: 0.9989 - val_loss: 0.5760 - val_accuracy: 0.8697\n",
      "Epoch 18/20\n",
      "15000/15000 [==============================] - 1s 53us/sample - loss: 0.0078 - accuracy: 0.9992 - val_loss: 0.6129 - val_accuracy: 0.8688\n",
      "Epoch 19/20\n",
      "15000/15000 [==============================] - 1s 57us/sample - loss: 0.0051 - accuracy: 0.9999 - val_loss: 0.6354 - val_accuracy: 0.8697\n",
      "Epoch 20/20\n",
      "15000/15000 [==============================] - 1s 52us/sample - loss: 0.0033 - accuracy: 0.9999 - val_loss: 0.6885 - val_accuracy: 0.8670\n",
      "--- 19.139028549194336 seconds ---\n"
     ]
    }
   ],
   "source": [
    "start_time = time.time()\n",
    "# Training your model\n",
    "history = model.fit(partial_x_train,\n",
    "                    partial_y_train,\n",
    "                    epochs=20,\n",
    "                    batch_size=512,\n",
    "                    validation_data=(x_val, y_val))\n",
    "print(f\"--- {time.time() - start_time} seconds ---\")"
   ]
  },
  {
   "cell_type": "code",
   "execution_count": 11,
   "metadata": {},
   "outputs": [
    {
     "data": {
      "text/plain": [
       "dict_keys(['loss', 'accuracy', 'val_loss', 'val_accuracy'])"
      ]
     },
     "execution_count": 11,
     "metadata": {},
     "output_type": "execute_result"
    }
   ],
   "source": [
    "history_dict = history.history\n",
    "history_dict.keys()"
   ]
  },
  {
   "cell_type": "code",
   "execution_count": 12,
   "metadata": {},
   "outputs": [
    {
     "data": {
      "image/png": "[encoded data removed]",
      "text/plain": [
       "<Figure size 432x288 with 1 Axes>"
      ]
     },
     "metadata": {
      "needs_background": "light"
     },
     "output_type": "display_data"
    }
   ],
   "source": [
    "# Plotting the training and validation loss\n",
    "history_dict = history.history\n",
    "loss_values = history_dict['loss']\n",
    "val_loss_values = history_dict[\"val_loss\"]\n",
    "\n",
    "epochs = range(1, len(loss_values) + 1)\n",
    "plt.plot(epochs, loss_values, \"bo\", label=\"Training Loss\")\n",
    "plt.plot(epochs, val_loss_values, \"b\", label=\"Validation Loss\")\n",
    "plt.title(\"Training and vladiation loss\")\n",
    "plt.xlabel(\"Epochs\")\n",
    "plt.ylabel(\"Loss\")\n",
    "plt.legend()\n",
    "plt.show()"
   ]
  },
  {
   "cell_type": "code",
   "execution_count": 13,
   "metadata": {},
   "outputs": [
    {
     "data": {
      "image/png": "[encoded data removed]",
      "text/plain": [
       "<Figure size 432x288 with 1 Axes>"
      ]
     },
     "metadata": {
      "needs_background": "light"
     },
     "output_type": "display_data"
    }
   ],
   "source": [
    "# Plotting the training and validation accuracy\n",
    "plt.clf() # Clear figure\n",
    "acc_values = history_dict['accuracy']\n",
    "val_acc_values = history_dict[\"val_accuracy\"]\n",
    "\n",
    "plt.plot(epochs, acc_values, \"bo\", label=\"Training Acc\")\n",
    "plt.plot(epochs, val_acc_values, \"b\", label=\"Validation Acc\")\n",
    "plt.title(\"Training and vladiation Accuracy\")\n",
    "plt.xlabel(\"Epochs\")\n",
    "plt.ylabel(\"Loss\")\n",
    "plt.legend()\n",
    "plt.show()"
   ]
  },
  {
   "cell_type": "code",
   "execution_count": 21,
   "metadata": {},
   "outputs": [
    {
     "name": "stdout",
     "output_type": "stream",
     "text": [
      "Epoch 1/4\n",
      "25000/25000 [==============================] - 2s 79us/step - loss: 0.4494 - accuracy: 0.8239\n",
      "Epoch 2/4\n",
      "25000/25000 [==============================] - 1s 57us/step - loss: 0.2571 - accuracy: 0.9098\n",
      "Epoch 3/4\n",
      "25000/25000 [==============================] - 2s 65us/step - loss: 0.1999 - accuracy: 0.9285\n",
      "Epoch 4/4\n",
      "25000/25000 [==============================] - 2s 68us/step - loss: 0.1672 - accuracy: 0.9414\n",
      "25000/25000 [==============================] - 2s 90us/step\n"
     ]
    }
   ],
   "source": [
    "# Retraining a model from scratch\n",
    "# Model Definition\n",
    "model = models.Sequential()\n",
    "model.add(layers.Dense(16, activation='relu', input_shape = (10000,)))\n",
    "model.add(layers.Dense(16, activation='relu'))\n",
    "model.add(layers.Dense(1, activation='sigmoid'))\n",
    "\n",
    "model.compile(optimizer='rmsprop', \n",
    "              loss=\"binary_crossentropy\",\n",
    "              metrics=['accuracy'])\n",
    "model.fit(x_train, y_train, epochs=4, batch_size=512)\n",
    "results = model.evaluate(x_test, y_test)"
   ]
  },
  {
   "cell_type": "code",
   "execution_count": 22,
   "metadata": {},
   "outputs": [
    {
     "data": {
      "text/plain": [
       "[0.3076903423023224, 0.8784000277519226]"
      ]
     },
     "execution_count": 22,
     "metadata": {},
     "output_type": "execute_result"
    }
   ],
   "source": [
    "results"
   ]
  },
  {
   "cell_type": "code",
   "execution_count": 23,
   "metadata": {},
   "outputs": [
    {
     "data": {
      "text/plain": [
       "array([[0.14783871],\n",
       "       [0.99907917],\n",
       "       [0.77600753],\n",
       "       ...,\n",
       "       [0.08207327],\n",
       "       [0.04039726],\n",
       "       [0.39734024]], dtype=float32)"
      ]
     },
     "execution_count": 23,
     "metadata": {},
     "output_type": "execute_result"
    }
   ],
   "source": [
    "# You can predict using\n",
    "model.predict(x_test)"
   ]
  },
  {
   "cell_type": "markdown",
   "metadata": {},
   "source": [
    "### Classifying newswires: a multiclass classification example\n"
   ]
  },
  {
   "cell_type": "code",
   "execution_count": 25,
   "metadata": {},
   "outputs": [
    {
     "name": "stdout",
     "output_type": "stream",
     "text": [
      "Downloading data from https://s3.amazonaws.com/text-datasets/reuters.npz\n",
      "2113536/2110848 [==============================] - 0s 0us/step\n"
     ]
    }
   ],
   "source": [
    "# Loading the Reuters dataset\n",
    "(train_data, train_labels), (test_data, test_labels) = reuters.load_data(num_words=10000)\n"
   ]
  },
  {
   "cell_type": "code",
   "execution_count": 26,
   "metadata": {},
   "outputs": [],
   "source": [
    "x_train = vectorize_sequences(train_data)\n",
    "x_test = vectorize_sequences(test_data)"
   ]
  },
  {
   "cell_type": "code",
   "execution_count": 30,
   "metadata": {},
   "outputs": [],
   "source": [
    "def to_one_hot(labels, dimension=46):\n",
    "    results = np.zeros((len(labels), dimension))\n",
    "    for i, label in enumerate(labels):\n",
    "        results[i, label] = 1.\n",
    "    return results\n",
    "\n",
    "one_hot_train_labels = to_one_hot(train_labels)\n",
    "one_hot_test_labels = to_one_hot(test_labels)"
   ]
  },
  {
   "cell_type": "code",
   "execution_count": 32,
   "metadata": {},
   "outputs": [],
   "source": [
    "# Also a built-in awy to do it in Keras\n",
    "one_hot_train_labels = to_categorical(train_labels)\n",
    "one_hot_test_labels = to_categorical(test_labels)\n"
   ]
  },
  {
   "cell_type": "code",
   "execution_count": 46,
   "metadata": {},
   "outputs": [],
   "source": [
    "# Model Definition\n",
    "# Use 64 units\n",
    "model = models.Sequential()\n",
    "model.add(layers.Dense(64, activation='relu', input_shape=(10000,)))\n",
    "model.add(layers.Dense(64, activation='relu'))\n",
    "model.add(layers.Dense(46, activation='softmax'))"
   ]
  },
  {
   "cell_type": "code",
   "execution_count": 47,
   "metadata": {},
   "outputs": [],
   "source": [
    "# Compiling the model\n",
    "model.compile(optimizer=\"rmsprop\",\n",
    "              loss='categorical_crossentropy', \n",
    "              metrics=['accuracy'])"
   ]
  },
  {
   "cell_type": "code",
   "execution_count": 48,
   "metadata": {},
   "outputs": [],
   "source": [
    "# Setting aside a validation set\n",
    "x_val = x_train[:1000]\n",
    "partial_x_train = x_train[1000:]\n",
    "\n",
    "y_val = one_hot_train_labels[:1000]\n",
    "partial_y_train = one_hot_train_labels[1000:]"
   ]
  },
  {
   "cell_type": "code",
   "execution_count": 49,
   "metadata": {},
   "outputs": [
    {
     "name": "stdout",
     "output_type": "stream",
     "text": [
      "Train on 7982 samples, validate on 1000 samples\n",
      "Epoch 1/20\n",
      "7982/7982 [==============================] - 1s 108us/step - loss: 2.6997 - accuracy: 0.5081 - val_loss: 1.7746 - val_accuracy: 0.6330\n",
      "Epoch 2/20\n",
      "7982/7982 [==============================] - 0s 59us/step - loss: 1.4443 - accuracy: 0.7073 - val_loss: 1.3214 - val_accuracy: 0.6940\n",
      "Epoch 3/20\n",
      "7982/7982 [==============================] - 0s 59us/step - loss: 1.0650 - accuracy: 0.7719 - val_loss: 1.1412 - val_accuracy: 0.7480\n",
      "Epoch 4/20\n",
      "7982/7982 [==============================] - 1s 70us/step - loss: 0.8351 - accuracy: 0.8196 - val_loss: 1.0391 - val_accuracy: 0.7760\n",
      "Epoch 5/20\n",
      "7982/7982 [==============================] - 1s 70us/step - loss: 0.6659 - accuracy: 0.8594 - val_loss: 0.9699 - val_accuracy: 0.7960\n",
      "Epoch 6/20\n",
      "7982/7982 [==============================] - 1s 83us/step - loss: 0.5318 - accuracy: 0.8900 - val_loss: 0.9242 - val_accuracy: 0.8020\n",
      "Epoch 7/20\n",
      "7982/7982 [==============================] - 1s 86us/step - loss: 0.4290 - accuracy: 0.9112 - val_loss: 0.9073 - val_accuracy: 0.8160\n",
      "Epoch 8/20\n",
      "7982/7982 [==============================] - 1s 75us/step - loss: 0.3498 - accuracy: 0.9250 - val_loss: 0.8961 - val_accuracy: 0.8090\n",
      "Epoch 9/20\n",
      "7982/7982 [==============================] - 1s 82us/step - loss: 0.2922 - accuracy: 0.9380 - val_loss: 0.9027 - val_accuracy: 0.8210\n",
      "Epoch 10/20\n",
      "7982/7982 [==============================] - 1s 73us/step - loss: 0.2450 - accuracy: 0.9426 - val_loss: 0.9082 - val_accuracy: 0.8100\n",
      "Epoch 11/20\n",
      "7982/7982 [==============================] - 1s 68us/step - loss: 0.2103 - accuracy: 0.9491 - val_loss: 0.9084 - val_accuracy: 0.8230\n",
      "Epoch 12/20\n",
      "7982/7982 [==============================] - 1s 69us/step - loss: 0.1868 - accuracy: 0.9513 - val_loss: 0.9178 - val_accuracy: 0.8140\n",
      "Epoch 13/20\n",
      "7982/7982 [==============================] - 1s 63us/step - loss: 0.1695 - accuracy: 0.9508 - val_loss: 0.9675 - val_accuracy: 0.8140\n",
      "Epoch 14/20\n",
      "7982/7982 [==============================] - 0s 60us/step - loss: 0.1494 - accuracy: 0.9572 - val_loss: 1.0131 - val_accuracy: 0.8080\n",
      "Epoch 15/20\n",
      "7982/7982 [==============================] - 0s 62us/step - loss: 0.1398 - accuracy: 0.9557 - val_loss: 0.9944 - val_accuracy: 0.8070\n",
      "Epoch 16/20\n",
      "7982/7982 [==============================] - 1s 67us/step - loss: 0.1350 - accuracy: 0.9569 - val_loss: 1.0176 - val_accuracy: 0.8100\n",
      "Epoch 17/20\n",
      "7982/7982 [==============================] - 1s 82us/step - loss: 0.1236 - accuracy: 0.9583 - val_loss: 1.0039 - val_accuracy: 0.8130\n",
      "Epoch 18/20\n",
      "7982/7982 [==============================] - 1s 67us/step - loss: 0.1175 - accuracy: 0.9570 - val_loss: 1.0501 - val_accuracy: 0.8110\n",
      "Epoch 19/20\n",
      "7982/7982 [==============================] - 1s 88us/step - loss: 0.1158 - accuracy: 0.9578 - val_loss: 1.0593 - val_accuracy: 0.8040\n",
      "Epoch 20/20\n",
      "7982/7982 [==============================] - 1s 82us/step - loss: 0.1138 - accuracy: 0.9589 - val_loss: 1.1110 - val_accuracy: 0.8030\n"
     ]
    }
   ],
   "source": [
    "# Training the model\n",
    "history = model.fit(partial_x_train,\n",
    "                    partial_y_train,\n",
    "                    epochs=20,\n",
    "                    batch_size = 512,\n",
    "                    validation_data=(x_val, y_val))"
   ]
  },
  {
   "cell_type": "code",
   "execution_count": 50,
   "metadata": {},
   "outputs": [
    {
     "data": {
      "image/png": "[encoded data removed]",
      "text/plain": [
       "<Figure size 432x288 with 1 Axes>"
      ]
     },
     "metadata": {
      "needs_background": "light"
     },
     "output_type": "display_data"
    }
   ],
   "source": [
    "loss = history.history['loss']\n",
    "val_loss = history.history['val_loss']\n",
    "epochs = range(1, len(loss)+1)\n",
    "plt.plot(epochs, loss, \"bo\", label=\"Training Loss\")\n",
    "plt.plot(epochs, val_loss, \"b\", label=\"Validation Loss\")\n",
    "plt.title(\"Training and validiation loss\")\n",
    "plt.xlabel(\"Epochs\")\n",
    "plt.ylabel(\"Loss\")\n",
    "plt.legend()\n",
    "plt.show()"
   ]
  },
  {
   "cell_type": "code",
   "execution_count": 51,
   "metadata": {},
   "outputs": [
    {
     "data": {
      "image/png": "[encoded data removed]",
      "text/plain": [
       "<Figure size 432x288 with 1 Axes>"
      ]
     },
     "metadata": {
      "needs_background": "light"
     },
     "output_type": "display_data"
    }
   ],
   "source": [
    "# Plotting the training and validation accuracy\n",
    "plt.clf() # Clear figure\n",
    "acc_values = history.history['accuracy']\n",
    "val_acc_values = history.history[\"val_accuracy\"]\n",
    "\n",
    "plt.plot(epochs, acc_values, \"bo\", label=\"Training Acc\")\n",
    "plt.plot(epochs, val_acc_values, \"b\", label=\"Validation Acc\")\n",
    "plt.title(\"Training and vladiation Accuracy\")\n",
    "plt.xlabel(\"Epochs\")\n",
    "plt.ylabel(\"Loss\")\n",
    "plt.legend()\n",
    "plt.show()"
   ]
  },
  {
   "cell_type": "code",
   "execution_count": null,
   "metadata": {},
   "outputs": [],
   "source": []
  }
 ],
 "metadata": {
  "kernelspec": {
   "display_name": "Python 3",
   "language": "python",
   "name": "python3"
  },
  "language_info": {
   "codemirror_mode": {
    "name": "ipython",
    "version": 3
   },
   "file_extension": ".py",
   "mimetype": "text/x-python",
   "name": "python",
   "nbconvert_exporter": "python",
   "pygments_lexer": "ipython3",
   "version": "3.7.5"
  }
 },
 "nbformat": 4,
 "nbformat_minor": 4
}
