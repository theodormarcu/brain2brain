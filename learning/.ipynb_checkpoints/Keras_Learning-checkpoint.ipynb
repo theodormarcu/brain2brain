{
 "cells": [
  {
   "cell_type": "code",
   "execution_count": 1,
   "metadata": {},
   "outputs": [],
   "source": [
    "import tensorflow as tf"
   ]
  },
  {
   "cell_type": "markdown",
   "metadata": {},
   "source": [
    "# Keras Learning I\n",
    "### Classifying Movie Reviews Using Keras"
   ]
  },
  {
   "cell_type": "code",
   "execution_count": 31,
   "metadata": {},
   "outputs": [],
   "source": [
    "# Imports\n",
    "from keras.datasets import imdb\n",
    "from keras.datasets import reuters\n",
    "# Numpy\n",
    "import numpy as np\n",
    "# Model Definition\n",
    "from keras import models\n",
    "from keras import layers\n",
    "from keras.utils.np_utils import to_categorical\n",
    "# Timing\n",
    "import time\n",
    "# Plotting\n",
    "import matplotlib.pyplot as plt"
   ]
  },
  {
   "cell_type": "code",
   "execution_count": 3,
   "metadata": {},
   "outputs": [],
   "source": [
    "# Loading the IMDB Dataset\n",
    "(train_data, train_labels), (test_data, test_labels) = imdb.load_data(num_words=10000)"
   ]
  },
  {
   "cell_type": "code",
   "execution_count": 4,
   "metadata": {},
   "outputs": [],
   "source": [
    "word_index = imdb.get_word_index()\n",
    "reverse_word_index = dict(\n",
    "    [(value, key) for (key, value) in word_index.items()])\n",
    "decoded_review = ''.join(\n",
    "    [reverse_word_index.get(i-3, '?') for i in train_data[0]])"
   ]
  },
  {
   "cell_type": "code",
   "execution_count": 5,
   "metadata": {},
   "outputs": [],
   "source": [
    "# Encoding the integer sequences into a binary matrix\n",
    "def vectorize_sequences(sequences, dimension=10000):\n",
    "    # Create an all zero matrix of shape (len(seq), dim)\n",
    "    results = np.zeros((len(sequences), dimension))\n",
    "    # Set specific indices of results[i] to 1s\n",
    "    for i, sequence in enumerate(sequences):\n",
    "        results[i, sequence] = 1\n",
    "    return results\n",
    "\n",
    "x_train = vectorize_sequences(train_data) # Vectorize train_data\n",
    "x_test = vectorize_sequences(test_data)  # Vectorize test_data\n",
    "y_train = np.asarray(train_labels).astype('float32')\n",
    "y_test = np.asarray(test_labels).astype('float32')"
   ]
  },
  {
   "cell_type": "code",
   "execution_count": 6,
   "metadata": {},
   "outputs": [
    {
     "data": {
      "text/plain": [
       "array([0., 1., 1., ..., 0., 0., 0.])"
      ]
     },
     "execution_count": 6,
     "metadata": {},
     "output_type": "execute_result"
    }
   ],
   "source": [
    "x_train[0]"
   ]
  },
  {
   "cell_type": "markdown",
   "metadata": {},
   "source": [
    "### Book Notes:\n",
    "\n",
    "* The input data is vectors, and the labels are scalars (1s and 0s).\n",
    "* A simple stack  of fully connected (Dense) layers with relu activations: Dense(16, activation='relu')\n",
    "* 16 --> number of hidden units of the layer.\n",
    "\n",
    "#### Architecture (explained in Ch. 4):\n",
    "* Two intermediate layers with 16 hidden units each.\n",
    "* A third layer that will output the scalar prediction regarding the sentiment of the current review."
   ]
  },
  {
   "cell_type": "code",
   "execution_count": 7,
   "metadata": {},
   "outputs": [],
   "source": [
    "# Model Definition\n",
    "model = models.Sequential()\n",
    "model.add(layers.Dense(16, activation='relu', input_shape = (10000,)))\n",
    "model.add(layers.Dense(16, activation='relu'))\n",
    "model.add(layers.Dense(1, activation='sigmoid'))"
   ]
  },
  {
   "cell_type": "code",
   "execution_count": 8,
   "metadata": {},
   "outputs": [],
   "source": [
    "# Compiling the model\n",
    "model.compile(optimizer=\"rmsprop\",\n",
    "              loss=\"binary_crossentropy\",\n",
    "              metrics=['accuracy'])"
   ]
  },
  {
   "cell_type": "code",
   "execution_count": 9,
   "metadata": {},
   "outputs": [],
   "source": [
    "# Setting aside a validation set\n",
    "x_val = x_train[:10000]\n",
    "partial_x_train = x_train[10000:]\n",
    "y_val = y_train[:10000]\n",
    "partial_y_train = y_train[10000:]"
   ]
  },
  {
   "cell_type": "code",
   "execution_count": 10,
   "metadata": {},
   "outputs": [
    {
     "name": "stdout",
     "output_type": "stream",
     "text": [
      "Train on 15000 samples, validate on 10000 samples\n",
      "Epoch 1/20\n",
      "15000/15000 [==============================] - 2s 107us/step - loss: 0.5318 - accuracy: 0.7748 - val_loss: 0.4006 - val_accuracy: 0.8691\n",
      "Epoch 2/20\n",
      "15000/15000 [==============================] - 1s 93us/step - loss: 0.3248 - accuracy: 0.8964 - val_loss: 0.3147 - val_accuracy: 0.8855\n",
      "Epoch 3/20\n",
      "15000/15000 [==============================] - 1s 100us/step - loss: 0.2349 - accuracy: 0.9241 - val_loss: 0.2937 - val_accuracy: 0.8864\n",
      "Epoch 4/20\n",
      "15000/15000 [==============================] - 1s 78us/step - loss: 0.1815 - accuracy: 0.9425 - val_loss: 0.2726 - val_accuracy: 0.8904\n",
      "Epoch 5/20\n",
      "15000/15000 [==============================] - 1s 76us/step - loss: 0.1501 - accuracy: 0.9524 - val_loss: 0.2852 - val_accuracy: 0.8877\n",
      "Epoch 6/20\n",
      "15000/15000 [==============================] - 1s 87us/step - loss: 0.1221 - accuracy: 0.9629 - val_loss: 0.2955 - val_accuracy: 0.8815\n",
      "Epoch 7/20\n",
      "15000/15000 [==============================] - 2s 106us/step - loss: 0.0995 - accuracy: 0.9726 - val_loss: 0.3137 - val_accuracy: 0.8791\n",
      "Epoch 8/20\n",
      "15000/15000 [==============================] - 2s 132us/step - loss: 0.0864 - accuracy: 0.9740 - val_loss: 0.3223 - val_accuracy: 0.8826\n",
      "Epoch 9/20\n",
      "15000/15000 [==============================] - 2s 131us/step - loss: 0.0722 - accuracy: 0.9800 - val_loss: 0.3485 - val_accuracy: 0.8760\n",
      "Epoch 10/20\n",
      "15000/15000 [==============================] - 2s 107us/step - loss: 0.0566 - accuracy: 0.9869 - val_loss: 0.3746 - val_accuracy: 0.8803\n",
      "Epoch 11/20\n",
      "15000/15000 [==============================] - 2s 108us/step - loss: 0.0487 - accuracy: 0.9878 - val_loss: 0.4059 - val_accuracy: 0.8751\n",
      "Epoch 12/20\n",
      "15000/15000 [==============================] - 2s 106us/step - loss: 0.0371 - accuracy: 0.9924 - val_loss: 0.4220 - val_accuracy: 0.8759\n",
      "Epoch 13/20\n",
      "15000/15000 [==============================] - 1s 97us/step - loss: 0.0326 - accuracy: 0.9921 - val_loss: 0.4518 - val_accuracy: 0.8729\n",
      "Epoch 14/20\n",
      "15000/15000 [==============================] - 1s 93us/step - loss: 0.0237 - accuracy: 0.9961 - val_loss: 0.5049 - val_accuracy: 0.8703\n",
      "Epoch 15/20\n",
      "15000/15000 [==============================] - 1s 92us/step - loss: 0.0210 - accuracy: 0.9959 - val_loss: 0.5132 - val_accuracy: 0.8716\n",
      "Epoch 16/20\n",
      "15000/15000 [==============================] - 1s 87us/step - loss: 0.0161 - accuracy: 0.9979 - val_loss: 0.5456 - val_accuracy: 0.8702\n",
      "Epoch 17/20\n",
      "15000/15000 [==============================] - 1s 83us/step - loss: 0.0122 - accuracy: 0.9985 - val_loss: 0.5851 - val_accuracy: 0.8691\n",
      "Epoch 18/20\n",
      "15000/15000 [==============================] - 1s 87us/step - loss: 0.0093 - accuracy: 0.9994 - val_loss: 0.6138 - val_accuracy: 0.8677\n",
      "Epoch 19/20\n",
      "15000/15000 [==============================] - 1s 88us/step - loss: 0.0097 - accuracy: 0.9979 - val_loss: 0.6518 - val_accuracy: 0.8671\n",
      "Epoch 20/20\n",
      "15000/15000 [==============================] - 1s 91us/step - loss: 0.0041 - accuracy: 0.9999 - val_loss: 0.6965 - val_accuracy: 0.8630\n",
      "--- 29.554945945739746 seconds ---\n"
     ]
    }
   ],
   "source": [
    "start_time = time.time()\n",
    "# Training your model\n",
    "history = model.fit(partial_x_train,\n",
    "                    partial_y_train,\n",
    "                    epochs=20,\n",
    "                    batch_size=512,\n",
    "                    validation_data=(x_val, y_val))\n",
    "print(f\"--- {time.time() - start_time} seconds ---\")"
   ]
  },
  {
   "cell_type": "code",
   "execution_count": 17,
   "metadata": {},
   "outputs": [
    {
     "data": {
      "text/plain": [
       "dict_keys(['val_loss', 'val_accuracy', 'loss', 'accuracy'])"
      ]
     },
     "execution_count": 17,
     "metadata": {},
     "output_type": "execute_result"
    }
   ],
   "source": [
    "history_dict = history.history\n",
    "history_dict.keys()"
   ]
  },
  {
   "cell_type": "code",
   "execution_count": 19,
   "metadata": {},
   "outputs": [
    {
     "data": {
      "image/png": "[encoded data removed]",
      "text/plain": [
       "<Figure size 432x288 with 1 Axes>"
      ]
     },
     "metadata": {
      "needs_background": "light"
     },
     "output_type": "display_data"
    }
   ],
   "source": [
    "# Plotting the training and validation loss\n",
    "history_dict = history.history\n",
    "loss_values = history_dict['loss']\n",
    "val_loss_values = history_dict[\"val_loss\"]\n",
    "\n",
    "epochs = range(1, len(loss_values) + 1)\n",
    "plt.plot(epochs, loss_values, \"bo\", label=\"Training Loss\")\n",
    "plt.plot(epochs, val_loss_values, \"b\", label=\"Validation Loss\")\n",
    "plt.title(\"Training and vladiation loss\")\n",
    "plt.xlabel(\"Epochs\")\n",
    "plt.ylabel(\"Loss\")\n",
    "plt.legend()\n",
    "plt.show()"
   ]
  },
  {
   "cell_type": "code",
   "execution_count": 20,
   "metadata": {},
   "outputs": [
    {
     "data": {
      "image/png": "[encoded data removed]",
      "text/plain": [
       "<Figure size 432x288 with 1 Axes>"
      ]
     },
     "metadata": {
      "needs_background": "light"
     },
     "output_type": "display_data"
    }
   ],
   "source": [
    "# Plotting the training and validation accuracy\n",
    "plt.clf() # Clear figure\n",
    "acc_values = history_dict['accuracy']\n",
    "val_acc_values = history_dict[\"val_accuracy\"]\n",
    "\n",
    "plt.plot(epochs, acc_values, \"bo\", label=\"Training Acc\")\n",
    "plt.plot(epochs, val_acc_values, \"b\", label=\"Validation Acc\")\n",
    "plt.title(\"Training and vladiation Accuracy\")\n",
    "plt.xlabel(\"Epochs\")\n",
    "plt.ylabel(\"Loss\")\n",
    "plt.legend()\n",
    "plt.show()"
   ]
  },
  {
   "cell_type": "code",
   "execution_count": 21,
   "metadata": {},
   "outputs": [
    {
     "name": "stdout",
     "output_type": "stream",
     "text": [
      "Epoch 1/4\n",
      "25000/25000 [==============================] - 2s 79us/step - loss: 0.4494 - accuracy: 0.8239\n",
      "Epoch 2/4\n",
      "25000/25000 [==============================] - 1s 57us/step - loss: 0.2571 - accuracy: 0.9098\n",
      "Epoch 3/4\n",
      "25000/25000 [==============================] - 2s 65us/step - loss: 0.1999 - accuracy: 0.9285\n",
      "Epoch 4/4\n",
      "25000/25000 [==============================] - 2s 68us/step - loss: 0.1672 - accuracy: 0.9414\n",
      "25000/25000 [==============================] - 2s 90us/step\n"
     ]
    }
   ],
   "source": [
    "# Retraining a model from scratch\n",
    "# Model Definition\n",
    "model = models.Sequential()\n",
    "model.add(layers.Dense(16, activation='relu', input_shape = (10000,)))\n",
    "model.add(layers.Dense(16, activation='relu'))\n",
    "model.add(layers.Dense(1, activation='sigmoid'))\n",
    "\n",
    "model.compile(optimizer='rmsprop', \n",
    "              loss=\"binary_crossentropy\",\n",
    "              metrics=['accuracy'])\n",
    "model.fit(x_train, y_train, epochs=4, batch_size=512)\n",
    "results = model.evaluate(x_test, y_test)"
   ]
  },
  {
   "cell_type": "code",
   "execution_count": 22,
   "metadata": {},
   "outputs": [
    {
     "data": {
      "text/plain": [
       "[0.3076903423023224, 0.8784000277519226]"
      ]
     },
     "execution_count": 22,
     "metadata": {},
     "output_type": "execute_result"
    }
   ],
   "source": [
    "results"
   ]
  },
  {
   "cell_type": "code",
   "execution_count": 23,
   "metadata": {},
   "outputs": [
    {
     "data": {
      "text/plain": [
       "array([[0.14783871],\n",
       "       [0.99907917],\n",
       "       [0.77600753],\n",
       "       ...,\n",
       "       [0.08207327],\n",
       "       [0.04039726],\n",
       "       [0.39734024]], dtype=float32)"
      ]
     },
     "execution_count": 23,
     "metadata": {},
     "output_type": "execute_result"
    }
   ],
   "source": [
    "# You can predict using\n",
    "model.predict(x_test)"
   ]
  },
  {
   "cell_type": "markdown",
   "metadata": {},
   "source": [
    "### Classifying newswires: a multiclass classification example\n"
   ]
  },
  {
   "cell_type": "code",
   "execution_count": 25,
   "metadata": {},
   "outputs": [
    {
     "name": "stdout",
     "output_type": "stream",
     "text": [
      "Downloading data from https://s3.amazonaws.com/text-datasets/reuters.npz\n",
      "2113536/2110848 [==============================] - 0s 0us/step\n"
     ]
    }
   ],
   "source": [
    "# Loading the Reuters dataset\n",
    "(train_data, train_labels), (test_data, test_labels) = reuters.load_data(num_words=10000)\n"
   ]
  },
  {
   "cell_type": "code",
   "execution_count": 26,
   "metadata": {},
   "outputs": [],
   "source": [
    "x_train = vectorize_sequences(train_data)\n",
    "x_test = vectorize_sequences(test_data)"
   ]
  },
  {
   "cell_type": "code",
   "execution_count": 30,
   "metadata": {},
   "outputs": [],
   "source": [
    "def to_one_hot(labels, dimension=46):\n",
    "    results = np.zeros((len(labels), dimension))\n",
    "    for i, label in enumerate(labels):\n",
    "        results[i, label] = 1.\n",
    "    return results\n",
    "\n",
    "one_hot_train_labels = to_one_hot(train_labels)\n",
    "one_hot_test_labels = to_one_hot(test_labels)"
   ]
  },
  {
   "cell_type": "code",
   "execution_count": 32,
   "metadata": {},
   "outputs": [],
   "source": [
    "# Also a built-in awy to do it in Keras\n",
    "one_hot_train_labels = to_categorical(train_labels)\n",
    "one_hot_test_labels = to_categorical(test_labels)\n"
   ]
  },
  {
   "cell_type": "code",
   "execution_count": 35,
   "metadata": {},
   "outputs": [],
   "source": [
    "# Model Definition\n",
    "# Use 64 units\n",
    "model = models.Sequential()\n",
    "model.add(layers.Dense(64, activation='relu', input_shape=(10000,)))\n",
    "model.add(layers.Dense(64, activation='relu'))\n",
    "model.add(layers.Dense(46, activation='softmax'))"
   ]
  },
  {
   "cell_type": "code",
   "execution_count": null,
   "metadata": {},
   "outputs": [],
   "source": [
    "# Compiling the model\n"
   ]
  }
 ],
 "metadata": {
  "kernelspec": {
   "display_name": "Python 3",
   "language": "python",
   "name": "python3"
  },
  "language_info": {
   "codemirror_mode": {
    "name": "ipython",
    "version": 3
   },
   "file_extension": ".py",
   "mimetype": "text/x-python",
   "name": "python",
   "nbconvert_exporter": "python",
   "pygments_lexer": "ipython3",
   "version": "3.7.5"
  }
 },
 "nbformat": 4,
 "nbformat_minor": 2
}
