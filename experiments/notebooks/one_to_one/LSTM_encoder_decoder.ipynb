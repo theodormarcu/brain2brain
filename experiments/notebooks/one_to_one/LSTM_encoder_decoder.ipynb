{
 "cells": [
  {
   "cell_type": "code",
   "execution_count": 1,
   "metadata": {},
   "outputs": [],
   "source": [
    "# Autoreload\n",
    "%load_ext autoreload\n",
    "%autoreload 2"
   ]
  },
  {
   "cell_type": "code",
   "execution_count": 2,
   "metadata": {},
   "outputs": [],
   "source": [
    "# Imports\n",
    "import numpy as np\n",
    "import json\n",
    "import pandas as pd\n",
    "import numpy as np\n",
    "import time\n",
    "import string\n",
    "from matplotlib import pyplot as plt\n",
    "import tensorflow as tf\n",
    "import sys\n",
    "sys.path.append('../../../')\n",
    "from brain2brain import utils, generators, models\n",
    "%matplotlib inline\n",
    "\n",
    "# TF\n",
    "from tensorflow.keras.models import Sequential\n",
    "from tensorflow.keras import layers\n",
    "from tensorflow.keras.optimizers import RMSprop, Adam\n",
    "from tensorflow.keras.models import load_model\n",
    "from tensorflow.keras.callbacks import EarlyStopping, ModelCheckpoint\n",
    "\n",
    "# TCN\n",
    "from brain2brain.tcn import TCN\n",
    "from tensorflow.keras import Input, Model\n",
    "from tensorflow.keras.layers import Dense, Flatten, GRU, LSTM, RepeatVector, TimeDistributed\n",
    "\n",
    "from scipy.stats import pearsonr"
   ]
  },
  {
   "cell_type": "markdown",
   "metadata": {},
   "source": [
    "# Encoder-Decoder With Teacher Forcing"
   ]
  },
  {
   "cell_type": "code",
   "execution_count": 3,
   "metadata": {},
   "outputs": [
    {
     "name": "stdout",
     "output_type": "stream",
     "text": [
      "(5429, 114)\n"
     ]
    }
   ],
   "source": [
    "train_paths = utils.get_file_paths(\"/home/tmarcu/brain2brain/brain2brain/train_676_bin_norm_2.txt\")\n",
    "val_paths = utils.get_file_paths(\"/home/tmarcu/brain2brain/brain2brain/val_676_bin_norm_2.txt\")\n",
    "total_electrode_count = utils.get_file_shape(train_paths[0])[1]\n",
    "# Electrodes\n",
    "electrode_count = 1\n",
    "# Training Generator\n",
    "train_generator = generators.FGenerator(file_paths=train_paths,\n",
    "                                        lookback=50,\n",
    "                                        length=5,\n",
    "                                        delay=0,\n",
    "                                        batch_size=1024,\n",
    "                                        sample_period=1,\n",
    "                                        electrodes=[5],\n",
    "                                        electrode_output_ix=5,\n",
    "                                        shuffle=True,\n",
    "                                        teacher_forcing=True)\n",
    "# Validation Generator\n",
    "val_generator = generators.FGenerator(file_paths=val_paths,\n",
    "                                        lookback=50,\n",
    "                                        length=5,\n",
    "                                        delay=0,\n",
    "                                        batch_size=1024,\n",
    "                                        sample_period=1,\n",
    "                                        electrodes=[5],\n",
    "                                        electrode_output_ix=5,\n",
    "                                        shuffle=False,\n",
    "                                        teacher_forcing=True)"
   ]
  },
  {
   "cell_type": "markdown",
   "metadata": {},
   "source": [
    "# Machine Learning Mastery Model"
   ]
  },
  {
   "cell_type": "code",
   "execution_count": 3,
   "metadata": {},
   "outputs": [
    {
     "name": "stdout",
     "output_type": "stream",
     "text": [
      "Model: \"model\"\n",
      "__________________________________________________________________________________________________\n",
      "Layer (type)                    Output Shape         Param #     Connected to                     \n",
      "==================================================================================================\n",
      "input_1 (InputLayer)            [(None, None, 1)]    0                                            \n",
      "__________________________________________________________________________________________________\n",
      "input_2 (InputLayer)            [(None, None, 1)]    0                                            \n",
      "__________________________________________________________________________________________________\n",
      "lstm (LSTM)                     [(None, 128), (None, 66560       input_1[0][0]                    \n",
      "__________________________________________________________________________________________________\n",
      "lstm_1 (LSTM)                   [(None, None, 128),  66560       input_2[0][0]                    \n",
      "                                                                 lstm[0][1]                       \n",
      "                                                                 lstm[0][2]                       \n",
      "__________________________________________________________________________________________________\n",
      "dense (Dense)                   (None, None, 1)      129         lstm_1[0][0]                     \n",
      "==================================================================================================\n",
      "Total params: 133,249\n",
      "Trainable params: 133,249\n",
      "Non-trainable params: 0\n",
      "__________________________________________________________________________________________________\n"
     ]
    }
   ],
   "source": [
    "dropout = .005\n",
    "n_features = 1\n",
    "n_units = 128\n",
    "# define model\n",
    "train, infenc, infdec = models.define_enc_dec_model(n_features, n_features, n_units)\n",
    "train.compile(optimizer='adam', loss='mae')\n",
    "train.summary()"
   ]
  },
  {
   "cell_type": "code",
   "execution_count": 6,
   "metadata": {},
   "outputs": [
    {
     "name": "stdout",
     "output_type": "stream",
     "text": [
      "WARNING:tensorflow:From <ipython-input-6-580e251cf5db>:11: Model.fit_generator (from tensorflow.python.keras.engine.training) is deprecated and will be removed in a future version.\n",
      "Instructions for updating:\n",
      "Please use Model.fit, which supports generators.\n",
      "WARNING:tensorflow:sample_weight modes were coerced from\n",
      "  ...\n",
      "    to  \n",
      "  ['...']\n",
      "WARNING:tensorflow:sample_weight modes were coerced from\n",
      "  ...\n",
      "    to  \n",
      "  ['...']\n",
      "Train for 28 steps, validate for 9 steps\n",
      "Epoch 1/100\n",
      "28/28 [==============================] - 30s 1s/step - loss: 1.1079 - val_loss: 1.0932\n",
      "Epoch 2/100\n",
      "28/28 [==============================] - 19s 668ms/step - loss: 1.1079 - val_loss: 1.0932\n",
      "Epoch 3/100\n",
      "28/28 [==============================] - 19s 663ms/step - loss: 1.1079 - val_loss: 1.0932\n"
     ]
    }
   ],
   "source": [
    "callback_list = [\n",
    "        EarlyStopping(\n",
    "            monitor=\"val_loss\",\n",
    "            patience=2,\n",
    "            mode=\"min\"\n",
    "        )\n",
    "]\n",
    "history = train.fit_generator(generator=train_generator,\n",
    "                              callbacks=callback_list,\n",
    "                              epochs=100,\n",
    "                              validation_data=val_generator)"
   ]
  },
  {
   "cell_type": "code",
   "execution_count": 7,
   "metadata": {},
   "outputs": [
    {
     "data": {
      "text/plain": [
       "<matplotlib.legend.Legend at 0x2b961f83f1d0>"
      ]
     },
     "execution_count": 7,
     "metadata": {},
     "output_type": "execute_result"
    },
    {
     "data": {
      "image/png": "[encoded data removed]",
      "text/plain": [
       "<Figure size 432x288 with 1 Axes>"
      ]
     },
     "metadata": {
      "needs_background": "light"
     },
     "output_type": "display_data"
    }
   ],
   "source": [
    "plt.plot(history.history['loss'])\n",
    "plt.plot(history.history['val_loss'])\n",
    "\n",
    "plt.xlabel('Epoch')\n",
    "plt.ylabel('Mean Absolute Error Loss')\n",
    "plt.title('Loss Over Time')\n",
    "plt.legend(['Train','Valid'])"
   ]
  },
  {
   "cell_type": "markdown",
   "metadata": {},
   "source": [
    "# Joseph Eddy Model"
   ]
  },
  {
   "cell_type": "code",
   "execution_count": 4,
   "metadata": {},
   "outputs": [],
   "source": [
    "hidden_units = 128\n",
    "dropout = 0.05\n",
    "train_2, inf_encoder_model, inf_decoder_model = models.define_enc_dec_model_jeddy_o2o(hidden_units, dropout)"
   ]
  },
  {
   "cell_type": "code",
   "execution_count": 5,
   "metadata": {},
   "outputs": [
    {
     "name": "stdout",
     "output_type": "stream",
     "text": [
      "Model: \"model\"\n",
      "__________________________________________________________________________________________________\n",
      "Layer (type)                    Output Shape         Param #     Connected to                     \n",
      "==================================================================================================\n",
      "input_1 (InputLayer)            [(None, None, 1)]    0                                            \n",
      "__________________________________________________________________________________________________\n",
      "input_2 (InputLayer)            [(None, None, 1)]    0                                            \n",
      "__________________________________________________________________________________________________\n",
      "lstm (LSTM)                     [(None, 128), (None, 66560       input_1[0][0]                    \n",
      "__________________________________________________________________________________________________\n",
      "lstm_1 (LSTM)                   [(None, None, 128),  66560       input_2[0][0]                    \n",
      "                                                                 lstm[0][1]                       \n",
      "                                                                 lstm[0][2]                       \n",
      "__________________________________________________________________________________________________\n",
      "dense (Dense)                   (None, None, 1)      129         lstm_1[0][0]                     \n",
      "==================================================================================================\n",
      "Total params: 133,249\n",
      "Trainable params: 133,249\n",
      "Non-trainable params: 0\n",
      "__________________________________________________________________________________________________\n"
     ]
    }
   ],
   "source": [
    "train_2.compile(optimizer='adam', loss='mae')\n",
    "train_2.summary()"
   ]
  },
  {
   "cell_type": "code",
   "execution_count": 6,
   "metadata": {},
   "outputs": [
    {
     "name": "stdout",
     "output_type": "stream",
     "text": [
      "WARNING:tensorflow:From <ipython-input-6-4025ae9cb0df>:11: Model.fit_generator (from tensorflow.python.keras.engine.training) is deprecated and will be removed in a future version.\n",
      "Instructions for updating:\n",
      "Please use Model.fit, which supports generators.\n",
      "WARNING:tensorflow:sample_weight modes were coerced from\n",
      "  ...\n",
      "    to  \n",
      "  ['...']\n",
      "WARNING:tensorflow:sample_weight modes were coerced from\n",
      "  ...\n",
      "    to  \n",
      "  ['...']\n",
      "Train for 28 steps, validate for 9 steps\n",
      "Epoch 1/100\n",
      "28/28 [==============================] - 10s 344ms/step - loss: 0.5721 - val_loss: 0.5242\n",
      "Epoch 2/100\n",
      "28/28 [==============================] - 5s 176ms/step - loss: 0.5245 - val_loss: 0.5083\n",
      "Epoch 3/100\n",
      "28/28 [==============================] - 5s 172ms/step - loss: 0.5105 - val_loss: 0.4972\n",
      "Epoch 4/100\n",
      "28/28 [==============================] - 5s 173ms/step - loss: 0.5014 - val_loss: 0.4896\n",
      "Epoch 5/100\n",
      "28/28 [==============================] - 5s 173ms/step - loss: 0.4968 - val_loss: 0.4860\n",
      "Epoch 6/100\n",
      "28/28 [==============================] - 5s 174ms/step - loss: 0.4962 - val_loss: 0.4850\n",
      "Epoch 7/100\n",
      " 4/28 [===>..........................] - ETA: 4s - loss: 0.5022WARNING:tensorflow:Early stopping conditioned on metric `val_loss` which is not available. Available metrics are: loss\n"
     ]
    },
    {
     "ename": "KeyboardInterrupt",
     "evalue": "",
     "output_type": "error",
     "traceback": [
      "\u001b[0;31m---------------------------------------------------------------------------\u001b[0m",
      "\u001b[0;31mKeyboardInterrupt\u001b[0m                         Traceback (most recent call last)",
      "\u001b[0;32m<ipython-input-6-4025ae9cb0df>\u001b[0m in \u001b[0;36m<module>\u001b[0;34m\u001b[0m\n\u001b[1;32m      9\u001b[0m                               \u001b[0mcallbacks\u001b[0m\u001b[0;34m=\u001b[0m\u001b[0mcallback_list\u001b[0m\u001b[0;34m,\u001b[0m\u001b[0;34m\u001b[0m\u001b[0;34m\u001b[0m\u001b[0m\n\u001b[1;32m     10\u001b[0m                               \u001b[0mepochs\u001b[0m\u001b[0;34m=\u001b[0m\u001b[0;36m100\u001b[0m\u001b[0;34m,\u001b[0m\u001b[0;34m\u001b[0m\u001b[0;34m\u001b[0m\u001b[0m\n\u001b[0;32m---> 11\u001b[0;31m                               validation_data=val_generator)\n\u001b[0m",
      "\u001b[0;32m~/.conda/envs/brain2brain_env/lib/python3.7/site-packages/tensorflow_core/python/util/deprecation.py\u001b[0m in \u001b[0;36mnew_func\u001b[0;34m(*args, **kwargs)\u001b[0m\n\u001b[1;32m    322\u001b[0m               \u001b[0;34m'in a future version'\u001b[0m \u001b[0;32mif\u001b[0m \u001b[0mdate\u001b[0m \u001b[0;32mis\u001b[0m \u001b[0;32mNone\u001b[0m \u001b[0;32melse\u001b[0m \u001b[0;34m(\u001b[0m\u001b[0;34m'after %s'\u001b[0m \u001b[0;34m%\u001b[0m \u001b[0mdate\u001b[0m\u001b[0;34m)\u001b[0m\u001b[0;34m,\u001b[0m\u001b[0;34m\u001b[0m\u001b[0;34m\u001b[0m\u001b[0m\n\u001b[1;32m    323\u001b[0m               instructions)\n\u001b[0;32m--> 324\u001b[0;31m       \u001b[0;32mreturn\u001b[0m \u001b[0mfunc\u001b[0m\u001b[0;34m(\u001b[0m\u001b[0;34m*\u001b[0m\u001b[0margs\u001b[0m\u001b[0;34m,\u001b[0m \u001b[0;34m**\u001b[0m\u001b[0mkwargs\u001b[0m\u001b[0;34m)\u001b[0m\u001b[0;34m\u001b[0m\u001b[0;34m\u001b[0m\u001b[0m\n\u001b[0m\u001b[1;32m    325\u001b[0m     return tf_decorator.make_decorator(\n\u001b[1;32m    326\u001b[0m         \u001b[0mfunc\u001b[0m\u001b[0;34m,\u001b[0m \u001b[0mnew_func\u001b[0m\u001b[0;34m,\u001b[0m \u001b[0;34m'deprecated'\u001b[0m\u001b[0;34m,\u001b[0m\u001b[0;34m\u001b[0m\u001b[0;34m\u001b[0m\u001b[0m\n",
      "\u001b[0;32m~/.conda/envs/brain2brain_env/lib/python3.7/site-packages/tensorflow_core/python/keras/engine/training.py\u001b[0m in \u001b[0;36mfit_generator\u001b[0;34m(self, generator, steps_per_epoch, epochs, verbose, callbacks, validation_data, validation_steps, validation_freq, class_weight, max_queue_size, workers, use_multiprocessing, shuffle, initial_epoch)\u001b[0m\n\u001b[1;32m   1304\u001b[0m         \u001b[0muse_multiprocessing\u001b[0m\u001b[0;34m=\u001b[0m\u001b[0muse_multiprocessing\u001b[0m\u001b[0;34m,\u001b[0m\u001b[0;34m\u001b[0m\u001b[0;34m\u001b[0m\u001b[0m\n\u001b[1;32m   1305\u001b[0m         \u001b[0mshuffle\u001b[0m\u001b[0;34m=\u001b[0m\u001b[0mshuffle\u001b[0m\u001b[0;34m,\u001b[0m\u001b[0;34m\u001b[0m\u001b[0;34m\u001b[0m\u001b[0m\n\u001b[0;32m-> 1306\u001b[0;31m         initial_epoch=initial_epoch)\n\u001b[0m\u001b[1;32m   1307\u001b[0m \u001b[0;34m\u001b[0m\u001b[0m\n\u001b[1;32m   1308\u001b[0m   @deprecation.deprecated(\n",
      "\u001b[0;32m~/.conda/envs/brain2brain_env/lib/python3.7/site-packages/tensorflow_core/python/keras/engine/training.py\u001b[0m in \u001b[0;36mfit\u001b[0;34m(self, x, y, batch_size, epochs, verbose, callbacks, validation_split, validation_data, shuffle, class_weight, sample_weight, initial_epoch, steps_per_epoch, validation_steps, validation_freq, max_queue_size, workers, use_multiprocessing, **kwargs)\u001b[0m\n\u001b[1;32m    817\u001b[0m         \u001b[0mmax_queue_size\u001b[0m\u001b[0;34m=\u001b[0m\u001b[0mmax_queue_size\u001b[0m\u001b[0;34m,\u001b[0m\u001b[0;34m\u001b[0m\u001b[0;34m\u001b[0m\u001b[0m\n\u001b[1;32m    818\u001b[0m         \u001b[0mworkers\u001b[0m\u001b[0;34m=\u001b[0m\u001b[0mworkers\u001b[0m\u001b[0;34m,\u001b[0m\u001b[0;34m\u001b[0m\u001b[0;34m\u001b[0m\u001b[0m\n\u001b[0;32m--> 819\u001b[0;31m         use_multiprocessing=use_multiprocessing)\n\u001b[0m\u001b[1;32m    820\u001b[0m \u001b[0;34m\u001b[0m\u001b[0m\n\u001b[1;32m    821\u001b[0m   def evaluate(self,\n",
      "\u001b[0;32m~/.conda/envs/brain2brain_env/lib/python3.7/site-packages/tensorflow_core/python/keras/engine/training_v2.py\u001b[0m in \u001b[0;36mfit\u001b[0;34m(self, model, x, y, batch_size, epochs, verbose, callbacks, validation_split, validation_data, shuffle, class_weight, sample_weight, initial_epoch, steps_per_epoch, validation_steps, validation_freq, max_queue_size, workers, use_multiprocessing, **kwargs)\u001b[0m\n\u001b[1;32m    340\u001b[0m                 \u001b[0mmode\u001b[0m\u001b[0;34m=\u001b[0m\u001b[0mModeKeys\u001b[0m\u001b[0;34m.\u001b[0m\u001b[0mTRAIN\u001b[0m\u001b[0;34m,\u001b[0m\u001b[0;34m\u001b[0m\u001b[0;34m\u001b[0m\u001b[0m\n\u001b[1;32m    341\u001b[0m                 \u001b[0mtraining_context\u001b[0m\u001b[0;34m=\u001b[0m\u001b[0mtraining_context\u001b[0m\u001b[0;34m,\u001b[0m\u001b[0;34m\u001b[0m\u001b[0;34m\u001b[0m\u001b[0m\n\u001b[0;32m--> 342\u001b[0;31m                 total_epochs=epochs)\n\u001b[0m\u001b[1;32m    343\u001b[0m             \u001b[0mcbks\u001b[0m\u001b[0;34m.\u001b[0m\u001b[0mmake_logs\u001b[0m\u001b[0;34m(\u001b[0m\u001b[0mmodel\u001b[0m\u001b[0;34m,\u001b[0m \u001b[0mepoch_logs\u001b[0m\u001b[0;34m,\u001b[0m \u001b[0mtraining_result\u001b[0m\u001b[0;34m,\u001b[0m \u001b[0mModeKeys\u001b[0m\u001b[0;34m.\u001b[0m\u001b[0mTRAIN\u001b[0m\u001b[0;34m)\u001b[0m\u001b[0;34m\u001b[0m\u001b[0;34m\u001b[0m\u001b[0m\n\u001b[1;32m    344\u001b[0m \u001b[0;34m\u001b[0m\u001b[0m\n",
      "\u001b[0;32m~/.conda/envs/brain2brain_env/lib/python3.7/site-packages/tensorflow_core/python/keras/engine/training_v2.py\u001b[0m in \u001b[0;36mrun_one_epoch\u001b[0;34m(model, iterator, execution_function, dataset_size, batch_size, strategy, steps_per_epoch, num_samples, mode, training_context, total_epochs)\u001b[0m\n\u001b[1;32m    126\u001b[0m         step=step, mode=mode, size=current_batch_size) as batch_logs:\n\u001b[1;32m    127\u001b[0m       \u001b[0;32mtry\u001b[0m\u001b[0;34m:\u001b[0m\u001b[0;34m\u001b[0m\u001b[0;34m\u001b[0m\u001b[0m\n\u001b[0;32m--> 128\u001b[0;31m         \u001b[0mbatch_outs\u001b[0m \u001b[0;34m=\u001b[0m \u001b[0mexecution_function\u001b[0m\u001b[0;34m(\u001b[0m\u001b[0miterator\u001b[0m\u001b[0;34m)\u001b[0m\u001b[0;34m\u001b[0m\u001b[0;34m\u001b[0m\u001b[0m\n\u001b[0m\u001b[1;32m    129\u001b[0m       \u001b[0;32mexcept\u001b[0m \u001b[0;34m(\u001b[0m\u001b[0mStopIteration\u001b[0m\u001b[0;34m,\u001b[0m \u001b[0merrors\u001b[0m\u001b[0;34m.\u001b[0m\u001b[0mOutOfRangeError\u001b[0m\u001b[0;34m)\u001b[0m\u001b[0;34m:\u001b[0m\u001b[0;34m\u001b[0m\u001b[0;34m\u001b[0m\u001b[0m\n\u001b[1;32m    130\u001b[0m         \u001b[0;31m# TODO(kaftan): File bug about tf function and errors.OutOfRangeError?\u001b[0m\u001b[0;34m\u001b[0m\u001b[0;34m\u001b[0m\u001b[0;34m\u001b[0m\u001b[0m\n",
      "\u001b[0;32m~/.conda/envs/brain2brain_env/lib/python3.7/site-packages/tensorflow_core/python/keras/engine/training_v2_utils.py\u001b[0m in \u001b[0;36mexecution_function\u001b[0;34m(input_fn)\u001b[0m\n\u001b[1;32m     96\u001b[0m     \u001b[0;31m# `numpy` translates Tensors to values in Eager mode.\u001b[0m\u001b[0;34m\u001b[0m\u001b[0;34m\u001b[0m\u001b[0;34m\u001b[0m\u001b[0m\n\u001b[1;32m     97\u001b[0m     return nest.map_structure(_non_none_constant_value,\n\u001b[0;32m---> 98\u001b[0;31m                               distributed_function(input_fn))\n\u001b[0m\u001b[1;32m     99\u001b[0m \u001b[0;34m\u001b[0m\u001b[0m\n\u001b[1;32m    100\u001b[0m   \u001b[0;32mreturn\u001b[0m \u001b[0mexecution_function\u001b[0m\u001b[0;34m\u001b[0m\u001b[0;34m\u001b[0m\u001b[0m\n",
      "\u001b[0;32m~/.conda/envs/brain2brain_env/lib/python3.7/site-packages/tensorflow_core/python/eager/def_function.py\u001b[0m in \u001b[0;36m__call__\u001b[0;34m(self, *args, **kwds)\u001b[0m\n\u001b[1;32m    566\u001b[0m         \u001b[0mxla_context\u001b[0m\u001b[0;34m.\u001b[0m\u001b[0mExit\u001b[0m\u001b[0;34m(\u001b[0m\u001b[0;34m)\u001b[0m\u001b[0;34m\u001b[0m\u001b[0;34m\u001b[0m\u001b[0m\n\u001b[1;32m    567\u001b[0m     \u001b[0;32melse\u001b[0m\u001b[0;34m:\u001b[0m\u001b[0;34m\u001b[0m\u001b[0;34m\u001b[0m\u001b[0m\n\u001b[0;32m--> 568\u001b[0;31m       \u001b[0mresult\u001b[0m \u001b[0;34m=\u001b[0m \u001b[0mself\u001b[0m\u001b[0;34m.\u001b[0m\u001b[0m_call\u001b[0m\u001b[0;34m(\u001b[0m\u001b[0;34m*\u001b[0m\u001b[0margs\u001b[0m\u001b[0;34m,\u001b[0m \u001b[0;34m**\u001b[0m\u001b[0mkwds\u001b[0m\u001b[0;34m)\u001b[0m\u001b[0;34m\u001b[0m\u001b[0;34m\u001b[0m\u001b[0m\n\u001b[0m\u001b[1;32m    569\u001b[0m \u001b[0;34m\u001b[0m\u001b[0m\n\u001b[1;32m    570\u001b[0m     \u001b[0;32mif\u001b[0m \u001b[0mtracing_count\u001b[0m \u001b[0;34m==\u001b[0m \u001b[0mself\u001b[0m\u001b[0;34m.\u001b[0m\u001b[0m_get_tracing_count\u001b[0m\u001b[0;34m(\u001b[0m\u001b[0;34m)\u001b[0m\u001b[0;34m:\u001b[0m\u001b[0;34m\u001b[0m\u001b[0;34m\u001b[0m\u001b[0m\n",
      "\u001b[0;32m~/.conda/envs/brain2brain_env/lib/python3.7/site-packages/tensorflow_core/python/eager/def_function.py\u001b[0m in \u001b[0;36m_call\u001b[0;34m(self, *args, **kwds)\u001b[0m\n\u001b[1;32m    597\u001b[0m       \u001b[0;31m# In this case we have created variables on the first call, so we run the\u001b[0m\u001b[0;34m\u001b[0m\u001b[0;34m\u001b[0m\u001b[0;34m\u001b[0m\u001b[0m\n\u001b[1;32m    598\u001b[0m       \u001b[0;31m# defunned version which is guaranteed to never create variables.\u001b[0m\u001b[0;34m\u001b[0m\u001b[0;34m\u001b[0m\u001b[0;34m\u001b[0m\u001b[0m\n\u001b[0;32m--> 599\u001b[0;31m       \u001b[0;32mreturn\u001b[0m \u001b[0mself\u001b[0m\u001b[0;34m.\u001b[0m\u001b[0m_stateless_fn\u001b[0m\u001b[0;34m(\u001b[0m\u001b[0;34m*\u001b[0m\u001b[0margs\u001b[0m\u001b[0;34m,\u001b[0m \u001b[0;34m**\u001b[0m\u001b[0mkwds\u001b[0m\u001b[0;34m)\u001b[0m  \u001b[0;31m# pylint: disable=not-callable\u001b[0m\u001b[0;34m\u001b[0m\u001b[0;34m\u001b[0m\u001b[0m\n\u001b[0m\u001b[1;32m    600\u001b[0m     \u001b[0;32melif\u001b[0m \u001b[0mself\u001b[0m\u001b[0;34m.\u001b[0m\u001b[0m_stateful_fn\u001b[0m \u001b[0;32mis\u001b[0m \u001b[0;32mnot\u001b[0m \u001b[0;32mNone\u001b[0m\u001b[0;34m:\u001b[0m\u001b[0;34m\u001b[0m\u001b[0;34m\u001b[0m\u001b[0m\n\u001b[1;32m    601\u001b[0m       \u001b[0;31m# Release the lock early so that multiple threads can perform the call\u001b[0m\u001b[0;34m\u001b[0m\u001b[0;34m\u001b[0m\u001b[0;34m\u001b[0m\u001b[0m\n",
      "\u001b[0;32m~/.conda/envs/brain2brain_env/lib/python3.7/site-packages/tensorflow_core/python/eager/function.py\u001b[0m in \u001b[0;36m__call__\u001b[0;34m(self, *args, **kwargs)\u001b[0m\n\u001b[1;32m   2361\u001b[0m     \u001b[0;32mwith\u001b[0m \u001b[0mself\u001b[0m\u001b[0;34m.\u001b[0m\u001b[0m_lock\u001b[0m\u001b[0;34m:\u001b[0m\u001b[0;34m\u001b[0m\u001b[0;34m\u001b[0m\u001b[0m\n\u001b[1;32m   2362\u001b[0m       \u001b[0mgraph_function\u001b[0m\u001b[0;34m,\u001b[0m \u001b[0margs\u001b[0m\u001b[0;34m,\u001b[0m \u001b[0mkwargs\u001b[0m \u001b[0;34m=\u001b[0m \u001b[0mself\u001b[0m\u001b[0;34m.\u001b[0m\u001b[0m_maybe_define_function\u001b[0m\u001b[0;34m(\u001b[0m\u001b[0margs\u001b[0m\u001b[0;34m,\u001b[0m \u001b[0mkwargs\u001b[0m\u001b[0;34m)\u001b[0m\u001b[0;34m\u001b[0m\u001b[0;34m\u001b[0m\u001b[0m\n\u001b[0;32m-> 2363\u001b[0;31m     \u001b[0;32mreturn\u001b[0m \u001b[0mgraph_function\u001b[0m\u001b[0;34m.\u001b[0m\u001b[0m_filtered_call\u001b[0m\u001b[0;34m(\u001b[0m\u001b[0margs\u001b[0m\u001b[0;34m,\u001b[0m \u001b[0mkwargs\u001b[0m\u001b[0;34m)\u001b[0m  \u001b[0;31m# pylint: disable=protected-access\u001b[0m\u001b[0;34m\u001b[0m\u001b[0;34m\u001b[0m\u001b[0m\n\u001b[0m\u001b[1;32m   2364\u001b[0m \u001b[0;34m\u001b[0m\u001b[0m\n\u001b[1;32m   2365\u001b[0m   \u001b[0;34m@\u001b[0m\u001b[0mproperty\u001b[0m\u001b[0;34m\u001b[0m\u001b[0;34m\u001b[0m\u001b[0m\n",
      "\u001b[0;32m~/.conda/envs/brain2brain_env/lib/python3.7/site-packages/tensorflow_core/python/eager/function.py\u001b[0m in \u001b[0;36m_filtered_call\u001b[0;34m(self, args, kwargs)\u001b[0m\n\u001b[1;32m   1609\u001b[0m          if isinstance(t, (ops.Tensor,\n\u001b[1;32m   1610\u001b[0m                            resource_variable_ops.BaseResourceVariable))),\n\u001b[0;32m-> 1611\u001b[0;31m         self.captured_inputs)\n\u001b[0m\u001b[1;32m   1612\u001b[0m \u001b[0;34m\u001b[0m\u001b[0m\n\u001b[1;32m   1613\u001b[0m   \u001b[0;32mdef\u001b[0m \u001b[0m_call_flat\u001b[0m\u001b[0;34m(\u001b[0m\u001b[0mself\u001b[0m\u001b[0;34m,\u001b[0m \u001b[0margs\u001b[0m\u001b[0;34m,\u001b[0m \u001b[0mcaptured_inputs\u001b[0m\u001b[0;34m,\u001b[0m \u001b[0mcancellation_manager\u001b[0m\u001b[0;34m=\u001b[0m\u001b[0;32mNone\u001b[0m\u001b[0;34m)\u001b[0m\u001b[0;34m:\u001b[0m\u001b[0;34m\u001b[0m\u001b[0;34m\u001b[0m\u001b[0m\n",
      "\u001b[0;32m~/.conda/envs/brain2brain_env/lib/python3.7/site-packages/tensorflow_core/python/eager/function.py\u001b[0m in \u001b[0;36m_call_flat\u001b[0;34m(self, args, captured_inputs, cancellation_manager)\u001b[0m\n\u001b[1;32m   1690\u001b[0m       \u001b[0;31m# No tape is watching; skip to running the function.\u001b[0m\u001b[0;34m\u001b[0m\u001b[0;34m\u001b[0m\u001b[0;34m\u001b[0m\u001b[0m\n\u001b[1;32m   1691\u001b[0m       return self._build_call_outputs(self._inference_function.call(\n\u001b[0;32m-> 1692\u001b[0;31m           ctx, args, cancellation_manager=cancellation_manager))\n\u001b[0m\u001b[1;32m   1693\u001b[0m     forward_backward = self._select_forward_and_backward_functions(\n\u001b[1;32m   1694\u001b[0m         \u001b[0margs\u001b[0m\u001b[0;34m,\u001b[0m\u001b[0;34m\u001b[0m\u001b[0;34m\u001b[0m\u001b[0m\n",
      "\u001b[0;32m~/.conda/envs/brain2brain_env/lib/python3.7/site-packages/tensorflow_core/python/eager/function.py\u001b[0m in \u001b[0;36mcall\u001b[0;34m(self, ctx, args, cancellation_manager)\u001b[0m\n\u001b[1;32m    543\u001b[0m               \u001b[0minputs\u001b[0m\u001b[0;34m=\u001b[0m\u001b[0margs\u001b[0m\u001b[0;34m,\u001b[0m\u001b[0;34m\u001b[0m\u001b[0;34m\u001b[0m\u001b[0m\n\u001b[1;32m    544\u001b[0m               \u001b[0mattrs\u001b[0m\u001b[0;34m=\u001b[0m\u001b[0;34m(\u001b[0m\u001b[0;34m\"executor_type\"\u001b[0m\u001b[0;34m,\u001b[0m \u001b[0mexecutor_type\u001b[0m\u001b[0;34m,\u001b[0m \u001b[0;34m\"config_proto\"\u001b[0m\u001b[0;34m,\u001b[0m \u001b[0mconfig\u001b[0m\u001b[0;34m)\u001b[0m\u001b[0;34m,\u001b[0m\u001b[0;34m\u001b[0m\u001b[0;34m\u001b[0m\u001b[0m\n\u001b[0;32m--> 545\u001b[0;31m               ctx=ctx)\n\u001b[0m\u001b[1;32m    546\u001b[0m         \u001b[0;32melse\u001b[0m\u001b[0;34m:\u001b[0m\u001b[0;34m\u001b[0m\u001b[0;34m\u001b[0m\u001b[0m\n\u001b[1;32m    547\u001b[0m           outputs = execute.execute_with_cancellation(\n",
      "\u001b[0;32m~/.conda/envs/brain2brain_env/lib/python3.7/site-packages/tensorflow_core/python/eager/execute.py\u001b[0m in \u001b[0;36mquick_execute\u001b[0;34m(op_name, num_outputs, inputs, attrs, ctx, name)\u001b[0m\n\u001b[1;32m     59\u001b[0m     tensors = pywrap_tensorflow.TFE_Py_Execute(ctx._handle, device_name,\n\u001b[1;32m     60\u001b[0m                                                \u001b[0mop_name\u001b[0m\u001b[0;34m,\u001b[0m \u001b[0minputs\u001b[0m\u001b[0;34m,\u001b[0m \u001b[0mattrs\u001b[0m\u001b[0;34m,\u001b[0m\u001b[0;34m\u001b[0m\u001b[0;34m\u001b[0m\u001b[0m\n\u001b[0;32m---> 61\u001b[0;31m                                                num_outputs)\n\u001b[0m\u001b[1;32m     62\u001b[0m   \u001b[0;32mexcept\u001b[0m \u001b[0mcore\u001b[0m\u001b[0;34m.\u001b[0m\u001b[0m_NotOkStatusException\u001b[0m \u001b[0;32mas\u001b[0m \u001b[0me\u001b[0m\u001b[0;34m:\u001b[0m\u001b[0;34m\u001b[0m\u001b[0;34m\u001b[0m\u001b[0m\n\u001b[1;32m     63\u001b[0m     \u001b[0;32mif\u001b[0m \u001b[0mname\u001b[0m \u001b[0;32mis\u001b[0m \u001b[0;32mnot\u001b[0m \u001b[0;32mNone\u001b[0m\u001b[0;34m:\u001b[0m\u001b[0;34m\u001b[0m\u001b[0;34m\u001b[0m\u001b[0m\n",
      "\u001b[0;31mKeyboardInterrupt\u001b[0m: "
     ]
    }
   ],
   "source": [
    "callback_list = [\n",
    "        EarlyStopping(\n",
    "            monitor=\"val_loss\",\n",
    "            patience=2,\n",
    "            mode=\"min\"\n",
    "        )\n",
    "]\n",
    "history = train_2.fit_generator(generator=train_generator,\n",
    "                              callbacks=callback_list,\n",
    "                              epochs=100,\n",
    "                              validation_data=val_generator)"
   ]
  },
  {
   "cell_type": "code",
   "execution_count": null,
   "metadata": {},
   "outputs": [],
   "source": [
    "plt.plot(history.history['loss'])\n",
    "plt.plot(history.history['val_loss'])\n",
    "\n",
    "plt.xlabel('Epoch')\n",
    "plt.ylabel('Mean Absolute Error Loss')\n",
    "plt.title('Loss Over Time')\n",
    "plt.legend(['Train','Valid'])"
   ]
  },
  {
   "cell_type": "code",
   "execution_count": null,
   "metadata": {},
   "outputs": [],
   "source": [
    "from tensorflow.keras.models import model_from_json\n",
    "\n",
    "file_name = \"models/enc_dec_1\"\n",
    "# serialize model to JSON\n",
    "model_json = model.to_json()\n",
    "with open(f\"{file_name}.json\", \"w\") as json_file:\n",
    "    json_file.write(model_json)\n",
    "model.save_weights(f\"{file_name}.h5\")\n"
   ]
  },
  {
   "cell_type": "code",
   "execution_count": null,
   "metadata": {},
   "outputs": [],
   "source": [
    "def predict_and_plot(encoder_input_data, decoder_target_data, sample_ix, pred_steps: int, enc_tail_len=50):\n",
    "    encode_series = encoder_input_data[0][sample_ix:sample_ix+1,:,:] \n",
    "    pred_series = models.decode_sequence_o2o(inf_encoder_model,\n",
    "                                             inf_decoder_model, \n",
    "                                             input_seq=encode_series,\n",
    "                                             pred_steps=pred_steps)\n",
    "    encode_series = encode_series.reshape(-1,1)\n",
    "    pred_series = pred_series.reshape(-1,1)   \n",
    "    target_series = decoder_target_data[sample_ix,:,:1].reshape(-1,1)\n",
    "    encode_series_tail = np.concatenate([encode_series[-enc_tail_len:],target_series[:1]])\n",
    "    x_encode = encode_series_tail.shape[0]\n",
    "    r, p = pearsonr(pred_series.reshape(-1), target_series.reshape(-1))\n",
    "    print(f\"Correlation: {r}. P: {p}\")\n",
    "    plt.figure(figsize=(10,6))   \n",
    "    \n",
    "    plt.plot(range(1,x_encode+1),encode_series_tail)\n",
    "    plt.plot(range(x_encode,x_encode+pred_steps),target_series,color='orange')\n",
    "    plt.plot(range(x_encode,x_encode+pred_steps),pred_series,color='teal',linestyle='--')\n",
    "    \n",
    "    plt.title('Encoder Series Tail of Length %d, Target Series, and Predictions' % enc_tail_len)\n",
    "    plt.legend(['Encoding Series','Target Series','Predictions'])"
   ]
  },
  {
   "cell_type": "code",
   "execution_count": null,
   "metadata": {},
   "outputs": [],
   "source": [
    "val_batch = val_generator[0]"
   ]
  },
  {
   "cell_type": "code",
   "execution_count": null,
   "metadata": {},
   "outputs": [],
   "source": [
    "len(val_batch[0][0])"
   ]
  },
  {
   "cell_type": "code",
   "execution_count": null,
   "metadata": {},
   "outputs": [],
   "source": [
    "predict_and_plot(val_batch[0], val_batch[1], sample_ix=0, pred_steps=5)"
   ]
  },
  {
   "cell_type": "code",
   "execution_count": null,
   "metadata": {},
   "outputs": [],
   "source": [
    "def get_corr_mae(encoder_input_data, decoder_target_data, sample_ix, pred_steps: int,\n",
    "                 enc_tail_len=50, verbose=True):\n",
    "    encode_series = encoder_input_data[0][sample_ix:sample_ix+1,:,:] \n",
    "    pred_series = models.decode_sequence_o2o(inf_encoder_model,\n",
    "                                             inf_decoder_model, \n",
    "                                             input_seq=encode_series,\n",
    "                                             pred_steps=pred_steps)\n",
    "    encode_series = encode_series.reshape(-1,1)\n",
    "    pred_series = pred_series.reshape(-1,1)   \n",
    "    target_series = decoder_target_data[sample_ix,:,:1].reshape(-1,1)\n",
    "    encode_series_tail = np.concatenate([encode_series[-enc_tail_len:],target_series[:1]])\n",
    "    x_encode = encode_series_tail.shape[0]\n",
    "    r, p = pearsonr(pred_series.reshape(-1), target_series.reshape(-1))\n",
    "    mae = np.mean(np.abs(pred_series.reshape(-1) - target_series.reshape(-1)))\n",
    "    if verbose:\n",
    "        print(f\"Correlation: {r}. P: {p}. MAE: {mae}\")\n",
    "    return r, mae"
   ]
  },
  {
   "cell_type": "code",
   "execution_count": null,
   "metadata": {},
   "outputs": [],
   "source": [
    "n_rows = val_batch[0][0].shape[0]\n",
    "r_array = np.empty(shape=(n_rows,))\n",
    "z_array = np.empty(shape=(n_rows,))\n",
    "sample_maes = np.empty(shape=(n_rows,))\n",
    "for sample_ix in range(n_rows):\n",
    "    print(f\"Sample: {sample_ix}/{n_rows}\", end=\"\\r\")\n",
    "    r, mae = get_corr_mae(val_batch[0], val_batch[1], sample_ix=sample_ix, pred_steps=5, verbose=False)\n",
    "    r_array[sample_ix] = r\n",
    "    z_array[sample_ix] = 0.5 * np.log((1 + r)/(1-r))\n",
    "    sample_maes[sample_ix] = mae\n",
    "z_mean = np.mean(z_array)\n",
    "batch_r = (np.exp(2 * z_mean) - 1)/(np.exp(2 * z_mean) + 1)\n",
    "batch_mae = np.mean(sample_maes)\n",
    "print(f\"Batch_r: {batch_r}\")\n",
    "print(f\"Absolute Batch_r: {np.mean(np.abs(r_array))}\")\n",
    "print(f\"Batch Mae: {batch_mae}\")"
   ]
  },
  {
   "cell_type": "markdown",
   "metadata": {},
   "source": [
    "# Predict 10 Timesteps"
   ]
  },
  {
   "cell_type": "code",
   "execution_count": 3,
   "metadata": {},
   "outputs": [
    {
     "name": "stdout",
     "output_type": "stream",
     "text": [
      "(5429, 114)\n"
     ]
    }
   ],
   "source": [
    "train_paths = utils.get_file_paths(\"/home/tmarcu/brain2brain/brain2brain/train_676_bin_norm_2.txt\")\n",
    "val_paths = utils.get_file_paths(\"/home/tmarcu/brain2brain/brain2brain/val_676_bin_norm_2.txt\")\n",
    "total_electrode_count = utils.get_file_shape(train_paths[0])[1]\n",
    "# Electrodes\n",
    "electrode_count = 1\n",
    "electrode = 5\n",
    "# Training Generator\n",
    "train_generator = generators.FGenerator(file_paths=train_paths,\n",
    "                                        lookback=50,\n",
    "                                        length=10,\n",
    "                                        delay=0,\n",
    "                                        batch_size=1024,\n",
    "                                        sample_period=1,\n",
    "                                        electrodes=[electrode],\n",
    "                                        electrode_output_ix=electrode,\n",
    "                                        shuffle=True,\n",
    "                                        teacher_forcing=True)\n",
    "# Validation Generator\n",
    "val_generator = generators.FGenerator(file_paths=val_paths,\n",
    "                                        lookback=50,\n",
    "                                        length=10,\n",
    "                                        delay=0,\n",
    "                                        batch_size=1024,\n",
    "                                        sample_period=1,\n",
    "                                        electrodes=[electrode],\n",
    "                                        electrode_output_ix=electrode,\n",
    "                                        shuffle=False,\n",
    "                                        teacher_forcing=True)"
   ]
  },
  {
   "cell_type": "code",
   "execution_count": 4,
   "metadata": {},
   "outputs": [
    {
     "data": {
      "text/plain": [
       "(1024, 10, 1)"
      ]
     },
     "execution_count": 4,
     "metadata": {},
     "output_type": "execute_result"
    }
   ],
   "source": [
    "val_generator[0][1].shape"
   ]
  },
  {
   "cell_type": "code",
   "execution_count": 5,
   "metadata": {},
   "outputs": [],
   "source": [
    "hidden_units = 128\n",
    "dropout = 0.05\n",
    "train_3, inf_encoder_model_3, inf_decoder_model_3 = models.define_enc_dec_model_jeddy_o2o(hidden_units, dropout)"
   ]
  },
  {
   "cell_type": "code",
   "execution_count": 6,
   "metadata": {},
   "outputs": [
    {
     "name": "stdout",
     "output_type": "stream",
     "text": [
      "Model: \"model\"\n",
      "__________________________________________________________________________________________________\n",
      "Layer (type)                    Output Shape         Param #     Connected to                     \n",
      "==================================================================================================\n",
      "input_1 (InputLayer)            [(None, None, 1)]    0                                            \n",
      "__________________________________________________________________________________________________\n",
      "input_2 (InputLayer)            [(None, None, 1)]    0                                            \n",
      "__________________________________________________________________________________________________\n",
      "lstm (LSTM)                     [(None, 128), (None, 66560       input_1[0][0]                    \n",
      "__________________________________________________________________________________________________\n",
      "lstm_1 (LSTM)                   [(None, None, 128),  66560       input_2[0][0]                    \n",
      "                                                                 lstm[0][1]                       \n",
      "                                                                 lstm[0][2]                       \n",
      "__________________________________________________________________________________________________\n",
      "dense (Dense)                   (None, None, 1)      129         lstm_1[0][0]                     \n",
      "==================================================================================================\n",
      "Total params: 133,249\n",
      "Trainable params: 133,249\n",
      "Non-trainable params: 0\n",
      "__________________________________________________________________________________________________\n"
     ]
    }
   ],
   "source": [
    "train_3.compile(optimizer='adam', loss='mae')\n",
    "train_3.summary()"
   ]
  },
  {
   "cell_type": "code",
   "execution_count": 7,
   "metadata": {},
   "outputs": [
    {
     "name": "stdout",
     "output_type": "stream",
     "text": [
      "WARNING:tensorflow:From <ipython-input-7-87be17dea9d5>:11: Model.fit_generator (from tensorflow.python.keras.engine.training) is deprecated and will be removed in a future version.\n",
      "Instructions for updating:\n",
      "Please use Model.fit, which supports generators.\n",
      "WARNING:tensorflow:sample_weight modes were coerced from\n",
      "  ...\n",
      "    to  \n",
      "  ['...']\n",
      "WARNING:tensorflow:sample_weight modes were coerced from\n",
      "  ...\n",
      "    to  \n",
      "  ['...']\n",
      "Train for 25 steps, validate for 8 steps\n",
      "Epoch 1/170\n",
      "25/25 [==============================] - 11s 439ms/step - loss: 0.5704 - val_loss: 0.5259\n",
      "Epoch 2/170\n",
      "25/25 [==============================] - 5s 199ms/step - loss: 0.5248 - val_loss: 0.5102\n",
      "Epoch 3/170\n",
      "25/25 [==============================] - 5s 200ms/step - loss: 0.5094 - val_loss: 0.5041\n",
      "Epoch 4/170\n",
      "25/25 [==============================] - 6s 225ms/step - loss: 0.5000 - val_loss: 0.4899\n",
      "Epoch 5/170\n",
      "25/25 [==============================] - 5s 201ms/step - loss: 0.4953 - val_loss: 0.4864\n",
      "Epoch 6/170\n",
      "25/25 [==============================] - 5s 213ms/step - loss: 0.4944 - val_loss: 0.4860\n",
      "Epoch 7/170\n",
      "25/25 [==============================] - 5s 212ms/step - loss: 0.4947 - val_loss: 0.4856\n",
      "Epoch 8/170\n",
      "25/25 [==============================] - 5s 218ms/step - loss: 0.4943 - val_loss: 0.4854\n",
      "Epoch 9/170\n",
      "25/25 [==============================] - 5s 218ms/step - loss: 0.4943 - val_loss: 0.4854\n",
      "Epoch 10/170\n",
      "25/25 [==============================] - 5s 214ms/step - loss: 0.4941 - val_loss: 0.4852\n",
      "Epoch 11/170\n",
      "25/25 [==============================] - 5s 218ms/step - loss: 0.4940 - val_loss: 0.4849\n",
      "Epoch 12/170\n",
      "25/25 [==============================] - 5s 204ms/step - loss: 0.4941 - val_loss: 0.4849\n",
      "Epoch 13/170\n",
      "25/25 [==============================] - 6s 227ms/step - loss: 0.4934 - val_loss: 0.4850\n",
      "Epoch 14/170\n",
      "25/25 [==============================] - 5s 203ms/step - loss: 0.4938 - val_loss: 0.4849\n",
      "Epoch 15/170\n",
      "25/25 [==============================] - 5s 206ms/step - loss: 0.4937 - val_loss: 0.4851\n",
      "Epoch 16/170\n",
      "25/25 [==============================] - 5s 209ms/step - loss: 0.4932 - val_loss: 0.4844\n",
      "Epoch 17/170\n",
      "25/25 [==============================] - 5s 217ms/step - loss: 0.4928 - val_loss: 0.4845\n",
      "Epoch 18/170\n",
      "25/25 [==============================] - 6s 239ms/step - loss: 0.4933 - val_loss: 0.4844\n",
      "Epoch 19/170\n",
      "25/25 [==============================] - 6s 227ms/step - loss: 0.4929 - val_loss: 0.4839\n",
      "Epoch 20/170\n",
      "25/25 [==============================] - 5s 210ms/step - loss: 0.4925 - val_loss: 0.4842\n",
      "Epoch 21/170\n",
      "25/25 [==============================] - 6s 225ms/step - loss: 0.4929 - val_loss: 0.4837\n",
      "Epoch 22/170\n",
      "25/25 [==============================] - 5s 214ms/step - loss: 0.4924 - val_loss: 0.4842\n",
      "Epoch 23/170\n",
      "25/25 [==============================] - 7s 274ms/step - loss: 0.4924 - val_loss: 0.4831\n",
      "Epoch 24/170\n",
      "25/25 [==============================] - 8s 329ms/step - loss: 0.4922 - val_loss: 0.4835\n",
      "Epoch 25/170\n",
      "25/25 [==============================] - 6s 229ms/step - loss: 0.4917 - val_loss: 0.4834\n",
      "Epoch 26/170\n",
      "25/25 [==============================] - 5s 200ms/step - loss: 0.4922 - val_loss: 0.4839\n",
      "Epoch 27/170\n",
      "25/25 [==============================] - 6s 239ms/step - loss: 0.4920 - val_loss: 0.4837\n",
      "Epoch 28/170\n",
      "25/25 [==============================] - 6s 257ms/step - loss: 0.4921 - val_loss: 0.4830\n",
      "Epoch 29/170\n",
      "25/25 [==============================] - 5s 215ms/step - loss: 0.4916 - val_loss: 0.4829\n",
      "Epoch 30/170\n",
      "25/25 [==============================] - 6s 236ms/step - loss: 0.4914 - val_loss: 0.4828\n",
      "Epoch 31/170\n",
      "25/25 [==============================] - 5s 218ms/step - loss: 0.4917 - val_loss: 0.4834\n",
      "Epoch 32/170\n",
      "25/25 [==============================] - 5s 203ms/step - loss: 0.4925 - val_loss: 0.4829\n",
      "Epoch 33/170\n",
      "25/25 [==============================] - 5s 218ms/step - loss: 0.4916 - val_loss: 0.4830\n",
      "Epoch 34/170\n",
      "25/25 [==============================] - 5s 218ms/step - loss: 0.4918 - val_loss: 0.4827\n",
      "Epoch 35/170\n",
      "25/25 [==============================] - 6s 250ms/step - loss: 0.4911 - val_loss: 0.4834\n",
      "Epoch 36/170\n",
      "25/25 [==============================] - 7s 281ms/step - loss: 0.4911 - val_loss: 0.4828\n",
      "Epoch 37/170\n",
      "25/25 [==============================] - 5s 195ms/step - loss: 0.4912 - val_loss: 0.4825\n",
      "Epoch 38/170\n",
      "25/25 [==============================] - 5s 219ms/step - loss: 0.4916 - val_loss: 0.4825\n",
      "Epoch 39/170\n",
      "25/25 [==============================] - 5s 217ms/step - loss: 0.4911 - val_loss: 0.4829\n",
      "Epoch 40/170\n",
      "25/25 [==============================] - 7s 270ms/step - loss: 0.4913 - val_loss: 0.4824\n",
      "Epoch 41/170\n",
      "25/25 [==============================] - 6s 222ms/step - loss: 0.4909 - val_loss: 0.4825\n",
      "Epoch 42/170\n",
      "25/25 [==============================] - 6s 221ms/step - loss: 0.4907 - val_loss: 0.4823\n",
      "Epoch 43/170\n",
      "25/25 [==============================] - 7s 276ms/step - loss: 0.4906 - val_loss: 0.4830\n",
      "Epoch 44/170\n",
      "25/25 [==============================] - 6s 232ms/step - loss: 0.4909 - val_loss: 0.4825\n",
      "Epoch 45/170\n",
      "25/25 [==============================] - 5s 207ms/step - loss: 0.4911 - val_loss: 0.4825\n",
      "Epoch 46/170\n",
      "25/25 [==============================] - 6s 243ms/step - loss: 0.4908 - val_loss: 0.4822\n",
      "Epoch 47/170\n",
      "25/25 [==============================] - 5s 216ms/step - loss: 0.4908 - val_loss: 0.4824\n",
      "Epoch 48/170\n",
      "25/25 [==============================] - 5s 207ms/step - loss: 0.4909 - val_loss: 0.4824\n",
      "Epoch 49/170\n",
      "25/25 [==============================] - 6s 224ms/step - loss: 0.4911 - val_loss: 0.4824\n",
      "Epoch 50/170\n",
      "25/25 [==============================] - 6s 221ms/step - loss: 0.4905 - val_loss: 0.4832\n",
      "Epoch 51/170\n",
      "25/25 [==============================] - 6s 237ms/step - loss: 0.4904 - val_loss: 0.4822\n",
      "Epoch 52/170\n",
      "25/25 [==============================] - 5s 208ms/step - loss: 0.4905 - val_loss: 0.4827\n",
      "Epoch 53/170\n",
      "25/25 [==============================] - 6s 233ms/step - loss: 0.4903 - val_loss: 0.4818\n",
      "Epoch 54/170\n",
      "25/25 [==============================] - 5s 200ms/step - loss: 0.4903 - val_loss: 0.4820\n",
      "Epoch 55/170\n",
      "25/25 [==============================] - 6s 222ms/step - loss: 0.4902 - val_loss: 0.4826\n",
      "Epoch 56/170\n",
      "25/25 [==============================] - 5s 200ms/step - loss: 0.4900 - val_loss: 0.4823\n",
      "Epoch 57/170\n",
      "25/25 [==============================] - 6s 250ms/step - loss: 0.4902 - val_loss: 0.4827\n",
      "Epoch 58/170\n",
      "25/25 [==============================] - 5s 199ms/step - loss: 0.4899 - val_loss: 0.4828\n",
      "Epoch 59/170\n",
      "25/25 [==============================] - 5s 219ms/step - loss: 0.4901 - val_loss: 0.4819\n",
      "Epoch 60/170\n",
      "25/25 [==============================] - 5s 206ms/step - loss: 0.4898 - val_loss: 0.4820\n",
      "Epoch 61/170\n",
      "25/25 [==============================] - 6s 239ms/step - loss: 0.4900 - val_loss: 0.4817\n",
      "Epoch 62/170\n",
      "25/25 [==============================] - 6s 222ms/step - loss: 0.4899 - val_loss: 0.4821\n",
      "Epoch 63/170\n",
      "25/25 [==============================] - 6s 251ms/step - loss: 0.4898 - val_loss: 0.4819\n",
      "Epoch 64/170\n",
      "25/25 [==============================] - 6s 255ms/step - loss: 0.4897 - val_loss: 0.4820\n",
      "Epoch 65/170\n",
      "25/25 [==============================] - 6s 236ms/step - loss: 0.4897 - val_loss: 0.4823\n",
      "Epoch 66/170\n",
      "25/25 [==============================] - 6s 238ms/step - loss: 0.4899 - val_loss: 0.4827\n",
      "Epoch 67/170\n",
      "25/25 [==============================] - 5s 202ms/step - loss: 0.4898 - val_loss: 0.4823\n",
      "Epoch 68/170\n",
      "25/25 [==============================] - 5s 199ms/step - loss: 0.4896 - val_loss: 0.4822\n",
      "Epoch 69/170\n",
      "25/25 [==============================] - 5s 203ms/step - loss: 0.4890 - val_loss: 0.4818\n",
      "Epoch 70/170\n",
      "25/25 [==============================] - 5s 195ms/step - loss: 0.4895 - val_loss: 0.4818\n",
      "Epoch 71/170\n",
      "25/25 [==============================] - 5s 213ms/step - loss: 0.4896 - val_loss: 0.4822\n",
      "Epoch 72/170\n",
      "25/25 [==============================] - 6s 229ms/step - loss: 0.4897 - val_loss: 0.4821\n",
      "Epoch 73/170\n",
      "25/25 [==============================] - 5s 211ms/step - loss: 0.4897 - val_loss: 0.4823\n",
      "Epoch 74/170\n",
      "25/25 [==============================] - 5s 219ms/step - loss: 0.4891 - val_loss: 0.4818\n",
      "Epoch 75/170\n",
      "25/25 [==============================] - 5s 201ms/step - loss: 0.4894 - val_loss: 0.4823\n",
      "Epoch 76/170\n",
      "25/25 [==============================] - 6s 241ms/step - loss: 0.4894 - val_loss: 0.4821\n",
      "Epoch 77/170\n",
      "25/25 [==============================] - 5s 207ms/step - loss: 0.4893 - val_loss: 0.4819\n",
      "Epoch 78/170\n",
      "25/25 [==============================] - 5s 217ms/step - loss: 0.4891 - val_loss: 0.4822\n",
      "Epoch 79/170\n",
      "25/25 [==============================] - 5s 197ms/step - loss: 0.4891 - val_loss: 0.4824\n",
      "Epoch 80/170\n",
      "25/25 [==============================] - 5s 198ms/step - loss: 0.4894 - val_loss: 0.4824\n",
      "Epoch 81/170\n",
      "25/25 [==============================] - 5s 201ms/step - loss: 0.4891 - val_loss: 0.4822\n",
      "Epoch 82/170\n",
      "25/25 [==============================] - 7s 268ms/step - loss: 0.4889 - val_loss: 0.4821\n",
      "Epoch 83/170\n",
      "25/25 [==============================] - 6s 239ms/step - loss: 0.4889 - val_loss: 0.4826\n",
      "Epoch 84/170\n",
      "25/25 [==============================] - 5s 204ms/step - loss: 0.4888 - val_loss: 0.4823\n",
      "Epoch 85/170\n",
      "25/25 [==============================] - 6s 234ms/step - loss: 0.4889 - val_loss: 0.4824\n",
      "Epoch 86/170\n",
      "25/25 [==============================] - 5s 195ms/step - loss: 0.4895 - val_loss: 0.4828\n",
      "Epoch 87/170\n",
      "25/25 [==============================] - 5s 197ms/step - loss: 0.4886 - val_loss: 0.4824\n",
      "Epoch 88/170\n",
      "25/25 [==============================] - 5s 202ms/step - loss: 0.4886 - val_loss: 0.4822\n",
      "Epoch 89/170\n",
      "25/25 [==============================] - 5s 201ms/step - loss: 0.4888 - val_loss: 0.4826\n",
      "Epoch 90/170\n",
      "25/25 [==============================] - 5s 217ms/step - loss: 0.4887 - val_loss: 0.4826\n",
      "Epoch 91/170\n",
      "25/25 [==============================] - 5s 220ms/step - loss: 0.4884 - val_loss: 0.4827\n",
      "Epoch 92/170\n",
      "25/25 [==============================] - 5s 202ms/step - loss: 0.4878 - val_loss: 0.4829\n",
      "Epoch 93/170\n",
      "25/25 [==============================] - 5s 197ms/step - loss: 0.4886 - val_loss: 0.4827\n",
      "Epoch 94/170\n",
      "25/25 [==============================] - 5s 216ms/step - loss: 0.4883 - val_loss: 0.4825\n",
      "Epoch 95/170\n",
      "25/25 [==============================] - 5s 197ms/step - loss: 0.4882 - val_loss: 0.4827\n",
      "Epoch 96/170\n",
      "25/25 [==============================] - 5s 197ms/step - loss: 0.4879 - val_loss: 0.4828\n",
      "Epoch 97/170\n",
      "25/25 [==============================] - 5s 212ms/step - loss: 0.4881 - val_loss: 0.4830\n",
      "Epoch 98/170\n",
      "25/25 [==============================] - 5s 218ms/step - loss: 0.4880 - val_loss: 0.4840\n",
      "Epoch 99/170\n",
      "25/25 [==============================] - 5s 203ms/step - loss: 0.4884 - val_loss: 0.4826\n",
      "Epoch 100/170\n",
      "25/25 [==============================] - 5s 217ms/step - loss: 0.4881 - val_loss: 0.4828\n",
      "Epoch 101/170\n",
      "25/25 [==============================] - 5s 197ms/step - loss: 0.4881 - val_loss: 0.4826\n",
      "Epoch 102/170\n",
      "25/25 [==============================] - 5s 196ms/step - loss: 0.4877 - val_loss: 0.4828\n",
      "Epoch 103/170\n",
      "25/25 [==============================] - 5s 203ms/step - loss: 0.4879 - val_loss: 0.4827\n",
      "Epoch 104/170\n",
      "25/25 [==============================] - 6s 231ms/step - loss: 0.4874 - val_loss: 0.4831\n",
      "Epoch 105/170\n",
      "25/25 [==============================] - 6s 255ms/step - loss: 0.4879 - val_loss: 0.4835\n",
      "Epoch 106/170\n",
      "25/25 [==============================] - 5s 199ms/step - loss: 0.4875 - val_loss: 0.4831\n",
      "Epoch 107/170\n",
      "25/25 [==============================] - 5s 203ms/step - loss: 0.4875 - val_loss: 0.4826\n",
      "Epoch 108/170\n",
      "25/25 [==============================] - 5s 199ms/step - loss: 0.4871 - val_loss: 0.4827\n",
      "Epoch 109/170\n",
      "25/25 [==============================] - 5s 211ms/step - loss: 0.4875 - val_loss: 0.4830\n",
      "Epoch 110/170\n",
      "25/25 [==============================] - 5s 198ms/step - loss: 0.4868 - val_loss: 0.4832\n",
      "Epoch 111/170\n",
      "25/25 [==============================] - 6s 233ms/step - loss: 0.4871 - val_loss: 0.4838\n",
      "Epoch 112/170\n",
      "25/25 [==============================] - 5s 212ms/step - loss: 0.4873 - val_loss: 0.4832\n",
      "Epoch 113/170\n",
      "25/25 [==============================] - 6s 221ms/step - loss: 0.4867 - val_loss: 0.4833\n",
      "Epoch 114/170\n",
      "25/25 [==============================] - 5s 202ms/step - loss: 0.4867 - val_loss: 0.4834\n",
      "Epoch 115/170\n",
      "25/25 [==============================] - 5s 194ms/step - loss: 0.4866 - val_loss: 0.4833\n",
      "Epoch 116/170\n",
      "25/25 [==============================] - 5s 196ms/step - loss: 0.4862 - val_loss: 0.4838\n",
      "Epoch 117/170\n",
      "25/25 [==============================] - 5s 196ms/step - loss: 0.4865 - val_loss: 0.4838\n",
      "Epoch 118/170\n",
      "25/25 [==============================] - 5s 200ms/step - loss: 0.4861 - val_loss: 0.4838\n",
      "Epoch 119/170\n",
      "25/25 [==============================] - 5s 204ms/step - loss: 0.4859 - val_loss: 0.4835\n",
      "Epoch 120/170\n",
      "25/25 [==============================] - 6s 237ms/step - loss: 0.4855 - val_loss: 0.4840\n",
      "Epoch 121/170\n",
      "25/25 [==============================] - 6s 221ms/step - loss: 0.4856 - val_loss: 0.4842\n",
      "Epoch 122/170\n",
      "25/25 [==============================] - 6s 225ms/step - loss: 0.4855 - val_loss: 0.4847\n",
      "Epoch 123/170\n",
      "25/25 [==============================] - 5s 200ms/step - loss: 0.4861 - val_loss: 0.4839\n",
      "Epoch 124/170\n",
      "25/25 [==============================] - 6s 235ms/step - loss: 0.4853 - val_loss: 0.4840\n",
      "Epoch 125/170\n",
      "25/25 [==============================] - 6s 234ms/step - loss: 0.4845 - val_loss: 0.4839\n",
      "Epoch 126/170\n",
      "25/25 [==============================] - 5s 219ms/step - loss: 0.4848 - val_loss: 0.4844\n",
      "Epoch 127/170\n",
      "25/25 [==============================] - 6s 238ms/step - loss: 0.4845 - val_loss: 0.4853\n",
      "Epoch 128/170\n",
      "25/25 [==============================] - 5s 203ms/step - loss: 0.4851 - val_loss: 0.4854\n",
      "Epoch 129/170\n",
      "25/25 [==============================] - 5s 209ms/step - loss: 0.4843 - val_loss: 0.4844\n",
      "Epoch 130/170\n",
      "25/25 [==============================] - 5s 200ms/step - loss: 0.4835 - val_loss: 0.4847\n",
      "Epoch 131/170\n",
      "25/25 [==============================] - 5s 198ms/step - loss: 0.4837 - val_loss: 0.4851\n",
      "Epoch 132/170\n",
      "25/25 [==============================] - 5s 203ms/step - loss: 0.4840 - val_loss: 0.4858\n",
      "Epoch 133/170\n",
      "25/25 [==============================] - 5s 204ms/step - loss: 0.4835 - val_loss: 0.4854\n",
      "Epoch 134/170\n",
      "25/25 [==============================] - 5s 202ms/step - loss: 0.4830 - val_loss: 0.4852\n",
      "Epoch 135/170\n",
      "25/25 [==============================] - 6s 223ms/step - loss: 0.4826 - val_loss: 0.4854\n",
      "Epoch 136/170\n",
      "25/25 [==============================] - 5s 200ms/step - loss: 0.4825 - val_loss: 0.4855\n",
      "Epoch 137/170\n",
      "25/25 [==============================] - 6s 231ms/step - loss: 0.4825 - val_loss: 0.4858\n",
      "Epoch 138/170\n",
      "25/25 [==============================] - 5s 212ms/step - loss: 0.4822 - val_loss: 0.4859\n",
      "Epoch 139/170\n",
      "25/25 [==============================] - 5s 197ms/step - loss: 0.4823 - val_loss: 0.4864\n",
      "Epoch 140/170\n",
      "25/25 [==============================] - 5s 219ms/step - loss: 0.4819 - val_loss: 0.4866\n",
      "Epoch 141/170\n",
      "25/25 [==============================] - 5s 201ms/step - loss: 0.4819 - val_loss: 0.4867\n",
      "Epoch 142/170\n",
      "25/25 [==============================] - 5s 203ms/step - loss: 0.4809 - val_loss: 0.4867\n",
      "Epoch 143/170\n",
      "25/25 [==============================] - 5s 202ms/step - loss: 0.4810 - val_loss: 0.4866\n",
      "Epoch 144/170\n",
      "25/25 [==============================] - 5s 213ms/step - loss: 0.4807 - val_loss: 0.4871\n",
      "Epoch 145/170\n",
      "25/25 [==============================] - 6s 245ms/step - loss: 0.4806 - val_loss: 0.4875\n",
      "Epoch 146/170\n",
      "25/25 [==============================] - 5s 196ms/step - loss: 0.4806 - val_loss: 0.4881\n",
      "Epoch 147/170\n",
      "25/25 [==============================] - 5s 198ms/step - loss: 0.4800 - val_loss: 0.4870\n",
      "Epoch 148/170\n",
      "25/25 [==============================] - 5s 201ms/step - loss: 0.4795 - val_loss: 0.4874\n",
      "Epoch 149/170\n",
      "25/25 [==============================] - 6s 221ms/step - loss: 0.4798 - val_loss: 0.4878\n",
      "Epoch 150/170\n",
      "25/25 [==============================] - 5s 201ms/step - loss: 0.4793 - val_loss: 0.4879\n",
      "Epoch 151/170\n",
      "25/25 [==============================] - 5s 205ms/step - loss: 0.4785 - val_loss: 0.4885\n",
      "Epoch 152/170\n",
      "25/25 [==============================] - 6s 240ms/step - loss: 0.4784 - val_loss: 0.4884\n",
      "Epoch 153/170\n",
      "25/25 [==============================] - 5s 200ms/step - loss: 0.4780 - val_loss: 0.4885\n",
      "Epoch 154/170\n",
      "25/25 [==============================] - 5s 197ms/step - loss: 0.4780 - val_loss: 0.4892\n",
      "Epoch 155/170\n",
      "25/25 [==============================] - 5s 197ms/step - loss: 0.4774 - val_loss: 0.4894\n",
      "Epoch 156/170\n",
      "25/25 [==============================] - 6s 249ms/step - loss: 0.4765 - val_loss: 0.4897\n",
      "Epoch 157/170\n",
      "25/25 [==============================] - 5s 201ms/step - loss: 0.4769 - val_loss: 0.4899\n",
      "Epoch 158/170\n",
      "25/25 [==============================] - 5s 219ms/step - loss: 0.4767 - val_loss: 0.4899\n",
      "Epoch 159/170\n",
      "25/25 [==============================] - 5s 202ms/step - loss: 0.4759 - val_loss: 0.4900\n",
      "Epoch 160/170\n",
      "25/25 [==============================] - 5s 201ms/step - loss: 0.4760 - val_loss: 0.4900\n",
      "Epoch 161/170\n",
      "25/25 [==============================] - 5s 199ms/step - loss: 0.4754 - val_loss: 0.4901\n",
      "Epoch 162/170\n",
      "25/25 [==============================] - 5s 217ms/step - loss: 0.4745 - val_loss: 0.4906\n",
      "Epoch 163/170\n",
      "25/25 [==============================] - 5s 200ms/step - loss: 0.4745 - val_loss: 0.4899\n",
      "Epoch 164/170\n",
      "25/25 [==============================] - 5s 205ms/step - loss: 0.4739 - val_loss: 0.4916\n",
      "Epoch 165/170\n",
      "25/25 [==============================] - 6s 232ms/step - loss: 0.4735 - val_loss: 0.4909\n",
      "Epoch 166/170\n",
      "25/25 [==============================] - 5s 207ms/step - loss: 0.4738 - val_loss: 0.4925\n",
      "Epoch 167/170\n",
      "25/25 [==============================] - 5s 205ms/step - loss: 0.4732 - val_loss: 0.4923\n",
      "Epoch 168/170\n",
      "25/25 [==============================] - 6s 236ms/step - loss: 0.4720 - val_loss: 0.4916\n",
      "Epoch 169/170\n",
      "25/25 [==============================] - 5s 214ms/step - loss: 0.4717 - val_loss: 0.4921\n",
      "Epoch 170/170\n",
      "25/25 [==============================] - 6s 235ms/step - loss: 0.4717 - val_loss: 0.4926\n"
     ]
    }
   ],
   "source": [
    "callback_list = [\n",
    "#         EarlyStopping(\n",
    "#             monitor=\"val_loss\",\n",
    "#             patience=5,\n",
    "#             mode=\"min\"\n",
    "#         )\n",
    "]\n",
    "history_3 = train_3.fit_generator(generator=train_generator,\n",
    "                              callbacks=callback_list,\n",
    "                              epochs=170,\n",
    "                              validation_data=val_generator)"
   ]
  },
  {
   "cell_type": "code",
   "execution_count": 8,
   "metadata": {},
   "outputs": [
    {
     "data": {
      "text/plain": [
       "<matplotlib.legend.Legend at 0x2b3de2bc4250>"
      ]
     },
     "execution_count": 8,
     "metadata": {},
     "output_type": "execute_result"
    },
    {
     "data": {
      "image/png": "[encoded data removed]",
      "text/plain": [
       "<Figure size 432x288 with 1 Axes>"
      ]
     },
     "metadata": {
      "needs_background": "light"
     },
     "output_type": "display_data"
    }
   ],
   "source": [
    "plt.plot(history_3.history['loss'])\n",
    "plt.plot(history_3.history['val_loss'])\n",
    "\n",
    "plt.xlabel('Epoch')\n",
    "plt.ylabel('Mean Absolute Error Loss')\n",
    "plt.title('Loss Over Time')\n",
    "plt.legend(['Train','Valid'])"
   ]
  },
  {
   "cell_type": "code",
   "execution_count": null,
   "metadata": {},
   "outputs": [],
   "source": [
    "from tensorflow.keras.models import model_from_json\n",
    "\n",
    "file_name = \"models/enc_dec_2\"\n",
    "# serialize model to JSON\n",
    "model_json = model.to_json()\n",
    "with open(f\"{file_name}.json\", \"w\") as json_file:\n",
    "    json_file.write(model_json)\n",
    "model.save_weights(f\"{file_name}.h5\")\n"
   ]
  },
  {
   "cell_type": "code",
   "execution_count": 9,
   "metadata": {},
   "outputs": [],
   "source": [
    "val_batch = val_generator[0]"
   ]
  },
  {
   "cell_type": "code",
   "execution_count": 10,
   "metadata": {},
   "outputs": [
    {
     "data": {
      "text/plain": [
       "1024"
      ]
     },
     "execution_count": 10,
     "metadata": {},
     "output_type": "execute_result"
    }
   ],
   "source": [
    "len(val_batch[0][0])"
   ]
  },
  {
   "cell_type": "code",
   "execution_count": 11,
   "metadata": {},
   "outputs": [
    {
     "name": "stdout",
     "output_type": "stream",
     "text": [
      "Correlation: 0.6052381385463943. P: 0.06372833183920691\n"
     ]
    },
    {
     "data": {
      "image/png": "[encoded data removed]",
      "text/plain": [
       "<Figure size 720x432 with 1 Axes>"
      ]
     },
     "metadata": {
      "needs_background": "light"
     },
     "output_type": "display_data"
    }
   ],
   "source": [
    "utils.predict_and_plot(inf_encoder_model_3, inf_decoder_model_3,\n",
    "                       val_batch[0], val_batch[1], sample_ix=0,\n",
    "                       pred_steps=10)"
   ]
  },
  {
   "cell_type": "code",
   "execution_count": 13,
   "metadata": {},
   "outputs": [
    {
     "name": "stdout",
     "output_type": "stream",
     "text": [
      "Calculating MAE/CORR per batch.\n",
      "Batch_r: 0.061847071004116856\n",
      "Batch Mae: 0.5852524357304423\n"
     ]
    }
   ],
   "source": [
    "print(\"Calculating MAE/CORR per batch.\")\n",
    "batch_ix = 0\n",
    "val_batch = val_generator[batch_ix] \n",
    "n_rows = val_batch[0][0].shape[0]\n",
    "r_array = np.empty(shape=(n_rows,))\n",
    "sample_maes = np.empty(shape=(n_rows,))\n",
    "for sample_ix in range(n_rows):\n",
    "    print(f\"Sample: {sample_ix}/{n_rows}\", end=\"\\r\")\n",
    "    r, mae = utils.get_corr_mae(inf_encoder_model_3, inf_decoder_model_3,\n",
    "                          val_batch[0], val_batch[1], sample_ix=sample_ix,\n",
    "                          pred_steps=10, verbose=False)\n",
    "    r_array[sample_ix] = r\n",
    "    sample_maes[sample_ix] = mae\n",
    "z_mean = np.mean(r_array)\n",
    "batch_r = np.tanh(z_mean)\n",
    "batch_mae = np.mean(sample_maes)\n",
    "print(f\"Batch_r: {batch_r}\")\n",
    "print(f\"Batch Mae: {batch_mae}\")"
   ]
  },
  {
   "cell_type": "raw",
   "metadata": {},
   "source": []
  },
  {
   "cell_type": "code",
   "execution_count": 17,
   "metadata": {},
   "outputs": [
    {
     "name": "stdout",
     "output_type": "stream",
     "text": [
      "[238 955 221 ... 570 435 882]\n",
      "[980 288 667 ... 634 648 774]\n"
     ]
    }
   ],
   "source": [
    "print(sample_maes.argsort())\n",
    "print(r_array.argsort())"
   ]
  },
  {
   "cell_type": "code",
   "execution_count": 18,
   "metadata": {},
   "outputs": [
    {
     "name": "stdout",
     "output_type": "stream",
     "text": [
      "Correlation: 0.21789377294665904. P: 0.5453499037373094\n"
     ]
    },
    {
     "data": {
      "image/png": "[encoded data removed]",
      "text/plain": [
       "<Figure size 720x432 with 1 Axes>"
      ]
     },
     "metadata": {
      "needs_background": "light"
     },
     "output_type": "display_data"
    }
   ],
   "source": [
    "utils.predict_and_plot(inf_encoder_model_3, inf_decoder_model_3,\n",
    "                       val_batch[0], val_batch[1], sample_ix=238,\n",
    "                       pred_steps=10)"
   ]
  },
  {
   "cell_type": "code",
   "execution_count": 19,
   "metadata": {},
   "outputs": [
    {
     "name": "stdout",
     "output_type": "stream",
     "text": [
      "Correlation: -0.8969370017386968. P: 0.0004351506568805077\n"
     ]
    },
    {
     "data": {
      "image/png": "[encoded data removed]",
      "text/plain": [
       "<Figure size 720x432 with 1 Axes>"
      ]
     },
     "metadata": {
      "needs_background": "light"
     },
     "output_type": "display_data"
    }
   ],
   "source": [
    "utils.predict_and_plot(inf_encoder_model_3, inf_decoder_model_3,\n",
    "                       val_batch[0], val_batch[1], sample_ix=980,\n",
    "                       pred_steps=10)"
   ]
  },
  {
   "cell_type": "code",
   "execution_count": null,
   "metadata": {},
   "outputs": [],
   "source": []
  }
 ],
 "metadata": {
  "kernelspec": {
   "display_name": "Python 3",
   "language": "python",
   "name": "python3"
  },
  "language_info": {
   "codemirror_mode": {
    "name": "ipython",
    "version": 3
   },
   "file_extension": ".py",
   "mimetype": "text/x-python",
   "name": "python",
   "nbconvert_exporter": "python",
   "pygments_lexer": "ipython3",
   "version": "3.7.7"
  }
 },
 "nbformat": 4,
 "nbformat_minor": 4
}
