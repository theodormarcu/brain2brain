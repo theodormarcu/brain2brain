{
 "cells": [
  {
   "cell_type": "code",
   "execution_count": 1,
   "metadata": {},
   "outputs": [],
   "source": [
    "# Autoreload\n",
    "%load_ext autoreload\n",
    "%autoreload 2"
   ]
  },
  {
   "cell_type": "code",
   "execution_count": 2,
   "metadata": {},
   "outputs": [],
   "source": [
    "# Imports\n",
    "import numpy as np\n",
    "import json\n",
    "import pandas as pd\n",
    "import numpy as np\n",
    "import time\n",
    "import string\n",
    "from matplotlib import pyplot as plt\n",
    "import tensorflow as tf\n",
    "import sys\n",
    "sys.path.append('../')\n",
    "from brain2brain import utils\n",
    "from brain2brain import generators\n",
    "%matplotlib inline\n",
    "\n",
    "# TF\n",
    "from tensorflow.keras.models import Sequential\n",
    "from tensorflow.keras import layers\n",
    "from tensorflow.keras.optimizers import RMSprop\n",
    "from tensorflow.keras.models import load_model\n",
    "\n",
    "# TCN\n",
    "from brain2brain.tcn import TCN\n",
    "from tensorflow.keras import Input, Model\n",
    "from tensorflow.keras.layers import Dense, Flatten, GRU"
   ]
  },
  {
   "cell_type": "code",
   "execution_count": 3,
   "metadata": {},
   "outputs": [],
   "source": [
    "# Read saved paths for training.\n",
    "saved_paths = utils.get_file_paths(\"../brain2brain/train_676_norm_files_projects.txt\")"
   ]
  },
  {
   "cell_type": "code",
   "execution_count": 4,
   "metadata": {},
   "outputs": [],
   "source": [
    "# Split the train files into a training and validation set.\n",
    "train, val = utils.split_file_paths(saved_paths, 0.8)"
   ]
  },
  {
   "cell_type": "code",
   "execution_count": 5,
   "metadata": {},
   "outputs": [],
   "source": [
    "# The time we look back.\n",
    "lookback_window = 256 # .5 seconds\n",
    "# Length of sequence predicted.\n",
    "length_pred = 1 # 1 timestep\n",
    "# Delay between lookback and length.\n",
    "delay_pred = 0 # No delay.\n",
    "# Sampling of electrodes.\n",
    "samples_per_second = 1 # Samples Per Second\n",
    "timesteps_per_sample = int(lookback_window // samples_per_second)\n",
    "# Electrodes\n",
    "electrode_selection = [1]\n",
    "electrode_count = len(electrode_selection)\n",
    "batch_size = 512"
   ]
  },
  {
   "cell_type": "code",
   "execution_count": 6,
   "metadata": {},
   "outputs": [],
   "source": [
    "# Training Generator\n",
    "train_generator = generators.FGenerator(file_paths = train,\n",
    "                                        lookback=lookback_window, length = length_pred, delay = delay_pred,\n",
    "                                        batch_size = batch_size, sample_period = samples_per_second,\n",
    "                                        electrodes= electrode_selection, shuffle = True, debug=False,\n",
    "                                        ratio=1.0)"
   ]
  },
  {
   "cell_type": "code",
   "execution_count": 7,
   "metadata": {},
   "outputs": [],
   "source": [
    "# Validation Generator\n",
    "val_generator = generators.FGenerator(file_paths = val,\n",
    "                                      lookback=lookback_window, length = length_pred, delay = delay_pred,\n",
    "                                      batch_size = batch_size, sample_period = samples_per_second,\n",
    "                                      electrodes= electrode_selection, shuffle = False, debug=False,\n",
    "                                      ratio=1.0)"
   ]
  },
  {
   "cell_type": "code",
   "execution_count": 8,
   "metadata": {},
   "outputs": [
    {
     "data": {
      "text/plain": [
       "304"
      ]
     },
     "execution_count": 8,
     "metadata": {},
     "output_type": "execute_result"
    }
   ],
   "source": [
    "len(train_generator)"
   ]
  },
  {
   "cell_type": "code",
   "execution_count": 9,
   "metadata": {},
   "outputs": [
    {
     "data": {
      "text/plain": [
       "102"
      ]
     },
     "execution_count": 9,
     "metadata": {},
     "output_type": "execute_result"
    }
   ],
   "source": [
    "\n",
    "len(val_generator)"
   ]
  },
  {
   "cell_type": "code",
   "execution_count": null,
   "metadata": {},
   "outputs": [],
   "source": [
    "model = Sequential()\n",
    "model.add(GRU(32,\n",
    "              dropout=0.2,\n",
    "              recurrent_dropout=0.2,\n",
    "              input_shape=(timesteps_per_sample, electrode_count)))\n",
    "model.add(Dense(1))\n",
    "model.compile(optimizer=RMSprop(), loss='mae')\n",
    "model.summary()\n",
    "history = model.fit_generator(train_generator,\n",
    "                              epochs=10,\n",
    "                              validation_data = val_generator)"
   ]
  },
  {
   "cell_type": "code",
   "execution_count": null,
   "metadata": {},
   "outputs": [],
   "source": []
  }
 ],
 "metadata": {
  "kernelspec": {
   "display_name": "Python 3",
   "language": "python",
   "name": "python3"
  },
  "language_info": {
   "codemirror_mode": {
    "name": "ipython",
    "version": 3
   },
   "file_extension": ".py",
   "mimetype": "text/x-python",
   "name": "python",
   "nbconvert_exporter": "python",
   "pygments_lexer": "ipython3",
   "version": "3.7.5"
  }
 },
 "nbformat": 4,
 "nbformat_minor": 4
}
