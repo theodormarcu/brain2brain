{
 "cells": [
  {
   "cell_type": "code",
   "execution_count": 1,
   "metadata": {},
   "outputs": [],
   "source": [
    "# Autoreload\n",
    "%load_ext autoreload\n",
    "%autoreload 2"
   ]
  },
  {
   "cell_type": "code",
   "execution_count": 2,
   "metadata": {},
   "outputs": [],
   "source": [
    "# Imports\n",
    "import numpy as np\n",
    "import pandas as pd\n",
    "import numpy as np\n",
    "import time\n",
    "import string\n",
    "from matplotlib import pyplot as plt\n",
    "from tensorflow.keras.models import Sequential\n",
    "from tensorflow.keras import layers\n",
    "from tensorflow.keras.optimizers import RMSprop\n",
    "import tensorflow as tf\n",
    "import sys\n",
    "sys.path.append('../')\n",
    "from brain2brain import utils\n",
    "from brain2brain import generators\n",
    "%matplotlib inline\n",
    "\n",
    "# Import Statsmodels\n",
    "from statsmodels.tsa.api import VAR\n",
    "from statsmodels.tsa.stattools import adfuller\n",
    "from statsmodels.tools.eval_measures import rmse, aic"
   ]
  },
  {
   "cell_type": "code",
   "execution_count": 5,
   "metadata": {},
   "outputs": [
    {
     "data": {
      "text/plain": [
       "['/projects/HASSON/247/data/676-conversations/NY676_617_Part0_conversation1/NY676_617_Part0_conversation1.npy',\n",
       " '/projects/HASSON/247/data/676-conversations/NY676_618_Part4_conversation3/NY676_618_Part4_conversation3.npy',\n",
       " '/projects/HASSON/247/data/676-conversations/NY676_618_Part7_conversation4/NY676_618_Part7_conversation4.npy',\n",
       " '/projects/HASSON/247/data/676-conversations/NY676_618_Part4_conversation6/NY676_618_Part4_conversation6.npy',\n",
       " '/projects/HASSON/247/data/676-conversations/NY676_619_Part6_conversation2/NY676_619_Part6_conversation2.npy',\n",
       " '/projects/HASSON/247/data/676-conversations/NY676_619_Part2_conversation3/NY676_619_Part2_conversation3.npy',\n",
       " '/projects/HASSON/247/data/676-conversations/NY676_618_Part6_conversation3/NY676_618_Part6_conversation3.npy',\n",
       " '/projects/HASSON/247/data/676-conversations/NY676_619_Part4_conversation2/NY676_619_Part4_conversation2.npy',\n",
       " '/projects/HASSON/247/data/676-conversations/NY676_619_Part4_conversation1/NY676_619_Part4_conversation1.npy',\n",
       " '/projects/HASSON/247/data/676-conversations/NY676_620_Part5-one_conversation3/NY676_620_Part5-one_conversation3.npy',\n",
       " '/projects/HASSON/247/data/676-conversations/NY676_616_Part1_conversation3/NY676_616_Part1_conversation3.npy',\n",
       " '/projects/HASSON/247/data/676-conversations/NY676_617_Part1_conversation4/NY676_617_Part1_conversation4.npy',\n",
       " '/projects/HASSON/247/data/676-conversations/NY676_616_Part2-one_conversation1/NY676_616_Part2-one_conversation1.npy',\n",
       " '/projects/HASSON/247/data/676-conversations/NY676_618_Part6_conversation2/NY676_618_Part6_conversation2.npy',\n",
       " '/projects/HASSON/247/data/676-conversations/NY676_616_Part1_conversation1/NY676_616_Part1_conversation1.npy',\n",
       " '/projects/HASSON/247/data/676-conversations/NY676_619_Part5-one_conversation1/NY676_619_Part5-one_conversation1.npy',\n",
       " '/projects/HASSON/247/data/676-conversations/NY676_621_Part2-one_conversation1/NY676_621_Part2-one_conversation1.npy',\n",
       " '/projects/HASSON/247/data/676-conversations/NY676_621_Part2-two_conversation1/NY676_621_Part2-two_conversation1.npy',\n",
       " '/projects/HASSON/247/data/676-conversations/NY676_618_Part5-one_conversation1/NY676_618_Part5-one_conversation1.npy',\n",
       " '/projects/HASSON/247/data/676-conversations/NY676_616_Part1_conversation5/NY676_616_Part1_conversation5.npy',\n",
       " '/projects/HASSON/247/data/676-conversations/NY676_618_Part5-one_conversation2/NY676_618_Part5-one_conversation2.npy',\n",
       " '/projects/HASSON/247/data/676-conversations/NY676_620_Part7_conversation1/NY676_620_Part7_conversation1.npy',\n",
       " '/projects/HASSON/247/data/676-conversations/NY676_620_Part3-one_conversation1/NY676_620_Part3-one_conversation1.npy',\n",
       " '/projects/HASSON/247/data/676-conversations/NY676_619_Part5-two_conversation3/NY676_619_Part5-two_conversation3.npy',\n",
       " '/projects/HASSON/247/data/676-conversations/NY676_618_Part8_conversation2/NY676_618_Part8_conversation2.npy',\n",
       " '/projects/HASSON/247/data/676-conversations/NY676_621_Part1_conversation1/NY676_621_Part1_conversation1.npy',\n",
       " '/projects/HASSON/247/data/676-conversations/NY676_620_Part3-one_conversation3/NY676_620_Part3-one_conversation3.npy',\n",
       " '/projects/HASSON/247/data/676-conversations/NY676_621_Part2-two_conversation2/NY676_621_Part2-two_conversation2.npy',\n",
       " '/projects/HASSON/247/data/676-conversations/NY676_618_Part7_conversation2/NY676_618_Part7_conversation2.npy',\n",
       " '/projects/HASSON/247/data/676-conversations/NY676_620_Part5-two_conversation1/NY676_620_Part5-two_conversation1.npy',\n",
       " '/projects/HASSON/247/data/676-conversations/NY676_616_Part2-two_conversation3/NY676_616_Part2-two_conversation3.npy',\n",
       " '/projects/HASSON/247/data/676-conversations/NY676_616_Part2-two_conversation1/NY676_616_Part2-two_conversation1.npy',\n",
       " '/projects/HASSON/247/data/676-conversations/NY676_617_Part2_conversation6/NY676_617_Part2_conversation6.npy',\n",
       " '/projects/HASSON/247/data/676-conversations/NY676_620_Part3-one_conversation4/NY676_620_Part3-one_conversation4.npy',\n",
       " '/projects/HASSON/247/data/676-conversations/NY676_620_Part5-one_conversation4/NY676_620_Part5-one_conversation4.npy',\n",
       " '/projects/HASSON/247/data/676-conversations/NY676_620_Part5-one_conversation1/NY676_620_Part5-one_conversation1.npy',\n",
       " '/projects/HASSON/247/data/676-conversations/NY676_618_Part7_conversation6/NY676_618_Part7_conversation6.npy',\n",
       " '/projects/HASSON/247/data/676-conversations/NY676_616_Part1_conversation4/NY676_616_Part1_conversation4.npy',\n",
       " '/projects/HASSON/247/data/676-conversations/NY676_619_Part3_conversation3/NY676_619_Part3_conversation3.npy',\n",
       " '/projects/HASSON/247/data/676-conversations/NY676_617_Part1_conversation3/NY676_617_Part1_conversation3.npy',\n",
       " '/projects/HASSON/247/data/676-conversations/NY676_619_Part5-two_conversation1/NY676_619_Part5-two_conversation1.npy',\n",
       " '/projects/HASSON/247/data/676-conversations/NY676_619_Part7_conversation1/NY676_619_Part7_conversation1.npy',\n",
       " '/projects/HASSON/247/data/676-conversations/NY676_619_Part3_conversation1/NY676_619_Part3_conversation1.npy',\n",
       " '/projects/HASSON/247/data/676-conversations/NY676_620_Part5-one_conversation2/NY676_620_Part5-one_conversation2.npy',\n",
       " '/projects/HASSON/247/data/676-conversations/NY676_619_Part2_conversation2/NY676_619_Part2_conversation2.npy',\n",
       " '/projects/HASSON/247/data/676-conversations/NY676_620_Part3-one_conversation5/NY676_620_Part3-one_conversation5.npy',\n",
       " '/projects/HASSON/247/data/676-conversations/NY676_619_Part3_conversation2/NY676_619_Part3_conversation2.npy',\n",
       " '/projects/HASSON/247/data/676-conversations/NY676_620_Part5-two_conversation3/NY676_620_Part5-two_conversation3.npy',\n",
       " '/projects/HASSON/247/data/676-conversations/NY676_620_Part5-one_conversation5/NY676_620_Part5-one_conversation5.npy',\n",
       " '/projects/HASSON/247/data/676-conversations/NY676_618_Part7_conversation1/NY676_618_Part7_conversation1.npy',\n",
       " '/projects/HASSON/247/data/676-conversations/NY676_618_Part8_conversation1/NY676_618_Part8_conversation1.npy',\n",
       " '/projects/HASSON/247/data/676-conversations/NY676_618_Part4_conversation4/NY676_618_Part4_conversation4.npy',\n",
       " '/projects/HASSON/247/data/676-conversations/NY676_617_Part1_conversation1/NY676_617_Part1_conversation1.npy',\n",
       " '/projects/HASSON/247/data/676-conversations/NY676_620_Part6_conversation1/NY676_620_Part6_conversation1.npy',\n",
       " '/projects/HASSON/247/data/676-conversations/NY676_620_Part2_conversation2/NY676_620_Part2_conversation2.npy',\n",
       " '/projects/HASSON/247/data/676-conversations/NY676_617_Part2_conversation4/NY676_617_Part2_conversation4.npy',\n",
       " '/projects/HASSON/247/data/676-conversations/NY676_619_Part5-two_conversation2/NY676_619_Part5-two_conversation2.npy',\n",
       " '/projects/HASSON/247/data/676-conversations/NY676_618_Part4_conversation1/NY676_618_Part4_conversation1.npy',\n",
       " '/projects/HASSON/247/data/676-conversations/NY676_618_Part4_conversation7/NY676_618_Part4_conversation7.npy',\n",
       " '/projects/HASSON/247/data/676-conversations/NY676_618_Part6_conversation1/NY676_618_Part6_conversation1.npy',\n",
       " '/projects/HASSON/247/data/676-conversations/NY676_616_Part1_conversation2/NY676_616_Part1_conversation2.npy',\n",
       " '/projects/HASSON/247/data/676-conversations/NY676_617_Part2_conversation1/NY676_617_Part2_conversation1.npy',\n",
       " '/projects/HASSON/247/data/676-conversations/NY676_620_Part4_conversation1/NY676_620_Part4_conversation1.npy',\n",
       " '/projects/HASSON/247/data/676-conversations/NY676_616_Part2-two_conversation2/NY676_616_Part2-two_conversation2.npy',\n",
       " '/projects/HASSON/247/data/676-conversations/NY676_617_Part2_conversation2/NY676_617_Part2_conversation2.npy',\n",
       " '/projects/HASSON/247/data/676-conversations/NY676_620_Part2_conversation3/NY676_620_Part2_conversation3.npy',\n",
       " '/projects/HASSON/247/data/676-conversations/NY676_617_Part2_conversation3/NY676_617_Part2_conversation3.npy',\n",
       " '/projects/HASSON/247/data/676-conversations/NY676_620_Part5-two_conversation2/NY676_620_Part5-two_conversation2.npy',\n",
       " '/projects/HASSON/247/data/676-conversations/NY676_618_Part4_conversation8/NY676_618_Part4_conversation8.npy',\n",
       " '/projects/HASSON/247/data/676-conversations/NY676_616_Part3_conversation1/NY676_616_Part3_conversation1.npy',\n",
       " '/projects/HASSON/247/data/676-conversations/NY676_618_Part7_conversation5/NY676_618_Part7_conversation5.npy',\n",
       " '/projects/HASSON/247/data/676-conversations/NY676_619_Part4_conversation3/NY676_619_Part4_conversation3.npy',\n",
       " '/projects/HASSON/247/data/676-conversations/NY676_618_Part4_conversation10/NY676_618_Part4_conversation10.npy',\n",
       " '/projects/HASSON/247/data/676-conversations/NY676_618_Part5-two_conversation1/NY676_618_Part5-two_conversation1.npy',\n",
       " '/projects/HASSON/247/data/676-conversations/NY676_617_Part1_conversation2/NY676_617_Part1_conversation2.npy',\n",
       " '/projects/HASSON/247/data/676-conversations/NY676_619_Part2_conversation1/NY676_619_Part2_conversation1.npy',\n",
       " '/projects/HASSON/247/data/676-conversations/NY676_618_Part4_conversation2/NY676_618_Part4_conversation2.npy',\n",
       " '/projects/HASSON/247/data/676-conversations/NY676_619_Part6_conversation1/NY676_619_Part6_conversation1.npy',\n",
       " '/projects/HASSON/247/data/676-conversations/NY676_618_Part4_conversation5/NY676_618_Part4_conversation5.npy',\n",
       " '/projects/HASSON/247/data/676-conversations/NY676_618_Part7_conversation3/NY676_618_Part7_conversation3.npy',\n",
       " '/projects/HASSON/247/data/676-conversations/NY676_620_Part6_conversation3/NY676_620_Part6_conversation3.npy',\n",
       " '/projects/HASSON/247/data/676-conversations/NY676_617_Part2_conversation5/NY676_617_Part2_conversation5.npy',\n",
       " '/projects/HASSON/247/data/676-conversations/NY676_616_Part3_conversation2/NY676_616_Part3_conversation2.npy',\n",
       " '/projects/HASSON/247/data/676-conversations/NY676_617_Part1_conversation5/NY676_617_Part1_conversation5.npy']"
      ]
     },
     "execution_count": 5,
     "metadata": {},
     "output_type": "execute_result"
    }
   ],
   "source": [
    "# Read paths for patient 676.\n",
    "paths_676 = utils.get_file_paths_from_root(676, sort=True, shuffle=True)\n",
    "paths_676"
   ]
  },
  {
   "cell_type": "code",
   "execution_count": 6,
   "metadata": {},
   "outputs": [],
   "source": [
    "# Split the train files into a training and validation set.\n",
    "train_676, test_676 = utils.split_file_paths(paths_676, 0.8)"
   ]
  },
  {
   "cell_type": "code",
   "execution_count": 43,
   "metadata": {},
   "outputs": [
    {
     "data": {
      "text/plain": [
       "['/projects/HASSON/247/data/676-conversations/NY676_617_Part0_conversation1/NY676_617_Part0_conversation1.npy',\n",
       " '/projects/HASSON/247/data/676-conversations/NY676_618_Part4_conversation3/NY676_618_Part4_conversation3.npy',\n",
       " '/projects/HASSON/247/data/676-conversations/NY676_618_Part7_conversation4/NY676_618_Part7_conversation4.npy',\n",
       " '/projects/HASSON/247/data/676-conversations/NY676_618_Part4_conversation6/NY676_618_Part4_conversation6.npy',\n",
       " '/projects/HASSON/247/data/676-conversations/NY676_619_Part6_conversation2/NY676_619_Part6_conversation2.npy',\n",
       " '/projects/HASSON/247/data/676-conversations/NY676_619_Part2_conversation3/NY676_619_Part2_conversation3.npy',\n",
       " '/projects/HASSON/247/data/676-conversations/NY676_618_Part6_conversation3/NY676_618_Part6_conversation3.npy',\n",
       " '/projects/HASSON/247/data/676-conversations/NY676_619_Part4_conversation2/NY676_619_Part4_conversation2.npy',\n",
       " '/projects/HASSON/247/data/676-conversations/NY676_619_Part4_conversation1/NY676_619_Part4_conversation1.npy',\n",
       " '/projects/HASSON/247/data/676-conversations/NY676_620_Part5-one_conversation3/NY676_620_Part5-one_conversation3.npy',\n",
       " '/projects/HASSON/247/data/676-conversations/NY676_616_Part1_conversation3/NY676_616_Part1_conversation3.npy',\n",
       " '/projects/HASSON/247/data/676-conversations/NY676_617_Part1_conversation4/NY676_617_Part1_conversation4.npy',\n",
       " '/projects/HASSON/247/data/676-conversations/NY676_616_Part2-one_conversation1/NY676_616_Part2-one_conversation1.npy',\n",
       " '/projects/HASSON/247/data/676-conversations/NY676_618_Part6_conversation2/NY676_618_Part6_conversation2.npy',\n",
       " '/projects/HASSON/247/data/676-conversations/NY676_616_Part1_conversation1/NY676_616_Part1_conversation1.npy',\n",
       " '/projects/HASSON/247/data/676-conversations/NY676_619_Part5-one_conversation1/NY676_619_Part5-one_conversation1.npy',\n",
       " '/projects/HASSON/247/data/676-conversations/NY676_621_Part2-one_conversation1/NY676_621_Part2-one_conversation1.npy',\n",
       " '/projects/HASSON/247/data/676-conversations/NY676_621_Part2-two_conversation1/NY676_621_Part2-two_conversation1.npy',\n",
       " '/projects/HASSON/247/data/676-conversations/NY676_618_Part5-one_conversation1/NY676_618_Part5-one_conversation1.npy',\n",
       " '/projects/HASSON/247/data/676-conversations/NY676_616_Part1_conversation5/NY676_616_Part1_conversation5.npy',\n",
       " '/projects/HASSON/247/data/676-conversations/NY676_618_Part5-one_conversation2/NY676_618_Part5-one_conversation2.npy',\n",
       " '/projects/HASSON/247/data/676-conversations/NY676_620_Part7_conversation1/NY676_620_Part7_conversation1.npy',\n",
       " '/projects/HASSON/247/data/676-conversations/NY676_620_Part3-one_conversation1/NY676_620_Part3-one_conversation1.npy',\n",
       " '/projects/HASSON/247/data/676-conversations/NY676_619_Part5-two_conversation3/NY676_619_Part5-two_conversation3.npy',\n",
       " '/projects/HASSON/247/data/676-conversations/NY676_618_Part8_conversation2/NY676_618_Part8_conversation2.npy',\n",
       " '/projects/HASSON/247/data/676-conversations/NY676_621_Part1_conversation1/NY676_621_Part1_conversation1.npy',\n",
       " '/projects/HASSON/247/data/676-conversations/NY676_620_Part3-one_conversation3/NY676_620_Part3-one_conversation3.npy',\n",
       " '/projects/HASSON/247/data/676-conversations/NY676_621_Part2-two_conversation2/NY676_621_Part2-two_conversation2.npy',\n",
       " '/projects/HASSON/247/data/676-conversations/NY676_618_Part7_conversation2/NY676_618_Part7_conversation2.npy',\n",
       " '/projects/HASSON/247/data/676-conversations/NY676_620_Part5-two_conversation1/NY676_620_Part5-two_conversation1.npy',\n",
       " '/projects/HASSON/247/data/676-conversations/NY676_616_Part2-two_conversation3/NY676_616_Part2-two_conversation3.npy',\n",
       " '/projects/HASSON/247/data/676-conversations/NY676_616_Part2-two_conversation1/NY676_616_Part2-two_conversation1.npy',\n",
       " '/projects/HASSON/247/data/676-conversations/NY676_617_Part2_conversation6/NY676_617_Part2_conversation6.npy',\n",
       " '/projects/HASSON/247/data/676-conversations/NY676_620_Part3-one_conversation4/NY676_620_Part3-one_conversation4.npy',\n",
       " '/projects/HASSON/247/data/676-conversations/NY676_620_Part5-one_conversation4/NY676_620_Part5-one_conversation4.npy',\n",
       " '/projects/HASSON/247/data/676-conversations/NY676_620_Part5-one_conversation1/NY676_620_Part5-one_conversation1.npy',\n",
       " '/projects/HASSON/247/data/676-conversations/NY676_618_Part7_conversation6/NY676_618_Part7_conversation6.npy',\n",
       " '/projects/HASSON/247/data/676-conversations/NY676_616_Part1_conversation4/NY676_616_Part1_conversation4.npy',\n",
       " '/projects/HASSON/247/data/676-conversations/NY676_619_Part3_conversation3/NY676_619_Part3_conversation3.npy',\n",
       " '/projects/HASSON/247/data/676-conversations/NY676_617_Part1_conversation3/NY676_617_Part1_conversation3.npy',\n",
       " '/projects/HASSON/247/data/676-conversations/NY676_619_Part5-two_conversation1/NY676_619_Part5-two_conversation1.npy',\n",
       " '/projects/HASSON/247/data/676-conversations/NY676_619_Part7_conversation1/NY676_619_Part7_conversation1.npy',\n",
       " '/projects/HASSON/247/data/676-conversations/NY676_619_Part3_conversation1/NY676_619_Part3_conversation1.npy',\n",
       " '/projects/HASSON/247/data/676-conversations/NY676_620_Part5-one_conversation2/NY676_620_Part5-one_conversation2.npy',\n",
       " '/projects/HASSON/247/data/676-conversations/NY676_619_Part2_conversation2/NY676_619_Part2_conversation2.npy',\n",
       " '/projects/HASSON/247/data/676-conversations/NY676_620_Part3-one_conversation5/NY676_620_Part3-one_conversation5.npy',\n",
       " '/projects/HASSON/247/data/676-conversations/NY676_619_Part3_conversation2/NY676_619_Part3_conversation2.npy',\n",
       " '/projects/HASSON/247/data/676-conversations/NY676_620_Part5-two_conversation3/NY676_620_Part5-two_conversation3.npy',\n",
       " '/projects/HASSON/247/data/676-conversations/NY676_620_Part5-one_conversation5/NY676_620_Part5-one_conversation5.npy',\n",
       " '/projects/HASSON/247/data/676-conversations/NY676_618_Part7_conversation1/NY676_618_Part7_conversation1.npy',\n",
       " '/projects/HASSON/247/data/676-conversations/NY676_618_Part8_conversation1/NY676_618_Part8_conversation1.npy',\n",
       " '/projects/HASSON/247/data/676-conversations/NY676_618_Part4_conversation4/NY676_618_Part4_conversation4.npy',\n",
       " '/projects/HASSON/247/data/676-conversations/NY676_617_Part1_conversation1/NY676_617_Part1_conversation1.npy',\n",
       " '/projects/HASSON/247/data/676-conversations/NY676_620_Part6_conversation1/NY676_620_Part6_conversation1.npy',\n",
       " '/projects/HASSON/247/data/676-conversations/NY676_620_Part2_conversation2/NY676_620_Part2_conversation2.npy',\n",
       " '/projects/HASSON/247/data/676-conversations/NY676_617_Part2_conversation4/NY676_617_Part2_conversation4.npy',\n",
       " '/projects/HASSON/247/data/676-conversations/NY676_619_Part5-two_conversation2/NY676_619_Part5-two_conversation2.npy',\n",
       " '/projects/HASSON/247/data/676-conversations/NY676_618_Part4_conversation1/NY676_618_Part4_conversation1.npy',\n",
       " '/projects/HASSON/247/data/676-conversations/NY676_618_Part4_conversation7/NY676_618_Part4_conversation7.npy',\n",
       " '/projects/HASSON/247/data/676-conversations/NY676_618_Part6_conversation1/NY676_618_Part6_conversation1.npy',\n",
       " '/projects/HASSON/247/data/676-conversations/NY676_616_Part1_conversation2/NY676_616_Part1_conversation2.npy',\n",
       " '/projects/HASSON/247/data/676-conversations/NY676_617_Part2_conversation1/NY676_617_Part2_conversation1.npy',\n",
       " '/projects/HASSON/247/data/676-conversations/NY676_620_Part4_conversation1/NY676_620_Part4_conversation1.npy',\n",
       " '/projects/HASSON/247/data/676-conversations/NY676_616_Part2-two_conversation2/NY676_616_Part2-two_conversation2.npy']"
      ]
     },
     "execution_count": 43,
     "metadata": {},
     "output_type": "execute_result"
    }
   ],
   "source": [
    "train_676"
   ]
  },
  {
   "cell_type": "code",
   "execution_count": 44,
   "metadata": {},
   "outputs": [
    {
     "data": {
      "text/plain": [
       "array([[-14.24064025,  38.55751575,  16.06184185, ...,  60.94205484,\n",
       "         30.132498  , -70.27890184],\n",
       "       [-15.11271971,  38.9860464 ,  11.78678553, ...,  61.86805923,\n",
       "         31.17880257, -77.81156656],\n",
       "       [-16.34627846,  39.52789299,   7.27311192, ...,  63.30301938,\n",
       "         32.51044755, -85.093254  ],\n",
       "       ...,\n",
       "       [ 43.81128489,  50.71467107,  40.41023603, ...,  16.46987418,\n",
       "          1.35052064,  68.3091125 ],\n",
       "       [ 39.25060774,  52.50097408,  45.19099649, ...,  10.24566186,\n",
       "         -9.8916756 ,  59.28146615],\n",
       "       [ 35.20301141,  55.16805485,  50.18517379, ...,   3.37859417,\n",
       "        -20.99216629,  49.80404912]])"
      ]
     },
     "execution_count": 44,
     "metadata": {},
     "output_type": "execute_result"
    }
   ],
   "source": [
    "np.load(train_676[0])"
   ]
  },
  {
   "cell_type": "code",
   "execution_count": 45,
   "metadata": {},
   "outputs": [
    {
     "name": "stdout",
     "output_type": "stream",
     "text": [
      "(11727, 114)\n"
     ]
    }
   ],
   "source": [
    "utils.print_file_shape([train_676[0]])"
   ]
  },
  {
   "cell_type": "code",
   "execution_count": 57,
   "metadata": {},
   "outputs": [
    {
     "name": "stdout",
     "output_type": "stream",
     "text": [
      "Time Elapsed: 0.13303685188293457\n"
     ]
    }
   ],
   "source": [
    "# Test Generator.\n",
    "start_time = time.time()\n",
    "test_generator = generators.FGenerator(file_paths = train_676, lookback=512 * 5, length = 1, delay = 512 * 0,\n",
    "                                       batch_size = 32, sample_period = 512 / 64, electrodes=np.arange(0, 114),\n",
    "                                       shuffle = True, normalize=True)\n",
    "print(f\"Time Elapsed: {time.time() - start_time}\")"
   ]
  },
  {
   "cell_type": "code",
   "execution_count": 58,
   "metadata": {},
   "outputs": [
    {
     "data": {
      "text/plain": [
       "667"
      ]
     },
     "execution_count": 58,
     "metadata": {},
     "output_type": "execute_result"
    }
   ],
   "source": [
    "len(test_generator)"
   ]
  }
 ],
 "metadata": {
  "kernelspec": {
   "display_name": "Python 3",
   "language": "python",
   "name": "python3"
  },
  "language_info": {
   "codemirror_mode": {
    "name": "ipython",
    "version": 3
   },
   "file_extension": ".py",
   "mimetype": "text/x-python",
   "name": "python",
   "nbconvert_exporter": "python",
   "pygments_lexer": "ipython3",
   "version": "3.7.5"
  }
 },
 "nbformat": 4,
 "nbformat_minor": 4
}
