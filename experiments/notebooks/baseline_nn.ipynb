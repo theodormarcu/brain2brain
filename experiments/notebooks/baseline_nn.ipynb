{
 "cells": [
  {
   "cell_type": "markdown",
   "metadata": {},
   "source": [
    "# Baseline Neural Network"
   ]
  },
  {
   "cell_type": "markdown",
   "metadata": {},
   "source": [
    "### Focus on Electrode 5"
   ]
  },
  {
   "cell_type": "code",
   "execution_count": 1,
   "metadata": {},
   "outputs": [],
   "source": [
    "# Autoreload\n",
    "%load_ext autoreload\n",
    "%autoreload 2"
   ]
  },
  {
   "cell_type": "code",
   "execution_count": 2,
   "metadata": {},
   "outputs": [],
   "source": [
    "# Imports\n",
    "import numpy as np\n",
    "import json\n",
    "import pandas as pd\n",
    "import numpy as np\n",
    "import time\n",
    "import string\n",
    "from matplotlib import pyplot as plt\n",
    "import tensorflow as tf\n",
    "import sys\n",
    "sys.path.append('../../')\n",
    "from brain2brain import utils, generators, models\n",
    "%matplotlib inline\n",
    "\n",
    "# TF\n",
    "from tensorflow.keras.models import Sequential\n",
    "from tensorflow.keras import layers\n",
    "from tensorflow.keras.optimizers import RMSprop, Adam\n",
    "from tensorflow.keras.models import load_model\n",
    "from tensorflow.keras.callbacks import EarlyStopping, ModelCheckpoint\n",
    "\n",
    "# TCN\n",
    "from brain2brain.tcn import TCN\n",
    "from tensorflow.keras import Input, Model\n",
    "from tensorflow.keras.layers import Dense, Flatten, GRU, LSTM, RepeatVector, TimeDistributed\n",
    "\n",
    "from scipy.stats import pearsonr\n",
    "\n",
    "from brain2brain import utils, models"
   ]
  },
  {
   "cell_type": "code",
   "execution_count": 18,
   "metadata": {},
   "outputs": [
    {
     "name": "stdout",
     "output_type": "stream",
     "text": [
      "(5429, 114)\n"
     ]
    }
   ],
   "source": [
    "train_bin_norm_paths = utils.get_file_paths(\"/home/tmarcu/brain2brain/brain2brain/train_676_bin_norm_2.txt\")\n",
    "val_bin_norm_paths = utils.get_file_paths(\"/home/tmarcu/brain2brain/brain2brain/val_676_bin_norm_2.txt\")\n",
    "total_electrode_count = utils.get_file_shape(train_bin_norm_paths[0])[1]\n",
    "# Electrodes\n",
    "electrode_count = 1\n",
    "electrode = 5\n",
    "# Training Generator\n",
    "train_generator = generators.FGenerator(file_paths=train_bin_norm_paths,\n",
    "                                        lookback=50,\n",
    "                                        length=10,\n",
    "                                        delay=0,\n",
    "                                        batch_size=1024,\n",
    "                                        sample_period=1,\n",
    "                                        electrodes=[electrode],\n",
    "                                        electrode_output_ix=electrode,\n",
    "                                        shuffle=True)\n",
    "# Validation Generator\n",
    "val_generator = generators.FGenerator(file_paths=val_bin_norm_paths,\n",
    "                                        lookback=50,\n",
    "                                        length=10,\n",
    "                                        delay=0,\n",
    "                                        batch_size=1024,\n",
    "                                        sample_period=1,\n",
    "                                        electrodes=[electrode],\n",
    "                                        electrode_output_ix=electrode,\n",
    "                                        shuffle=False)"
   ]
  },
  {
   "cell_type": "code",
   "execution_count": 19,
   "metadata": {},
   "outputs": [
    {
     "data": {
      "text/plain": [
       "(1024, 10, 1)"
      ]
     },
     "execution_count": 19,
     "metadata": {},
     "output_type": "execute_result"
    }
   ],
   "source": [
    "train_generator[0][1].shape"
   ]
  },
  {
   "cell_type": "code",
   "execution_count": null,
   "metadata": {},
   "outputs": [],
   "source": []
  },
  {
   "cell_type": "code",
   "execution_count": 26,
   "metadata": {},
   "outputs": [
    {
     "name": "stdout",
     "output_type": "stream",
     "text": [
      "Model: \"sequential_9\"\n",
      "_________________________________________________________________\n",
      "Layer (type)                 Output Shape              Param #   \n",
      "=================================================================\n",
      "dense_16 (Dense)             (None, 50, 256)           512       \n",
      "_________________________________________________________________\n",
      "flatten_4 (Flatten)          (None, 12800)             0         \n",
      "_________________________________________________________________\n",
      "dense_17 (Dense)             (None, 10)                128010    \n",
      "=================================================================\n",
      "Total params: 128,522\n",
      "Trainable params: 128,522\n",
      "Non-trainable params: 0\n",
      "_________________________________________________________________\n"
     ]
    }
   ],
   "source": [
    "hidden_units = 256\n",
    "output_dim = 10\n",
    "input_len = 50\n",
    "model = models.define_baseline_nn_model_o2o(hidden_units,input_len, output_dim)\n",
    "model.compile(optimizer=RMSprop(), loss='logcosh')\n",
    "model.summary()"
   ]
  },
  {
   "cell_type": "code",
   "execution_count": 27,
   "metadata": {},
   "outputs": [
    {
     "name": "stdout",
     "output_type": "stream",
     "text": [
      "WARNING:tensorflow:sample_weight modes were coerced from\n",
      "  ...\n",
      "    to  \n",
      "  ['...']\n",
      "WARNING:tensorflow:sample_weight modes were coerced from\n",
      "  ...\n",
      "    to  \n",
      "  ['...']\n",
      "Train for 25 steps, validate for 8 steps\n",
      "Epoch 1/100\n",
      "25/25 [==============================] - 5s 205ms/step - loss: 0.2743 - val_loss: 0.2364\n",
      "Epoch 2/100\n",
      "25/25 [==============================] - 4s 180ms/step - loss: 0.2424 - val_loss: 0.2411\n",
      "Epoch 3/100\n",
      "25/25 [==============================] - 4s 178ms/step - loss: 0.2431 - val_loss: 0.2211\n",
      "Epoch 4/100\n",
      "25/25 [==============================] - 4s 178ms/step - loss: 0.2364 - val_loss: 0.2284\n",
      "Epoch 5/100\n",
      "25/25 [==============================] - 4s 174ms/step - loss: 0.2325 - val_loss: 0.2344\n",
      "Epoch 6/100\n",
      "25/25 [==============================] - 4s 178ms/step - loss: 0.2325 - val_loss: 0.2200\n",
      "Epoch 7/100\n",
      "25/25 [==============================] - 6s 234ms/step - loss: 0.2296 - val_loss: 0.2356\n",
      "Epoch 8/100\n",
      "25/25 [==============================] - 5s 212ms/step - loss: 0.2294 - val_loss: 0.2185\n",
      "Epoch 9/100\n",
      "25/25 [==============================] - 4s 180ms/step - loss: 0.2284 - val_loss: 0.2204\n",
      "Epoch 10/100\n",
      "25/25 [==============================] - 5s 206ms/step - loss: 0.2273 - val_loss: 0.2194\n",
      "Epoch 11/100\n",
      "25/25 [==============================] - 4s 179ms/step - loss: 0.2270 - val_loss: 0.2189\n",
      "Epoch 12/100\n",
      "25/25 [==============================] - 4s 176ms/step - loss: 0.2276 - val_loss: 0.2181\n",
      "Epoch 13/100\n",
      "25/25 [==============================] - 4s 175ms/step - loss: 0.2267 - val_loss: 0.2206\n",
      "Epoch 14/100\n",
      "25/25 [==============================] - 5s 195ms/step - loss: 0.2273 - val_loss: 0.2183\n",
      "Epoch 15/100\n",
      "25/25 [==============================] - 5s 180ms/step - loss: 0.2262 - val_loss: 0.2202\n",
      "Epoch 16/100\n",
      "25/25 [==============================] - 5s 216ms/step - loss: 0.2261 - val_loss: 0.2179\n",
      "Epoch 17/100\n",
      "25/25 [==============================] - 6s 232ms/step - loss: 0.2257 - val_loss: 0.2179\n",
      "Epoch 18/100\n",
      "25/25 [==============================] - 6s 236ms/step - loss: 0.2258 - val_loss: 0.2186\n",
      "Epoch 19/100\n",
      "25/25 [==============================] - 5s 195ms/step - loss: 0.2256 - val_loss: 0.2191\n",
      "Epoch 20/100\n",
      "25/25 [==============================] - 5s 213ms/step - loss: 0.2252 - val_loss: 0.2189\n",
      "Epoch 21/100\n",
      "25/25 [==============================] - 6s 231ms/step - loss: 0.2256 - val_loss: 0.2191\n",
      "Epoch 22/100\n",
      "25/25 [==============================] - 6s 222ms/step - loss: 0.2256 - val_loss: 0.2179\n",
      "Epoch 23/100\n",
      "25/25 [==============================] - 5s 181ms/step - loss: 0.2251 - val_loss: 0.2238\n",
      "Epoch 24/100\n",
      "25/25 [==============================] - 4s 178ms/step - loss: 0.2251 - val_loss: 0.2192\n",
      "Epoch 25/100\n",
      "25/25 [==============================] - 5s 182ms/step - loss: 0.2254 - val_loss: 0.2179\n",
      "Epoch 26/100\n",
      "25/25 [==============================] - 5s 209ms/step - loss: 0.2252 - val_loss: 0.2214\n",
      "Epoch 27/100\n",
      "25/25 [==============================] - 5s 187ms/step - loss: 0.2251 - val_loss: 0.2180\n",
      "Epoch 28/100\n",
      "25/25 [==============================] - 4s 176ms/step - loss: 0.2250 - val_loss: 0.2180\n",
      "Epoch 29/100\n",
      "25/25 [==============================] - 5s 196ms/step - loss: 0.2250 - val_loss: 0.2218\n",
      "Epoch 30/100\n",
      "25/25 [==============================] - 5s 186ms/step - loss: 0.2246 - val_loss: 0.2181\n",
      "Epoch 31/100\n",
      "25/25 [==============================] - 5s 182ms/step - loss: 0.2248 - val_loss: 0.2180\n",
      "Epoch 32/100\n",
      "25/25 [==============================] - 4s 178ms/step - loss: 0.2249 - val_loss: 0.2186\n",
      "Epoch 33/100\n",
      "25/25 [==============================] - 5s 212ms/step - loss: 0.2250 - val_loss: 0.2186\n",
      "Epoch 34/100\n",
      "25/25 [==============================] - 5s 196ms/step - loss: 0.2248 - val_loss: 0.2180\n",
      "Epoch 35/100\n",
      "25/25 [==============================] - 4s 179ms/step - loss: 0.2250 - val_loss: 0.2196\n",
      "Epoch 36/100\n",
      "25/25 [==============================] - 4s 177ms/step - loss: 0.2247 - val_loss: 0.2180\n",
      "Epoch 37/100\n",
      "25/25 [==============================] - 4s 172ms/step - loss: 0.2248 - val_loss: 0.2188\n",
      "Epoch 38/100\n",
      "25/25 [==============================] - 4s 177ms/step - loss: 0.2245 - val_loss: 0.2191\n",
      "Epoch 39/100\n",
      "25/25 [==============================] - 5s 193ms/step - loss: 0.2246 - val_loss: 0.2183\n",
      "Epoch 40/100\n",
      "25/25 [==============================] - 5s 201ms/step - loss: 0.2248 - val_loss: 0.2185\n",
      "Epoch 41/100\n",
      "25/25 [==============================] - 4s 178ms/step - loss: 0.2247 - val_loss: 0.2190\n",
      "Epoch 42/100\n",
      "25/25 [==============================] - 5s 180ms/step - loss: 0.2249 - val_loss: 0.2183\n",
      "Epoch 43/100\n",
      "25/25 [==============================] - 5s 193ms/step - loss: 0.2246 - val_loss: 0.2180\n",
      "Epoch 44/100\n",
      "25/25 [==============================] - 4s 178ms/step - loss: 0.2246 - val_loss: 0.2179\n",
      "Epoch 45/100\n",
      "25/25 [==============================] - 5s 195ms/step - loss: 0.2247 - val_loss: 0.2183\n",
      "Epoch 46/100\n",
      "25/25 [==============================] - 4s 173ms/step - loss: 0.2245 - val_loss: 0.2181\n",
      "Epoch 47/100\n",
      "25/25 [==============================] - 5s 207ms/step - loss: 0.2248 - val_loss: 0.2189\n",
      "Epoch 48/100\n",
      "25/25 [==============================] - 5s 202ms/step - loss: 0.2245 - val_loss: 0.2183\n",
      "Epoch 49/100\n",
      "25/25 [==============================] - 4s 179ms/step - loss: 0.2244 - val_loss: 0.2181\n",
      "Epoch 50/100\n",
      "25/25 [==============================] - 4s 176ms/step - loss: 0.2247 - val_loss: 0.2180\n",
      "Epoch 51/100\n",
      "25/25 [==============================] - 5s 198ms/step - loss: 0.2245 - val_loss: 0.2181\n",
      "Epoch 52/100\n",
      "25/25 [==============================] - 5s 219ms/step - loss: 0.2244 - val_loss: 0.2178\n",
      "Epoch 53/100\n",
      "25/25 [==============================] - 5s 191ms/step - loss: 0.2246 - val_loss: 0.2178\n",
      "Epoch 54/100\n",
      "25/25 [==============================] - 4s 175ms/step - loss: 0.2245 - val_loss: 0.2188\n",
      "Epoch 55/100\n",
      "25/25 [==============================] - 4s 179ms/step - loss: 0.2245 - val_loss: 0.2182\n",
      "Epoch 56/100\n",
      "25/25 [==============================] - 5s 182ms/step - loss: 0.2245 - val_loss: 0.2179\n",
      "Epoch 57/100\n",
      "25/25 [==============================] - 4s 179ms/step - loss: 0.2246 - val_loss: 0.2183\n",
      "Epoch 58/100\n",
      "25/25 [==============================] - 4s 176ms/step - loss: 0.2245 - val_loss: 0.2185\n",
      "Epoch 59/100\n",
      "25/25 [==============================] - 4s 179ms/step - loss: 0.2244 - val_loss: 0.2182\n",
      "Epoch 60/100\n",
      "25/25 [==============================] - 5s 180ms/step - loss: 0.2246 - val_loss: 0.2185\n",
      "Epoch 61/100\n",
      "25/25 [==============================] - 5s 204ms/step - loss: 0.2245 - val_loss: 0.2181\n",
      "Epoch 62/100\n",
      "25/25 [==============================] - 4s 178ms/step - loss: 0.2245 - val_loss: 0.2188\n",
      "Epoch 63/100\n",
      "25/25 [==============================] - 4s 173ms/step - loss: 0.2245 - val_loss: 0.2181\n",
      "Epoch 64/100\n",
      "25/25 [==============================] - 4s 178ms/step - loss: 0.2244 - val_loss: 0.2190\n",
      "Epoch 65/100\n",
      "25/25 [==============================] - 5s 217ms/step - loss: 0.2246 - val_loss: 0.2184\n",
      "Epoch 66/100\n",
      "25/25 [==============================] - 5s 214ms/step - loss: 0.2243 - val_loss: 0.2180\n",
      "Epoch 67/100\n",
      "25/25 [==============================] - 5s 182ms/step - loss: 0.2246 - val_loss: 0.2180\n",
      "Epoch 68/100\n",
      "25/25 [==============================] - 5s 183ms/step - loss: 0.2244 - val_loss: 0.2183\n",
      "Epoch 69/100\n",
      "25/25 [==============================] - 5s 195ms/step - loss: 0.2244 - val_loss: 0.2194\n",
      "Epoch 70/100\n",
      "25/25 [==============================] - 5s 192ms/step - loss: 0.2245 - val_loss: 0.2191\n",
      "Epoch 71/100\n",
      "25/25 [==============================] - 4s 175ms/step - loss: 0.2244 - val_loss: 0.2178\n",
      "Epoch 72/100\n",
      "25/25 [==============================] - 4s 176ms/step - loss: 0.2242 - val_loss: 0.2178\n",
      "Epoch 73/100\n",
      "25/25 [==============================] - 5s 181ms/step - loss: 0.2245 - val_loss: 0.2184\n",
      "Epoch 74/100\n",
      "25/25 [==============================] - 5s 184ms/step - loss: 0.2245 - val_loss: 0.2179\n",
      "Epoch 75/100\n",
      "25/25 [==============================] - 5s 196ms/step - loss: 0.2245 - val_loss: 0.2181\n",
      "Epoch 76/100\n",
      "25/25 [==============================] - 5s 198ms/step - loss: 0.2244 - val_loss: 0.2180\n",
      "Epoch 77/100\n",
      "25/25 [==============================] - 5s 187ms/step - loss: 0.2243 - val_loss: 0.2180\n",
      "Epoch 78/100\n",
      "25/25 [==============================] - 6s 244ms/step - loss: 0.2244 - val_loss: 0.2180\n",
      "Epoch 79/100\n",
      "25/25 [==============================] - 5s 194ms/step - loss: 0.2244 - val_loss: 0.2180\n",
      "Epoch 80/100\n",
      "25/25 [==============================] - 5s 180ms/step - loss: 0.2243 - val_loss: 0.2180\n",
      "Epoch 81/100\n",
      "25/25 [==============================] - 5s 182ms/step - loss: 0.2245 - val_loss: 0.2181\n",
      "Epoch 82/100\n",
      "25/25 [==============================] - 5s 182ms/step - loss: 0.2244 - val_loss: 0.2178\n",
      "Epoch 83/100\n",
      "25/25 [==============================] - 4s 179ms/step - loss: 0.2242 - val_loss: 0.2183\n",
      "Epoch 84/100\n",
      "25/25 [==============================] - 5s 197ms/step - loss: 0.2243 - val_loss: 0.2181\n",
      "Epoch 85/100\n",
      "25/25 [==============================] - 5s 181ms/step - loss: 0.2244 - val_loss: 0.2183\n",
      "Epoch 86/100\n",
      "25/25 [==============================] - 5s 180ms/step - loss: 0.2243 - val_loss: 0.2192\n",
      "Epoch 87/100\n",
      "25/25 [==============================] - 4s 177ms/step - loss: 0.2244 - val_loss: 0.2179\n",
      "Epoch 88/100\n",
      "25/25 [==============================] - 4s 178ms/step - loss: 0.2243 - val_loss: 0.2187\n",
      "Epoch 89/100\n",
      "25/25 [==============================] - 5s 200ms/step - loss: 0.2243 - val_loss: 0.2181\n",
      "Epoch 90/100\n",
      "25/25 [==============================] - 5s 198ms/step - loss: 0.2245 - val_loss: 0.2183\n",
      "Epoch 91/100\n",
      "25/25 [==============================] - 4s 180ms/step - loss: 0.2244 - val_loss: 0.2181\n",
      "Epoch 92/100\n",
      "25/25 [==============================] - 5s 210ms/step - loss: 0.2244 - val_loss: 0.2181\n",
      "Epoch 93/100\n",
      "25/25 [==============================] - 5s 219ms/step - loss: 0.2244 - val_loss: 0.2178\n",
      "Epoch 94/100\n",
      "25/25 [==============================] - 5s 198ms/step - loss: 0.2243 - val_loss: 0.2185\n",
      "Epoch 95/100\n",
      "25/25 [==============================] - 5s 194ms/step - loss: 0.2243 - val_loss: 0.2181\n",
      "Epoch 96/100\n",
      "25/25 [==============================] - 5s 195ms/step - loss: 0.2242 - val_loss: 0.2191\n",
      "Epoch 97/100\n",
      "25/25 [==============================] - 4s 176ms/step - loss: 0.2243 - val_loss: 0.2181\n",
      "Epoch 98/100\n",
      "25/25 [==============================] - 5s 180ms/step - loss: 0.2244 - val_loss: 0.2182\n",
      "Epoch 99/100\n",
      "25/25 [==============================] - 5s 182ms/step - loss: 0.2243 - val_loss: 0.2181\n",
      "Epoch 100/100\n",
      "25/25 [==============================] - 5s 182ms/step - loss: 0.2243 - val_loss: 0.2186\n"
     ]
    }
   ],
   "source": [
    "callback_list = [\n",
    "#         EarlyStopping(\n",
    "#             monitor=\"val_loss\",\n",
    "#             patience=5,\n",
    "#             mode=\"min\"\n",
    "#         )\n",
    "]\n",
    "history = model.fit_generator(generator=train_generator,\n",
    "                              callbacks=callback_list,\n",
    "                              epochs=100,\n",
    "                              validation_data=val_generator)"
   ]
  },
  {
   "cell_type": "code",
   "execution_count": 28,
   "metadata": {},
   "outputs": [
    {
     "data": {
      "text/plain": [
       "<matplotlib.legend.Legend at 0x2b8adbe19210>"
      ]
     },
     "execution_count": 28,
     "metadata": {},
     "output_type": "execute_result"
    },
    {
     "data": {
      "image/png": "[encoded data removed]",
      "text/plain": [
       "<Figure size 432x288 with 1 Axes>"
      ]
     },
     "metadata": {
      "needs_background": "light"
     },
     "output_type": "display_data"
    }
   ],
   "source": [
    "plt.plot(history.history['loss'])\n",
    "plt.plot(history.history['val_loss'])\n",
    "\n",
    "plt.xlabel('Epoch')\n",
    "plt.ylabel('Mean Absolute Error Loss')\n",
    "plt.title('Loss Over Time')\n",
    "plt.legend(['Train','Valid'])"
   ]
  },
  {
   "cell_type": "code",
   "execution_count": null,
   "metadata": {},
   "outputs": [],
   "source": []
  }
 ],
 "metadata": {
  "kernelspec": {
   "display_name": "Python 3",
   "language": "python",
   "name": "python3"
  },
  "language_info": {
   "codemirror_mode": {
    "name": "ipython",
    "version": 3
   },
   "file_extension": ".py",
   "mimetype": "text/x-python",
   "name": "python",
   "nbconvert_exporter": "python",
   "pygments_lexer": "ipython3",
   "version": "3.7.7"
  }
 },
 "nbformat": 4,
 "nbformat_minor": 4
}
