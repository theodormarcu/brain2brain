{
 "cells": [
  {
   "cell_type": "markdown",
   "metadata": {},
   "source": [
    "# Brain2brain Basic - LSTM"
   ]
  },
  {
   "cell_type": "code",
   "execution_count": 1,
   "metadata": {},
   "outputs": [],
   "source": [
    "# Autoreload\n",
    "%load_ext autoreload\n",
    "%autoreload 2"
   ]
  },
  {
   "cell_type": "code",
   "execution_count": 2,
   "metadata": {},
   "outputs": [],
   "source": [
    "# Imports\n",
    "import sys\n",
    "import time\n",
    "import string\n",
    "import json\n",
    "import os\n",
    "# General\n",
    "import numpy as np\n",
    "import pandas as pd\n",
    "import numpy as np\n",
    "import tensorflow as tf\n",
    "import matplotlib.pyplot as plt\n",
    "from contextlib import redirect_stdout\n",
    "from pathlib import Path\n",
    "# brain2brain\n",
    "import sys\n",
    "sys.path.append('../../')\n",
    "from brain2brain import utils\n",
    "from brain2brain import generators\n",
    "# TCN\n",
    "from brain2brain.tcn import TCN\n",
    "from brain2brain.tcn import compiled_tcn\n",
    "# TF\n",
    "from tensorflow.keras.models import Sequential\n",
    "from tensorflow.keras.callbacks import EarlyStopping, ModelCheckpoint\n",
    "from tensorflow.keras import layers\n",
    "from tensorflow.keras.optimizers import RMSprop\n",
    "from tensorflow.keras import Input, Model\n",
    "from tensorflow.keras.layers import Dense, Flatten, GRU, Lambda, TimeDistributed"
   ]
  },
  {
   "cell_type": "code",
   "execution_count": 4,
   "metadata": {},
   "outputs": [],
   "source": [
    "raw_file_paths_676 = utils.get_file_paths_from_root(patient_number=676, sort=True)"
   ]
  },
  {
   "cell_type": "code",
   "execution_count": 9,
   "metadata": {},
   "outputs": [
    {
     "data": {
      "text/plain": [
       "(1623762, 114)"
      ]
     },
     "execution_count": 9,
     "metadata": {},
     "output_type": "execute_result"
    }
   ],
   "source": [
    "data = np.load(raw_file_paths_676[0])\n",
    "data.shape"
   ]
  },
  {
   "cell_type": "code",
   "execution_count": 6,
   "metadata": {},
   "outputs": [
    {
     "name": "stdout",
     "output_type": "stream",
     "text": [
      "Calculating mean per electrode\n",
      "Calculating std per electrode\n",
      "Std per electrode is [71.13064293 70.84265295 69.40774496 64.33098207 64.16377832 75.34519979\n",
      " 63.29284364 77.10892117 72.81626813 64.62068213 65.22269059 62.14632494\n",
      " 60.93759175 63.46678688 65.64195109 72.32317576 68.18851095 66.38626671\n",
      " 60.07914386 61.48605238 65.7188924  64.49431583 70.44651055 79.79647673\n",
      " 64.535309   64.70682381 59.75301302 61.07904396 64.1099533  68.21511705\n",
      " 68.97148854 67.06749177 79.24131611 72.0475781  62.34674237 73.54098663\n",
      " 71.17913574 68.91193581 69.06073784 66.62026785 80.64623515 65.97039115\n",
      " 65.54457069 66.25036309 71.76654797 73.82055264 66.48882973 75.66503325\n",
      " 79.76890838 67.27098858 65.89716884 67.0019205  61.56665798 68.3622989\n",
      " 66.61012402 79.63358968 85.02525622 66.70177034 65.67046824 70.33367655\n",
      " 68.2686621  67.07376913 67.6632362  66.78017962 96.71299928 91.54459015\n",
      " 87.12959038 68.86423935 74.1839993  88.43551036 80.32949601 69.18538599\n",
      " 74.67441157 65.43992437 66.34349318 67.15815106 63.98806216 68.46010453\n",
      " 69.97385175 69.37599242 70.24994169 68.21080302 66.6287039  69.88745745\n",
      " 68.83854097 69.63165986 67.24299597 74.38107999 67.12823097 67.77027097\n",
      " 69.85307777 64.2411082  62.55860362 61.03190462 64.78527086 67.69778669\n",
      " 64.57379684 62.01853403 60.59900401 61.28266405 59.34423967 60.41270189\n",
      " 60.03177843 65.43261001 68.95198105 62.97113937 63.06443507 68.7019438\n",
      " 68.31345046 67.09586878 64.03827395 62.43675566 63.22634278 65.19038142]\n"
     ]
    }
   ],
   "source": [
    "mean, std = utils.get_mean_std(raw_file_paths_676)"
   ]
  },
  {
   "cell_type": "code",
   "execution_count": 10,
   "metadata": {},
   "outputs": [
    {
     "data": {
      "text/plain": [
       "(1623762, 114)"
      ]
     },
     "execution_count": 10,
     "metadata": {},
     "output_type": "execute_result"
    }
   ],
   "source": [
    "l = data - mean\n"
   ]
  },
  {
   "cell_type": "code",
   "execution_count": 18,
   "metadata": {},
   "outputs": [
    {
     "name": "stdout",
     "output_type": "stream",
     "text": [
      "(1623750, 114)\n"
     ]
    }
   ],
   "source": [
    "new_data = data[:(data.shape[0] // 25) * 25]\n",
    "print(new_data.shape)\n",
    "# new_data = new_data.reshape(-1, avg_timestep_count, data.shape[1]).mean(axis=1)"
   ]
  },
  {
   "cell_type": "code",
   "execution_count": 20,
   "metadata": {},
   "outputs": [
    {
     "name": "stdout",
     "output_type": "stream",
     "text": [
      "(64950, 25, 114)\n"
     ]
    }
   ],
   "source": [
    "new_data = new_data.reshape(-1, 25, 114)\n",
    "print(new_data.shape)"
   ]
  },
  {
   "cell_type": "code",
   "execution_count": 3,
   "metadata": {},
   "outputs": [],
   "source": [
    "file_path_bin_norm_676 = \"/home/tmarcu/brain2brain/brain2brain/train_676_bin_norm_files_projects.txt\"\n",
    "file_path_norm_676 = \"/home/tmarcu/brain2brain/brain2brain/train_676_norm_files_projects.txt\""
   ]
  },
  {
   "cell_type": "code",
   "execution_count": 4,
   "metadata": {},
   "outputs": [],
   "source": [
    "all_bin_norm_676 = utils.get_file_paths(file_path_bin_norm_676)\n",
    "all_norm_676 = utils.get_file_paths(file_path_norm_676)"
   ]
  },
  {
   "cell_type": "code",
   "execution_count": 20,
   "metadata": {},
   "outputs": [
    {
     "data": {
      "text/plain": [
       "array([[-1,  0,  1],\n",
       "       [ 2,  3,  4],\n",
       "       [ 5,  6,  7],\n",
       "       [ 8,  9, 10]])"
      ]
     },
     "execution_count": 20,
     "metadata": {},
     "output_type": "execute_result"
    }
   ],
   "source": [
    "m = np.array([[0,1,2],[3,4,5], [6, 7, 8], [9, 10, 11]])\n",
    "m - 1"
   ]
  },
  {
   "cell_type": "code",
   "execution_count": 31,
   "metadata": {},
   "outputs": [
    {
     "data": {
      "text/plain": [
       "array([[ 0,  1,  2],\n",
       "       [ 3,  4,  5],\n",
       "       [ 6,  7,  8],\n",
       "       [ 9, 10, 11]])"
      ]
     },
     "execution_count": 31,
     "metadata": {},
     "output_type": "execute_result"
    }
   ],
   "source": [
    "m"
   ]
  },
  {
   "cell_type": "code",
   "execution_count": 30,
   "metadata": {},
   "outputs": [
    {
     "data": {
      "text/plain": [
       "array([ 94, 126, 166])"
      ]
     },
     "execution_count": 30,
     "metadata": {},
     "output_type": "execute_result"
    }
   ],
   "source": [
    "np.sum(abs(m - 1) ** 2, axis = 0)"
   ]
  },
  {
   "cell_type": "code",
   "execution_count": 85,
   "metadata": {},
   "outputs": [
    {
     "name": "stdout",
     "output_type": "stream",
     "text": [
      "Calculating mean per electrode\n",
      "Calculating std per electrode\n",
      "[0. 0. 0. 0. 0. 0. 0. 0. 0. 0. 0. 0. 0. 0. 0. 0. 0. 0. 0. 0. 0. 0. 0. 0.\n",
      " 0. 0. 0. 0. 0. 0. 0. 0. 0. 0. 0. 0. 0. 0. 0. 0. 0. 0. 0. 0. 0. 0. 0. 0.\n",
      " 0. 0. 0. 0. 0. 0. 0. 0. 0. 0. 0. 0. 0. 0. 0. 0. 0. 0. 0. 0. 0. 0. 0. 0.\n",
      " 0. 0. 0. 0. 0. 0. 0. 0. 0. 0. 0. 0. 0. 0. 0. 0. 0. 0. 0. 0. 0. 0. 0. 0.\n",
      " 0. 0. 0. 0. 0. 0. 0. 0. 0. 0. 0. 0. 0. 0. 0. 0. 0. 0.]\n",
      "(36853, 114)\n",
      "[36853. 36853. 36853. 36853. 36853. 36853. 36853. 36853. 36853. 36853.\n",
      " 36853. 36853. 36853. 36853. 36853. 36853. 36853. 36853. 36853. 36853.\n",
      " 36853. 36853. 36853. 36853. 36853. 36853. 36853. 36853. 36853. 36853.\n",
      " 36853. 36853. 36853. 36853. 36853. 36853. 36853. 36853. 36853. 36853.\n",
      " 36853. 36853. 36853. 36853. 36853. 36853. 36853. 36853. 36853. 36853.\n",
      " 36853. 36853. 36853. 36853. 36853. 36853. 36853. 36853. 36853. 36853.\n",
      " 36853. 36853. 36853. 36853. 36853. 36853. 36853. 36853. 36853. 36853.\n",
      " 36853. 36853. 36853. 36853. 36853. 36853. 36853. 36853. 36853. 36853.\n",
      " 36853. 36853. 36853. 36853. 36853. 36853. 36853. 36853. 36853. 36853.\n",
      " 36853. 36853. 36853. 36853. 36853. 36853. 36853. 36853. 36853. 36853.\n",
      " 36853. 36853. 36853. 36853. 36853. 36853. 36853. 36853. 36853. 36853.\n",
      " 36853. 36853. 36853. 36853.]\n",
      "[36853. 36853. 36853. 36853. 36853. 36853. 36853. 36853. 36853. 36853.\n",
      " 36853. 36853. 36853. 36853. 36853. 36853. 36853. 36853. 36853. 36853.\n",
      " 36853. 36853. 36853. 36853. 36853. 36853. 36853. 36853. 36853. 36853.\n",
      " 36853. 36853. 36853. 36853. 36853. 36853. 36853. 36853. 36853. 36853.\n",
      " 36853. 36853. 36853. 36853. 36853. 36853. 36853. 36853. 36853. 36853.\n",
      " 36853. 36853. 36853. 36853. 36853. 36853. 36853. 36853. 36853. 36853.\n",
      " 36853. 36853. 36853. 36853. 36853. 36853. 36853. 36853. 36853. 36853.\n",
      " 36853. 36853. 36853. 36853. 36853. 36853. 36853. 36853. 36853. 36853.\n",
      " 36853. 36853. 36853. 36853. 36853. 36853. 36853. 36853. 36853. 36853.\n",
      " 36853. 36853. 36853. 36853. 36853. 36853. 36853. 36853. 36853. 36853.\n",
      " 36853. 36853. 36853. 36853. 36853. 36853. 36853. 36853. 36853. 36853.\n",
      " 36853. 36853. 36853. 36853.]\n",
      "(30031, 114)\n",
      "[30031. 30031. 30031. 30031. 30031. 30031. 30031. 30031. 30031. 30031.\n",
      " 30031. 30031. 30031. 30031. 30031. 30031. 30031. 30031. 30031. 30031.\n",
      " 30031. 30031. 30031. 30031. 30031. 30031. 30031. 30031. 30031. 30031.\n",
      " 30031. 30031. 30031. 30031. 30031. 30031. 30031. 30031. 30031. 30031.\n",
      " 30031. 30031. 30031. 30031. 30031. 30031. 30031. 30031. 30031. 30031.\n",
      " 30031. 30031. 30031. 30031. 30031. 30031. 30031. 30031. 30031. 30031.\n",
      " 30031. 30031. 30031. 30031. 30031. 30031. 30031. 30031. 30031. 30031.\n",
      " 30031. 30031. 30031. 30031. 30031. 30031. 30031. 30031. 30031. 30031.\n",
      " 30031. 30031. 30031. 30031. 30031. 30031. 30031. 30031. 30031. 30031.\n",
      " 30031. 30031. 30031. 30031. 30031. 30031. 30031. 30031. 30031. 30031.\n",
      " 30031. 30031. 30031. 30031. 30031. 30031. 30031. 30031. 30031. 30031.\n",
      " 30031. 30031. 30031. 30031.]\n",
      "[66884. 66884. 66884. 66884. 66884. 66884. 66884. 66884. 66884. 66884.\n",
      " 66884. 66884. 66884. 66884. 66884. 66884. 66884. 66884. 66884. 66884.\n",
      " 66884. 66884. 66884. 66884. 66884. 66884. 66884. 66884. 66884. 66884.\n",
      " 66884. 66884. 66884. 66884. 66884. 66884. 66884. 66884. 66884. 66884.\n",
      " 66884. 66884. 66884. 66884. 66884. 66884. 66884. 66884. 66884. 66884.\n",
      " 66884. 66884. 66884. 66884. 66884. 66884. 66884. 66884. 66884. 66884.\n",
      " 66884. 66884. 66884. 66884. 66884. 66884. 66884. 66884. 66884. 66884.\n",
      " 66884. 66884. 66884. 66884. 66884. 66884. 66884. 66884. 66884. 66884.\n",
      " 66884. 66884. 66884. 66884. 66884. 66884. 66884. 66884. 66884. 66884.\n",
      " 66884. 66884. 66884. 66884. 66884. 66884. 66884. 66884. 66884. 66884.\n",
      " 66884. 66884. 66884. 66884. 66884. 66884. 66884. 66884. 66884. 66884.\n",
      " 66884. 66884. 66884. 66884.]\n",
      "(1288999, 114)\n",
      "[1288999. 1288999. 1288999. 1288999. 1288999. 1288999. 1288999. 1288999.\n",
      " 1288999. 1288999. 1288999. 1288999. 1288999. 1288999. 1288999. 1288999.\n",
      " 1288999. 1288999. 1288999. 1288999. 1288999. 1288999. 1288999. 1288999.\n",
      " 1288999. 1288999. 1288999. 1288999. 1288999. 1288999. 1288999. 1288999.\n",
      " 1288999. 1288999. 1288999. 1288999. 1288999. 1288999. 1288999. 1288999.\n",
      " 1288999. 1288999. 1288999. 1288999. 1288999. 1288999. 1288999. 1288999.\n",
      " 1288999. 1288999. 1288999. 1288999. 1288999. 1288999. 1288999. 1288999.\n",
      " 1288999. 1288999. 1288999. 1288999. 1288999. 1288999. 1288999. 1288999.\n",
      " 1288999. 1288999. 1288999. 1288999. 1288999. 1288999. 1288999. 1288999.\n",
      " 1288999. 1288999. 1288999. 1288999. 1288999. 1288999. 1288999. 1288999.\n",
      " 1288999. 1288999. 1288999. 1288999. 1288999. 1288999. 1288999. 1288999.\n",
      " 1288999. 1288999. 1288999. 1288999. 1288999. 1288999. 1288999. 1288999.\n",
      " 1288999. 1288999. 1288999. 1288999. 1288999. 1288999. 1288999. 1288999.\n",
      " 1288999. 1288999. 1288999. 1288999. 1288999. 1288999. 1288999. 1288999.\n",
      " 1288999. 1288999.]\n",
      "[1355883. 1355883. 1355883. 1355883. 1355883. 1355883. 1355883. 1355883.\n",
      " 1355883. 1355883. 1355883. 1355883. 1355883. 1355883. 1355883. 1355883.\n",
      " 1355883. 1355883. 1355883. 1355883. 1355883. 1355883. 1355883. 1355883.\n",
      " 1355883. 1355883. 1355883. 1355883. 1355883. 1355883. 1355883. 1355883.\n",
      " 1355883. 1355883. 1355883. 1355883. 1355883. 1355883. 1355883. 1355883.\n",
      " 1355883. 1355883. 1355883. 1355883. 1355883. 1355883. 1355883. 1355883.\n",
      " 1355883. 1355883. 1355883. 1355883. 1355883. 1355883. 1355883. 1355883.\n",
      " 1355883. 1355883. 1355883. 1355883. 1355883. 1355883. 1355883. 1355883.\n",
      " 1355883. 1355883. 1355883. 1355883. 1355883. 1355883. 1355883. 1355883.\n",
      " 1355883. 1355883. 1355883. 1355883. 1355883. 1355883. 1355883. 1355883.\n",
      " 1355883. 1355883. 1355883. 1355883. 1355883. 1355883. 1355883. 1355883.\n",
      " 1355883. 1355883. 1355883. 1355883. 1355883. 1355883. 1355883. 1355883.\n",
      " 1355883. 1355883. 1355883. 1355883. 1355883. 1355883. 1355883. 1355883.\n",
      " 1355883. 1355883. 1355883. 1355883. 1355883. 1355883. 1355883. 1355883.\n",
      " 1355883. 1355883.]\n",
      "(409822, 114)\n",
      "[409822. 409822. 409822. 409822. 409822. 409822. 409822. 409822. 409822.\n",
      " 409822. 409822. 409822. 409822. 409822. 409822. 409822. 409822. 409822.\n",
      " 409822. 409822. 409822. 409822. 409822. 409822. 409822. 409822. 409822.\n",
      " 409822. 409822. 409822. 409822. 409822. 409822. 409822. 409822. 409822.\n",
      " 409822. 409822. 409822. 409822. 409822. 409822. 409822. 409822. 409822.\n",
      " 409822. 409822. 409822. 409822. 409822. 409822. 409822. 409822. 409822.\n",
      " 409822. 409822. 409822. 409822. 409822. 409822. 409822. 409822. 409822.\n",
      " 409822. 409822. 409822. 409822. 409822. 409822. 409822. 409822. 409822.\n",
      " 409822. 409822. 409822. 409822. 409822. 409822. 409822. 409822. 409822.\n",
      " 409822. 409822. 409822. 409822. 409822. 409822. 409822. 409822. 409822.\n",
      " 409822. 409822. 409822. 409822. 409822. 409822. 409822. 409822. 409822.\n",
      " 409822. 409822. 409822. 409822. 409822. 409822. 409822. 409822. 409822.\n",
      " 409822. 409822. 409822. 409822. 409822. 409822.]\n",
      "[1765705. 1765705. 1765705. 1765705. 1765705. 1765705. 1765705. 1765705.\n",
      " 1765705. 1765705. 1765705. 1765705. 1765705. 1765705. 1765705. 1765705.\n",
      " 1765705. 1765705. 1765705. 1765705. 1765705. 1765705. 1765705. 1765705.\n",
      " 1765705. 1765705. 1765705. 1765705. 1765705. 1765705. 1765705. 1765705.\n",
      " 1765705. 1765705. 1765705. 1765705. 1765705. 1765705. 1765705. 1765705.\n",
      " 1765705. 1765705. 1765705. 1765705. 1765705. 1765705. 1765705. 1765705.\n",
      " 1765705. 1765705. 1765705. 1765705. 1765705. 1765705. 1765705. 1765705.\n",
      " 1765705. 1765705. 1765705. 1765705. 1765705. 1765705. 1765705. 1765705.\n",
      " 1765705. 1765705. 1765705. 1765705. 1765705. 1765705. 1765705. 1765705.\n",
      " 1765705. 1765705. 1765705. 1765705. 1765705. 1765705. 1765705. 1765705.\n",
      " 1765705. 1765705. 1765705. 1765705. 1765705. 1765705. 1765705. 1765705.\n",
      " 1765705. 1765705. 1765705. 1765705. 1765705. 1765705. 1765705. 1765705.\n",
      " 1765705. 1765705. 1765705. 1765705. 1765705. 1765705. 1765705. 1765705.\n",
      " 1765705. 1765705. 1765705. 1765705. 1765705. 1765705. 1765705. 1765705.\n",
      " 1765705. 1765705.]\n",
      "(1073405, 114)\n",
      "[1073405. 1073405. 1073405. 1073405. 1073405. 1073405. 1073405. 1073405.\n",
      " 1073405. 1073405. 1073405. 1073405. 1073405. 1073405. 1073405. 1073405.\n",
      " 1073405. 1073405. 1073405. 1073405. 1073405. 1073405. 1073405. 1073405.\n",
      " 1073405. 1073405. 1073405. 1073405. 1073405. 1073405. 1073405. 1073405.\n",
      " 1073405. 1073405. 1073405. 1073405. 1073405. 1073405. 1073405. 1073405.\n",
      " 1073405. 1073405. 1073405. 1073405. 1073405. 1073405. 1073405. 1073405.\n",
      " 1073405. 1073405. 1073405. 1073405. 1073405. 1073405. 1073405. 1073405.\n",
      " 1073405. 1073405. 1073405. 1073405. 1073405. 1073405. 1073405. 1073405.\n",
      " 1073405. 1073405. 1073405. 1073405. 1073405. 1073405. 1073405. 1073405.\n",
      " 1073405. 1073405. 1073405. 1073405. 1073405. 1073405. 1073405. 1073405.\n",
      " 1073405. 1073405. 1073405. 1073405. 1073405. 1073405. 1073405. 1073405.\n",
      " 1073405. 1073405. 1073405. 1073405. 1073405. 1073405. 1073405. 1073405.\n",
      " 1073405. 1073405. 1073405. 1073405. 1073405. 1073405. 1073405. 1073405.\n",
      " 1073405. 1073405. 1073405. 1073405. 1073405. 1073405. 1073405. 1073405.\n",
      " 1073405. 1073405.]\n",
      "[2839110. 2839110. 2839110. 2839110. 2839110. 2839110. 2839110. 2839110.\n",
      " 2839110. 2839110. 2839110. 2839110. 2839110. 2839110. 2839110. 2839110.\n",
      " 2839110. 2839110. 2839110. 2839110. 2839110. 2839110. 2839110. 2839110.\n",
      " 2839110. 2839110. 2839110. 2839110. 2839110. 2839110. 2839110. 2839110.\n",
      " 2839110. 2839110. 2839110. 2839110. 2839110. 2839110. 2839110. 2839110.\n",
      " 2839110. 2839110. 2839110. 2839110. 2839110. 2839110. 2839110. 2839110.\n",
      " 2839110. 2839110. 2839110. 2839110. 2839110. 2839110. 2839110. 2839110.\n",
      " 2839110. 2839110. 2839110. 2839110. 2839110. 2839110. 2839110. 2839110.\n",
      " 2839110. 2839110. 2839110. 2839110. 2839110. 2839110. 2839110. 2839110.\n",
      " 2839110. 2839110. 2839110. 2839110. 2839110. 2839110. 2839110. 2839110.\n",
      " 2839110. 2839110. 2839110. 2839110. 2839110. 2839110. 2839110. 2839110.\n",
      " 2839110. 2839110. 2839110. 2839110. 2839110. 2839110. 2839110. 2839110.\n",
      " 2839110. 2839110. 2839110. 2839110. 2839110. 2839110. 2839110. 2839110.\n",
      " 2839110. 2839110. 2839110. 2839110. 2839110. 2839110. 2839110. 2839110.\n",
      " 2839110. 2839110.]\n",
      "Std per electrode is [1. 1. 1. 1. 1. 1. 1. 1. 1. 1. 1. 1. 1. 1. 1. 1. 1. 1. 1. 1. 1. 1. 1. 1.\n",
      " 1. 1. 1. 1. 1. 1. 1. 1. 1. 1. 1. 1. 1. 1. 1. 1. 1. 1. 1. 1. 1. 1. 1. 1.\n",
      " 1. 1. 1. 1. 1. 1. 1. 1. 1. 1. 1. 1. 1. 1. 1. 1. 1. 1. 1. 1. 1. 1. 1. 1.\n",
      " 1. 1. 1. 1. 1. 1. 1. 1. 1. 1. 1. 1. 1. 1. 1. 1. 1. 1. 1. 1. 1. 1. 1. 1.\n",
      " 1. 1. 1. 1. 1. 1. 1. 1. 1. 1. 1. 1. 1. 1. 1. 1. 1. 1.]\n"
     ]
    },
    {
     "data": {
      "text/plain": [
       "(array([ 1.23082557e-17,  1.05688824e-17,  7.44802132e-18,  3.06379963e-17,\n",
       "         1.42603580e-17,  2.50369641e-17,  1.35095494e-17, -1.00658406e-17,\n",
       "        -5.92638256e-18,  3.82624577e-17,  3.95676133e-18, -3.74803654e-17,\n",
       "        -5.00038528e-18, -6.83761393e-17, -7.59067496e-17,  2.08975061e-17,\n",
       "         4.10442035e-19, -2.04945721e-17,  2.08849926e-17,  9.11481642e-18,\n",
       "        -5.17156964e-17,  1.20229484e-17, -7.13768710e-18,  9.87563580e-18,\n",
       "         2.36241926e-17,  7.91051942e-17,  4.12631894e-17,  4.43352479e-17,\n",
       "        -4.47206630e-17, -1.63917159e-17,  5.14028595e-17,  2.60180207e-17,\n",
       "         2.94316972e-18,  1.56105622e-17,  2.35003092e-17,  3.38214248e-17,\n",
       "         2.26794251e-17, -5.76996410e-17, -6.74226124e-18, -5.69970093e-17,\n",
       "         5.37253608e-17, -3.13612753e-17,  3.94424785e-17, -1.69282313e-17,\n",
       "         1.95860937e-17,  6.12409549e-18, -3.86678943e-17, -7.51309140e-18,\n",
       "         3.74002791e-17, -5.28143797e-17,  1.28638540e-18,  2.50156912e-17,\n",
       "         5.93138795e-18,  6.00897150e-18,  2.81002632e-17, -5.03792571e-17,\n",
       "        -7.04759007e-18, -3.06905529e-17, -3.67295568e-17, -1.11057106e-17,\n",
       "        -2.29697378e-17,  6.03850331e-17, -3.43544989e-17,  2.89411689e-17,\n",
       "         4.44178368e-17,  5.16806587e-17,  3.05028508e-17,  2.74157761e-17,\n",
       "         1.12000622e-16,  3.23523426e-17,  1.29889888e-17, -9.02972478e-18,\n",
       "         6.01597905e-17, -4.59494864e-18, -2.91664115e-17, -1.15123985e-17,\n",
       "        -1.55867866e-17, -4.78515348e-17, -1.56180702e-17,  1.22431856e-17,\n",
       "         1.48559995e-17,  2.50820127e-17, -3.66594813e-17, -2.02017568e-17,\n",
       "        -6.93622013e-18, -1.36146626e-18,  2.03419077e-17,  1.21030346e-17,\n",
       "         5.78372892e-17, -1.22381802e-18, -1.18958115e-16,  5.23413703e-17,\n",
       "         1.16437901e-17, -4.87324836e-17,  2.29397055e-17, -5.72022303e-18,\n",
       "        -1.05350960e-16,  2.82203926e-17,  1.66879725e-17, -6.62413402e-17,\n",
       "         4.62247829e-18, -2.79307056e-17,  3.40666889e-17,  5.32848864e-17,\n",
       "        -9.71045791e-19, -5.84679685e-17, -4.31765000e-17,  7.58266633e-17,\n",
       "         3.40904645e-17,  1.45106276e-17, -3.25976068e-17, -4.55290336e-17,\n",
       "        -3.76555540e-17, -6.73725585e-18]),\n",
       " array([1., 1., 1., 1., 1., 1., 1., 1., 1., 1., 1., 1., 1., 1., 1., 1., 1.,\n",
       "        1., 1., 1., 1., 1., 1., 1., 1., 1., 1., 1., 1., 1., 1., 1., 1., 1.,\n",
       "        1., 1., 1., 1., 1., 1., 1., 1., 1., 1., 1., 1., 1., 1., 1., 1., 1.,\n",
       "        1., 1., 1., 1., 1., 1., 1., 1., 1., 1., 1., 1., 1., 1., 1., 1., 1.,\n",
       "        1., 1., 1., 1., 1., 1., 1., 1., 1., 1., 1., 1., 1., 1., 1., 1., 1.,\n",
       "        1., 1., 1., 1., 1., 1., 1., 1., 1., 1., 1., 1., 1., 1., 1., 1., 1.,\n",
       "        1., 1., 1., 1., 1., 1., 1., 1., 1., 1., 1., 1.]))"
      ]
     },
     "execution_count": 85,
     "metadata": {},
     "output_type": "execute_result"
    }
   ],
   "source": [
    "utils.get_std(all_norm_676)"
   ]
  },
  {
   "cell_type": "code",
   "execution_count": null,
   "metadata": {},
   "outputs": [],
   "source": []
  },
  {
   "cell_type": "code",
   "execution_count": 35,
   "metadata": {},
   "outputs": [],
   "source": [
    "# Split the files in train and validation\n",
    "train_bin_norm_676, val_bin_norm_676 = utils.split_file_paths(file_paths=all_bin_norm_676, split_ratio = 0.8)\n",
    "train_norm_676, val_norm_676 = utils.split_file_paths(file_paths=all_norm_676, split_ratio = 0.8)"
   ]
  },
  {
   "cell_type": "code",
   "execution_count": 17,
   "metadata": {},
   "outputs": [
    {
     "name": "stdout",
     "output_type": "stream",
     "text": [
      "Bin_Norm Shape Train:\n",
      "Path: /projects/HASSON/247/data/binned_conversations/676_bin_norm/binned_norm_NY676_618_Part8_conversation1/binned_norm_NY676_618_Part8_conversation1.npy. Rows: 1987\n",
      "Path: /projects/HASSON/247/data/binned_conversations/676_bin_norm/binned_norm_NY676_618_Part6_conversation1/binned_norm_NY676_618_Part6_conversation1.npy. Rows: 40965\n",
      "Path: /projects/HASSON/247/data/binned_conversations/676_bin_norm/binned_norm_NY676_616_Part1_conversation3/binned_norm_NY676_616_Part1_conversation3.npy. Rows: 1857\n",
      "Path: /projects/HASSON/247/data/binned_conversations/676_bin_norm/binned_norm_NY676_620_Part7_conversation1/binned_norm_NY676_620_Part7_conversation1.npy. Rows: 36037\n",
      "Path: /projects/HASSON/247/data/binned_conversations/676_bin_norm/binned_norm_NY676_618_Part4_conversation1/binned_norm_NY676_618_Part4_conversation1.npy. Rows: 8010\n",
      "Path: /projects/HASSON/247/data/binned_conversations/676_bin_norm/binned_norm_NY676_621_Part2-one_conversation1/binned_norm_NY676_621_Part2-one_conversation1.npy. Rows: 33158\n",
      "Path: /projects/HASSON/247/data/binned_conversations/676_bin_norm/binned_norm_NY676_619_Part2_conversation1/binned_norm_NY676_619_Part2_conversation1.npy. Rows: 4256\n",
      "Path: /projects/HASSON/247/data/binned_conversations/676_bin_norm/binned_norm_NY676_618_Part4_conversation6/binned_norm_NY676_618_Part4_conversation6.npy. Rows: 961\n",
      "Path: /projects/HASSON/247/data/binned_conversations/676_bin_norm/binned_norm_NY676_617_Part1_conversation4/binned_norm_NY676_617_Part1_conversation4.npy. Rows: 16392\n",
      "Path: /projects/HASSON/247/data/binned_conversations/676_bin_norm/binned_norm_NY676_617_Part0_conversation1/binned_norm_NY676_617_Part0_conversation1.npy. Rows: 469\n",
      "Path: /projects/HASSON/247/data/binned_conversations/676_bin_norm/binned_norm_NY676_616_Part1_conversation5/binned_norm_NY676_616_Part1_conversation5.npy. Rows: 34965\n",
      "Path: /projects/HASSON/247/data/binned_conversations/676_bin_norm/binned_norm_NY676_616_Part1_conversation1/binned_norm_NY676_616_Part1_conversation1.npy. Rows: 64950\n",
      "Path: /projects/HASSON/247/data/binned_conversations/676_bin_norm/binned_norm_NY676_620_Part3-one_conversation5/binned_norm_NY676_620_Part3-one_conversation5.npy. Rows: 6438\n",
      "Path: /projects/HASSON/247/data/binned_conversations/676_bin_norm/binned_norm_NY676_619_Part2_conversation2/binned_norm_NY676_619_Part2_conversation2.npy. Rows: 80185\n",
      "Path: /projects/HASSON/247/data/binned_conversations/676_bin_norm/binned_norm_NY676_619_Part3_conversation2/binned_norm_NY676_619_Part3_conversation2.npy. Rows: 131266\n",
      "Path: /projects/HASSON/247/data/binned_conversations/676_bin_norm/binned_norm_NY676_618_Part6_conversation3/binned_norm_NY676_618_Part6_conversation3.npy. Rows: 26645\n",
      "Path: /projects/HASSON/247/data/binned_conversations/676_bin_norm/binned_norm_NY676_619_Part5-two_conversation3/binned_norm_NY676_619_Part5-two_conversation3.npy. Rows: 8369\n",
      "Path: /projects/HASSON/247/data/binned_conversations/676_bin_norm/binned_norm_NY676_621_Part2-two_conversation1/binned_norm_NY676_621_Part2-two_conversation1.npy. Rows: 64792\n",
      "Path: /projects/HASSON/247/data/binned_conversations/676_bin_norm/binned_norm_NY676_617_Part2_conversation3/binned_norm_NY676_617_Part2_conversation3.npy. Rows: 13098\n",
      "Path: /projects/HASSON/247/data/binned_conversations/676_bin_norm/binned_norm_NY676_617_Part2_conversation6/binned_norm_NY676_617_Part2_conversation6.npy. Rows: 18760\n",
      "Path: /projects/HASSON/247/data/binned_conversations/676_bin_norm/binned_norm_NY676_618_Part6_conversation2/binned_norm_NY676_618_Part6_conversation2.npy. Rows: 152686\n",
      "Path: /projects/HASSON/247/data/binned_conversations/676_bin_norm/binned_norm_NY676_620_Part3-one_conversation1/binned_norm_NY676_620_Part3-one_conversation1.npy. Rows: 58883\n",
      "Path: /projects/HASSON/247/data/binned_conversations/676_bin_norm/binned_norm_NY676_618_Part5-one_conversation2/binned_norm_NY676_618_Part5-one_conversation2.npy. Rows: 14874\n",
      "Path: /projects/HASSON/247/data/binned_conversations/676_bin_norm/binned_norm_NY676_620_Part5-two_conversation2/binned_norm_NY676_620_Part5-two_conversation2.npy. Rows: 6290\n",
      "Path: /projects/HASSON/247/data/binned_conversations/676_bin_norm/binned_norm_NY676_621_Part1_conversation1/binned_norm_NY676_621_Part1_conversation1.npy. Rows: 870\n",
      "Path: /projects/HASSON/247/data/binned_conversations/676_bin_norm/binned_norm_NY676_616_Part2-two_conversation1/binned_norm_NY676_616_Part2-two_conversation1.npy. Rows: 47104\n",
      "Path: /projects/HASSON/247/data/binned_conversations/676_bin_norm/binned_norm_NY676_618_Part7_conversation6/binned_norm_NY676_618_Part7_conversation6.npy. Rows: 25400\n",
      "Path: /projects/HASSON/247/data/binned_conversations/676_bin_norm/binned_norm_NY676_620_Part5-two_conversation1/binned_norm_NY676_620_Part5-two_conversation1.npy. Rows: 17496\n",
      "Path: /projects/HASSON/247/data/binned_conversations/676_bin_norm/binned_norm_NY676_619_Part4_conversation1/binned_norm_NY676_619_Part4_conversation1.npy. Rows: 102096\n",
      "Path: /projects/HASSON/247/data/binned_conversations/676_bin_norm/binned_norm_NY676_618_Part4_conversation7/binned_norm_NY676_618_Part4_conversation7.npy. Rows: 4080\n",
      "Path: /projects/HASSON/247/data/binned_conversations/676_bin_norm/binned_norm_NY676_617_Part1_conversation2/binned_norm_NY676_617_Part1_conversation2.npy. Rows: 451\n",
      "Path: /projects/HASSON/247/data/binned_conversations/676_bin_norm/binned_norm_NY676_618_Part7_conversation2/binned_norm_NY676_618_Part7_conversation2.npy. Rows: 16620\n",
      "Path: /projects/HASSON/247/data/binned_conversations/676_bin_norm/binned_norm_NY676_619_Part3_conversation3/binned_norm_NY676_619_Part3_conversation3.npy. Rows: 51954\n",
      "Path: /projects/HASSON/247/data/binned_conversations/676_bin_norm/binned_norm_NY676_618_Part7_conversation3/binned_norm_NY676_618_Part7_conversation3.npy. Rows: 30051\n",
      "Path: /projects/HASSON/247/data/binned_conversations/676_bin_norm/binned_norm_NY676_618_Part4_conversation4/binned_norm_NY676_618_Part4_conversation4.npy. Rows: 643\n",
      "Path: /projects/HASSON/247/data/binned_conversations/676_bin_norm/binned_norm_NY676_617_Part1_conversation1/binned_norm_NY676_617_Part1_conversation1.npy. Rows: 41368\n",
      "Path: /projects/HASSON/247/data/binned_conversations/676_bin_norm/binned_norm_NY676_619_Part2_conversation3/binned_norm_NY676_619_Part2_conversation3.npy. Rows: 42455\n",
      "Path: /projects/HASSON/247/data/binned_conversations/676_bin_norm/binned_norm_NY676_616_Part1_conversation2/binned_norm_NY676_616_Part1_conversation2.npy. Rows: 25859\n",
      "Path: /projects/HASSON/247/data/binned_conversations/676_bin_norm/binned_norm_NY676_616_Part1_conversation4/binned_norm_NY676_616_Part1_conversation4.npy. Rows: 17480\n",
      "Path: /projects/HASSON/247/data/binned_conversations/676_bin_norm/binned_norm_NY676_617_Part1_conversation5/binned_norm_NY676_617_Part1_conversation5.npy. Rows: 5467\n",
      "Path: /projects/HASSON/247/data/binned_conversations/676_bin_norm/binned_norm_NY676_616_Part2-two_conversation3/binned_norm_NY676_616_Part2-two_conversation3.npy. Rows: 18159\n",
      "Path: /projects/HASSON/247/data/binned_conversations/676_bin_norm/binned_norm_NY676_620_Part5-one_conversation5/binned_norm_NY676_620_Part5-one_conversation5.npy. Rows: 56010\n",
      "Path: /projects/HASSON/247/data/binned_conversations/676_bin_norm/binned_norm_NY676_616_Part2-two_conversation2/binned_norm_NY676_616_Part2-two_conversation2.npy. Rows: 17756\n",
      "Path: /projects/HASSON/247/data/binned_conversations/676_bin_norm/binned_norm_NY676_620_Part4_conversation1/binned_norm_NY676_620_Part4_conversation1.npy. Rows: 73475\n",
      "Path: /projects/HASSON/247/data/binned_conversations/676_bin_norm/binned_norm_NY676_618_Part5-one_conversation1/binned_norm_NY676_618_Part5-one_conversation1.npy. Rows: 163846\n",
      "Path: /projects/HASSON/247/data/binned_conversations/676_bin_norm/binned_norm_NY676_618_Part7_conversation1/binned_norm_NY676_618_Part7_conversation1.npy. Rows: 10123\n",
      "Path: /projects/HASSON/247/data/binned_conversations/676_bin_norm/binned_norm_NY676_619_Part7_conversation1/binned_norm_NY676_619_Part7_conversation1.npy. Rows: 5017\n",
      "Path: /projects/HASSON/247/data/binned_conversations/676_bin_norm/binned_norm_NY676_619_Part6_conversation2/binned_norm_NY676_619_Part6_conversation2.npy. Rows: 42936\n",
      "Path: /projects/HASSON/247/data/binned_conversations/676_bin_norm/binned_norm_NY676_618_Part4_conversation5/binned_norm_NY676_618_Part4_conversation5.npy. Rows: 56609\n",
      "Path: /projects/HASSON/247/data/binned_conversations/676_bin_norm/binned_norm_NY676_618_Part4_conversation10/binned_norm_NY676_618_Part4_conversation10.npy. Rows: 2506\n",
      "Bin_Norm Shape Val:\n",
      "Path: /projects/HASSON/247/data/binned_conversations/676_bin_norm/binned_norm_NY676_617_Part2_conversation2/binned_norm_NY676_617_Part2_conversation2.npy. Rows: 119397\n",
      "Path: /projects/HASSON/247/data/binned_conversations/676_bin_norm/binned_norm_NY676_618_Part8_conversation2/binned_norm_NY676_618_Part8_conversation2.npy. Rows: 1754\n",
      "Path: /projects/HASSON/247/data/binned_conversations/676_bin_norm/binned_norm_NY676_618_Part4_conversation8/binned_norm_NY676_618_Part4_conversation8.npy. Rows: 705\n",
      "Path: /projects/HASSON/247/data/binned_conversations/676_bin_norm/binned_norm_NY676_620_Part5-one_conversation2/binned_norm_NY676_620_Part5-one_conversation2.npy. Rows: 83951\n",
      "Path: /projects/HASSON/247/data/binned_conversations/676_bin_norm/binned_norm_NY676_618_Part4_conversation3/binned_norm_NY676_618_Part4_conversation3.npy. Rows: 1680\n",
      "Path: /projects/HASSON/247/data/binned_conversations/676_bin_norm/binned_norm_NY676_616_Part3_conversation1/binned_norm_NY676_616_Part3_conversation1.npy. Rows: 92170\n",
      "Path: /projects/HASSON/247/data/binned_conversations/676_bin_norm/binned_norm_NY676_619_Part4_conversation3/binned_norm_NY676_619_Part4_conversation3.npy. Rows: 120332\n",
      "Path: /projects/HASSON/247/data/binned_conversations/676_bin_norm/binned_norm_NY676_620_Part5-one_conversation1/binned_norm_NY676_620_Part5-one_conversation1.npy. Rows: 23885\n",
      "Path: /projects/HASSON/247/data/binned_conversations/676_bin_norm/binned_norm_NY676_619_Part5-two_conversation2/binned_norm_NY676_619_Part5-two_conversation2.npy. Rows: 1223\n"
     ]
    }
   ],
   "source": [
    "print(\"Bin_Norm Shape Train:\")\n",
    "for path in train_bin_norm_676:\n",
    "    print(f\"Path: {path}. Rows: {utils.get_file_shape(path, print_flag=False)[0]}\")\n",
    "print(\"Bin_Norm Shape Val:\")\n",
    "for path in val_bin_norm_676:\n",
    "    print(f\"Path: {path}. Rows: {utils.get_file_shape(path, print_flag=False)[0]}\")"
   ]
  },
  {
   "cell_type": "code",
   "execution_count": 15,
   "metadata": {},
   "outputs": [
    {
     "name": "stdout",
     "output_type": "stream",
     "text": [
      "Norm Shape Train:\n",
      "(36853, 114)\n",
      "(30031, 114)\n",
      "(1288999, 114)\n",
      "(409822, 114)\n",
      "(1073405, 114)\n",
      "(1024138, 114)\n",
      "(635016, 114)\n",
      "(11281, 114)\n",
      "(1472079, 114)\n",
      "(751292, 114)\n",
      "(1836899, 114)\n",
      "(2004633, 114)\n",
      "(160325, 114)\n",
      "(30583, 114)\n",
      "(49689, 114)\n",
      "(327455, 114)\n",
      "(209245, 114)\n",
      "(2967538, 114)\n",
      "(900928, 114)\n",
      "(2734, 114)\n",
      "(125438, 114)\n",
      "(81209, 114)\n",
      "(325938, 114)\n",
      "(17630, 114)\n",
      "(2984936, 114)\n",
      "(157269, 114)\n",
      "(415513, 114)\n",
      "(16079, 114)\n",
      "(282869, 114)\n",
      "(646487, 114)\n",
      "(388963, 114)\n",
      "(2304251, 114)\n",
      "(43859, 114)\n",
      "(12256, 114)\n",
      "(1298863, 114)\n",
      "(3817151, 114)\n",
      "(874145, 114)\n",
      "(698567, 114)\n",
      "(46425, 114)\n",
      "(10352, 114)\n",
      "(1623762, 114)\n",
      "(597144, 114)\n",
      "(11727, 114)\n",
      "(200261, 114)\n",
      "(135731, 114)\n",
      "(532788, 114)\n",
      "(437006, 114)\n",
      "(2552413, 114)\n",
      "(127243, 114)\n",
      "(4096153, 114)\n",
      "Norm Shape Val:\n",
      "(3008310, 114)\n",
      "(160956, 114)\n",
      "(828971, 114)\n",
      "(2279510, 114)\n",
      "(666125, 114)\n",
      "(1415249, 114)\n",
      "(3281653, 114)\n",
      "(21770, 114)\n",
      "(437405, 114)\n",
      "(1400263, 114)\n"
     ]
    }
   ],
   "source": [
    "print(\"Norm Shape Train:\")\n",
    "for path in train_norm_676:\n",
    "    utils.get_file_shape(path)\n",
    "print(\"Norm Shape Val:\")\n",
    "for path in val_norm_676:\n",
    "    utils.get_file_shape(path)"
   ]
  },
  {
   "cell_type": "markdown",
   "metadata": {},
   "source": [
    "# One-to-one LSTM (Bin Norm)"
   ]
  },
  {
   "cell_type": "code",
   "execution_count": 21,
   "metadata": {},
   "outputs": [],
   "source": [
    "train_path_676_test = \"/projects/HASSON/247/data/binned_conversations/676_bin_norm/binned_norm_NY676_619_Part2_conversation2/binned_norm_NY676_619_Part2_conversation2.npy\""
   ]
  },
  {
   "cell_type": "code",
   "execution_count": 22,
   "metadata": {},
   "outputs": [],
   "source": [
    "# Load data\n",
    "data = np.load(train_path_676_test)"
   ]
  },
  {
   "cell_type": "code",
   "execution_count": 23,
   "metadata": {},
   "outputs": [
    {
     "data": {
      "text/plain": [
       "[<matplotlib.lines.Line2D at 0x2ab679bdf590>]"
      ]
     },
     "execution_count": 23,
     "metadata": {},
     "output_type": "execute_result"
    },
    {
     "data": {
      "image/png": "[encoded data removed]",
      "text/plain": [
       "<Figure size 432x288 with 1 Axes>"
      ]
     },
     "metadata": {
      "needs_background": "light"
     },
     "output_type": "display_data"
    }
   ],
   "source": [
    "# Plot one electrode\n",
    "signal = data[:,0]\n",
    "plt.plot(range(len(signal)), signal)"
   ]
  },
  {
   "cell_type": "code",
   "execution_count": null,
   "metadata": {},
   "outputs": [],
   "source": [
    "# Generator (see Deep Learning with Python pag. 211)\n",
    "# data - the original array of floating-point data.\n",
    "# lookback - How many timesteps back the input data should go.\n",
    "# delay - How many timesteps in the future the target should be.\n",
    "# min_index and max_index - Indices in the data arr that delimit which time steps to draw from. \n",
    "#     This is useful for splitting the data in training, validation, and test.\n",
    "# shuffle - Whether to shuffle the samples or draw them in chronological order.\n",
    "# batch_size - The number of samples per batch.\n",
    "# step - The period, in timesteps, at which you sample data. \n",
    "def generator(data, lookback, delay, min_index, max_index,\n",
    "              shuffle=False, batch_size=128, step=6):\n",
    "    if max_index == None:\n",
    "        max_index = len(data) - delay - 1\n",
    "    i = min_index + lookback\n",
    "    while True:\n",
    "        if shuffle:\n",
    "            rows = np.random.randint(min_index + lookback,\n",
    "                                     max_index,\n",
    "                                     size=batch_size)\n",
    "        else:\n",
    "            if i + batch_size >= max_index:\n",
    "                i = min_index + lookback\n",
    "            rows = np.arange(i, min(i + batch_size, max_index))\n",
    "            i += len(rows)\n",
    "        samples = np.zeros((len(rows),\n",
    "                           lookback // step, \n",
    "                           data.shape[-1]))\n",
    "        targets = np.zeros((len(rows), ))\n",
    "        for j, row in enumerate(rows):\n",
    "            indices = range(rows[j] - lookback, rows[j], step)\n",
    "            samples[j] = data[indices]\n",
    "            targets[j] = data[rows[j"
   ]
  }
 ],
 "metadata": {
  "kernelspec": {
   "display_name": "Python 3",
   "language": "python",
   "name": "python3"
  },
  "language_info": {
   "codemirror_mode": {
    "name": "ipython",
    "version": 3
   },
   "file_extension": ".py",
   "mimetype": "text/x-python",
   "name": "python",
   "nbconvert_exporter": "python",
   "pygments_lexer": "ipython3",
   "version": "3.7.7"
  }
 },
 "nbformat": 4,
 "nbformat_minor": 4
}
