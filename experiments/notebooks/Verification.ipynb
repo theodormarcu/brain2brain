{
 "cells": [
  {
   "cell_type": "code",
   "execution_count": 1,
   "metadata": {},
   "outputs": [],
   "source": [
    "# Autoreload\n",
    "%load_ext autoreload\n",
    "%autoreload 2"
   ]
  },
  {
   "cell_type": "markdown",
   "metadata": {},
   "source": [
    "# File Verification\n",
    "\n",
    "Check that each electrode sample is what it should be."
   ]
  },
  {
   "cell_type": "code",
   "execution_count": 2,
   "metadata": {},
   "outputs": [],
   "source": [
    "def print_total_timestep_count(file_name_list):\n",
    "    total_row_count = 0\n",
    "    for path in file_name_list:\n",
    "        data = np.load(path, mmap_mode=\"r\")\n",
    "        row_count = data.shape[0]\n",
    "        total_row_count += row_count\n",
    "    print(f\"The total row count is: {total_row_count}\")\n",
    "    return total_row_count"
   ]
  },
  {
   "cell_type": "markdown",
   "metadata": {},
   "source": [
    "### Check Normal Files\n"
   ]
  },
  {
   "cell_type": "code",
   "execution_count": 3,
   "metadata": {},
   "outputs": [],
   "source": [
    "# imports\n",
    "import sys\n",
    "sys.path.append(\"../../\")\n",
    "import numpy as np\n",
    "import matplotlib.pyplot as plt\n",
    "from brain2brain import utils, generators"
   ]
  },
  {
   "cell_type": "code",
   "execution_count": null,
   "metadata": {},
   "outputs": [],
   "source": [
    "regular_file_paths = utils.get_file_paths_from_dir(\"/projects/HASSON/247/data/676-conversations/\")"
   ]
  },
  {
   "cell_type": "code",
   "execution_count": null,
   "metadata": {},
   "outputs": [
    {
     "data": {
      "text/plain": [
       "'/projects/HASSON/247/data/676-conversations/NY676_616_Part1_conversation1/NY676_616_Part1_conversation1.npy'"
      ]
     },
     "execution_count": 7,
     "metadata": {},
     "output_type": "execute_result"
    }
   ],
   "source": [
    "regular_file_paths[0]"
   ]
  },
  {
   "cell_type": "code",
   "execution_count": 8,
   "metadata": {},
   "outputs": [],
   "source": [
    "# path = regular_file_paths[0]\n",
    "# data = np.load(path)\n",
    "# print(data.shape)\n",
    "# for electrode in np.arange(data.shape[1]):\n",
    "#     plt.figure()\n",
    "#     plt.plot(data[:,electrode])\n",
    "    # Show/save figure as desired.\n",
    "#     plt.show()"
   ]
  },
  {
   "cell_type": "code",
   "execution_count": 11,
   "metadata": {},
   "outputs": [
    {
     "name": "stdout",
     "output_type": "stream",
     "text": [
      "The total row count is: 70518637\n"
     ]
    }
   ],
   "source": [
    "reg_row_count = print_total_timestep_count(regular_file_paths)"
   ]
  },
  {
   "cell_type": "code",
   "execution_count": 12,
   "metadata": {},
   "outputs": [
    {
     "name": "stdout",
     "output_type": "stream",
     "text": [
      "The time recorded for this patient is: 137731.712890625 seconds\n",
      "The time recorded for this patient is: 38.258809136284725 hours\n"
     ]
    }
   ],
   "source": [
    "print(f\"The time recorded for this patient is: {reg_row_count/512} seconds\")\n",
    "print(f\"The time recorded for this patient is: {reg_row_count/(512 * 60 * 60)} hours\")"
   ]
  },
  {
   "cell_type": "markdown",
   "metadata": {},
   "source": [
    "### Check Normalized Files (Old)"
   ]
  },
  {
   "cell_type": "code",
   "execution_count": 13,
   "metadata": {},
   "outputs": [],
   "source": [
    "old_norm_files = utils.get_file_paths_from_dir(\"/projects/HASSON/247/data/normalized_conversations/676-conversations-normalized/\")"
   ]
  },
  {
   "cell_type": "code",
   "execution_count": 14,
   "metadata": {},
   "outputs": [
    {
     "data": {
      "text/plain": [
       "'/projects/HASSON/247/data/normalized_conversations/676-conversations-normalized/norm_NY676_619_Part5-two_conversation3/norm_NY676_619_Part5-two_conversation3.npy'"
      ]
     },
     "execution_count": 14,
     "metadata": {},
     "output_type": "execute_result"
    }
   ],
   "source": [
    "old_norm_files[0]"
   ]
  },
  {
   "cell_type": "code",
   "execution_count": 15,
   "metadata": {},
   "outputs": [
    {
     "name": "stdout",
     "output_type": "stream",
     "text": [
      "The total row count is: 70518637\n"
     ]
    }
   ],
   "source": [
    "old_norm_row_count = print_total_timestep_count(old_norm_files)"
   ]
  },
  {
   "cell_type": "code",
   "execution_count": 16,
   "metadata": {},
   "outputs": [
    {
     "name": "stdout",
     "output_type": "stream",
     "text": [
      "The time recorded for this patient is: 137731.712890625 seconds\n",
      "The time recorded for this patient is: 38.258809136284725 hours\n"
     ]
    }
   ],
   "source": [
    "print(f\"The time recorded for this patient is: {old_norm_row_count/512} seconds\")\n",
    "print(f\"The time recorded for this patient is: {old_norm_row_count/(512 * 60 * 60)} hours\")"
   ]
  },
  {
   "cell_type": "markdown",
   "metadata": {},
   "source": [
    "### Check Normalized Files (New)"
   ]
  },
  {
   "cell_type": "code",
   "execution_count": 17,
   "metadata": {},
   "outputs": [],
   "source": [
    "new_norm_files = utils.get_file_paths_from_dir(\"/projects/HASSON/247/data/normalized_conversations/676_norm_2/\")"
   ]
  },
  {
   "cell_type": "code",
   "execution_count": 18,
   "metadata": {},
   "outputs": [
    {
     "name": "stdout",
     "output_type": "stream",
     "text": [
      "The total row count is: 70518637\n"
     ]
    }
   ],
   "source": [
    "new_norm_row_count = print_total_timestep_count(new_norm_files)"
   ]
  },
  {
   "cell_type": "code",
   "execution_count": 19,
   "metadata": {},
   "outputs": [
    {
     "name": "stdout",
     "output_type": "stream",
     "text": [
      "The time recorded for this patient is: 137731.712890625 seconds\n",
      "The time recorded for this patient is: 38.258809136284725 hours\n"
     ]
    }
   ],
   "source": [
    "print(f\"The time recorded for this patient is: {new_norm_row_count/512} seconds\")\n",
    "print(f\"The time recorded for this patient is: {new_norm_row_count/(512 * 60 * 60)} hours\")"
   ]
  },
  {
   "cell_type": "markdown",
   "metadata": {},
   "source": [
    "### Check Binned Files (Old)"
   ]
  },
  {
   "cell_type": "code",
   "execution_count": 20,
   "metadata": {},
   "outputs": [],
   "source": [
    "old_bin_norm_files = utils.get_file_paths_from_dir(\"/projects/HASSON/247/data/binned_conversations/676_bin_norm/\")"
   ]
  },
  {
   "cell_type": "code",
   "execution_count": 21,
   "metadata": {},
   "outputs": [
    {
     "name": "stdout",
     "output_type": "stream",
     "text": [
      "The total row count is: 2820710\n"
     ]
    }
   ],
   "source": [
    "old_bin_norm_row_count = print_total_timestep_count(old_bin_norm_files)"
   ]
  },
  {
   "cell_type": "code",
   "execution_count": 22,
   "metadata": {},
   "outputs": [
    {
     "name": "stdout",
     "output_type": "stream",
     "text": [
      "The time recorded for this patient is: 137729.98046875 seconds\n",
      "The time recorded for this patient is: 38.258327907986114 hours\n"
     ]
    }
   ],
   "source": [
    "print(f\"The time recorded for this patient is: {(old_bin_norm_row_count * 25)/512} seconds\")\n",
    "print(f\"The time recorded for this patient is: {(old_bin_norm_row_count * 25)/(512 * 60 * 60)} hours\")"
   ]
  },
  {
   "cell_type": "markdown",
   "metadata": {},
   "source": [
    "### Check Binned Files (New)"
   ]
  },
  {
   "cell_type": "code",
   "execution_count": 23,
   "metadata": {},
   "outputs": [],
   "source": [
    "new_bin_norm_files = utils.get_file_paths_from_dir(\"/projects/HASSON/247/data/binned_conversations/676_bin_norm_2/\")"
   ]
  },
  {
   "cell_type": "code",
   "execution_count": 24,
   "metadata": {},
   "outputs": [
    {
     "name": "stdout",
     "output_type": "stream",
     "text": [
      "The total row count is: 2820710\n"
     ]
    }
   ],
   "source": [
    "new_bin_norm_row_count = print_total_timestep_count(new_bin_norm_files)"
   ]
  },
  {
   "cell_type": "code",
   "execution_count": 25,
   "metadata": {},
   "outputs": [
    {
     "name": "stdout",
     "output_type": "stream",
     "text": [
      "The time recorded for this patient is: 137729.98046875 seconds\n",
      "The time recorded for this patient is: 38.258327907986114 hours\n"
     ]
    }
   ],
   "source": [
    "print(f\"The time recorded for this patient is: {(new_bin_norm_row_count * 25)/512} seconds\")\n",
    "print(f\"The time recorded for this patient is: {(new_bin_norm_row_count * 25)/(512 * 60 * 60)} hours\")"
   ]
  },
  {
   "cell_type": "markdown",
   "metadata": {},
   "source": [
    "# Generator Tests "
   ]
  },
  {
   "cell_type": "code",
   "execution_count": 4,
   "metadata": {},
   "outputs": [],
   "source": [
    "train_norm = utils.get_file_paths(\"../../brain2brain/train_676_norm_2.txt\")"
   ]
  },
  {
   "cell_type": "code",
   "execution_count": 11,
   "metadata": {},
   "outputs": [],
   "source": [
    "# Training Generator\n",
    "train_generator_norm = generators.FGenerator(file_paths = train_norm,\n",
    "                                        lookback=256, length = 25, delay = 5,\n",
    "                                        batch_size = 256, sample_period = 1,\n",
    "                                        overlap=False,\n",
    "                                        electrodes= [0, 1, 2, 3, 4],\n",
    "                                        electrode_output_ix=2,\n",
    "                                        shuffle = True, debug=False)"
   ]
  },
  {
   "cell_type": "code",
   "execution_count": 12,
   "metadata": {},
   "outputs": [
    {
     "data": {
      "text/plain": [
       "577"
      ]
     },
     "execution_count": 12,
     "metadata": {},
     "output_type": "execute_result"
    }
   ],
   "source": [
    "len(train_generator_norm)"
   ]
  },
  {
   "cell_type": "code",
   "execution_count": 13,
   "metadata": {},
   "outputs": [
    {
     "data": {
      "text/plain": [
       "(array([[[-1.06369350e+00, -9.31049815e-01, -1.13999392e+00,\n",
       "           4.68522067e-01,  6.84681894e-01],\n",
       "         [-1.03760556e+00, -9.12132771e-01, -1.23511933e+00,\n",
       "           4.86665883e-01,  6.58324961e-01],\n",
       "         [-1.01347394e+00, -9.05710574e-01, -1.32380656e+00,\n",
       "           4.81690376e-01,  6.20334026e-01],\n",
       "         ...,\n",
       "         [ 1.75630084e+00,  1.03886032e-01,  1.84800537e-01,\n",
       "           4.74618567e-01,  1.58625845e+00],\n",
       "         [ 1.68827916e+00, -3.36085647e-02,  2.11557269e-01,\n",
       "           4.57178439e-01,  1.67319009e+00],\n",
       "         [ 1.61996803e+00, -1.72209879e-01,  2.44577497e-01,\n",
       "           4.40043003e-01,  1.75899326e+00]],\n",
       " \n",
       "        [[ 4.65041381e-01,  2.27942750e-01, -3.30726732e-01,\n",
       "           1.94271744e+00,  2.67528214e-01],\n",
       "         [ 4.27642526e-01,  2.00465994e-01, -3.69239046e-01,\n",
       "           1.86213590e+00,  1.85173300e-01],\n",
       "         [ 3.97516815e-01,  1.72538122e-01, -3.88256418e-01,\n",
       "           1.76720194e+00,  1.16197386e-01],\n",
       "         ...,\n",
       "         [-8.81505687e-01, -1.09473883e+00,  4.89438859e-01,\n",
       "           3.79860579e-01,  2.40574282e+00],\n",
       "         [-8.24000680e-01, -9.46401926e-01,  5.23026771e-01,\n",
       "           3.90036281e-01,  2.43214464e+00],\n",
       "         [-7.69000521e-01, -8.02659949e-01,  5.44464833e-01,\n",
       "           4.11192790e-01,  2.44995479e+00]],\n",
       " \n",
       "        [[-1.12533080e+00,  7.50921607e-01, -8.47782646e-01,\n",
       "           9.33007005e-01,  1.61281320e-01],\n",
       "         [-1.10366318e+00,  7.00381779e-01, -7.89104350e-01,\n",
       "           1.00536572e+00,  1.53976611e-01],\n",
       "         [-1.09906404e+00,  6.36824318e-01, -7.33088998e-01,\n",
       "           1.05599249e+00,  1.72687268e-01],\n",
       "         ...,\n",
       "         [ 6.02687297e-01,  6.22109894e-01,  9.77920735e-02,\n",
       "           1.72793052e+00, -1.36086661e+00],\n",
       "         [ 4.12682027e-01,  6.53618815e-01,  4.51389472e-02,\n",
       "           1.68064632e+00, -1.24137192e+00],\n",
       "         [ 2.24774859e-01,  6.84546727e-01,  1.49060970e-03,\n",
       "           1.62712795e+00, -1.09414375e+00]],\n",
       " \n",
       "        ...,\n",
       " \n",
       "        [[ 1.08314015e+00,  9.67859824e-01, -3.62714310e-01,\n",
       "           9.95282363e-01, -1.52135153e+00],\n",
       "         [ 1.10343133e+00,  1.13141934e+00, -3.77341466e-01,\n",
       "           1.03885267e+00, -1.57871139e+00],\n",
       "         [ 1.11605611e+00,  1.26945571e+00, -3.98357593e-01,\n",
       "           1.07625571e+00, -1.62238891e+00],\n",
       "         ...,\n",
       "         [ 5.20280791e-01, -1.23753695e+00,  8.05364708e-01,\n",
       "          -6.49476416e-01, -1.85876302e+00],\n",
       "         [ 4.35196323e-01, -1.22416017e+00,  7.49491984e-01,\n",
       "          -7.04661348e-01, -1.98849814e+00],\n",
       "         [ 3.53913415e-01, -1.18136092e+00,  6.90716457e-01,\n",
       "          -7.61666577e-01, -2.10494771e+00]],\n",
       " \n",
       "        [[ 0.00000000e+00,  0.00000000e+00,  0.00000000e+00,\n",
       "           0.00000000e+00,  0.00000000e+00],\n",
       "         [ 0.00000000e+00,  0.00000000e+00,  0.00000000e+00,\n",
       "           0.00000000e+00,  0.00000000e+00],\n",
       "         [ 0.00000000e+00,  0.00000000e+00,  0.00000000e+00,\n",
       "           0.00000000e+00,  0.00000000e+00],\n",
       "         ...,\n",
       "         [ 0.00000000e+00,  0.00000000e+00,  0.00000000e+00,\n",
       "           0.00000000e+00,  0.00000000e+00],\n",
       "         [ 0.00000000e+00,  0.00000000e+00,  0.00000000e+00,\n",
       "           0.00000000e+00,  0.00000000e+00],\n",
       "         [ 0.00000000e+00,  0.00000000e+00,  0.00000000e+00,\n",
       "           0.00000000e+00,  0.00000000e+00]],\n",
       " \n",
       "        [[ 0.00000000e+00,  0.00000000e+00,  0.00000000e+00,\n",
       "           0.00000000e+00,  0.00000000e+00],\n",
       "         [ 0.00000000e+00,  0.00000000e+00,  0.00000000e+00,\n",
       "           0.00000000e+00,  0.00000000e+00],\n",
       "         [ 0.00000000e+00,  0.00000000e+00,  0.00000000e+00,\n",
       "           0.00000000e+00,  0.00000000e+00],\n",
       "         ...,\n",
       "         [ 0.00000000e+00,  0.00000000e+00,  0.00000000e+00,\n",
       "           0.00000000e+00,  0.00000000e+00],\n",
       "         [ 0.00000000e+00,  0.00000000e+00,  0.00000000e+00,\n",
       "           0.00000000e+00,  0.00000000e+00],\n",
       "         [ 0.00000000e+00,  0.00000000e+00,  0.00000000e+00,\n",
       "           0.00000000e+00,  0.00000000e+00]]]),\n",
       " array([[[ 0.5086229 ],\n",
       "         [ 0.55246271],\n",
       "         [ 0.59364878],\n",
       "         ...,\n",
       "         [-0.11520725],\n",
       "         [-0.20111144],\n",
       "         [-0.27394579]],\n",
       " \n",
       "        [[ 0.31997144],\n",
       "         [ 0.21628036],\n",
       "         [ 0.09572806],\n",
       "         ...,\n",
       "         [-1.04186732],\n",
       "         [-0.97479442],\n",
       "         [-0.9097452 ]],\n",
       " \n",
       "        [[-0.08669283],\n",
       "         [-0.07816309],\n",
       "         [-0.06494219],\n",
       "         ...,\n",
       "         [ 1.01280568],\n",
       "         [ 1.07094025],\n",
       "         [ 1.11881112]],\n",
       " \n",
       "        ...,\n",
       " \n",
       "        [[ 0.38877045],\n",
       "         [ 0.36503937],\n",
       "         [ 0.35290414],\n",
       "         ...,\n",
       "         [ 0.66616398],\n",
       "         [ 0.58247074],\n",
       "         [ 0.49223795]],\n",
       " \n",
       "        [[ 0.        ],\n",
       "         [ 0.        ],\n",
       "         [ 0.        ],\n",
       "         ...,\n",
       "         [ 0.        ],\n",
       "         [ 0.        ],\n",
       "         [ 0.        ]],\n",
       " \n",
       "        [[ 0.        ],\n",
       "         [ 0.        ],\n",
       "         [ 0.        ],\n",
       "         ...,\n",
       "         [ 0.        ],\n",
       "         [ 0.        ],\n",
       "         [ 0.        ]]]))"
      ]
     },
     "execution_count": 13,
     "metadata": {},
     "output_type": "execute_result"
    }
   ],
   "source": [
    "train_generator_norm[0][]"
   ]
  },
  {
   "cell_type": "code",
   "execution_count": 36,
   "metadata": {},
   "outputs": [],
   "source": [
    "val_norm = utils.get_file_paths(\"../../brain2brain/val_676_norm_2.txt\")"
   ]
  },
  {
   "cell_type": "code",
   "execution_count": 37,
   "metadata": {},
   "outputs": [],
   "source": [
    "# Validation Generator\n",
    "val_generator_norm = generators.FGenerator(file_paths = val_norm,\n",
    "                                      lookback=256, length = 25, delay = 0,\n",
    "                                      batch_size = 512, sample_period = 1,\n",
    "                                      electrodes= [0, 1, 2, 3, 4],\n",
    "                                      overlap=True,\n",
    "                                      shuffle = False, debug=False)"
   ]
  },
  {
   "cell_type": "code",
   "execution_count": null,
   "metadata": {},
   "outputs": [],
   "source": [
    "len(train_norm)"
   ]
  }
 ],
 "metadata": {
  "kernelspec": {
   "display_name": "Python 3",
   "language": "python",
   "name": "python3"
  },
  "language_info": {
   "codemirror_mode": {
    "name": "ipython",
    "version": 3
   },
   "file_extension": ".py",
   "mimetype": "text/x-python",
   "name": "python",
   "nbconvert_exporter": "python",
   "pygments_lexer": "ipython3",
   "version": "3.7.7"
  }
 },
 "nbformat": 4,
 "nbformat_minor": 4
}
