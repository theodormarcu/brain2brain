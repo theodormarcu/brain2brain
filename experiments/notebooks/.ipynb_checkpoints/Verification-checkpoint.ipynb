{
 "cells": [
  {
   "cell_type": "code",
   "execution_count": 33,
   "metadata": {},
   "outputs": [],
   "source": [
    "# Autoreload\n",
    "%load_ext autoreload\n",
    "%autoreload 2"
   ]
  },
  {
   "cell_type": "markdown",
   "metadata": {},
   "source": [
    "# File Verification\n",
    "\n",
    "Check that each electrode sample is what it should be."
   ]
  },
  {
   "cell_type": "code",
   "execution_count": 10,
   "metadata": {},
   "outputs": [],
   "source": [
    "def print_total_timestep_count(file_name_list):\n",
    "    total_row_count = 0\n",
    "    for path in file_name_list:\n",
    "        data = np.load(path, mmap_mode=\"r\")\n",
    "        row_count = data.shape[0]\n",
    "        total_row_count += row_count\n",
    "    print(f\"The total row count is: {total_row_count}\")\n",
    "    return total_row_count"
   ]
  },
  {
   "cell_type": "markdown",
   "metadata": {},
   "source": [
    "### Check Normal Files\n"
   ]
  },
  {
   "cell_type": "code",
   "execution_count": 29,
   "metadata": {},
   "outputs": [],
   "source": [
    "# imports\n",
    "import sys\n",
    "sys.path.append(\"../../\")\n",
    "import numpy as np\n",
    "import matplotlib.pyplot as plt\n",
    "from brain2brain import utils, generators"
   ]
  },
  {
   "cell_type": "code",
   "execution_count": 2,
   "metadata": {},
   "outputs": [],
   "source": [
    "regular_file_paths = utils.get_file_paths_from_dir(\"/projects/HASSON/247/data/676-conversations/\")"
   ]
  },
  {
   "cell_type": "code",
   "execution_count": 7,
   "metadata": {},
   "outputs": [
    {
     "data": {
      "text/plain": [
       "'/projects/HASSON/247/data/676-conversations/NY676_616_Part1_conversation1/NY676_616_Part1_conversation1.npy'"
      ]
     },
     "execution_count": 7,
     "metadata": {},
     "output_type": "execute_result"
    }
   ],
   "source": [
    "regular_file_paths[0]"
   ]
  },
  {
   "cell_type": "code",
   "execution_count": 8,
   "metadata": {},
   "outputs": [],
   "source": [
    "# path = regular_file_paths[0]\n",
    "# data = np.load(path)\n",
    "# print(data.shape)\n",
    "# for electrode in np.arange(data.shape[1]):\n",
    "#     plt.figure()\n",
    "#     plt.plot(data[:,electrode])\n",
    "    # Show/save figure as desired.\n",
    "#     plt.show()"
   ]
  },
  {
   "cell_type": "code",
   "execution_count": 11,
   "metadata": {},
   "outputs": [
    {
     "name": "stdout",
     "output_type": "stream",
     "text": [
      "The total row count is: 70518637\n"
     ]
    }
   ],
   "source": [
    "reg_row_count = print_total_timestep_count(regular_file_paths)"
   ]
  },
  {
   "cell_type": "code",
   "execution_count": 12,
   "metadata": {},
   "outputs": [
    {
     "name": "stdout",
     "output_type": "stream",
     "text": [
      "The time recorded for this patient is: 137731.712890625 seconds\n",
      "The time recorded for this patient is: 38.258809136284725 hours\n"
     ]
    }
   ],
   "source": [
    "print(f\"The time recorded for this patient is: {reg_row_count/512} seconds\")\n",
    "print(f\"The time recorded for this patient is: {reg_row_count/(512 * 60 * 60)} hours\")"
   ]
  },
  {
   "cell_type": "markdown",
   "metadata": {},
   "source": [
    "### Check Normalized Files (Old)"
   ]
  },
  {
   "cell_type": "code",
   "execution_count": 13,
   "metadata": {},
   "outputs": [],
   "source": [
    "old_norm_files = utils.get_file_paths_from_dir(\"/projects/HASSON/247/data/normalized_conversations/676-conversations-normalized/\")"
   ]
  },
  {
   "cell_type": "code",
   "execution_count": 14,
   "metadata": {},
   "outputs": [
    {
     "data": {
      "text/plain": [
       "'/projects/HASSON/247/data/normalized_conversations/676-conversations-normalized/norm_NY676_619_Part5-two_conversation3/norm_NY676_619_Part5-two_conversation3.npy'"
      ]
     },
     "execution_count": 14,
     "metadata": {},
     "output_type": "execute_result"
    }
   ],
   "source": [
    "old_norm_files[0]"
   ]
  },
  {
   "cell_type": "code",
   "execution_count": 15,
   "metadata": {},
   "outputs": [
    {
     "name": "stdout",
     "output_type": "stream",
     "text": [
      "The total row count is: 70518637\n"
     ]
    }
   ],
   "source": [
    "old_norm_row_count = print_total_timestep_count(old_norm_files)"
   ]
  },
  {
   "cell_type": "code",
   "execution_count": 16,
   "metadata": {},
   "outputs": [
    {
     "name": "stdout",
     "output_type": "stream",
     "text": [
      "The time recorded for this patient is: 137731.712890625 seconds\n",
      "The time recorded for this patient is: 38.258809136284725 hours\n"
     ]
    }
   ],
   "source": [
    "print(f\"The time recorded for this patient is: {old_norm_row_count/512} seconds\")\n",
    "print(f\"The time recorded for this patient is: {old_norm_row_count/(512 * 60 * 60)} hours\")"
   ]
  },
  {
   "cell_type": "markdown",
   "metadata": {},
   "source": [
    "### Check Normalized Files (New)"
   ]
  },
  {
   "cell_type": "code",
   "execution_count": 17,
   "metadata": {},
   "outputs": [],
   "source": [
    "new_norm_files = utils.get_file_paths_from_dir(\"/projects/HASSON/247/data/normalized_conversations/676_norm_2/\")"
   ]
  },
  {
   "cell_type": "code",
   "execution_count": 18,
   "metadata": {},
   "outputs": [
    {
     "name": "stdout",
     "output_type": "stream",
     "text": [
      "The total row count is: 70518637\n"
     ]
    }
   ],
   "source": [
    "new_norm_row_count = print_total_timestep_count(new_norm_files)"
   ]
  },
  {
   "cell_type": "code",
   "execution_count": 19,
   "metadata": {},
   "outputs": [
    {
     "name": "stdout",
     "output_type": "stream",
     "text": [
      "The time recorded for this patient is: 137731.712890625 seconds\n",
      "The time recorded for this patient is: 38.258809136284725 hours\n"
     ]
    }
   ],
   "source": [
    "print(f\"The time recorded for this patient is: {new_norm_row_count/512} seconds\")\n",
    "print(f\"The time recorded for this patient is: {new_norm_row_count/(512 * 60 * 60)} hours\")"
   ]
  },
  {
   "cell_type": "markdown",
   "metadata": {},
   "source": [
    "### Check Binned Files (Old)"
   ]
  },
  {
   "cell_type": "code",
   "execution_count": 20,
   "metadata": {},
   "outputs": [],
   "source": [
    "old_bin_norm_files = utils.get_file_paths_from_dir(\"/projects/HASSON/247/data/binned_conversations/676_bin_norm/\")"
   ]
  },
  {
   "cell_type": "code",
   "execution_count": 21,
   "metadata": {},
   "outputs": [
    {
     "name": "stdout",
     "output_type": "stream",
     "text": [
      "The total row count is: 2820710\n"
     ]
    }
   ],
   "source": [
    "old_bin_norm_row_count = print_total_timestep_count(old_bin_norm_files)"
   ]
  },
  {
   "cell_type": "code",
   "execution_count": 22,
   "metadata": {},
   "outputs": [
    {
     "name": "stdout",
     "output_type": "stream",
     "text": [
      "The time recorded for this patient is: 137729.98046875 seconds\n",
      "The time recorded for this patient is: 38.258327907986114 hours\n"
     ]
    }
   ],
   "source": [
    "print(f\"The time recorded for this patient is: {(old_bin_norm_row_count * 25)/512} seconds\")\n",
    "print(f\"The time recorded for this patient is: {(old_bin_norm_row_count * 25)/(512 * 60 * 60)} hours\")"
   ]
  },
  {
   "cell_type": "markdown",
   "metadata": {},
   "source": [
    "### Check Binned Files (New)"
   ]
  },
  {
   "cell_type": "code",
   "execution_count": 23,
   "metadata": {},
   "outputs": [],
   "source": [
    "new_bin_norm_files = utils.get_file_paths_from_dir(\"/projects/HASSON/247/data/binned_conversations/676_bin_norm_2/\")"
   ]
  },
  {
   "cell_type": "code",
   "execution_count": 24,
   "metadata": {},
   "outputs": [
    {
     "name": "stdout",
     "output_type": "stream",
     "text": [
      "The total row count is: 2820710\n"
     ]
    }
   ],
   "source": [
    "new_bin_norm_row_count = print_total_timestep_count(new_bin_norm_files)"
   ]
  },
  {
   "cell_type": "code",
   "execution_count": 25,
   "metadata": {},
   "outputs": [
    {
     "name": "stdout",
     "output_type": "stream",
     "text": [
      "The time recorded for this patient is: 137729.98046875 seconds\n",
      "The time recorded for this patient is: 38.258327907986114 hours\n"
     ]
    }
   ],
   "source": [
    "print(f\"The time recorded for this patient is: {(new_bin_norm_row_count * 25)/512} seconds\")\n",
    "print(f\"The time recorded for this patient is: {(new_bin_norm_row_count * 25)/(512 * 60 * 60)} hours\")"
   ]
  },
  {
   "cell_type": "markdown",
   "metadata": {},
   "source": [
    "# Generator Tests "
   ]
  },
  {
   "cell_type": "code",
   "execution_count": 43,
   "metadata": {},
   "outputs": [],
   "source": [
    "train_norm = utils.get_file_paths(\"../../brain2brain/train_676_norm_2.txt\")"
   ]
  },
  {
   "cell_type": "code",
   "execution_count": 68,
   "metadata": {},
   "outputs": [],
   "source": [
    "# Training Generator\n",
    "train_generator_norm = generators.FGenerator(file_paths = train_norm,\n",
    "                                        lookback=256, length = 25, delay = 0,\n",
    "                                        batch_size = 256, sample_period = 1,\n",
    "                                        overlap=True,\n",
    "                                        electrodes= [0, 1, 2, 3, 4],\n",
    "                                        electrode_output_ix=2,\n",
    "                                        shuffle = True, debug=False)"
   ]
  },
  {
   "cell_type": "code",
   "execution_count": 83,
   "metadata": {},
   "outputs": [
    {
     "data": {
      "text/plain": [
       "645"
      ]
     },
     "execution_count": 83,
     "metadata": {},
     "output_type": "execute_result"
    }
   ],
   "source": [
    "len(train_generator_norm)"
   ]
  },
  {
   "cell_type": "code",
   "execution_count": 82,
   "metadata": {},
   "outputs": [
    {
     "data": {
      "text/plain": [
       "(256, 256, 5)"
      ]
     },
     "execution_count": 82,
     "metadata": {},
     "output_type": "execute_result"
    }
   ],
   "source": [
    "train_generator_norm[644][0].shape"
   ]
  },
  {
   "cell_type": "code",
   "execution_count": 36,
   "metadata": {},
   "outputs": [],
   "source": [
    "val_norm = utils.get_file_paths(\"../../brain2brain/val_676_norm_2.txt\")"
   ]
  },
  {
   "cell_type": "code",
   "execution_count": 37,
   "metadata": {},
   "outputs": [],
   "source": [
    "# Validation Generator\n",
    "val_generator_norm = generators.FGenerator(file_paths = val_norm,\n",
    "                                      lookback=256, length = 25, delay = 0,\n",
    "                                      batch_size = 512, sample_period = 1,\n",
    "                                      electrodes= [0, 1, 2, 3, 4],\n",
    "                                      overlap=True,\n",
    "                                      shuffle = False, debug=False)"
   ]
  },
  {
   "cell_type": "code",
   "execution_count": null,
   "metadata": {},
   "outputs": [],
   "source": [
    "len(train_norm)"
   ]
  }
 ],
 "metadata": {
  "kernelspec": {
   "display_name": "Python 3",
   "language": "python",
   "name": "python3"
  },
  "language_info": {
   "codemirror_mode": {
    "name": "ipython",
    "version": 3
   },
   "file_extension": ".py",
   "mimetype": "text/x-python",
   "name": "python",
   "nbconvert_exporter": "python",
   "pygments_lexer": "ipython3",
   "version": "3.7.7"
  }
 },
 "nbformat": 4,
 "nbformat_minor": 4
}
