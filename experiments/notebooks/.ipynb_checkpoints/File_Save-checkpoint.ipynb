{
 "cells": [
  {
   "cell_type": "markdown",
   "metadata": {},
   "source": [
    "# Important:\n",
    "\n",
    "This notebook contains code and scripts to fix the files we're using for validation and testing. Don't mess with it!\n",
    "\n",
    "The files are split based on the timestep count, not the number of files."
   ]
  },
  {
   "cell_type": "code",
   "execution_count": 1,
   "metadata": {},
   "outputs": [],
   "source": [
    "# Autoreload\n",
    "%load_ext autoreload\n",
    "%autoreload 2"
   ]
  },
  {
   "cell_type": "code",
   "execution_count": 2,
   "metadata": {},
   "outputs": [
    {
     "data": {
      "text/plain": [
       "'/home/tmarcu/brain2brain/experiments/notebooks'"
      ]
     },
     "execution_count": 2,
     "metadata": {},
     "output_type": "execute_result"
    }
   ],
   "source": [
    "%pwd"
   ]
  },
  {
   "cell_type": "code",
   "execution_count": 3,
   "metadata": {},
   "outputs": [],
   "source": [
    "# Imports\n",
    "import numpy as np\n",
    "import pandas as pd\n",
    "import numpy as np\n",
    "import time\n",
    "import string\n",
    "from matplotlib import pyplot as plt\n",
    "from tensorflow.keras.models import Sequential\n",
    "from tensorflow.keras import layers\n",
    "from tensorflow.keras.optimizers import RMSprop\n",
    "import tensorflow as tf\n",
    "import sys\n",
    "sys.path.append('../../')\n",
    "from brain2brain import utils\n",
    "from brain2brain import generators\n",
    "%matplotlib inline\n",
    "\n",
    "# Import Statsmodels\n",
    "from statsmodels.tsa.api import VAR\n",
    "from statsmodels.tsa.stattools import adfuller\n",
    "from statsmodels.tools.eval_measures import rmse, aic"
   ]
  },
  {
   "cell_type": "code",
   "execution_count": 7,
   "metadata": {},
   "outputs": [],
   "source": [
    "all_paths_676 = utils.get_file_paths_from_root(patient_number=676, sort=True)"
   ]
  },
  {
   "cell_type": "code",
   "execution_count": 8,
   "metadata": {},
   "outputs": [
    {
     "name": "stdout",
     "output_type": "stream",
     "text": [
      "Splitting data in train, val, test.\n",
      "Training set normalization.\n",
      "Normalizing dataset partition\n",
      "Calculating mean per electrode\n",
      "Calculating std per electrode\n",
      "Binning dataset partition.\n"
     ]
    },
    {
     "ename": "KeyboardInterrupt",
     "evalue": "",
     "output_type": "error",
     "traceback": [
      "\u001b[0;31m---------------------------------------------------------------------------\u001b[0m",
      "\u001b[0;31mKeyboardInterrupt\u001b[0m                         Traceback (most recent call last)",
      "\u001b[0;32m<ipython-input-8-c0f6c295ad17>\u001b[0m in \u001b[0;36m<module>\u001b[0;34m\u001b[0m\n\u001b[0;32m----> 1\u001b[0;31m \u001b[0mutils\u001b[0m\u001b[0;34m.\u001b[0m\u001b[0mnormalize_dataset\u001b[0m\u001b[0;34m(\u001b[0m\u001b[0mfile_paths\u001b[0m\u001b[0;34m=\u001b[0m\u001b[0mall_paths_676\u001b[0m\u001b[0;34m,\u001b[0m \u001b[0mpath_list_out\u001b[0m\u001b[0;34m=\u001b[0m\u001b[0;34m\"676_bin_norm_2\"\u001b[0m\u001b[0;34m,\u001b[0m \u001b[0msplit_data\u001b[0m\u001b[0;34m=\u001b[0m\u001b[0;32mTrue\u001b[0m\u001b[0;34m,\u001b[0m \u001b[0msplit_ratio\u001b[0m\u001b[0;34m=\u001b[0m\u001b[0;36m0.8\u001b[0m\u001b[0;34m,\u001b[0m \u001b[0moutput_directory\u001b[0m\u001b[0;34m=\u001b[0m\u001b[0;34m\"/projects/HASSON/247/data/normalized-conversations/676_bin_norm_2/\"\u001b[0m\u001b[0;34m,\u001b[0m \u001b[0mfile_prefix\u001b[0m\u001b[0;34m=\u001b[0m\u001b[0;34m\"bin_norm_2_\"\u001b[0m\u001b[0;34m,\u001b[0m \u001b[0mbinned\u001b[0m\u001b[0;34m=\u001b[0m\u001b[0;32mTrue\u001b[0m\u001b[0;34m,\u001b[0m \u001b[0mavg_timestep_count\u001b[0m\u001b[0;34m=\u001b[0m\u001b[0;36m25\u001b[0m\u001b[0;34m)\u001b[0m\u001b[0;34m\u001b[0m\u001b[0;34m\u001b[0m\u001b[0m\n\u001b[0m",
      "\u001b[0;32m~/brain2brain/brain2brain/utils.py\u001b[0m in \u001b[0;36mnormalize_dataset\u001b[0;34m(file_paths, path_list_out, split_data, split_ratio, output_directory, file_prefix, binned, avg_timestep_count)\u001b[0m\n\u001b[1;32m    464\u001b[0m                                                            \u001b[0mfile_prefix\u001b[0m\u001b[0;34m=\u001b[0m\u001b[0mfile_prefix\u001b[0m\u001b[0;34m,\u001b[0m\u001b[0;34m\u001b[0m\u001b[0;34m\u001b[0m\u001b[0m\n\u001b[1;32m    465\u001b[0m                                                            \u001b[0mbinned\u001b[0m\u001b[0;34m=\u001b[0m\u001b[0mbinned\u001b[0m\u001b[0;34m,\u001b[0m\u001b[0;34m\u001b[0m\u001b[0;34m\u001b[0m\u001b[0m\n\u001b[0;32m--> 466\u001b[0;31m                                                            avg_timestep_count=avg_timestep_count)\n\u001b[0m\u001b[1;32m    467\u001b[0m         \u001b[0mpath_list_out_train\u001b[0m \u001b[0;34m=\u001b[0m \u001b[0;34m\"train_\"\u001b[0m \u001b[0;34m+\u001b[0m \u001b[0mpath_list_out\u001b[0m \u001b[0;34m+\u001b[0m \u001b[0;34m\".txt\"\u001b[0m\u001b[0;34m\u001b[0m\u001b[0;34m\u001b[0m\u001b[0m\n\u001b[1;32m    468\u001b[0m         \u001b[0msave_file_paths\u001b[0m\u001b[0;34m(\u001b[0m\u001b[0mtrain_file_path_list\u001b[0m\u001b[0;34m,\u001b[0m \u001b[0mpath_list_out_train\u001b[0m\u001b[0;34m)\u001b[0m\u001b[0;34m\u001b[0m\u001b[0;34m\u001b[0m\u001b[0m\n",
      "\u001b[0;32m~/brain2brain/brain2brain/utils.py\u001b[0m in \u001b[0;36mnormalize_dataset_partition\u001b[0;34m(file_paths, output_directory, file_prefix, binned, avg_timestep_count)\u001b[0m\n\u001b[1;32m    418\u001b[0m             \u001b[0mprint\u001b[0m\u001b[0;34m(\u001b[0m\u001b[0;34m\"Binning dataset partition.\"\u001b[0m\u001b[0;34m)\u001b[0m\u001b[0;34m\u001b[0m\u001b[0;34m\u001b[0m\u001b[0m\n\u001b[1;32m    419\u001b[0m             \u001b[0mdata\u001b[0m \u001b[0;34m=\u001b[0m \u001b[0mbin_data\u001b[0m\u001b[0;34m(\u001b[0m\u001b[0mdata\u001b[0m\u001b[0;34m,\u001b[0m \u001b[0mavg_timestep_count\u001b[0m\u001b[0;34m)\u001b[0m\u001b[0;34m\u001b[0m\u001b[0;34m\u001b[0m\u001b[0m\n\u001b[0;32m--> 420\u001b[0;31m         \u001b[0mdata\u001b[0m \u001b[0;34m=\u001b[0m \u001b[0mnormalize_data_arr\u001b[0m\u001b[0;34m(\u001b[0m\u001b[0mdata\u001b[0m\u001b[0;34m,\u001b[0m \u001b[0mmean\u001b[0m\u001b[0;34m,\u001b[0m \u001b[0mstd\u001b[0m\u001b[0;34m)\u001b[0m\u001b[0;34m\u001b[0m\u001b[0;34m\u001b[0m\u001b[0m\n\u001b[0m\u001b[1;32m    421\u001b[0m         \u001b[0;31m# Save to new path.\u001b[0m\u001b[0;34m\u001b[0m\u001b[0;34m\u001b[0m\u001b[0;34m\u001b[0m\u001b[0m\n\u001b[1;32m    422\u001b[0m         \u001b[0;31m# Ensure that the directory exists.\u001b[0m\u001b[0;34m\u001b[0m\u001b[0;34m\u001b[0m\u001b[0;34m\u001b[0m\u001b[0m\n",
      "\u001b[0;32m~/brain2brain/brain2brain/utils.py\u001b[0m in \u001b[0;36mnormalize_data_arr\u001b[0;34m(data, mean, std)\u001b[0m\n\u001b[1;32m    337\u001b[0m     '''\n\u001b[1;32m    338\u001b[0m     \u001b[0mnew_data_normalized\u001b[0m \u001b[0;34m=\u001b[0m \u001b[0mnp\u001b[0m\u001b[0;34m.\u001b[0m\u001b[0msubtract\u001b[0m\u001b[0;34m(\u001b[0m\u001b[0mdata\u001b[0m\u001b[0;34m,\u001b[0m \u001b[0mmean\u001b[0m\u001b[0;34m)\u001b[0m\u001b[0;34m\u001b[0m\u001b[0;34m\u001b[0m\u001b[0m\n\u001b[0;32m--> 339\u001b[0;31m     \u001b[0mnew_data_normalized\u001b[0m \u001b[0;34m=\u001b[0m \u001b[0mnp\u001b[0m\u001b[0;34m.\u001b[0m\u001b[0mdivide\u001b[0m\u001b[0;34m(\u001b[0m\u001b[0mnew_data_normalized\u001b[0m\u001b[0;34m,\u001b[0m \u001b[0mstd\u001b[0m\u001b[0;34m)\u001b[0m\u001b[0;34m\u001b[0m\u001b[0;34m\u001b[0m\u001b[0m\n\u001b[0m\u001b[1;32m    340\u001b[0m     \u001b[0;32mreturn\u001b[0m \u001b[0mnew_data_normalized\u001b[0m\u001b[0;34m\u001b[0m\u001b[0;34m\u001b[0m\u001b[0m\n\u001b[1;32m    341\u001b[0m \u001b[0;34m\u001b[0m\u001b[0m\n",
      "\u001b[0;31mKeyboardInterrupt\u001b[0m: "
     ]
    }
   ],
   "source": [
    "utils.normalize_dataset(file_paths=all_paths_676, path_list_out=\"676_bin_norm_2\",\n",
    "                        split_data=True, split_ratio=0.8,\n",
    "                        output_directory=\"/projects/HASSON/247/data/binned_conversations/676_bin_norm_2/\",\n",
    "                        file_prefix=\"bin_norm_2_\", binned=True, avg_timestep_count=25)"
   ]
  },
  {
   "cell_type": "code",
   "execution_count": 4,
   "metadata": {},
   "outputs": [],
   "source": [
    "# Read saved paths for training.\n",
    "saved_paths_676 = utils.get_file_paths(\"/home/tmarcu/brain2brain/brain2brain/train_676_norm_files_projects.txt\")\n",
    "train_676, val_676 = utils.split_file_paths(saved_paths_676, 0.8)"
   ]
  },
  {
   "cell_type": "code",
   "execution_count": 5,
   "metadata": {},
   "outputs": [],
   "source": [
    "train_676_generator = generators.FGenerator(file_paths = train_676,\n",
    "                                            lookback=125, length = 1, delay = 0,\n",
    "                                            batch_size = 256, sample_period = 1,\n",
    "                                            electrodes= [0, 1], shuffle = True, debug=False)"
   ]
  },
  {
   "cell_type": "code",
   "execution_count": 8,
   "metadata": {},
   "outputs": [
    {
     "data": {
      "text/plain": [
       "2"
      ]
     },
     "execution_count": 8,
     "metadata": {},
     "output_type": "execute_result"
    }
   ],
   "source": [
    "train_676_generator[0][0].shape[2]"
   ]
  },
  {
   "cell_type": "code",
   "execution_count": 13,
   "metadata": {},
   "outputs": [
    {
     "data": {
      "text/plain": [
       "(256, 1, 2)"
      ]
     },
     "execution_count": 13,
     "metadata": {},
     "output_type": "execute_result"
    }
   ],
   "source": [
    "train_676_generator[0][1].shape"
   ]
  },
  {
   "cell_type": "code",
   "execution_count": 6,
   "metadata": {},
   "outputs": [
    {
     "name": "stdout",
     "output_type": "stream",
     "text": [
      "T:1.1659440994262695\n",
      "T:1.1444377899169922\n",
      "T:1.1483190059661865\n",
      "T:1.1474039554595947\n"
     ]
    },
    {
     "ename": "KeyboardInterrupt",
     "evalue": "",
     "output_type": "error",
     "traceback": [
      "\u001b[0;31m---------------------------------------------------------------------------\u001b[0m",
      "\u001b[0;31mKeyboardInterrupt\u001b[0m                         Traceback (most recent call last)",
      "\u001b[0;32m<ipython-input-6-5acdba72e93d>\u001b[0m in \u001b[0;36m<module>\u001b[0;34m\u001b[0m\n\u001b[1;32m      3\u001b[0m \u001b[0;32mfor\u001b[0m \u001b[0mi\u001b[0m \u001b[0;32min\u001b[0m \u001b[0mrange\u001b[0m\u001b[0;34m(\u001b[0m\u001b[0mlen\u001b[0m\u001b[0;34m(\u001b[0m\u001b[0mtrain_676_generator\u001b[0m\u001b[0;34m)\u001b[0m\u001b[0;34m)\u001b[0m\u001b[0;34m:\u001b[0m\u001b[0;34m\u001b[0m\u001b[0;34m\u001b[0m\u001b[0m\n\u001b[1;32m      4\u001b[0m     \u001b[0mt0\u001b[0m \u001b[0;34m=\u001b[0m \u001b[0mtime\u001b[0m\u001b[0;34m.\u001b[0m\u001b[0mtime\u001b[0m\u001b[0;34m(\u001b[0m\u001b[0;34m)\u001b[0m\u001b[0;34m\u001b[0m\u001b[0;34m\u001b[0m\u001b[0m\n\u001b[0;32m----> 5\u001b[0;31m     \u001b[0mx\u001b[0m\u001b[0;34m,\u001b[0m \u001b[0my\u001b[0m \u001b[0;34m=\u001b[0m \u001b[0mtrain_676_generator\u001b[0m\u001b[0;34m[\u001b[0m\u001b[0mi\u001b[0m\u001b[0;34m]\u001b[0m\u001b[0;34m\u001b[0m\u001b[0;34m\u001b[0m\u001b[0m\n\u001b[0m\u001b[1;32m      6\u001b[0m     \u001b[0mt1\u001b[0m \u001b[0;34m=\u001b[0m \u001b[0mtime\u001b[0m\u001b[0;34m.\u001b[0m\u001b[0mtime\u001b[0m\u001b[0;34m(\u001b[0m\u001b[0;34m)\u001b[0m\u001b[0;34m\u001b[0m\u001b[0;34m\u001b[0m\u001b[0m\n\u001b[1;32m      7\u001b[0m     \u001b[0mprint\u001b[0m\u001b[0;34m(\u001b[0m\u001b[0;34mf\"T:{t1-t0}\"\u001b[0m\u001b[0;34m)\u001b[0m\u001b[0;34m\u001b[0m\u001b[0;34m\u001b[0m\u001b[0m\n",
      "\u001b[0;32m~/brain2brain/brain2brain/generators.py\u001b[0m in \u001b[0;36m__getitem__\u001b[0;34m(self, index)\u001b[0m\n\u001b[1;32m    186\u001b[0m         \u001b[0;32mfor\u001b[0m \u001b[0mfile_ix\u001b[0m \u001b[0;32min\u001b[0m \u001b[0mbatch\u001b[0m\u001b[0;34m:\u001b[0m\u001b[0;34m\u001b[0m\u001b[0;34m\u001b[0m\u001b[0m\n\u001b[1;32m    187\u001b[0m             \u001b[0mfile_path\u001b[0m \u001b[0;34m=\u001b[0m \u001b[0mself\u001b[0m\u001b[0;34m.\u001b[0m\u001b[0mfile_paths\u001b[0m\u001b[0;34m[\u001b[0m\u001b[0mfile_ix\u001b[0m\u001b[0;34m]\u001b[0m\u001b[0;34m\u001b[0m\u001b[0;34m\u001b[0m\u001b[0m\n\u001b[0;32m--> 188\u001b[0;31m             \u001b[0mfile_contents\u001b[0m \u001b[0;34m=\u001b[0m \u001b[0mnp\u001b[0m\u001b[0;34m.\u001b[0m\u001b[0mload\u001b[0m\u001b[0;34m(\u001b[0m\u001b[0mfile_path\u001b[0m\u001b[0;34m)\u001b[0m\u001b[0;34m\u001b[0m\u001b[0;34m\u001b[0m\u001b[0m\n\u001b[0m\u001b[1;32m    189\u001b[0m             \u001b[0mfile_contents\u001b[0m \u001b[0;34m=\u001b[0m \u001b[0mfile_contents\u001b[0m\u001b[0;34m[\u001b[0m\u001b[0;34m:\u001b[0m\u001b[0;34m,\u001b[0m \u001b[0mself\u001b[0m\u001b[0;34m.\u001b[0m\u001b[0melectrodes\u001b[0m\u001b[0;34m]\u001b[0m\u001b[0;34m\u001b[0m\u001b[0;34m\u001b[0m\u001b[0m\n\u001b[1;32m    190\u001b[0m             \u001b[0;31m# if self.normalize:\u001b[0m\u001b[0;34m\u001b[0m\u001b[0;34m\u001b[0m\u001b[0;34m\u001b[0m\u001b[0m\n",
      "\u001b[0;32m~/.conda/envs/brain2brain_env/lib/python3.7/site-packages/numpy/lib/npyio.py\u001b[0m in \u001b[0;36mload\u001b[0;34m(file, mmap_mode, allow_pickle, fix_imports, encoding)\u001b[0m\n\u001b[1;32m    451\u001b[0m             \u001b[0;32melse\u001b[0m\u001b[0;34m:\u001b[0m\u001b[0;34m\u001b[0m\u001b[0;34m\u001b[0m\u001b[0m\n\u001b[1;32m    452\u001b[0m                 return format.read_array(fid, allow_pickle=allow_pickle,\n\u001b[0;32m--> 453\u001b[0;31m                                          pickle_kwargs=pickle_kwargs)\n\u001b[0m\u001b[1;32m    454\u001b[0m         \u001b[0;32melse\u001b[0m\u001b[0;34m:\u001b[0m\u001b[0;34m\u001b[0m\u001b[0;34m\u001b[0m\u001b[0m\n\u001b[1;32m    455\u001b[0m             \u001b[0;31m# Try a pickle\u001b[0m\u001b[0;34m\u001b[0m\u001b[0;34m\u001b[0m\u001b[0;34m\u001b[0m\u001b[0m\n",
      "\u001b[0;32m~/.conda/envs/brain2brain_env/lib/python3.7/site-packages/numpy/lib/format.py\u001b[0m in \u001b[0;36mread_array\u001b[0;34m(fp, allow_pickle, pickle_kwargs)\u001b[0m\n\u001b[1;32m    753\u001b[0m         \u001b[0;32mif\u001b[0m \u001b[0misfileobj\u001b[0m\u001b[0;34m(\u001b[0m\u001b[0mfp\u001b[0m\u001b[0;34m)\u001b[0m\u001b[0;34m:\u001b[0m\u001b[0;34m\u001b[0m\u001b[0;34m\u001b[0m\u001b[0m\n\u001b[1;32m    754\u001b[0m             \u001b[0;31m# We can use the fast fromfile() function.\u001b[0m\u001b[0;34m\u001b[0m\u001b[0;34m\u001b[0m\u001b[0;34m\u001b[0m\u001b[0m\n\u001b[0;32m--> 755\u001b[0;31m             \u001b[0marray\u001b[0m \u001b[0;34m=\u001b[0m \u001b[0mnumpy\u001b[0m\u001b[0;34m.\u001b[0m\u001b[0mfromfile\u001b[0m\u001b[0;34m(\u001b[0m\u001b[0mfp\u001b[0m\u001b[0;34m,\u001b[0m \u001b[0mdtype\u001b[0m\u001b[0;34m=\u001b[0m\u001b[0mdtype\u001b[0m\u001b[0;34m,\u001b[0m \u001b[0mcount\u001b[0m\u001b[0;34m=\u001b[0m\u001b[0mcount\u001b[0m\u001b[0;34m)\u001b[0m\u001b[0;34m\u001b[0m\u001b[0;34m\u001b[0m\u001b[0m\n\u001b[0m\u001b[1;32m    756\u001b[0m         \u001b[0;32melse\u001b[0m\u001b[0;34m:\u001b[0m\u001b[0;34m\u001b[0m\u001b[0;34m\u001b[0m\u001b[0m\n\u001b[1;32m    757\u001b[0m             \u001b[0;31m# This is not a real file. We have to read it the\u001b[0m\u001b[0;34m\u001b[0m\u001b[0;34m\u001b[0m\u001b[0;34m\u001b[0m\u001b[0m\n",
      "\u001b[0;31mKeyboardInterrupt\u001b[0m: "
     ]
    }
   ],
   "source": [
    "maxt = 0\n",
    "sumt = 0\n",
    "for i in range(len(train_676_generator)):\n",
    "    t0 = time.time()\n",
    "    x, y = train_676_generator[i]\n",
    "    t1 = time.time()\n",
    "    print(f\"T:{t1-t0}\")\n",
    "    sumt += (t1 - t0)\n",
    "    if (t1 - t0) > maxt:\n",
    "        maxt = t1-t0\n",
    "print(f\"Max: {maxt}\")\n",
    "print(f\"Avg: {sumt/len(train_676_generator)}\")"
   ]
  },
  {
   "cell_type": "code",
   "execution_count": 12,
   "metadata": {},
   "outputs": [
    {
     "name": "stdout",
     "output_type": "stream",
     "text": [
      "Max: 10.227735757827759\n",
      "Avg: 1.4914311466390007\n"
     ]
    }
   ],
   "source": [
    "print(f\"Max: {maxt}\")\n",
    "print(f\"Avg: {sumt/len(train_676_generator)}\")"
   ]
  },
  {
   "cell_type": "code",
   "execution_count": 7,
   "metadata": {},
   "outputs": [],
   "source": [
    "train_676_generator2 = generators.Generator(file_paths = train_676,\n",
    "                                            lookback=128, length = 1, delay = 0,\n",
    "                                            batch_size = 256, sample_period = 1,\n",
    "                                            num_electrodes=1, shuffle = True)"
   ]
  },
  {
   "cell_type": "code",
   "execution_count": null,
   "metadata": {},
   "outputs": [
    {
     "name": "stdout",
     "output_type": "stream",
     "text": [
      "0\n",
      "T:372.5089497566223\n",
      "1\n",
      "T:355.28351521492004\n",
      "2\n",
      "T:355.06990242004395\n",
      "3\n",
      "T:326.5501968860626\n",
      "4\n",
      "T:374.50031447410583\n",
      "5\n",
      "T:351.6825261116028\n"
     ]
    }
   ],
   "source": [
    "maxt = 0\n",
    "sumt = 0\n",
    "for i in range(len(train_676_generator2)):\n",
    "    t0 = time.time()\n",
    "    x, y = train_676_generator2[i]\n",
    "    t1 = time.time()\n",
    "    print(i)\n",
    "    print(f\"T:{t1-t0}\")\n",
    "    sumt += (t1 - t0)\n",
    "    if (t1 - t0) > maxt:\n",
    "        maxt = t1-t0\n",
    "print(f\"Max: {maxt}\")\n",
    "print(f\"Avg: {sumt/len(train_676_generator2)}\")"
   ]
  },
  {
   "cell_type": "code",
   "execution_count": null,
   "metadata": {},
   "outputs": [],
   "source": [
    "# Load Files For A Patient\n",
    "# Split Them Into Train and Test\n",
    "# Save the File Names"
   ]
  },
  {
   "cell_type": "code",
   "execution_count": 17,
   "metadata": {},
   "outputs": [
    {
     "name": "stdout",
     "output_type": "stream",
     "text": [
      "676 Total Timestep Count: 70518637\n",
      "676 TRAIN Total Timestep Count: 53585585\n",
      "676 TEST Total Timestep Count: 16933052\n"
     ]
    }
   ],
   "source": [
    "# Load Normalized Files for a Patient\n",
    "files_676_norm = utils.get_file_paths_from_dir(\"/projects/HASSON/247/data/normalized-conversations/\", \n",
    "                                               sort=True, shuffle=True)\n",
    "# Split them into train and test\n",
    "train_676_norm, test_676_norm = utils.split_file_paths(file_paths = files_676_norm, split_ratio=0.8)\n",
    "print(f\"676 Total Timestep Count: {utils.get_total_timestep_count(files_676_norm)}\")\n",
    "print(f\"676 TRAIN Total Timestep Count: {utils.get_total_timestep_count(train_676_norm)}\")\n",
    "print(f\"676 TEST Total Timestep Count: {utils.get_total_timestep_count(test_676_norm)}\")"
   ]
  },
  {
   "cell_type": "code",
   "execution_count": 18,
   "metadata": {},
   "outputs": [],
   "source": [
    "# Save the files\n",
    "with open('train_676_norm_files_projects.txt', 'w') as filehandle:\n",
    "    for path in train_676_norm:\n",
    "        filehandle.write('%s\\n' % path)"
   ]
  },
  {
   "cell_type": "code",
   "execution_count": 19,
   "metadata": {},
   "outputs": [],
   "source": [
    "# Save the files\n",
    "with open('test_676_norm_files_projects.txt', 'w') as filehandle:\n",
    "    for path in test_676_norm:\n",
    "        filehandle.write('%s\\n' % path)"
   ]
  },
  {
   "cell_type": "code",
   "execution_count": 4,
   "metadata": {},
   "outputs": [],
   "source": [
    "# Load Files for a Patient\n",
    "files_676 = utils.get_file_paths_from_root(patient_number = 676, sort=True, shuffle=True)"
   ]
  },
  {
   "cell_type": "code",
   "execution_count": 19,
   "metadata": {},
   "outputs": [
    {
     "data": {
      "text/plain": [
       "'/projects/HASSON/247/data/676-conversations/NY676_616_Part1_conversation5/NY676_616_Part1_conversation5.npy'"
      ]
     },
     "execution_count": 19,
     "metadata": {},
     "output_type": "execute_result"
    }
   ],
   "source": [
    "files_676[0]"
   ]
  },
  {
   "cell_type": "code",
   "execution_count": 8,
   "metadata": {},
   "outputs": [],
   "source": [
    "# Split them into train and test\n",
    "train_676, test_676 = utils.split_file_paths(file_paths = files_676, split_ratio=0.8)"
   ]
  },
  {
   "cell_type": "code",
   "execution_count": 10,
   "metadata": {},
   "outputs": [
    {
     "name": "stdout",
     "output_type": "stream",
     "text": [
      "676 Total Timestep Count: 70518637\n",
      "676 TRAIN Total Timestep Count: 55871878\n",
      "676 TEST Total Timestep Count: 14646759\n"
     ]
    }
   ],
   "source": [
    "print(f\"676 Total Timestep Count: {utils.get_total_timestep_count(files_676)}\")\n",
    "print(f\"676 TRAIN Total Timestep Count: {utils.get_total_timestep_count(train_676)}\")\n",
    "print(f\"676 TEST Total Timestep Count: {utils.get_total_timestep_count(test_676)}\")"
   ]
  },
  {
   "cell_type": "code",
   "execution_count": 12,
   "metadata": {},
   "outputs": [],
   "source": [
    "# # Save the files\n",
    "# with open('train_676_files.txt', 'w') as filehandle:\n",
    "#     for path in train_676:\n",
    "#         filehandle.write('%s\\n' % path)"
   ]
  },
  {
   "cell_type": "code",
   "execution_count": 13,
   "metadata": {},
   "outputs": [],
   "source": [
    "# # # Save the files\n",
    "# with open('test_676_files.txt', 'w') as filehandle:\n",
    "#     for path in test_676:\n",
    "#         filehandle.write('%s\\n' % path)"
   ]
  },
  {
   "cell_type": "code",
   "execution_count": 47,
   "metadata": {},
   "outputs": [
    {
     "name": "stdout",
     "output_type": "stream",
     "text": [
      "Normalized file and saved at /tmp/tmarcu/normalized-conversations/676-conversations-normalized/norm_NY676_616_Part1_conversation5/norm_NY676_616_Part1_conversation5.npy\n",
      "Elapsed time: 1.61s 1/84 done\n",
      "Normalized file and saved at /tmp/tmarcu/normalized-conversations/676-conversations-normalized/norm_NY676_618_Part7_conversation6/norm_NY676_618_Part7_conversation6.npy\n",
      "Elapsed time: 1.23s 2/84 done\n",
      "Normalized file and saved at /tmp/tmarcu/normalized-conversations/676-conversations-normalized/norm_NY676_618_Part4_conversation7/norm_NY676_618_Part4_conversation7.npy\n",
      "Elapsed time: 0.35s 3/84 done\n",
      "Normalized file and saved at /tmp/tmarcu/normalized-conversations/676-conversations-normalized/norm_NY676_617_Part1_conversation5/norm_NY676_617_Part1_conversation5.npy\n",
      "Elapsed time: 0.42s 4/84 done\n",
      "Normalized file and saved at /tmp/tmarcu/normalized-conversations/676-conversations-normalized/norm_NY676_618_Part4_conversation5/norm_NY676_618_Part4_conversation5.npy\n",
      "Elapsed time: 2.39s 5/84 done\n",
      "Normalized file and saved at /tmp/tmarcu/normalized-conversations/676-conversations-normalized/norm_NY676_620_Part5-one_conversation5/norm_NY676_620_Part5-one_conversation5.npy\n",
      "Elapsed time: 2.33s 6/84 done\n",
      "Normalized file and saved at /tmp/tmarcu/normalized-conversations/676-conversations-normalized/norm_NY676_619_Part6_conversation1/norm_NY676_619_Part6_conversation1.npy\n",
      "Elapsed time: 0.32s 7/84 done\n",
      "Normalized file and saved at /tmp/tmarcu/normalized-conversations/676-conversations-normalized/norm_NY676_619_Part2_conversation3/norm_NY676_619_Part2_conversation3.npy\n",
      "Elapsed time: 1.84s 8/84 done\n",
      "Normalized file and saved at /tmp/tmarcu/normalized-conversations/676-conversations-normalized/norm_NY676_620_Part6_conversation3/norm_NY676_620_Part6_conversation3.npy\n",
      "Elapsed time: 4.74s 9/84 done\n",
      "Normalized file and saved at /tmp/tmarcu/normalized-conversations/676-conversations-normalized/norm_NY676_618_Part4_conversation8/norm_NY676_618_Part4_conversation8.npy\n",
      "Elapsed time: 0.12s 10/84 done\n",
      "Normalized file and saved at /tmp/tmarcu/normalized-conversations/676-conversations-normalized/norm_NY676_620_Part2_conversation2/norm_NY676_620_Part2_conversation2.npy\n",
      "Elapsed time: 4.92s 11/84 done\n",
      "Normalized file and saved at /tmp/tmarcu/normalized-conversations/676-conversations-normalized/norm_NY676_619_Part2_conversation2/norm_NY676_619_Part2_conversation2.npy\n",
      "Elapsed time: 3.83s 12/84 done\n",
      "Normalized file and saved at /tmp/tmarcu/normalized-conversations/676-conversations-normalized/norm_NY676_620_Part3-one_conversation1/norm_NY676_620_Part3-one_conversation1.npy\n",
      "Elapsed time: 2.62s 13/84 done\n",
      "Normalized file and saved at /tmp/tmarcu/normalized-conversations/676-conversations-normalized/norm_NY676_619_Part7_conversation1/norm_NY676_619_Part7_conversation1.npy\n",
      "Elapsed time: 0.47s 14/84 done\n",
      "Normalized file and saved at /tmp/tmarcu/normalized-conversations/676-conversations-normalized/norm_NY676_617_Part2_conversation6/norm_NY676_617_Part2_conversation6.npy\n",
      "Elapsed time: 0.90s 15/84 done\n",
      "Normalized file and saved at /tmp/tmarcu/normalized-conversations/676-conversations-normalized/norm_NY676_620_Part2_conversation3/norm_NY676_620_Part2_conversation3.npy\n",
      "Elapsed time: 1.48s 16/84 done\n",
      "Normalized file and saved at /tmp/tmarcu/normalized-conversations/676-conversations-normalized/norm_NY676_618_Part7_conversation2/norm_NY676_618_Part7_conversation2.npy\n",
      "Elapsed time: 1.00s 17/84 done\n",
      "Normalized file and saved at /tmp/tmarcu/normalized-conversations/676-conversations-normalized/norm_NY676_620_Part5-one_conversation2/norm_NY676_620_Part5-one_conversation2.npy\n",
      "Elapsed time: 4.43s 18/84 done\n",
      "Normalized file and saved at /tmp/tmarcu/normalized-conversations/676-conversations-normalized/norm_NY676_616_Part2-one_conversation1/norm_NY676_616_Part2-one_conversation1.npy\n",
      "Elapsed time: 1.81s 19/84 done\n",
      "Normalized file and saved at /tmp/tmarcu/normalized-conversations/676-conversations-normalized/norm_NY676_616_Part2-two_conversation2/norm_NY676_616_Part2-two_conversation2.npy\n",
      "Elapsed time: 1.36s 20/84 done\n",
      "Normalized file and saved at /tmp/tmarcu/normalized-conversations/676-conversations-normalized/norm_NY676_617_Part1_conversation1/norm_NY676_617_Part1_conversation1.npy\n",
      "Elapsed time: 11.83s 21/84 done\n",
      "Normalized file and saved at /tmp/tmarcu/normalized-conversations/676-conversations-normalized/norm_NY676_619_Part4_conversation2/norm_NY676_619_Part4_conversation2.npy\n",
      "Elapsed time: 0.18s 22/84 done\n",
      "Normalized file and saved at /tmp/tmarcu/normalized-conversations/676-conversations-normalized/norm_NY676_619_Part5-two_conversation2/norm_NY676_619_Part5-two_conversation2.npy\n",
      "Elapsed time: 0.43s 23/84 done\n",
      "Normalized file and saved at /tmp/tmarcu/normalized-conversations/676-conversations-normalized/norm_NY676_618_Part4_conversation6/norm_NY676_618_Part4_conversation6.npy\n",
      "Elapsed time: 0.27s 24/84 done\n",
      "Normalized file and saved at /tmp/tmarcu/normalized-conversations/676-conversations-normalized/norm_NY676_617_Part1_conversation4/norm_NY676_617_Part1_conversation4.npy\n",
      "Elapsed time: 1.08s 25/84 done\n",
      "Normalized file and saved at /tmp/tmarcu/normalized-conversations/676-conversations-normalized/norm_NY676_616_Part1_conversation1/norm_NY676_616_Part1_conversation1.npy\n",
      "Elapsed time: 3.38s 26/84 done\n",
      "Normalized file and saved at /tmp/tmarcu/normalized-conversations/676-conversations-normalized/norm_NY676_619_Part5-two_conversation3/norm_NY676_619_Part5-two_conversation3.npy\n",
      "Elapsed time: 0.83s 27/84 done\n",
      "Normalized file and saved at /tmp/tmarcu/normalized-conversations/676-conversations-normalized/norm_NY676_618_Part6_conversation1/norm_NY676_618_Part6_conversation1.npy\n",
      "Elapsed time: 2.12s 28/84 done\n",
      "Normalized file and saved at /tmp/tmarcu/normalized-conversations/676-conversations-normalized/norm_NY676_620_Part3-one_conversation4/norm_NY676_620_Part3-one_conversation4.npy\n",
      "Elapsed time: 0.27s 29/84 done\n",
      "Normalized file and saved at /tmp/tmarcu/normalized-conversations/676-conversations-normalized/norm_NY676_618_Part4_conversation10/norm_NY676_618_Part4_conversation10.npy\n",
      "Elapsed time: 0.42s 30/84 done\n",
      "Normalized file and saved at /tmp/tmarcu/normalized-conversations/676-conversations-normalized/norm_NY676_618_Part6_conversation2/norm_NY676_618_Part6_conversation2.npy\n",
      "Elapsed time: 7.95s 31/84 done\n",
      "Normalized file and saved at /tmp/tmarcu/normalized-conversations/676-conversations-normalized/norm_NY676_617_Part2_conversation1/norm_NY676_617_Part2_conversation1.npy\n",
      "Elapsed time: 0.45s 32/84 done\n",
      "Normalized file and saved at /tmp/tmarcu/normalized-conversations/676-conversations-normalized/norm_NY676_616_Part1_conversation4/norm_NY676_616_Part1_conversation4.npy\n",
      "Elapsed time: 1.16s 33/84 done\n",
      "Normalized file and saved at /tmp/tmarcu/normalized-conversations/676-conversations-normalized/norm_NY676_618_Part7_conversation5/norm_NY676_618_Part7_conversation5.npy\n",
      "Elapsed time: 0.99s 34/84 done\n",
      "Normalized file and saved at /tmp/tmarcu/normalized-conversations/676-conversations-normalized/norm_NY676_618_Part4_conversation1/norm_NY676_618_Part4_conversation1.npy\n",
      "Elapsed time: 0.71s 35/84 done\n",
      "Normalized file and saved at /tmp/tmarcu/normalized-conversations/676-conversations-normalized/norm_NY676_619_Part4_conversation1/norm_NY676_619_Part4_conversation1.npy\n",
      "Elapsed time: 5.65s 36/84 done\n",
      "Normalized file and saved at /tmp/tmarcu/normalized-conversations/676-conversations-normalized/norm_NY676_619_Part2_conversation1/norm_NY676_619_Part2_conversation1.npy\n",
      "Elapsed time: 0.53s 37/84 done\n",
      "Normalized file and saved at /tmp/tmarcu/normalized-conversations/676-conversations-normalized/norm_NY676_617_Part2_conversation5/norm_NY676_617_Part2_conversation5.npy\n",
      "Elapsed time: 0.32s 38/84 done\n",
      "Normalized file and saved at /tmp/tmarcu/normalized-conversations/676-conversations-normalized/norm_NY676_617_Part0_conversation1/norm_NY676_617_Part0_conversation1.npy\n",
      "Elapsed time: 0.10s 39/84 done\n",
      "Normalized file and saved at /tmp/tmarcu/normalized-conversations/676-conversations-normalized/norm_NY676_618_Part4_conversation4/norm_NY676_618_Part4_conversation4.npy\n",
      "Elapsed time: 0.09s 40/84 done\n",
      "Normalized file and saved at /tmp/tmarcu/normalized-conversations/676-conversations-normalized/norm_NY676_619_Part5-one_conversation1/norm_NY676_619_Part5-one_conversation1.npy\n",
      "Elapsed time: 0.35s 41/84 done\n",
      "Normalized file and saved at /tmp/tmarcu/normalized-conversations/676-conversations-normalized/norm_NY676_618_Part4_conversation3/norm_NY676_618_Part4_conversation3.npy\n",
      "Elapsed time: 0.37s 42/84 done\n",
      "Normalized file and saved at /tmp/tmarcu/normalized-conversations/676-conversations-normalized/norm_NY676_621_Part2-two_conversation1/norm_NY676_621_Part2-two_conversation1.npy\n",
      "Elapsed time: 3.51s 43/84 done\n",
      "Normalized file and saved at /tmp/tmarcu/normalized-conversations/676-conversations-normalized/norm_NY676_616_Part2-two_conversation3/norm_NY676_616_Part2-two_conversation3.npy\n",
      "Elapsed time: 1.35s 44/84 done\n",
      "Normalized file and saved at /tmp/tmarcu/normalized-conversations/676-conversations-normalized/norm_NY676_617_Part1_conversation3/norm_NY676_617_Part1_conversation3.npy\n",
      "Elapsed time: 1.34s 45/84 done\n",
      "Normalized file and saved at /tmp/tmarcu/normalized-conversations/676-conversations-normalized/norm_NY676_619_Part3_conversation3/norm_NY676_619_Part3_conversation3.npy\n",
      "Elapsed time: 2.97s 46/84 done\n",
      "Normalized file and saved at /tmp/tmarcu/normalized-conversations/676-conversations-normalized/norm_NY676_619_Part5-two_conversation1/norm_NY676_619_Part5-two_conversation1.npy\n",
      "Elapsed time: 2.94s 47/84 done\n",
      "Normalized file and saved at /tmp/tmarcu/normalized-conversations/676-conversations-normalized/norm_NY676_618_Part7_conversation3/norm_NY676_618_Part7_conversation3.npy\n",
      "Elapsed time: 1.88s 48/84 done\n",
      "Normalized file and saved at /tmp/tmarcu/normalized-conversations/676-conversations-normalized/norm_NY676_620_Part5-two_conversation1/norm_NY676_620_Part5-two_conversation1.npy\n",
      "Elapsed time: 1.25s 49/84 done\n",
      "Normalized file and saved at /tmp/tmarcu/normalized-conversations/676-conversations-normalized/norm_NY676_619_Part3_conversation1/norm_NY676_619_Part3_conversation1.npy\n",
      "Elapsed time: 1.20s 50/84 done\n",
      "Normalized file and saved at /tmp/tmarcu/normalized-conversations/676-conversations-normalized/norm_NY676_618_Part7_conversation4/norm_NY676_618_Part7_conversation4.npy\n",
      "Elapsed time: 1.34s 51/84 done\n",
      "Normalized file and saved at /tmp/tmarcu/normalized-conversations/676-conversations-normalized/norm_NY676_619_Part3_conversation2/norm_NY676_619_Part3_conversation2.npy\n",
      "Elapsed time: 6.84s 52/84 done\n",
      "Normalized file and saved at /tmp/tmarcu/normalized-conversations/676-conversations-normalized/norm_NY676_617_Part2_conversation2/norm_NY676_617_Part2_conversation2.npy\n",
      "Elapsed time: 6.62s 53/84 done\n",
      "Normalized file and saved at /tmp/tmarcu/normalized-conversations/676-conversations-normalized/norm_NY676_617_Part1_conversation2/norm_NY676_617_Part1_conversation2.npy\n",
      "Elapsed time: 0.36s 54/84 done\n",
      "Normalized file and saved at /tmp/tmarcu/normalized-conversations/676-conversations-normalized/norm_NY676_621_Part2-one_conversation1/norm_NY676_621_Part2-one_conversation1.npy\n",
      "Elapsed time: 2.00s 55/84 done\n",
      "Normalized file and saved at /tmp/tmarcu/normalized-conversations/676-conversations-normalized/norm_NY676_620_Part3-one_conversation3/norm_NY676_620_Part3-one_conversation3.npy\n",
      "Elapsed time: 1.09s 56/84 done\n",
      "Normalized file and saved at /tmp/tmarcu/normalized-conversations/676-conversations-normalized/norm_NY676_620_Part4_conversation1/norm_NY676_620_Part4_conversation1.npy\n",
      "Elapsed time: 4.04s 57/84 done\n",
      "Normalized file and saved at /tmp/tmarcu/normalized-conversations/676-conversations-normalized/norm_NY676_620_Part6_conversation1/norm_NY676_620_Part6_conversation1.npy\n",
      "Elapsed time: 6.28s 58/84 done\n",
      "Normalized file and saved at /tmp/tmarcu/normalized-conversations/676-conversations-normalized/norm_NY676_621_Part1_conversation1/norm_NY676_621_Part1_conversation1.npy\n",
      "Elapsed time: 0.43s 59/84 done\n",
      "Normalized file and saved at /tmp/tmarcu/normalized-conversations/676-conversations-normalized/norm_NY676_621_Part2-two_conversation2/norm_NY676_621_Part2-two_conversation2.npy\n",
      "Elapsed time: 4.79s 60/84 done\n",
      "Normalized file and saved at /tmp/tmarcu/normalized-conversations/676-conversations-normalized/norm_NY676_620_Part5-one_conversation3/norm_NY676_620_Part5-one_conversation3.npy\n",
      "Elapsed time: 0.28s 61/84 done\n",
      "Normalized file and saved at /tmp/tmarcu/normalized-conversations/676-conversations-normalized/norm_NY676_616_Part3_conversation1/norm_NY676_616_Part3_conversation1.npy\n",
      "Elapsed time: 4.41s 62/84 done\n",
      "Normalized file and saved at /tmp/tmarcu/normalized-conversations/676-conversations-normalized/norm_NY676_620_Part5-two_conversation3/norm_NY676_620_Part5-two_conversation3.npy\n",
      "Elapsed time: 0.87s 63/84 done\n",
      "Normalized file and saved at /tmp/tmarcu/normalized-conversations/676-conversations-normalized/norm_NY676_616_Part2-two_conversation1/norm_NY676_616_Part2-two_conversation1.npy\n",
      "Elapsed time: 2.25s 64/84 done\n",
      "Normalized file and saved at /tmp/tmarcu/normalized-conversations/676-conversations-normalized/norm_NY676_619_Part6_conversation2/norm_NY676_619_Part6_conversation2.npy\n",
      "Elapsed time: 2.16s 65/84 done\n",
      "Normalized file and saved at /tmp/tmarcu/normalized-conversations/676-conversations-normalized/norm_NY676_618_Part4_conversation2/norm_NY676_618_Part4_conversation2.npy\n",
      "Elapsed time: 0.25s 66/84 done\n",
      "Normalized file and saved at /tmp/tmarcu/normalized-conversations/676-conversations-normalized/norm_NY676_618_Part8_conversation1/norm_NY676_618_Part8_conversation1.npy\n",
      "Elapsed time: 0.21s 67/84 done\n",
      "Normalized file and saved at /tmp/tmarcu/normalized-conversations/676-conversations-normalized/norm_NY676_620_Part5-one_conversation1/norm_NY676_620_Part5-one_conversation1.npy\n",
      "Elapsed time: 1.33s 68/84 done\n",
      "Normalized file and saved at /tmp/tmarcu/normalized-conversations/676-conversations-normalized/norm_NY676_617_Part2_conversation4/norm_NY676_617_Part2_conversation4.npy\n",
      "Elapsed time: 0.35s 69/84 done\n",
      "Normalized file and saved at /tmp/tmarcu/normalized-conversations/676-conversations-normalized/norm_NY676_620_Part7_conversation1/norm_NY676_620_Part7_conversation1.npy\n",
      "Elapsed time: 1.82s 70/84 done\n",
      "Normalized file and saved at /tmp/tmarcu/normalized-conversations/676-conversations-normalized/norm_NY676_618_Part6_conversation3/norm_NY676_618_Part6_conversation3.npy\n",
      "Elapsed time: 1.47s 71/84 done\n",
      "Normalized file and saved at /tmp/tmarcu/normalized-conversations/676-conversations-normalized/norm_NY676_620_Part3-one_conversation5/norm_NY676_620_Part3-one_conversation5.npy\n",
      "Elapsed time: 0.67s 72/84 done\n",
      "Normalized file and saved at /tmp/tmarcu/normalized-conversations/676-conversations-normalized/norm_NY676_618_Part7_conversation1/norm_NY676_618_Part7_conversation1.npy\n",
      "Elapsed time: 0.60s 73/84 done\n",
      "Normalized file and saved at /tmp/tmarcu/normalized-conversations/676-conversations-normalized/norm_NY676_616_Part3_conversation2/norm_NY676_616_Part3_conversation2.npy\n",
      "Elapsed time: 0.62s 74/84 done\n",
      "Normalized file and saved at /tmp/tmarcu/normalized-conversations/676-conversations-normalized/norm_NY676_618_Part8_conversation2/norm_NY676_618_Part8_conversation2.npy\n",
      "Elapsed time: 0.38s 75/84 done\n",
      "Normalized file and saved at /tmp/tmarcu/normalized-conversations/676-conversations-normalized/norm_NY676_620_Part5-one_conversation4/norm_NY676_620_Part5-one_conversation4.npy\n",
      "Elapsed time: 0.07s 76/84 done\n",
      "Normalized file and saved at /tmp/tmarcu/normalized-conversations/676-conversations-normalized/norm_NY676_618_Part5-one_conversation2/norm_NY676_618_Part5-one_conversation2.npy\n",
      "Elapsed time: 0.96s 77/84 done\n",
      "Normalized file and saved at /tmp/tmarcu/normalized-conversations/676-conversations-normalized/norm_NY676_619_Part4_conversation3/norm_NY676_619_Part4_conversation3.npy\n",
      "Elapsed time: 5.52s 78/84 done\n",
      "Normalized file and saved at /tmp/tmarcu/normalized-conversations/676-conversations-normalized/norm_NY676_618_Part5-one_conversation1/norm_NY676_618_Part5-one_conversation1.npy\n",
      "Elapsed time: 7.85s 79/84 done\n",
      "Normalized file and saved at /tmp/tmarcu/normalized-conversations/676-conversations-normalized/norm_NY676_618_Part5-two_conversation1/norm_NY676_618_Part5-two_conversation1.npy\n",
      "Elapsed time: 0.69s 80/84 done\n",
      "Normalized file and saved at /tmp/tmarcu/normalized-conversations/676-conversations-normalized/norm_NY676_617_Part2_conversation3/norm_NY676_617_Part2_conversation3.npy\n",
      "Elapsed time: 0.92s 81/84 done\n",
      "Normalized file and saved at /tmp/tmarcu/normalized-conversations/676-conversations-normalized/norm_NY676_616_Part1_conversation3/norm_NY676_616_Part1_conversation3.npy\n",
      "Elapsed time: 0.20s 82/84 done\n",
      "Normalized file and saved at /tmp/tmarcu/normalized-conversations/676-conversations-normalized/norm_NY676_616_Part1_conversation2/norm_NY676_616_Part1_conversation2.npy\n",
      "Elapsed time: 1.46s 83/84 done\n",
      "Normalized file and saved at /tmp/tmarcu/normalized-conversations/676-conversations-normalized/norm_NY676_620_Part5-two_conversation2/norm_NY676_620_Part5-two_conversation2.npy\n",
      "Elapsed time: 0.46s 84/84 done\n"
     ]
    }
   ],
   "source": [
    "utils.normalize_files(files_676, output_directory=\"/tmp/tmarcu/normalized-conversations/676-conversations-normalized/\")"
   ]
  },
  {
   "cell_type": "code",
   "execution_count": 5,
   "metadata": {},
   "outputs": [],
   "source": [
    "with open(\"/home/tmarcu/brain2brain/brain2brain/train_676_norm_files_projects.txt\") as f:\n",
    "    content = f.readlines()"
   ]
  },
  {
   "cell_type": "code",
   "execution_count": 6,
   "metadata": {},
   "outputs": [
    {
     "data": {
      "text/plain": [
       "'/projects/HASSON/247/data/normalized-conversations/676-conversations-normalized/norm_NY676_620_Part3-one_conversation4/norm_NY676_620_Part3-one_conversation4.npy\\n'"
      ]
     },
     "execution_count": 6,
     "metadata": {},
     "output_type": "execute_result"
    }
   ],
   "source": [
    "content[0]"
   ]
  },
  {
   "cell_type": "code",
   "execution_count": null,
   "metadata": {},
   "outputs": [],
   "source": []
  }
 ],
 "metadata": {
  "kernelspec": {
   "display_name": "Python 3",
   "language": "python",
   "name": "python3"
  },
  "language_info": {
   "codemirror_mode": {
    "name": "ipython",
    "version": 3
   },
   "file_extension": ".py",
   "mimetype": "text/x-python",
   "name": "python",
   "nbconvert_exporter": "python",
   "pygments_lexer": "ipython3",
   "version": "3.7.7"
  }
 },
 "nbformat": 4,
 "nbformat_minor": 4
}
