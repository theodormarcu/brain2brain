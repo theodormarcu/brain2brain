{
 "cells": [
  {
   "cell_type": "code",
   "execution_count": 1,
   "metadata": {},
   "outputs": [],
   "source": [
    "# Autoreload\n",
    "%load_ext autoreload\n",
    "%autoreload 2"
   ]
  },
  {
   "cell_type": "code",
   "execution_count": 2,
   "metadata": {},
   "outputs": [
    {
     "data": {
      "text/plain": [
       "'/home/tmarcu/brain2brain/experiments/notebooks'"
      ]
     },
     "execution_count": 2,
     "metadata": {},
     "output_type": "execute_result"
    }
   ],
   "source": [
    "%pwd"
   ]
  },
  {
   "cell_type": "code",
   "execution_count": 3,
   "metadata": {},
   "outputs": [],
   "source": [
    "# Imports\n",
    "import numpy as np\n",
    "import pandas as pd\n",
    "import numpy as np\n",
    "import time\n",
    "import string\n",
    "from matplotlib import pyplot as plt\n",
    "from tensorflow.keras.models import Sequential\n",
    "from tensorflow.keras import layers\n",
    "from tensorflow.keras.optimizers import RMSprop\n",
    "import tensorflow as tf\n",
    "import sys\n",
    "sys.path.append('../../')\n",
    "from brain2brain import utils\n",
    "from brain2brain import generators\n",
    "%matplotlib inline\n",
    "\n",
    "# Import Statsmodels\n",
    "from statsmodels.tsa.api import VAR\n",
    "from statsmodels.tsa.stattools import adfuller\n",
    "from statsmodels.tools.eval_measures import rmse, aic"
   ]
  },
  {
   "cell_type": "code",
   "execution_count": 4,
   "metadata": {},
   "outputs": [
    {
     "data": {
      "text/plain": [
       "array([[4, 2],\n",
       "       [5, 6],\n",
       "       [7, 5],\n",
       "       [4, 3],\n",
       "       [5, 7]])"
      ]
     },
     "execution_count": 4,
     "metadata": {},
     "output_type": "execute_result"
    }
   ],
   "source": [
    "data = np.array([4,2,5,6,7,5,4,3,5,7],\n",
    "                [4,2,5,6,7,5,4,3,5,7],\n",
    "                [4,2,5,6,7,5,4,3,5,7])\n",
    "data.reshape(-1, 2)"
   ]
  },
  {
   "cell_type": "code",
   "execution_count": 5,
   "metadata": {},
   "outputs": [],
   "source": [
    "# General Approach:\n",
    "# Load patient files\n",
    "# Bin Files\n",
    "# Normalize Binned Files"
   ]
  },
  {
   "cell_type": "code",
   "execution_count": 12,
   "metadata": {},
   "outputs": [],
   "source": [
    "# Load Files for a Patient\n",
    "files_676 = utils.get_file_paths_from_root(patient_number = 676, sort=True, shuffle=True)"
   ]
  },
  {
   "cell_type": "code",
   "execution_count": 18,
   "metadata": {},
   "outputs": [
    {
     "name": "stdout",
     "output_type": "stream",
     "text": [
      "Original Shape: (665512, 114)\n",
      "\n",
      "New Shape: (26620, 114)\n",
      "\n",
      "New Shape: (26620, 114)\n",
      "\n",
      "Binned file and saved at /projects/HASSON/247/data/binned_conversations/676_bin_norm/binned_norm_NY676_620_Part2_conversation3/binned_norm_NY676_620_Part2_conversation3.npy\n",
      "Elapsed time: 0.97s 1/84 done\n",
      "Original Shape: (2984936, 114)\n",
      "\n",
      "New Shape: (119397, 114)\n",
      "\n",
      "New Shape: (119397, 114)\n",
      "\n",
      "Binned file and saved at /projects/HASSON/247/data/binned_conversations/676_bin_norm/binned_norm_NY676_617_Part2_conversation2/binned_norm_NY676_617_Part2_conversation2.npy\n",
      "Elapsed time: 2.72s 2/84 done\n",
      "Original Shape: (62672, 114)\n",
      "\n",
      "New Shape: (2506, 114)\n",
      "\n",
      "New Shape: (2506, 114)\n",
      "\n",
      "Binned file and saved at /projects/HASSON/247/data/binned_conversations/676_bin_norm/binned_norm_NY676_618_Part4_conversation10/binned_norm_NY676_618_Part4_conversation10.npy\n",
      "Elapsed time: 0.08s 3/84 done\n",
      "Original Shape: (469004, 114)\n",
      "\n",
      "New Shape: (18760, 114)\n",
      "\n",
      "New Shape: (18760, 114)\n",
      "\n",
      "Binned file and saved at /projects/HASSON/247/data/binned_conversations/676_bin_norm/binned_norm_NY676_617_Part2_conversation6/binned_norm_NY676_617_Part2_conversation6.npy\n",
      "Elapsed time: 0.61s 4/84 done\n",
      "Original Shape: (125438, 114)\n",
      "\n",
      "New Shape: (5017, 114)\n",
      "\n",
      "New Shape: (5017, 114)\n",
      "\n",
      "Binned file and saved at /projects/HASSON/247/data/binned_conversations/676_bin_norm/binned_norm_NY676_619_Part7_conversation1/binned_norm_NY676_619_Part7_conversation1.npy\n",
      "Elapsed time: 0.16s 5/84 done\n",
      "Original Shape: (443918, 114)\n",
      "\n",
      "New Shape: (17756, 114)\n",
      "\n",
      "New Shape: (17756, 114)\n",
      "\n",
      "Binned file and saved at /projects/HASSON/247/data/binned_conversations/676_bin_norm/binned_norm_NY676_616_Part2-two_conversation2/binned_norm_NY676_616_Part2-two_conversation2.npy\n",
      "Elapsed time: 0.54s 6/84 done\n",
      "Original Shape: (1619819, 114)\n",
      "\n",
      "New Shape: (64792, 114)\n",
      "\n",
      "New Shape: (64792, 114)\n",
      "\n",
      "Binned file and saved at /projects/HASSON/247/data/binned_conversations/676_bin_norm/binned_norm_NY676_621_Part2-two_conversation1/binned_norm_NY676_621_Part2-two_conversation1.npy\n",
      "Elapsed time: 16.14s 7/84 done\n",
      "Original Shape: (371858, 114)\n",
      "\n",
      "New Shape: (14874, 114)\n",
      "\n",
      "New Shape: (14874, 114)\n",
      "\n",
      "Binned file and saved at /projects/HASSON/247/data/binned_conversations/676_bin_norm/binned_norm_NY676_618_Part5-one_conversation2/binned_norm_NY676_618_Part5-one_conversation2.npy\n",
      "Elapsed time: 3.33s 8/84 done\n",
      "Original Shape: (30031, 114)\n",
      "\n",
      "New Shape: (1201, 114)\n",
      "\n",
      "New Shape: (1201, 114)\n",
      "\n",
      "Binned file and saved at /projects/HASSON/247/data/binned_conversations/676_bin_norm/binned_norm_NY676_617_Part2_conversation1/binned_norm_NY676_617_Part2_conversation1.npy\n",
      "Elapsed time: 0.82s 9/84 done\n",
      "Original Shape: (9580, 114)\n",
      "\n",
      "New Shape: (383, 114)\n",
      "\n",
      "New Shape: (383, 114)\n",
      "\n",
      "Binned file and saved at /projects/HASSON/247/data/binned_conversations/676_bin_norm/binned_norm_NY676_620_Part5-one_conversation4/binned_norm_NY676_620_Part5-one_conversation4.npy\n",
      "Elapsed time: 0.34s 10/84 done\n",
      "Original Shape: (2304251, 114)\n",
      "\n",
      "New Shape: (92170, 114)\n",
      "\n",
      "New Shape: (92170, 114)\n",
      "\n",
      "Binned file and saved at /projects/HASSON/247/data/binned_conversations/676_bin_norm/binned_norm_NY676_616_Part3_conversation1/binned_norm_NY676_616_Part3_conversation1.npy\n",
      "Elapsed time: 2.31s 11/84 done\n",
      "Original Shape: (1034204, 114)\n",
      "\n",
      "New Shape: (41368, 114)\n",
      "\n",
      "New Shape: (41368, 114)\n",
      "\n",
      "Binned file and saved at /projects/HASSON/247/data/binned_conversations/676_bin_norm/binned_norm_NY676_617_Part1_conversation1/binned_norm_NY676_617_Part1_conversation1.npy\n",
      "Elapsed time: 10.88s 12/84 done\n",
      "Original Shape: (21770, 114)\n",
      "\n",
      "New Shape: (870, 114)\n",
      "\n",
      "New Shape: (870, 114)\n",
      "\n",
      "Binned file and saved at /projects/HASSON/247/data/binned_conversations/676_bin_norm/binned_norm_NY676_621_Part1_conversation1/binned_norm_NY676_621_Part1_conversation1.npy\n",
      "Elapsed time: 0.38s 13/84 done\n",
      "Original Shape: (96023, 114)\n",
      "\n",
      "New Shape: (3840, 114)\n",
      "\n",
      "New Shape: (3840, 114)\n",
      "\n",
      "Binned file and saved at /projects/HASSON/247/data/binned_conversations/676_bin_norm/binned_norm_NY676_619_Part5-one_conversation1/binned_norm_NY676_619_Part5-one_conversation1.npy\n",
      "Elapsed time: 0.11s 14/84 done\n",
      "Original Shape: (2967538, 114)\n",
      "\n",
      "New Shape: (118701, 114)\n",
      "\n",
      "New Shape: (118701, 114)\n",
      "\n",
      "Binned file and saved at /projects/HASSON/247/data/binned_conversations/676_bin_norm/binned_norm_NY676_620_Part6_conversation3/binned_norm_NY676_620_Part6_conversation3.npy\n",
      "Elapsed time: 35.53s 15/84 done\n",
      "Original Shape: (24036, 114)\n",
      "\n",
      "New Shape: (961, 114)\n",
      "\n",
      "New Shape: (961, 114)\n",
      "\n",
      "Binned file and saved at /projects/HASSON/247/data/binned_conversations/676_bin_norm/binned_norm_NY676_618_Part4_conversation6/binned_norm_NY676_618_Part4_conversation6.npy\n",
      "Elapsed time: 0.37s 16/84 done\n",
      "Original Shape: (11281, 114)\n",
      "\n",
      "New Shape: (451, 114)\n",
      "\n",
      "New Shape: (451, 114)\n",
      "\n",
      "Binned file and saved at /projects/HASSON/247/data/binned_conversations/676_bin_norm/binned_norm_NY676_617_Part1_conversation2/binned_norm_NY676_617_Part1_conversation2.npy\n",
      "Elapsed time: 0.20s 17/84 done\n",
      "Original Shape: (1073405, 114)\n",
      "\n",
      "New Shape: (42936, 114)\n",
      "\n",
      "New Shape: (42936, 114)\n",
      "\n",
      "Binned file and saved at /projects/HASSON/247/data/binned_conversations/676_bin_norm/binned_norm_NY676_619_Part6_conversation2/binned_norm_NY676_619_Part6_conversation2.npy\n",
      "Elapsed time: 9.04s 18/84 done\n",
      "Original Shape: (327455, 114)\n",
      "\n",
      "New Shape: (13098, 114)\n",
      "\n",
      "New Shape: (13098, 114)\n",
      "\n",
      "Binned file and saved at /projects/HASSON/247/data/binned_conversations/676_bin_norm/binned_norm_NY676_617_Part2_conversation3/binned_norm_NY676_617_Part2_conversation3.npy\n",
      "Elapsed time: 3.34s 19/84 done\n",
      "Original Shape: (437006, 114)\n",
      "\n",
      "New Shape: (17480, 114)\n",
      "\n",
      "New Shape: (17480, 114)\n",
      "\n",
      "Binned file and saved at /projects/HASSON/247/data/binned_conversations/676_bin_norm/binned_norm_NY676_616_Part1_conversation4/binned_norm_NY676_616_Part1_conversation4.npy\n",
      "Elapsed time: 4.36s 20/84 done\n",
      "Original Shape: (136675, 114)\n",
      "\n",
      "New Shape: (5467, 114)\n",
      "\n",
      "New Shape: (5467, 114)\n",
      "\n",
      "Binned file and saved at /projects/HASSON/247/data/binned_conversations/676_bin_norm/binned_norm_NY676_617_Part1_conversation5/binned_norm_NY676_617_Part1_conversation5.npy\n",
      "Elapsed time: 0.12s 21/84 done\n",
      "Original Shape: (160956, 114)\n",
      "\n",
      "New Shape: (6438, 114)\n",
      "\n",
      "New Shape: (6438, 114)\n",
      "\n",
      "Binned file and saved at /projects/HASSON/247/data/binned_conversations/676_bin_norm/binned_norm_NY676_620_Part3-one_conversation5/binned_norm_NY676_620_Part3-one_conversation5.npy\n",
      "Elapsed time: 0.11s 22/84 done\n"
     ]
    },
    {
     "ename": "KeyboardInterrupt",
     "evalue": "",
     "output_type": "error",
     "traceback": [
      "\u001b[0;31m---------------------------------------------------------------------------\u001b[0m",
      "\u001b[0;31mKeyboardInterrupt\u001b[0m                         Traceback (most recent call last)",
      "\u001b[0;32m<ipython-input-18-c8ca5b5aac00>\u001b[0m in \u001b[0;36m<module>\u001b[0;34m\u001b[0m\n\u001b[1;32m      3\u001b[0m                            \u001b[0moutput_directory\u001b[0m\u001b[0;34m=\u001b[0m\u001b[0;34m\"/projects/HASSON/247/data/binned_conversations/676_bin_norm/\"\u001b[0m\u001b[0;34m,\u001b[0m\u001b[0;34m\u001b[0m\u001b[0;34m\u001b[0m\u001b[0m\n\u001b[1;32m      4\u001b[0m                            \u001b[0mfile_prefix\u001b[0m\u001b[0;34m=\u001b[0m\u001b[0;34m\"binned_norm_\"\u001b[0m\u001b[0;34m,\u001b[0m\u001b[0;34m\u001b[0m\u001b[0;34m\u001b[0m\u001b[0m\n\u001b[0;32m----> 5\u001b[0;31m                            normalize=True)\n\u001b[0m",
      "\u001b[0;32m~/brain2brain/brain2brain/utils.py\u001b[0m in \u001b[0;36mgenerate_binned_data\u001b[0;34m(file_paths, avg_timestep_count, output_directory, file_prefix, normalize)\u001b[0m\n\u001b[1;32m    278\u001b[0m         \u001b[0mstart_time\u001b[0m \u001b[0;34m=\u001b[0m \u001b[0mtime\u001b[0m\u001b[0;34m.\u001b[0m\u001b[0mtime\u001b[0m\u001b[0;34m(\u001b[0m\u001b[0;34m)\u001b[0m\u001b[0;34m\u001b[0m\u001b[0;34m\u001b[0m\u001b[0m\n\u001b[1;32m    279\u001b[0m         \u001b[0;31m# Open the file, average the data, and save it to a new path.\u001b[0m\u001b[0;34m\u001b[0m\u001b[0;34m\u001b[0m\u001b[0;34m\u001b[0m\u001b[0m\n\u001b[0;32m--> 280\u001b[0;31m         \u001b[0mdata\u001b[0m \u001b[0;34m=\u001b[0m \u001b[0mnp\u001b[0m\u001b[0;34m.\u001b[0m\u001b[0mload\u001b[0m\u001b[0;34m(\u001b[0m\u001b[0mold_path\u001b[0m\u001b[0;34m)\u001b[0m\u001b[0;34m\u001b[0m\u001b[0;34m\u001b[0m\u001b[0m\n\u001b[0m\u001b[1;32m    281\u001b[0m         \u001b[0mprint\u001b[0m\u001b[0;34m(\u001b[0m\u001b[0;34mf\"Original Shape: {data.shape}\\n\"\u001b[0m\u001b[0;34m)\u001b[0m\u001b[0;34m\u001b[0m\u001b[0;34m\u001b[0m\u001b[0m\n\u001b[1;32m    282\u001b[0m         \u001b[0mnew_data\u001b[0m \u001b[0;34m=\u001b[0m \u001b[0mdata\u001b[0m\u001b[0;34m[\u001b[0m\u001b[0;34m:\u001b[0m\u001b[0;34m(\u001b[0m\u001b[0mdata\u001b[0m\u001b[0;34m.\u001b[0m\u001b[0mshape\u001b[0m\u001b[0;34m[\u001b[0m\u001b[0;36m0\u001b[0m\u001b[0;34m]\u001b[0m \u001b[0;34m//\u001b[0m \u001b[0mavg_timestep_count\u001b[0m\u001b[0;34m)\u001b[0m \u001b[0;34m*\u001b[0m \u001b[0mavg_timestep_count\u001b[0m\u001b[0;34m]\u001b[0m\u001b[0;34m\u001b[0m\u001b[0;34m\u001b[0m\u001b[0m\n",
      "\u001b[0;32m~/.conda/envs/brain2brain_env/lib/python3.7/site-packages/numpy/lib/npyio.py\u001b[0m in \u001b[0;36mload\u001b[0;34m(file, mmap_mode, allow_pickle, fix_imports, encoding)\u001b[0m\n\u001b[1;32m    451\u001b[0m             \u001b[0;32melse\u001b[0m\u001b[0;34m:\u001b[0m\u001b[0;34m\u001b[0m\u001b[0;34m\u001b[0m\u001b[0m\n\u001b[1;32m    452\u001b[0m                 return format.read_array(fid, allow_pickle=allow_pickle,\n\u001b[0;32m--> 453\u001b[0;31m                                          pickle_kwargs=pickle_kwargs)\n\u001b[0m\u001b[1;32m    454\u001b[0m         \u001b[0;32melse\u001b[0m\u001b[0;34m:\u001b[0m\u001b[0;34m\u001b[0m\u001b[0;34m\u001b[0m\u001b[0m\n\u001b[1;32m    455\u001b[0m             \u001b[0;31m# Try a pickle\u001b[0m\u001b[0;34m\u001b[0m\u001b[0;34m\u001b[0m\u001b[0;34m\u001b[0m\u001b[0m\n",
      "\u001b[0;32m~/.conda/envs/brain2brain_env/lib/python3.7/site-packages/numpy/lib/format.py\u001b[0m in \u001b[0;36mread_array\u001b[0;34m(fp, allow_pickle, pickle_kwargs)\u001b[0m\n\u001b[1;32m    753\u001b[0m         \u001b[0;32mif\u001b[0m \u001b[0misfileobj\u001b[0m\u001b[0;34m(\u001b[0m\u001b[0mfp\u001b[0m\u001b[0;34m)\u001b[0m\u001b[0;34m:\u001b[0m\u001b[0;34m\u001b[0m\u001b[0;34m\u001b[0m\u001b[0m\n\u001b[1;32m    754\u001b[0m             \u001b[0;31m# We can use the fast fromfile() function.\u001b[0m\u001b[0;34m\u001b[0m\u001b[0;34m\u001b[0m\u001b[0;34m\u001b[0m\u001b[0m\n\u001b[0;32m--> 755\u001b[0;31m             \u001b[0marray\u001b[0m \u001b[0;34m=\u001b[0m \u001b[0mnumpy\u001b[0m\u001b[0;34m.\u001b[0m\u001b[0mfromfile\u001b[0m\u001b[0;34m(\u001b[0m\u001b[0mfp\u001b[0m\u001b[0;34m,\u001b[0m \u001b[0mdtype\u001b[0m\u001b[0;34m=\u001b[0m\u001b[0mdtype\u001b[0m\u001b[0;34m,\u001b[0m \u001b[0mcount\u001b[0m\u001b[0;34m=\u001b[0m\u001b[0mcount\u001b[0m\u001b[0;34m)\u001b[0m\u001b[0;34m\u001b[0m\u001b[0;34m\u001b[0m\u001b[0m\n\u001b[0m\u001b[1;32m    756\u001b[0m         \u001b[0;32melse\u001b[0m\u001b[0;34m:\u001b[0m\u001b[0;34m\u001b[0m\u001b[0;34m\u001b[0m\u001b[0m\n\u001b[1;32m    757\u001b[0m             \u001b[0;31m# This is not a real file. We have to read it the\u001b[0m\u001b[0;34m\u001b[0m\u001b[0;34m\u001b[0m\u001b[0;34m\u001b[0m\u001b[0m\n",
      "\u001b[0;31mKeyboardInterrupt\u001b[0m: "
     ]
    }
   ],
   "source": [
    "# Bin Files for Patient\n",
    "utils.generate_binned_data(files_676, avg_timestep_count=25,\n",
    "                           output_directory=\"/projects/HASSON/247/data/binned_conversations/676_bin_norm/\",\n",
    "                           file_prefix=\"binned_norm_\",\n",
    "                           normalize=True)"
   ]
  },
  {
   "cell_type": "code",
   "execution_count": null,
   "metadata": {},
   "outputs": [],
   "source": [
    "# Normalize Binned Files\n"
   ]
  },
  {
   "cell_type": "code",
   "execution_count": null,
   "metadata": {},
   "outputs": [],
   "source": []
  }
 ],
 "metadata": {
  "kernelspec": {
   "display_name": "Python 3",
   "language": "python",
   "name": "python3"
  },
  "language_info": {
   "codemirror_mode": {
    "name": "ipython",
    "version": 3
   },
   "file_extension": ".py",
   "mimetype": "text/x-python",
   "name": "python",
   "nbconvert_exporter": "python",
   "pygments_lexer": "ipython3",
   "version": "3.7.6"
  }
 },
 "nbformat": 4,
 "nbformat_minor": 4
}
