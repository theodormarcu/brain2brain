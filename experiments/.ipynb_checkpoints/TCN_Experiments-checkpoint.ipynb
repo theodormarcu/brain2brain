{
 "cells": [
  {
   "cell_type": "markdown",
   "metadata": {},
   "source": [
    "# TCN Experiments\n",
    "\n",
    "Theodor Marcu\n",
    "tmarcu@"
   ]
  },
  {
   "cell_type": "code",
   "execution_count": 1,
   "metadata": {},
   "outputs": [],
   "source": [
    "# Autoreload\n",
    "%load_ext autoreload\n",
    "%autoreload 2"
   ]
  },
  {
   "cell_type": "code",
   "execution_count": 3,
   "metadata": {},
   "outputs": [],
   "source": [
    "# Imports\n",
    "import numpy as np\n",
    "import json\n",
    "import pandas as pd\n",
    "import numpy as np\n",
    "import time\n",
    "import string\n",
    "from matplotlib import pyplot as plt\n",
    "import tensorflow as tf\n",
    "import sys\n",
    "sys.path.append('../')\n",
    "from brain2brain import utils\n",
    "from brain2brain import generators\n",
    "%matplotlib inline\n",
    "\n",
    "# TF\n",
    "from tensorflow.keras.models import Sequential\n",
    "from tensorflow.keras import layers\n",
    "from tensorflow.keras.optimizers import RMSprop\n",
    "from tensorflow.keras.models import load_model\n",
    "\n",
    "# TCN\n",
    "from brain2brain.tcn import TCN\n",
    "from tensorflow.keras import Input, Model\n",
    "from tensorflow.keras.layers import Dense"
   ]
  },
  {
   "cell_type": "code",
   "execution_count": 5,
   "metadata": {},
   "outputs": [],
   "source": [
    "# Read saved paths for training.\n",
    "saved_paths_676 = utils.get_file_paths(\"../brain2brain/train_676_norm_files_projects.txt\")"
   ]
  },
  {
   "cell_type": "code",
   "execution_count": 6,
   "metadata": {},
   "outputs": [],
   "source": [
    "# Split the train files into a training and validation set.\n",
    "train_676, val_676 = utils.split_file_paths(saved_paths_676, 0.8)"
   ]
  },
  {
   "cell_type": "code",
   "execution_count": 7,
   "metadata": {},
   "outputs": [
    {
     "name": "stdout",
     "output_type": "stream",
     "text": [
      "15627\n"
     ]
    }
   ],
   "source": [
    "# Print the number of samples.\n",
    "print(utils.get_total_sample_count(train_676, lookback=512 * 5, length = 1, delay = 512 * 0))"
   ]
  },
  {
   "cell_type": "code",
   "execution_count": 8,
   "metadata": {},
   "outputs": [],
   "source": [
    "total_electrode_count = 114"
   ]
  },
  {
   "cell_type": "code",
   "execution_count": 9,
   "metadata": {},
   "outputs": [],
   "source": [
    "# The time we look back.\n",
    "lookback_window = 512 * 5 # 5 seconds\n",
    "# Length of sequence predicted.\n",
    "length_pred = 1 # 1 timestep\n",
    "# Delay between lookback and length.\n",
    "delay_pred = 0 # No delay.\n",
    "# Sampling of electrodes.\n",
    "samples_per_second = 4 # Samples Per Second\n",
    "timesteps_per_sample = int(lookback_window // samples_per_second)\n",
    "# Electrodes\n",
    "electrode_selection = [0]\n",
    "electrode_count = len(electrode_selection)"
   ]
  },
  {
   "cell_type": "code",
   "execution_count": 10,
   "metadata": {},
   "outputs": [],
   "source": [
    "train_676_generator = generators.FGenerator(file_paths = train_676,\n",
    "                                            lookback=lookback_window, length = length_pred, delay = delay_pred,\n",
    "                                            batch_size = 128, sample_period = samples_per_second,\n",
    "                                            electrodes= electrode_selection, shuffle = True, debug=True)"
   ]
  },
  {
   "cell_type": "code",
   "execution_count": 11,
   "metadata": {},
   "outputs": [
    {
     "data": {
      "text/plain": [
       "30"
      ]
     },
     "execution_count": 11,
     "metadata": {},
     "output_type": "execute_result"
    }
   ],
   "source": [
    "len(train_676_generator)"
   ]
  },
  {
   "cell_type": "code",
   "execution_count": 12,
   "metadata": {},
   "outputs": [
    {
     "data": {
      "text/plain": [
       "640"
      ]
     },
     "execution_count": 12,
     "metadata": {},
     "output_type": "execute_result"
    }
   ],
   "source": [
    "timesteps_per_sample"
   ]
  },
  {
   "cell_type": "code",
   "execution_count": 14,
   "metadata": {},
   "outputs": [
    {
     "data": {
      "text/plain": [
       "(128, 640, 1)"
      ]
     },
     "execution_count": 14,
     "metadata": {},
     "output_type": "execute_result"
    }
   ],
   "source": [
    "x, y = train_676_generator[0]\n",
    "x.shape"
   ]
  },
  {
   "cell_type": "code",
   "execution_count": 15,
   "metadata": {},
   "outputs": [
    {
     "data": {
      "text/plain": [
       "640"
      ]
     },
     "execution_count": 15,
     "metadata": {},
     "output_type": "execute_result"
    }
   ],
   "source": [
    "len(range(0, 2560, 4))"
   ]
  },
  {
   "cell_type": "code",
   "execution_count": 125,
   "metadata": {},
   "outputs": [
    {
     "name": "stdout",
     "output_type": "stream",
     "text": [
      "Model: \"model_8\"\n",
      "_________________________________________________________________\n",
      "Layer (type)                 Output Shape              Param #   \n",
      "=================================================================\n",
      "input_20 (InputLayer)        [(None, 640, 1)]          0         \n",
      "_________________________________________________________________\n",
      "tcn_10 (TCN)                 (None, 64)                120000    \n",
      "_________________________________________________________________\n",
      "dense_8 (Dense)              (None, 1)                 65        \n",
      "=================================================================\n",
      "Total params: 120,065\n",
      "Trainable params: 120,065\n",
      "Non-trainable params: 0\n",
      "_________________________________________________________________\n"
     ]
    }
   ],
   "source": [
    "# TCN\n",
    "i = Input(shape=(timesteps_per_sample, electrode_count))\n",
    "m = TCN()(i)\n",
    "m = Dense(1)(m)\n",
    "\n",
    "model = Model(inputs=[i], outputs=[m])\n",
    "model.summary()"
   ]
  },
  {
   "cell_type": "code",
   "execution_count": 126,
   "metadata": {},
   "outputs": [],
   "source": [
    "model.compile('adam', 'mae')"
   ]
  },
  {
   "cell_type": "code",
   "execution_count": 135,
   "metadata": {},
   "outputs": [],
   "source": [
    "\n",
    "# config = model.get_config()\n",
    "# with open('test.json', 'w') as outfile:\n",
    "#     json.dump(config, outfile)"
   ]
  },
  {
   "cell_type": "code",
   "execution_count": 18,
   "metadata": {},
   "outputs": [
    {
     "data": {
      "text/plain": [
       "128"
      ]
     },
     "execution_count": 18,
     "metadata": {},
     "output_type": "execute_result"
    }
   ],
   "source": [
    "len(train_676_generator)"
   ]
  },
  {
   "cell_type": "code",
   "execution_count": 23,
   "metadata": {},
   "outputs": [],
   "source": [
    "# Validation Generator\n",
    "val_676_generator = generators.FGenerator(file_paths = val_676,\n",
    "                                          lookback=lookback_window, length = length_pred, delay = delay_pred,\n",
    "                                          batch_size = 128, sample_period = samples_per_second,\n",
    "                                          electrodes= electrode_selection, shuffle = False, debug=False)"
   ]
  },
  {
   "cell_type": "code",
   "execution_count": 24,
   "metadata": {},
   "outputs": [
    {
     "data": {
      "text/plain": [
       "8"
      ]
     },
     "execution_count": 24,
     "metadata": {},
     "output_type": "execute_result"
    }
   ],
   "source": [
    "len(val_676_generator)"
   ]
  },
  {
   "cell_type": "code",
   "execution_count": 22,
   "metadata": {},
   "outputs": [
    {
     "name": "stdout",
     "output_type": "stream",
     "text": [
      "(128, 640, 1)\n",
      "(128, 640, 1)\n",
      "(128, 640, 1)\n",
      "(128, 640, 1)\n",
      "(128, 640, 1)\n",
      "(128, 640, 1)\n",
      "(128, 640, 1)\n",
      "(128, 640, 1)\n",
      "(128, 640, 1)\n",
      "(128, 640, 1)\n",
      "(128, 640, 1)\n",
      "(128, 640, 1)\n",
      "(128, 640, 1)\n",
      "(128, 640, 1)\n",
      "(128, 640, 1)\n",
      "(128, 640, 1)\n",
      "(128, 640, 1)\n",
      "(128, 640, 1)\n",
      "(128, 640, 1)\n",
      "(128, 640, 1)\n",
      "(128, 640, 1)\n",
      "(128, 640, 1)\n",
      "(128, 640, 1)\n",
      "(128, 640, 1)\n",
      "(128, 640, 1)\n",
      "(128, 640, 1)\n",
      "(128, 640, 1)\n",
      "(128, 640, 1)\n",
      "(128, 640, 1)\n",
      "(128, 640, 1)\n",
      "(128, 640, 1)\n",
      "(128, 640, 1)\n",
      "(128, 640, 1)\n",
      "(128, 640, 1)\n",
      "(128, 640, 1)\n",
      "(128, 640, 1)\n",
      "(128, 640, 1)\n",
      "(128, 640, 1)\n",
      "(128, 640, 1)\n",
      "(128, 640, 1)\n",
      "(128, 640, 1)\n"
     ]
    }
   ],
   "source": [
    "targets = []\n",
    "for i in range(len(val_676_generator)):\n",
    "    x, y = val_676_generator[i]\n",
    "    print(x.shape)\n"
   ]
  },
  {
   "cell_type": "code",
   "execution_count": null,
   "metadata": {},
   "outputs": [],
   "source": [
    "import brain2brain.experiments as experiments\n",
    "experiments.tcn_experiment1()"
   ]
  },
  {
   "cell_type": "code",
   "execution_count": 130,
   "metadata": {},
   "outputs": [],
   "source": [
    "# How many samples to draw from val_676_generator \n",
    "# in order to see the entire validation set.\n",
    "val_steps = len(val_676_generator)"
   ]
  },
  {
   "cell_type": "code",
   "execution_count": null,
   "metadata": {},
   "outputs": [],
   "source": [
    "# model.fit_generator(generator=train_676_generator,\n",
    "#                     steps_per_epoch=len(train_676_generator),\n",
    "#                     epochs=20,\n",
    "#                     validation_data=val_676_generator,\n",
    "#                     validation_steps=val_steps)"
   ]
  },
  {
   "cell_type": "code",
   "execution_count": 13,
   "metadata": {},
   "outputs": [],
   "source": [
    "model = load_model(\"/home/tmarcu/brain2brain/experiments/experiment_test_676_bs128_2_debug/experiment_test_676_bs128_2_debug_model.h5\",\n",
    "                   custom_objects={\"TCN\": TCN})"
   ]
  },
  {
   "cell_type": "code",
   "execution_count": 16,
   "metadata": {},
   "outputs": [
    {
     "name": "stdout",
     "output_type": "stream",
     "text": [
      "41/41 [==============================] - 44s 1s/step\n"
     ]
    },
    {
     "name": "stderr",
     "output_type": "stream",
     "text": [
      "Process Keras_worker_ForkPoolWorker-2:\n",
      "Traceback (most recent call last):\n",
      "  File \"/home/tmarcu/.conda/envs/brain2brain_env/lib/python3.7/multiprocessing/process.py\", line 297, in _bootstrap\n",
      "    self.run()\n",
      "  File \"/home/tmarcu/.conda/envs/brain2brain_env/lib/python3.7/multiprocessing/process.py\", line 99, in run\n",
      "    self._target(*self._args, **self._kwargs)\n",
      "  File \"/home/tmarcu/.conda/envs/brain2brain_env/lib/python3.7/multiprocessing/pool.py\", line 121, in worker\n",
      "    result = (True, func(*args, **kwds))\n",
      "  File \"/home/tmarcu/.conda/envs/brain2brain_env/lib/python3.7/site-packages/tensorflow_core/python/keras/utils/data_utils.py\", line 571, in get_index\n",
      "    return _SHARED_SEQUENCES[uid][i]\n",
      "  File \"../brain2brain/generators.py\", line 159, in __getitem__\n",
      "    file_contents = np.load(file_path)\n",
      "  File \"/home/tmarcu/.conda/envs/brain2brain_env/lib/python3.7/site-packages/numpy/lib/npyio.py\", line 453, in load\n",
      "    pickle_kwargs=pickle_kwargs)\n",
      "  File \"/home/tmarcu/.conda/envs/brain2brain_env/lib/python3.7/site-packages/numpy/lib/format.py\", line 738, in read_array\n",
      "    array = numpy.fromfile(fp, dtype=dtype, count=count)\n",
      "KeyboardInterrupt\n"
     ]
    }
   ],
   "source": [
    "train_steps = len(train_676_generator)\n",
    "val_steps = len(val_676_generator)\n",
    "p = model.predict_generator(val_676_generator, steps=val_steps,\n",
    "                            callbacks=None, max_queue_size=100, workers=1,\n",
    "                            use_multiprocessing=True, verbose=1)"
   ]
  },
  {
   "cell_type": "code",
   "execution_count": 17,
   "metadata": {},
   "outputs": [
    {
     "data": {
      "text/plain": [
       "array([[nan],\n",
       "       [nan],\n",
       "       [nan],\n",
       "       ...,\n",
       "       [nan],\n",
       "       [nan],\n",
       "       [nan]], dtype=float32)"
      ]
     },
     "execution_count": 17,
     "metadata": {},
     "output_type": "execute_result"
    }
   ],
   "source": [
    "p"
   ]
  },
  {
   "cell_type": "code",
   "execution_count": 62,
   "metadata": {},
   "outputs": [
    {
     "data": {
      "text/plain": [
       "array([[nan],\n",
       "       [nan],\n",
       "       [nan],\n",
       "       ...,\n",
       "       [nan],\n",
       "       [nan],\n",
       "       [nan]], dtype=float32)"
      ]
     },
     "execution_count": 62,
     "metadata": {},
     "output_type": "execute_result"
    }
   ],
   "source": [
    "plt.plot(p)\n",
    "plt.plot(targets)\n",
    "plt.title('TCN pred on 1 electrode for patient 676.')\n",
    "plt.legend(['predicted', 'actual'])"
   ]
  },
  {
   "cell_type": "code",
   "execution_count": 18,
   "metadata": {},
   "outputs": [
    {
     "ename": "NameError",
     "evalue": "name 'targets' is not defined",
     "output_type": "error",
     "traceback": [
      "\u001b[0;31m----------------------------------------------------------------\u001b[0m",
      "\u001b[0;31mNameError\u001b[0m                      Traceback (most recent call last)",
      "\u001b[0;32m<ipython-input-18-8f677401fbca>\u001b[0m in \u001b[0;36m<module>\u001b[0;34m\u001b[0m\n\u001b[0;32m----> 1\u001b[0;31m \u001b[0mtargets\u001b[0m\u001b[0;34m\u001b[0m\u001b[0;34m\u001b[0m\u001b[0m\n\u001b[0m",
      "\u001b[0;31mNameError\u001b[0m: name 'targets' is not defined"
     ]
    }
   ],
   "source": [
    "targets"
   ]
  },
  {
   "cell_type": "code",
   "execution_count": null,
   "metadata": {},
   "outputs": [],
   "source": []
  }
 ],
 "metadata": {
  "kernelspec": {
   "display_name": "Python 3",
   "language": "python",
   "name": "python3"
  },
  "language_info": {
   "codemirror_mode": {
    "name": "ipython",
    "version": 3
   },
   "file_extension": ".py",
   "mimetype": "text/x-python",
   "name": "python",
   "nbconvert_exporter": "python",
   "pygments_lexer": "ipython3",
   "version": "3.7.5"
  }
 },
 "nbformat": 4,
 "nbformat_minor": 4
}
