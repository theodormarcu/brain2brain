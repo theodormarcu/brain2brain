{
 "cells": [
  {
   "cell_type": "markdown",
   "metadata": {},
   "source": [
    "# Important:\n",
    "\n",
    "This notebook contains code and scripts to fix the files we're using for validation and testing. Don't mess with it!\n",
    "\n",
    "The files are split based on the timestep count, not the number of files."
   ]
  },
  {
   "cell_type": "code",
   "execution_count": 1,
   "metadata": {},
   "outputs": [],
   "source": [
    "# Autoreload\n",
    "%load_ext autoreload\n",
    "%autoreload 2"
   ]
  },
  {
   "cell_type": "code",
   "execution_count": 9,
   "metadata": {},
   "outputs": [],
   "source": [
    "# Imports\n",
    "import numpy as np\n",
    "import pandas as pd\n",
    "import numpy as np\n",
    "import time\n",
    "import string\n",
    "from matplotlib import pyplot as plt\n",
    "from tensorflow.keras.models import Sequential\n",
    "from tensorflow.keras import layers\n",
    "from tensorflow.keras.optimizers import RMSprop\n",
    "import tensorflow as tf\n",
    "import sys\n",
    "sys.path.append('../')\n",
    "from brain2brain import utils\n",
    "from brain2brain import generators\n",
    "%matplotlib inline\n",
    "\n",
    "# Import Statsmodels\n",
    "from statsmodels.tsa.api import VAR\n",
    "from statsmodels.tsa.stattools import adfuller\n",
    "from statsmodels.tools.eval_measures import rmse, aic"
   ]
  },
  {
   "cell_type": "code",
   "execution_count": 3,
   "metadata": {},
   "outputs": [],
   "source": [
    "# Load Files For A Patient\n",
    "# Split Them Into Train and Test\n",
    "# Save the File Names"
   ]
  },
  {
   "cell_type": "code",
   "execution_count": 26,
   "metadata": {},
   "outputs": [],
   "source": [
    "files_676_norm = utils.get_file_paths_from_dir(\"/tmp/tmarcu/normalized-conversations/676-conversations-normalized/\", \n",
    "                                               sort=True, shuffle=True)"
   ]
  },
  {
   "cell_type": "code",
   "execution_count": 27,
   "metadata": {},
   "outputs": [
    {
     "data": {
      "text/plain": [
       "168"
      ]
     },
     "execution_count": 27,
     "metadata": {},
     "output_type": "execute_result"
    }
   ],
   "source": []
  },
  {
   "cell_type": "code",
   "execution_count": 4,
   "metadata": {},
   "outputs": [],
   "source": [
    "# Load Normalized Files for a Patient\n",
    "files_676 = utils.get_file_paths_from_root(patient_number = 676, sort=True, shuffle=True)"
   ]
  },
  {
   "cell_type": "code",
   "execution_count": 19,
   "metadata": {},
   "outputs": [
    {
     "data": {
      "text/plain": [
       "'/projects/HASSON/247/data/676-conversations/NY676_616_Part1_conversation5/NY676_616_Part1_conversation5.npy'"
      ]
     },
     "execution_count": 19,
     "metadata": {},
     "output_type": "execute_result"
    }
   ],
   "source": [
    "files_676[0]"
   ]
  },
  {
   "cell_type": "code",
   "execution_count": 8,
   "metadata": {},
   "outputs": [],
   "source": [
    "# Split them into train and test\n",
    "train_676, test_676 = utils.split_file_paths(file_paths = files_676, split_ratio=0.8)"
   ]
  },
  {
   "cell_type": "code",
   "execution_count": 10,
   "metadata": {},
   "outputs": [
    {
     "name": "stdout",
     "output_type": "stream",
     "text": [
      "676 Total Timestep Count: 70518637\n",
      "676 TRAIN Total Timestep Count: 55871878\n",
      "676 TEST Total Timestep Count: 14646759\n"
     ]
    }
   ],
   "source": [
    "print(f\"676 Total Timestep Count: {utils.get_total_timestep_count(files_676)}\")\n",
    "print(f\"676 TRAIN Total Timestep Count: {utils.get_total_timestep_count(train_676)}\")\n",
    "print(f\"676 TEST Total Timestep Count: {utils.get_total_timestep_count(test_676)}\")"
   ]
  },
  {
   "cell_type": "code",
   "execution_count": 12,
   "metadata": {},
   "outputs": [],
   "source": [
    "# # Save the files\n",
    "# with open('train_676_files.txt', 'w') as filehandle:\n",
    "#     for path in train_676:\n",
    "#         filehandle.write('%s\\n' % path)"
   ]
  },
  {
   "cell_type": "code",
   "execution_count": 13,
   "metadata": {},
   "outputs": [],
   "source": [
    "# # # Save the files\n",
    "# with open('test_676_files.txt', 'w') as filehandle:\n",
    "#     for path in test_676:\n",
    "#         filehandle.write('%s\\n' % path)"
   ]
  },
  {
   "cell_type": "code",
   "execution_count": 6,
   "metadata": {},
   "outputs": [
    {
     "name": "stdout",
     "output_type": "stream",
     "text": [
      "Normalized file and saved at /tmp/tmarcu/normalized-conversations/676-conversations-normalized/norm_NY676_616_Part1_conversation5/norm_NY676_616_Part1_conversation5.npy\n",
      "Elapsed time: 1.43s 1/84 done\n",
      "Normalized file and saved at /tmp/tmarcu/normalized-conversations/676-conversations-normalized/norm_NY676_618_Part7_conversation6/norm_NY676_618_Part7_conversation6.npy\n",
      "Elapsed time: 1.14s 2/84 done\n",
      "Normalized file and saved at /tmp/tmarcu/normalized-conversations/676-conversations-normalized/norm_NY676_618_Part4_conversation7/norm_NY676_618_Part4_conversation7.npy\n",
      "Elapsed time: 0.30s 3/84 done\n",
      "Normalized file and saved at /tmp/tmarcu/normalized-conversations/676-conversations-normalized/norm_NY676_617_Part1_conversation5/norm_NY676_617_Part1_conversation5.npy\n",
      "Elapsed time: 0.37s 4/84 done\n",
      "Normalized file and saved at /tmp/tmarcu/normalized-conversations/676-conversations-normalized/norm_NY676_618_Part4_conversation5/norm_NY676_618_Part4_conversation5.npy\n",
      "Elapsed time: 2.23s 5/84 done\n",
      "Normalized file and saved at /tmp/tmarcu/normalized-conversations/676-conversations-normalized/norm_NY676_620_Part5-one_conversation5/norm_NY676_620_Part5-one_conversation5.npy\n",
      "Elapsed time: 2.25s 6/84 done\n",
      "Normalized file and saved at /tmp/tmarcu/normalized-conversations/676-conversations-normalized/norm_NY676_619_Part6_conversation1/norm_NY676_619_Part6_conversation1.npy\n",
      "Elapsed time: 0.32s 7/84 done\n",
      "Normalized file and saved at /tmp/tmarcu/normalized-conversations/676-conversations-normalized/norm_NY676_619_Part2_conversation3/norm_NY676_619_Part2_conversation3.npy\n",
      "Elapsed time: 1.76s 8/84 done\n",
      "Normalized file and saved at /tmp/tmarcu/normalized-conversations/676-conversations-normalized/norm_NY676_620_Part6_conversation3/norm_NY676_620_Part6_conversation3.npy\n",
      "Elapsed time: 4.53s 9/84 done\n",
      "Normalized file and saved at /tmp/tmarcu/normalized-conversations/676-conversations-normalized/norm_NY676_618_Part4_conversation8/norm_NY676_618_Part4_conversation8.npy\n",
      "Elapsed time: 0.12s 10/84 done\n",
      "Normalized file and saved at /tmp/tmarcu/normalized-conversations/676-conversations-normalized/norm_NY676_620_Part2_conversation2/norm_NY676_620_Part2_conversation2.npy\n",
      "Elapsed time: 4.44s 11/84 done\n",
      "Normalized file and saved at /tmp/tmarcu/normalized-conversations/676-conversations-normalized/norm_NY676_619_Part2_conversation2/norm_NY676_619_Part2_conversation2.npy\n",
      "Elapsed time: 3.11s 12/84 done\n",
      "Normalized file and saved at /tmp/tmarcu/normalized-conversations/676-conversations-normalized/norm_NY676_620_Part3-one_conversation1/norm_NY676_620_Part3-one_conversation1.npy\n",
      "Elapsed time: 2.26s 13/84 done\n",
      "Normalized file and saved at /tmp/tmarcu/normalized-conversations/676-conversations-normalized/norm_NY676_619_Part7_conversation1/norm_NY676_619_Part7_conversation1.npy\n",
      "Elapsed time: 0.38s 14/84 done\n",
      "Normalized file and saved at /tmp/tmarcu/normalized-conversations/676-conversations-normalized/norm_NY676_617_Part2_conversation6/norm_NY676_617_Part2_conversation6.npy\n",
      "Elapsed time: 0.90s 15/84 done\n",
      "Normalized file and saved at /tmp/tmarcu/normalized-conversations/676-conversations-normalized/norm_NY676_620_Part2_conversation3/norm_NY676_620_Part2_conversation3.npy\n",
      "Elapsed time: 1.16s 16/84 done\n",
      "Normalized file and saved at /tmp/tmarcu/normalized-conversations/676-conversations-normalized/norm_NY676_618_Part7_conversation2/norm_NY676_618_Part7_conversation2.npy\n",
      "Elapsed time: 0.80s 17/84 done\n",
      "Normalized file and saved at /tmp/tmarcu/normalized-conversations/676-conversations-normalized/norm_NY676_620_Part5-one_conversation2/norm_NY676_620_Part5-one_conversation2.npy\n",
      "Elapsed time: 3.35s 18/84 done\n",
      "Normalized file and saved at /tmp/tmarcu/normalized-conversations/676-conversations-normalized/norm_NY676_616_Part2-one_conversation1/norm_NY676_616_Part2-one_conversation1.npy\n",
      "Elapsed time: 1.34s 19/84 done\n",
      "Normalized file and saved at /tmp/tmarcu/normalized-conversations/676-conversations-normalized/norm_NY676_616_Part2-two_conversation2/norm_NY676_616_Part2-two_conversation2.npy\n",
      "Elapsed time: 0.87s 20/84 done\n",
      "Normalized file and saved at /tmp/tmarcu/normalized-conversations/676-conversations-normalized/norm_NY676_617_Part1_conversation1/norm_NY676_617_Part1_conversation1.npy\n",
      "Elapsed time: 1.71s 21/84 done\n",
      "Normalized file and saved at /tmp/tmarcu/normalized-conversations/676-conversations-normalized/norm_NY676_619_Part4_conversation2/norm_NY676_619_Part4_conversation2.npy\n",
      "Elapsed time: 0.10s 22/84 done\n",
      "Normalized file and saved at /tmp/tmarcu/normalized-conversations/676-conversations-normalized/norm_NY676_619_Part5-two_conversation2/norm_NY676_619_Part5-two_conversation2.npy\n",
      "Elapsed time: 0.22s 23/84 done\n",
      "Normalized file and saved at /tmp/tmarcu/normalized-conversations/676-conversations-normalized/norm_NY676_618_Part4_conversation6/norm_NY676_618_Part4_conversation6.npy\n",
      "Elapsed time: 0.15s 24/84 done\n",
      "Normalized file and saved at /tmp/tmarcu/normalized-conversations/676-conversations-normalized/norm_NY676_617_Part1_conversation4/norm_NY676_617_Part1_conversation4.npy\n",
      "Elapsed time: 0.85s 25/84 done\n",
      "Normalized file and saved at /tmp/tmarcu/normalized-conversations/676-conversations-normalized/norm_NY676_616_Part1_conversation1/norm_NY676_616_Part1_conversation1.npy\n",
      "Elapsed time: 2.62s 26/84 done\n",
      "Normalized file and saved at /tmp/tmarcu/normalized-conversations/676-conversations-normalized/norm_NY676_619_Part5-two_conversation3/norm_NY676_619_Part5-two_conversation3.npy\n",
      "Elapsed time: 0.58s 27/84 done\n",
      "Normalized file and saved at /tmp/tmarcu/normalized-conversations/676-conversations-normalized/norm_NY676_618_Part6_conversation1/norm_NY676_618_Part6_conversation1.npy\n",
      "Elapsed time: 1.70s 28/84 done\n",
      "Normalized file and saved at /tmp/tmarcu/normalized-conversations/676-conversations-normalized/norm_NY676_620_Part3-one_conversation4/norm_NY676_620_Part3-one_conversation4.npy\n",
      "Elapsed time: 0.17s 29/84 done\n",
      "Normalized file and saved at /tmp/tmarcu/normalized-conversations/676-conversations-normalized/norm_NY676_618_Part4_conversation10/norm_NY676_618_Part4_conversation10.npy\n",
      "Elapsed time: 0.24s 30/84 done\n",
      "Normalized file and saved at /tmp/tmarcu/normalized-conversations/676-conversations-normalized/norm_NY676_618_Part6_conversation2/norm_NY676_618_Part6_conversation2.npy\n",
      "Elapsed time: 5.81s 31/84 done\n",
      "Normalized file and saved at /tmp/tmarcu/normalized-conversations/676-conversations-normalized/norm_NY676_617_Part2_conversation1/norm_NY676_617_Part2_conversation1.npy\n",
      "Elapsed time: 0.17s 32/84 done\n",
      "Normalized file and saved at /tmp/tmarcu/normalized-conversations/676-conversations-normalized/norm_NY676_616_Part1_conversation4/norm_NY676_616_Part1_conversation4.npy\n",
      "Elapsed time: 0.86s 33/84 done\n",
      "Normalized file and saved at /tmp/tmarcu/normalized-conversations/676-conversations-normalized/norm_NY676_618_Part7_conversation5/norm_NY676_618_Part7_conversation5.npy\n",
      "Elapsed time: 0.86s 34/84 done\n",
      "Normalized file and saved at /tmp/tmarcu/normalized-conversations/676-conversations-normalized/norm_NY676_618_Part4_conversation1/norm_NY676_618_Part4_conversation1.npy\n",
      "Elapsed time: 0.52s 35/84 done\n",
      "Normalized file and saved at /tmp/tmarcu/normalized-conversations/676-conversations-normalized/norm_NY676_619_Part4_conversation1/norm_NY676_619_Part4_conversation1.npy\n",
      "Elapsed time: 3.96s 36/84 done\n",
      "Normalized file and saved at /tmp/tmarcu/normalized-conversations/676-conversations-normalized/norm_NY676_619_Part2_conversation1/norm_NY676_619_Part2_conversation1.npy\n",
      "Elapsed time: 0.35s 37/84 done\n",
      "Normalized file and saved at /tmp/tmarcu/normalized-conversations/676-conversations-normalized/norm_NY676_617_Part2_conversation5/norm_NY676_617_Part2_conversation5.npy\n",
      "Elapsed time: 0.35s 38/84 done\n",
      "Normalized file and saved at /tmp/tmarcu/normalized-conversations/676-conversations-normalized/norm_NY676_617_Part0_conversation1/norm_NY676_617_Part0_conversation1.npy\n",
      "Elapsed time: 0.08s 39/84 done\n",
      "Normalized file and saved at /tmp/tmarcu/normalized-conversations/676-conversations-normalized/norm_NY676_618_Part4_conversation4/norm_NY676_618_Part4_conversation4.npy\n",
      "Elapsed time: 0.10s 40/84 done\n",
      "Normalized file and saved at /tmp/tmarcu/normalized-conversations/676-conversations-normalized/norm_NY676_619_Part5-one_conversation1/norm_NY676_619_Part5-one_conversation1.npy\n",
      "Elapsed time: 0.33s 41/84 done\n",
      "Normalized file and saved at /tmp/tmarcu/normalized-conversations/676-conversations-normalized/norm_NY676_618_Part4_conversation3/norm_NY676_618_Part4_conversation3.npy\n",
      "Elapsed time: 0.19s 42/84 done\n",
      "Normalized file and saved at /tmp/tmarcu/normalized-conversations/676-conversations-normalized/norm_NY676_621_Part2-two_conversation1/norm_NY676_621_Part2-two_conversation1.npy\n",
      "Elapsed time: 2.62s 43/84 done\n",
      "Normalized file and saved at /tmp/tmarcu/normalized-conversations/676-conversations-normalized/norm_NY676_616_Part2-two_conversation3/norm_NY676_616_Part2-two_conversation3.npy\n",
      "Elapsed time: 0.88s 44/84 done\n",
      "Normalized file and saved at /tmp/tmarcu/normalized-conversations/676-conversations-normalized/norm_NY676_617_Part1_conversation3/norm_NY676_617_Part1_conversation3.npy\n",
      "Elapsed time: 1.01s 45/84 done\n",
      "Normalized file and saved at /tmp/tmarcu/normalized-conversations/676-conversations-normalized/norm_NY676_619_Part3_conversation3/norm_NY676_619_Part3_conversation3.npy\n",
      "Elapsed time: 2.05s 46/84 done\n",
      "Normalized file and saved at /tmp/tmarcu/normalized-conversations/676-conversations-normalized/norm_NY676_619_Part5-two_conversation1/norm_NY676_619_Part5-two_conversation1.npy\n",
      "Elapsed time: 2.41s 47/84 done\n",
      "Normalized file and saved at /tmp/tmarcu/normalized-conversations/676-conversations-normalized/norm_NY676_618_Part7_conversation3/norm_NY676_618_Part7_conversation3.npy\n",
      "Elapsed time: 1.59s 48/84 done\n",
      "Normalized file and saved at /tmp/tmarcu/normalized-conversations/676-conversations-normalized/norm_NY676_620_Part5-two_conversation1/norm_NY676_620_Part5-two_conversation1.npy\n",
      "Elapsed time: 1.00s 49/84 done\n",
      "Normalized file and saved at /tmp/tmarcu/normalized-conversations/676-conversations-normalized/norm_NY676_619_Part3_conversation1/norm_NY676_619_Part3_conversation1.npy\n",
      "Elapsed time: 1.11s 50/84 done\n",
      "Normalized file and saved at /tmp/tmarcu/normalized-conversations/676-conversations-normalized/norm_NY676_618_Part7_conversation4/norm_NY676_618_Part7_conversation4.npy\n",
      "Elapsed time: 1.29s 51/84 done\n",
      "Normalized file and saved at /tmp/tmarcu/normalized-conversations/676-conversations-normalized/norm_NY676_619_Part3_conversation2/norm_NY676_619_Part3_conversation2.npy\n",
      "Elapsed time: 7.00s 52/84 done\n",
      "Normalized file and saved at /tmp/tmarcu/normalized-conversations/676-conversations-normalized/norm_NY676_617_Part2_conversation2/norm_NY676_617_Part2_conversation2.npy\n",
      "Elapsed time: 6.48s 53/84 done\n",
      "Normalized file and saved at /tmp/tmarcu/normalized-conversations/676-conversations-normalized/norm_NY676_617_Part1_conversation2/norm_NY676_617_Part1_conversation2.npy\n",
      "Elapsed time: 0.27s 54/84 done\n",
      "Normalized file and saved at /tmp/tmarcu/normalized-conversations/676-conversations-normalized/norm_NY676_621_Part2-one_conversation1/norm_NY676_621_Part2-one_conversation1.npy\n",
      "Elapsed time: 1.58s 55/84 done\n",
      "Normalized file and saved at /tmp/tmarcu/normalized-conversations/676-conversations-normalized/norm_NY676_620_Part3-one_conversation3/norm_NY676_620_Part3-one_conversation3.npy\n",
      "Elapsed time: 0.74s 56/84 done\n",
      "Normalized file and saved at /tmp/tmarcu/normalized-conversations/676-conversations-normalized/norm_NY676_620_Part4_conversation1/norm_NY676_620_Part4_conversation1.npy\n",
      "Elapsed time: 3.85s 57/84 done\n",
      "Normalized file and saved at /tmp/tmarcu/normalized-conversations/676-conversations-normalized/norm_NY676_620_Part6_conversation1/norm_NY676_620_Part6_conversation1.npy\n",
      "Elapsed time: 5.98s 58/84 done\n",
      "Normalized file and saved at /tmp/tmarcu/normalized-conversations/676-conversations-normalized/norm_NY676_621_Part1_conversation1/norm_NY676_621_Part1_conversation1.npy\n",
      "Elapsed time: 0.30s 59/84 done\n",
      "Normalized file and saved at /tmp/tmarcu/normalized-conversations/676-conversations-normalized/norm_NY676_621_Part2-two_conversation2/norm_NY676_621_Part2-two_conversation2.npy\n",
      "Elapsed time: 4.68s 60/84 done\n",
      "Normalized file and saved at /tmp/tmarcu/normalized-conversations/676-conversations-normalized/norm_NY676_620_Part5-one_conversation3/norm_NY676_620_Part5-one_conversation3.npy\n",
      "Elapsed time: 0.29s 61/84 done\n",
      "Normalized file and saved at /tmp/tmarcu/normalized-conversations/676-conversations-normalized/norm_NY676_616_Part3_conversation1/norm_NY676_616_Part3_conversation1.npy\n",
      "Elapsed time: 4.94s 62/84 done\n",
      "Normalized file and saved at /tmp/tmarcu/normalized-conversations/676-conversations-normalized/norm_NY676_620_Part5-two_conversation3/norm_NY676_620_Part5-two_conversation3.npy\n",
      "Elapsed time: 1.07s 63/84 done\n",
      "Normalized file and saved at /tmp/tmarcu/normalized-conversations/676-conversations-normalized/norm_NY676_616_Part2-two_conversation1/norm_NY676_616_Part2-two_conversation1.npy\n",
      "Elapsed time: 2.58s 64/84 done\n",
      "Normalized file and saved at /tmp/tmarcu/normalized-conversations/676-conversations-normalized/norm_NY676_619_Part6_conversation2/norm_NY676_619_Part6_conversation2.npy\n",
      "Elapsed time: 2.79s 65/84 done\n",
      "Normalized file and saved at /tmp/tmarcu/normalized-conversations/676-conversations-normalized/norm_NY676_618_Part4_conversation2/norm_NY676_618_Part4_conversation2.npy\n",
      "Elapsed time: 0.15s 66/84 done\n",
      "Normalized file and saved at /tmp/tmarcu/normalized-conversations/676-conversations-normalized/norm_NY676_618_Part8_conversation1/norm_NY676_618_Part8_conversation1.npy\n",
      "Elapsed time: 0.26s 67/84 done\n",
      "Normalized file and saved at /tmp/tmarcu/normalized-conversations/676-conversations-normalized/norm_NY676_620_Part5-one_conversation1/norm_NY676_620_Part5-one_conversation1.npy\n",
      "Elapsed time: 1.33s 68/84 done\n",
      "Normalized file and saved at /tmp/tmarcu/normalized-conversations/676-conversations-normalized/norm_NY676_617_Part2_conversation4/norm_NY676_617_Part2_conversation4.npy\n",
      "Elapsed time: 0.57s 69/84 done\n",
      "Normalized file and saved at /tmp/tmarcu/normalized-conversations/676-conversations-normalized/norm_NY676_620_Part7_conversation1/norm_NY676_620_Part7_conversation1.npy\n",
      "Elapsed time: 1.94s 70/84 done\n",
      "Normalized file and saved at /tmp/tmarcu/normalized-conversations/676-conversations-normalized/norm_NY676_618_Part6_conversation3/norm_NY676_618_Part6_conversation3.npy\n",
      "Elapsed time: 1.46s 71/84 done\n",
      "Normalized file and saved at /tmp/tmarcu/normalized-conversations/676-conversations-normalized/norm_NY676_620_Part3-one_conversation5/norm_NY676_620_Part3-one_conversation5.npy\n",
      "Elapsed time: 0.47s 72/84 done\n",
      "Normalized file and saved at /tmp/tmarcu/normalized-conversations/676-conversations-normalized/norm_NY676_618_Part7_conversation1/norm_NY676_618_Part7_conversation1.npy\n",
      "Elapsed time: 0.59s 73/84 done\n",
      "Normalized file and saved at /tmp/tmarcu/normalized-conversations/676-conversations-normalized/norm_NY676_616_Part3_conversation2/norm_NY676_616_Part3_conversation2.npy\n",
      "Elapsed time: 0.46s 74/84 done\n",
      "Normalized file and saved at /tmp/tmarcu/normalized-conversations/676-conversations-normalized/norm_NY676_618_Part8_conversation2/norm_NY676_618_Part8_conversation2.npy\n",
      "Elapsed time: 0.19s 75/84 done\n",
      "Normalized file and saved at /tmp/tmarcu/normalized-conversations/676-conversations-normalized/norm_NY676_620_Part5-one_conversation4/norm_NY676_620_Part5-one_conversation4.npy\n",
      "Elapsed time: 0.07s 76/84 done\n",
      "Normalized file and saved at /tmp/tmarcu/normalized-conversations/676-conversations-normalized/norm_NY676_618_Part5-one_conversation2/norm_NY676_618_Part5-one_conversation2.npy\n",
      "Elapsed time: 0.82s 77/84 done\n",
      "Normalized file and saved at /tmp/tmarcu/normalized-conversations/676-conversations-normalized/norm_NY676_619_Part4_conversation3/norm_NY676_619_Part4_conversation3.npy\n",
      "Elapsed time: 7.85s 78/84 done\n",
      "Normalized file and saved at /tmp/tmarcu/normalized-conversations/676-conversations-normalized/norm_NY676_618_Part5-one_conversation1/norm_NY676_618_Part5-one_conversation1.npy\n",
      "Elapsed time: 9.36s 79/84 done\n",
      "Normalized file and saved at /tmp/tmarcu/normalized-conversations/676-conversations-normalized/norm_NY676_618_Part5-two_conversation1/norm_NY676_618_Part5-two_conversation1.npy\n",
      "Elapsed time: 0.81s 80/84 done\n",
      "Normalized file and saved at /tmp/tmarcu/normalized-conversations/676-conversations-normalized/norm_NY676_617_Part2_conversation3/norm_NY676_617_Part2_conversation3.npy\n",
      "Elapsed time: 0.75s 81/84 done\n",
      "Normalized file and saved at /tmp/tmarcu/normalized-conversations/676-conversations-normalized/norm_NY676_616_Part1_conversation3/norm_NY676_616_Part1_conversation3.npy\n",
      "Elapsed time: 0.26s 82/84 done\n",
      "Normalized file and saved at /tmp/tmarcu/normalized-conversations/676-conversations-normalized/norm_NY676_616_Part1_conversation2/norm_NY676_616_Part1_conversation2.npy\n",
      "Elapsed time: 1.30s 83/84 done\n",
      "Normalized file and saved at /tmp/tmarcu/normalized-conversations/676-conversations-normalized/norm_NY676_620_Part5-two_conversation2/norm_NY676_620_Part5-two_conversation2.npy\n",
      "Elapsed time: 0.49s 84/84 done\n"
     ]
    }
   ],
   "source": [
    "# utils.normalize_files(files_676, output_directory=\"/tmp/tmarcu/normalized-conversations/676-conversations-normalized/\")"
   ]
  },
  {
   "cell_type": "code",
   "execution_count": null,
   "metadata": {},
   "outputs": [],
   "source": []
  }
 ],
 "metadata": {
  "kernelspec": {
   "display_name": "Python 3",
   "language": "python",
   "name": "python3"
  },
  "language_info": {
   "codemirror_mode": {
    "name": "ipython",
    "version": 3
   },
   "file_extension": ".py",
   "mimetype": "text/x-python",
   "name": "python",
   "nbconvert_exporter": "python",
   "pygments_lexer": "ipython3",
   "version": "3.7.5"
  }
 },
 "nbformat": 4,
 "nbformat_minor": 4
}
