{
 "cells": [
  {
   "cell_type": "code",
   "execution_count": 1,
   "metadata": {},
   "outputs": [],
   "source": [
    "# Autoreload\n",
    "%load_ext autoreload\n",
    "%autoreload 2"
   ]
  },
  {
   "cell_type": "code",
   "execution_count": 2,
   "metadata": {},
   "outputs": [],
   "source": [
    "# Imports\n",
    "import numpy as np\n",
    "import time\n",
    "import string\n",
    "from matplotlib import pyplot as plt\n",
    "from tensorflow.keras.models import Sequential\n",
    "from tensorflow.keras import layers\n",
    "from tensorflow.keras.optimizers import RMSprop\n",
    "import tensorflow as tf\n",
    "import sys\n",
    "sys.path.append('../')\n",
    "from brain2brain import utils\n",
    "from brain2brain import generators"
   ]
  },
  {
   "cell_type": "code",
   "execution_count": 3,
   "metadata": {},
   "outputs": [],
   "source": [
    "# Get all file_paths for patient 625\n",
    "file_paths = utils.get_file_paths(625, True)"
   ]
  },
  {
   "cell_type": "code",
   "execution_count": 4,
   "metadata": {},
   "outputs": [
    {
     "data": {
      "text/plain": [
       "'/projects/HASSON/247/data/625-conversations/NY625_418-419_Part1_conversation5/NY625_418-419_Part1_conversation5.npy'"
      ]
     },
     "execution_count": 4,
     "metadata": {},
     "output_type": "execute_result"
    }
   ],
   "source": [
    "file_paths[0]"
   ]
  },
  {
   "cell_type": "code",
   "execution_count": 9,
   "metadata": {},
   "outputs": [],
   "source": [
    "train, test = utils.split_file_paths(file_paths, 0.8)"
   ]
  },
  {
   "cell_type": "code",
   "execution_count": 19,
   "metadata": {},
   "outputs": [
    {
     "name": "stdout",
     "output_type": "stream",
     "text": [
      "{0: 26, 1: 14, 2: 49, 3: 56, 4: 335, 5: 350, 6: 81, 7: 20, 8: 68, 9: 331, 10: 35, 11: 70, 12: 251, 13: 46, 14: 85, 15: 138, 16: 17, 17: 38, 18: 209, 19: 35, 20: 61, 21: 61, 22: 17, 23: 271, 24: 42, 25: 189, 26: 31, 27: 89, 28: 21, 29: 30, 30: 54, 31: 417, 32: 150, 33: 50, 34: 43, 35: 353, 36: 65, 37: 35, 38: 33, 39: 165, 40: 200, 41: 20, 42: 40, 43: 50, 44: 80, 45: 57, 46: 102, 47: 3, 48: 14, 49: 29, 50: 5, 51: 62, 52: 104, 53: 107, 54: 71, 55: 75, 56: 53, 57: 308, 58: 17, 59: 17, 60: 4, 61: 233, 62: 158, 63: 20, 64: 62, 65: 13, 66: 43, 67: 110, 68: 330, 69: 173, 70: 74, 71: 12, 72: 27, 73: 67, 74: 11, 75: 46}\n",
      "7228\n",
      " Time: 3.9725162982940674s\n"
     ]
    }
   ],
   "source": [
    "start_time = time.time()\n",
    "test_gen = generators.FGenerator(file_paths, lookback=512*10, length = 512 * 0.5, delay = 0,\n",
    "                           shuffle = True, batch_size = 64, sample_period = 512 * 0.5,\n",
    "                           num_electrodes = 98)\n",
    "print(f\" Time: {time.time() - start_time}s\")"
   ]
  },
  {
   "cell_type": "code",
   "execution_count": 20,
   "metadata": {},
   "outputs": [
    {
     "data": {
      "text/plain": [
       "112"
      ]
     },
     "execution_count": 20,
     "metadata": {},
     "output_type": "execute_result"
    }
   ],
   "source": [
    "len(test_gen)"
   ]
  },
  {
   "cell_type": "code",
   "execution_count": null,
   "metadata": {},
   "outputs": [
    {
     "name": "stdout",
     "output_type": "stream",
     "text": [
      " Time: 0.4270665645599365s\n",
      " Time: 0.45068836212158203s\n",
      " Time: 0.370053768157959s\n",
      " Time: 0.5008609294891357s\n",
      " Time: 0.37489748001098633s\n",
      " Time: 0.47019457817077637s\n",
      " Time: 0.42383766174316406s\n",
      " Time: 0.34475088119506836s\n",
      " Time: 0.49692654609680176s\n",
      " Time: 0.298875093460083s\n",
      " Time: 0.8672349452972412s\n",
      " Time: 0.7093620300292969s\n",
      " Time: 0.7083697319030762s\n",
      " Time: 0.706758975982666s\n",
      " Time: 0.7055895328521729s\n",
      " Time: 0.9747192859649658s\n",
      " Time: 0.4728701114654541s\n",
      " Time: 0.29625773429870605s\n",
      " Time: 0.676443338394165s\n",
      " Time: 0.4723069667816162s\n",
      " Time: 0.47002172470092773s\n",
      " Time: 0.7788658142089844s\n",
      " Time: 0.5614368915557861s\n",
      " Time: 0.45826101303100586s\n",
      " Time: 0.7786848545074463s\n",
      " Time: 0.44925856590270996s\n",
      " Time: 0.4911344051361084s\n",
      " Time: 0.6415743827819824s\n",
      " Time: 0.42462801933288574s\n",
      " Time: 0.4740135669708252s\n",
      " Time: 0.3362925052642822s\n",
      " Time: 0.6937692165374756s\n",
      " Time: 0.5861110687255859s\n",
      " Time: 0.4057900905609131s\n",
      " Time: 0.4412357807159424s\n",
      " Time: 0.7311692237854004s\n",
      " Time: 0.7559220790863037s\n",
      " Time: 0.4450693130493164s\n",
      " Time: 0.43955421447753906s\n",
      " Time: 1.0968804359436035s\n",
      " Time: 0.6851322650909424s\n",
      " Time: 0.6856293678283691s\n",
      " Time: 0.6913392543792725s\n",
      " Time: 0.6845786571502686s\n",
      " Time: 1.4253909587860107s\n",
      " Time: 0.7362866401672363s\n",
      " Time: 0.728163480758667s\n",
      " Time: 0.7251408100128174s\n",
      " Time: 0.7240860462188721s\n",
      " Time: 1.1823146343231201s\n",
      " Time: 0.35648536682128906s\n",
      " Time: 0.6131432056427002s\n",
      " Time: 0.3965880870819092s\n",
      " Time: 1.0665528774261475s\n",
      " Time: 0.615105390548706s\n",
      " Time: 0.5968849658966064s\n",
      " Time: 0.6019566059112549s\n",
      " Time: 0.6000111103057861s\n",
      " Time: 0.8453593254089355s\n",
      " Time: 0.8095614910125732s\n",
      " Time: 0.5005450248718262s\n",
      " Time: 0.4946756362915039s\n",
      " Time: 0.7574994564056396s\n",
      " Time: 0.4960007667541504s\n",
      " Time: 0.5877797603607178s\n",
      " Time: 0.3325464725494385s\n",
      " Time: 0.5446875095367432s\n",
      " Time: 0.9536871910095215s\n",
      " Time: 0.5751500129699707s\n",
      " Time: 0.5668778419494629s\n",
      " Time: 0.5629823207855225s\n",
      " Time: 1.0979573726654053s\n",
      " Time: 0.6959490776062012s\n",
      " Time: 1.125838041305542s\n",
      " Time: 0.5577712059020996s\n",
      " Time: 0.5702474117279053s\n",
      " Time: 0.5494136810302734s\n",
      " Time: 1.5116534233093262s\n",
      " Time: 0.7367570400238037s\n",
      " Time: 0.7447502613067627s\n",
      " Time: 0.7559757232666016s\n",
      " Time: 0.745194673538208s\n",
      " Time: 0.7496199607849121s\n",
      " Time: 0.9820334911346436s\n",
      " Time: 1.2036311626434326s\n",
      " Time: 0.7455565929412842s\n",
      " Time: 0.7372105121612549s\n",
      " Time: 0.7333428859710693s\n",
      " Time: 0.7347939014434814s\n",
      " Time: 0.7721776962280273s\n",
      " Time: 1.0589871406555176s\n",
      " Time: 0.40363597869873047s\n",
      " Time: 0.6955621242523193s\n",
      " Time: 0.9809718132019043s\n",
      " Time: 0.7458240985870361s\n",
      " Time: 0.7374751567840576s\n",
      " Time: 0.722074031829834s\n",
      " Time: 0.7197601795196533s\n",
      " Time: 2.10018253326416s\n",
      " Time: 1.5586574077606201s\n",
      " Time: 0.8592569828033447s\n",
      " Time: 0.8600955009460449s\n",
      " Time: 0.8536376953125s\n",
      " Time: 0.8576545715332031s\n"
     ]
    }
   ],
   "source": [
    "i = 0\n",
    "for i in range(len(test_gen)):\n",
    "    start_time = time.time()\n",
    "    X, y = test_gen[i]\n",
    "    print(f\" Time: {time.time() - start_time}s\")"
   ]
  }
 ],
 "metadata": {
  "kernelspec": {
   "display_name": "Python 3",
   "language": "python",
   "name": "python3"
  },
  "language_info": {
   "codemirror_mode": {
    "name": "ipython",
    "version": 3
   },
   "file_extension": ".py",
   "mimetype": "text/x-python",
   "name": "python",
   "nbconvert_exporter": "python",
   "pygments_lexer": "ipython3",
   "version": "3.7.5"
  }
 },
 "nbformat": 4,
 "nbformat_minor": 4
}
