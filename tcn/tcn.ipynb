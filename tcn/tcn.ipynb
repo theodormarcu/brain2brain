{
 "cells": [
  {
   "cell_type": "markdown",
   "metadata": {},
   "source": [
    "# TCN on Multiple Electrodes\n",
    "\n",
    "\n",
    "This notebook is a proof of concept work for running TCNs on multiple electrodes. It is based on Eric Ham's work and on Bai et al."
   ]
  },
  {
   "cell_type": "code",
   "execution_count": null,
   "metadata": {},
   "outputs": [],
   "source": [
    "# Autoreload\n",
    "%load_ext autoreload\n",
    "%autoreload 2"
   ]
  },
  {
   "cell_type": "code",
   "execution_count": 28,
   "metadata": {},
   "outputs": [],
   "source": [
    "# Imports\n",
    "import numpy as np\n",
    "import string\n",
    "from matplotlib import pyplot as plt\n",
    "from tensorflow.keras.models import Sequential\n",
    "from tensorflow.keras import layers\n",
    "from tensorflow.keras.optimizers import RMSprop\n",
    "import tensorflow as tf\n",
    "import sys\n",
    "sys.path.append('../')\n",
    "from brain2brain import utils"
   ]
  },
  {
   "cell_type": "code",
   "execution_count": 29,
   "metadata": {},
   "outputs": [],
   "source": [
    "# Get all file_paths for patient 625\n",
    "file_paths = utils.get_file_paths(625)"
   ]
  },
  {
   "cell_type": "code",
   "execution_count": null,
   "metadata": {},
   "outputs": [
    {
     "name": "stdout",
     "output_type": "stream",
     "text": [
      "Reading /projects/HASSON/247/data/625-conversations/NY625_418-419_Part1_conversation1/NY625_418-419_Part1_conversation1.npy\n",
      "Finished reading /projects/HASSON/247/data/625-conversations/NY625_418-419_Part1_conversation1/NY625_418-419_Part1_conversation1.npy. Loaded into numpy array of shape (247460, 98)\n",
      "Added rows to ecogs. Ecogs size: 1\n",
      "Reading /projects/HASSON/247/data/625-conversations/NY625_418-419_Part1_conversation2/NY625_418-419_Part1_conversation2.npy\n",
      "Finished reading /projects/HASSON/247/data/625-conversations/NY625_418-419_Part1_conversation2/NY625_418-419_Part1_conversation2.npy. Loaded into numpy array of shape (69077, 98)\n",
      "Added rows to ecogs. Ecogs size: 2\n",
      "Reading /projects/HASSON/247/data/625-conversations/NY625_418-419_Part1_conversation4/NY625_418-419_Part1_conversation4.npy\n",
      "Finished reading /projects/HASSON/247/data/625-conversations/NY625_418-419_Part1_conversation4/NY625_418-419_Part1_conversation4.npy. Loaded into numpy array of shape (192201, 98)\n",
      "Added rows to ecogs. Ecogs size: 3\n",
      "Reading /projects/HASSON/247/data/625-conversations/NY625_418-419_Part1_conversation5/NY625_418-419_Part1_conversation5.npy\n",
      "Finished reading /projects/HASSON/247/data/625-conversations/NY625_418-419_Part1_conversation5/NY625_418-419_Part1_conversation5.npy. Loaded into numpy array of shape (141281, 98)\n",
      "Added rows to ecogs. Ecogs size: 4\n",
      "Reading /projects/HASSON/247/data/625-conversations/NY625_418_Part3_conversation1/NY625_418_Part3_conversation1.npy\n",
      "Finished reading /projects/HASSON/247/data/625-conversations/NY625_418_Part3_conversation1/NY625_418_Part3_conversation1.npy. Loaded into numpy array of shape (1802762, 98)\n",
      "Added rows to ecogs. Ecogs size: 5\n",
      "Reading /projects/HASSON/247/data/625-conversations/NY625_418_Part3_conversation2/NY625_418_Part3_conversation2.npy\n",
      "Finished reading /projects/HASSON/247/data/625-conversations/NY625_418_Part3_conversation2/NY625_418_Part3_conversation2.npy. Loaded into numpy array of shape (1076906, 98)\n",
      "Added rows to ecogs. Ecogs size: 6\n",
      "Reading /projects/HASSON/247/data/625-conversations/NY625_418_Part4_conversation1/NY625_418_Part4_conversation1.npy\n",
      "Finished reading /projects/HASSON/247/data/625-conversations/NY625_418_Part4_conversation1/NY625_418_Part4_conversation1.npy. Loaded into numpy array of shape (1898488, 98)\n",
      "Added rows to ecogs. Ecogs size: 7\n",
      "Reading /projects/HASSON/247/data/625-conversations/NY625_418_Part4_conversation2/NY625_418_Part4_conversation2.npy\n",
      "Finished reading /projects/HASSON/247/data/625-conversations/NY625_418_Part4_conversation2/NY625_418_Part4_conversation2.npy. Loaded into numpy array of shape (235275, 98)\n",
      "Added rows to ecogs. Ecogs size: 8\n",
      "Reading /projects/HASSON/247/data/625-conversations/NY625_418_Part5_two_conversation1/NY625_418_Part5_two_conversation1.npy\n",
      "Finished reading /projects/HASSON/247/data/625-conversations/NY625_418_Part5_two_conversation1/NY625_418_Part5_two_conversation1.npy. Loaded into numpy array of shape (74184, 98)\n",
      "Added rows to ecogs. Ecogs size: 9\n",
      "Reading /projects/HASSON/247/data/625-conversations/NY625_418_Part6_conversation1/NY625_418_Part6_conversation1.npy\n",
      "Finished reading /projects/HASSON/247/data/625-conversations/NY625_418_Part6_conversation1/NY625_418_Part6_conversation1.npy. Loaded into numpy array of shape (1784503, 98)\n",
      "Added rows to ecogs. Ecogs size: 10\n",
      "Reading /projects/HASSON/247/data/625-conversations/NY625_418_Part6_conversation2/NY625_418_Part6_conversation2.npy\n",
      "Finished reading /projects/HASSON/247/data/625-conversations/NY625_418_Part6_conversation2/NY625_418_Part6_conversation2.npy. Loaded into numpy array of shape (2247150, 98)\n",
      "Added rows to ecogs. Ecogs size: 11\n",
      "Reading /projects/HASSON/247/data/625-conversations/NY625_418_Part7_conversation3/NY625_418_Part7_conversation3.npy\n",
      "Finished reading /projects/HASSON/247/data/625-conversations/NY625_418_Part7_conversation3/NY625_418_Part7_conversation3.npy. Loaded into numpy array of shape (335395, 98)\n",
      "Added rows to ecogs. Ecogs size: 12\n",
      "Reading /projects/HASSON/247/data/625-conversations/NY625_418_Part7_conversation5/NY625_418_Part7_conversation5.npy\n",
      "Finished reading /projects/HASSON/247/data/625-conversations/NY625_418_Part7_conversation5/NY625_418_Part7_conversation5.npy. Loaded into numpy array of shape (1256481, 98)\n",
      "Added rows to ecogs. Ecogs size: 13\n",
      "Reading /projects/HASSON/247/data/625-conversations/NY625_418_Part7_conversation6/NY625_418_Part7_conversation6.npy\n",
      "Finished reading /projects/HASSON/247/data/625-conversations/NY625_418_Part7_conversation6/NY625_418_Part7_conversation6.npy. Loaded into numpy array of shape (251960, 98)\n",
      "Added rows to ecogs. Ecogs size: 14\n",
      "Reading /projects/HASSON/247/data/625-conversations/NY625_418_Part7_conversation7/NY625_418_Part7_conversation7.npy\n",
      "Finished reading /projects/HASSON/247/data/625-conversations/NY625_418_Part7_conversation7/NY625_418_Part7_conversation7.npy. Loaded into numpy array of shape (402306, 98)\n",
      "Added rows to ecogs. Ecogs size: 15\n",
      "Reading /projects/HASSON/247/data/625-conversations/NY625_419-420_Part1_conversation1/NY625_419-420_Part1_conversation1.npy\n",
      "Finished reading /projects/HASSON/247/data/625-conversations/NY625_419-420_Part1_conversation1/NY625_419-420_Part1_conversation1.npy. Loaded into numpy array of shape (168621, 98)\n",
      "Added rows to ecogs. Ecogs size: 16\n",
      "Reading /projects/HASSON/247/data/625-conversations/NY625_419-420_Part1_conversation2/NY625_419-420_Part1_conversation2.npy\n",
      "Finished reading /projects/HASSON/247/data/625-conversations/NY625_419-420_Part1_conversation2/NY625_419-420_Part1_conversation2.npy. Loaded into numpy array of shape (234924, 98)\n",
      "Added rows to ecogs. Ecogs size: 17\n",
      "Reading /projects/HASSON/247/data/625-conversations/NY625_419-420_Part1_conversation3/NY625_419-420_Part1_conversation3.npy\n",
      "Finished reading /projects/HASSON/247/data/625-conversations/NY625_419-420_Part1_conversation3/NY625_419-420_Part1_conversation3.npy. Loaded into numpy array of shape (292756, 98)\n",
      "Added rows to ecogs. Ecogs size: 18\n",
      "Reading /projects/HASSON/247/data/625-conversations/NY625_419-420_Part1_conversation4/NY625_419-420_Part1_conversation4.npy\n",
      "Finished reading /projects/HASSON/247/data/625-conversations/NY625_419-420_Part1_conversation4/NY625_419-420_Part1_conversation4.npy. Loaded into numpy array of shape (110623, 98)\n",
      "Added rows to ecogs. Ecogs size: 19\n",
      "Reading /projects/HASSON/247/data/625-conversations/NY625_419-420_Part1_conversation5/NY625_419-420_Part1_conversation5.npy\n",
      "Finished reading /projects/HASSON/247/data/625-conversations/NY625_419-420_Part1_conversation5/NY625_419-420_Part1_conversation5.npy. Loaded into numpy array of shape (189508, 98)\n",
      "Added rows to ecogs. Ecogs size: 20\n",
      "Reading /projects/HASSON/247/data/625-conversations/NY625_419_Part3_conversation2/NY625_419_Part3_conversation2.npy\n",
      "Finished reading /projects/HASSON/247/data/625-conversations/NY625_419_Part3_conversation2/NY625_419_Part3_conversation2.npy. Loaded into numpy array of shape (370131, 98)\n",
      "Added rows to ecogs. Ecogs size: 21\n",
      "Reading /projects/HASSON/247/data/625-conversations/NY625_419_Part3_conversation3/NY625_419_Part3_conversation3.npy\n",
      "Finished reading /projects/HASSON/247/data/625-conversations/NY625_419_Part3_conversation3/NY625_419_Part3_conversation3.npy. Loaded into numpy array of shape (311378, 98)\n",
      "Added rows to ecogs. Ecogs size: 22\n",
      "Reading /projects/HASSON/247/data/625-conversations/NY625_419_Part3_conversation5/NY625_419_Part3_conversation5.npy\n",
      "Finished reading /projects/HASSON/247/data/625-conversations/NY625_419_Part3_conversation5/NY625_419_Part3_conversation5.npy. Loaded into numpy array of shape (59321, 98)\n",
      "Added rows to ecogs. Ecogs size: 23\n",
      "Reading /projects/HASSON/247/data/625-conversations/NY625_419_Part3_conversation6/NY625_419_Part3_conversation6.npy\n",
      "Finished reading /projects/HASSON/247/data/625-conversations/NY625_419_Part3_conversation6/NY625_419_Part3_conversation6.npy. Loaded into numpy array of shape (166069, 98)\n",
      "Added rows to ecogs. Ecogs size: 24\n",
      "Reading /projects/HASSON/247/data/625-conversations/NY625_419_Part3_conversation7/NY625_419_Part3_conversation7.npy\n",
      "Finished reading /projects/HASSON/247/data/625-conversations/NY625_419_Part3_conversation7/NY625_419_Part3_conversation7.npy. Loaded into numpy array of shape (1125000, 98)\n",
      "Added rows to ecogs. Ecogs size: 25\n",
      "Reading /projects/HASSON/247/data/625-conversations/NY625_419_Part4_conversation1/NY625_419_Part4_conversation1.npy\n",
      "Finished reading /projects/HASSON/247/data/625-conversations/NY625_419_Part4_conversation1/NY625_419_Part4_conversation1.npy. Loaded into numpy array of shape (24606, 98)\n",
      "Added rows to ecogs. Ecogs size: 26\n",
      "Reading /projects/HASSON/247/data/625-conversations/NY625_419_Part4_conversation11/NY625_419_Part4_conversation11.npy\n",
      "Finished reading /projects/HASSON/247/data/625-conversations/NY625_419_Part4_conversation11/NY625_419_Part4_conversation11.npy. Loaded into numpy array of shape (301389, 98)\n",
      "Added rows to ecogs. Ecogs size: 27\n",
      "Reading /projects/HASSON/247/data/625-conversations/NY625_419_Part4_conversation12/NY625_419_Part4_conversation12.npy\n",
      "Finished reading /projects/HASSON/247/data/625-conversations/NY625_419_Part4_conversation12/NY625_419_Part4_conversation12.npy. Loaded into numpy array of shape (887544, 98)\n",
      "Added rows to ecogs. Ecogs size: 28\n",
      "Reading /projects/HASSON/247/data/625-conversations/NY625_419_Part4_conversation2/NY625_419_Part4_conversation2.npy\n",
      "Finished reading /projects/HASSON/247/data/625-conversations/NY625_419_Part4_conversation2/NY625_419_Part4_conversation2.npy. Loaded into numpy array of shape (92658, 98)\n",
      "Added rows to ecogs. Ecogs size: 29\n",
      "Reading /projects/HASSON/247/data/625-conversations/NY625_419_Part4_conversation3/NY625_419_Part4_conversation3.npy\n",
      "Finished reading /projects/HASSON/247/data/625-conversations/NY625_419_Part4_conversation3/NY625_419_Part4_conversation3.npy. Loaded into numpy array of shape (190802, 98)\n",
      "Added rows to ecogs. Ecogs size: 30\n",
      "Reading /projects/HASSON/247/data/625-conversations/NY625_419_Part4_conversation4/NY625_419_Part4_conversation4.npy\n",
      "Finished reading /projects/HASSON/247/data/625-conversations/NY625_419_Part4_conversation4/NY625_419_Part4_conversation4.npy. Loaded into numpy array of shape (94503, 98)\n",
      "Added rows to ecogs. Ecogs size: 31\n",
      "Reading /projects/HASSON/247/data/625-conversations/NY625_419_Part4_conversation5/NY625_419_Part4_conversation5.npy\n",
      "Finished reading /projects/HASSON/247/data/625-conversations/NY625_419_Part4_conversation5/NY625_419_Part4_conversation5.npy. Loaded into numpy array of shape (147803, 98)\n",
      "Added rows to ecogs. Ecogs size: 32\n",
      "Reading /projects/HASSON/247/data/625-conversations/NY625_419_Part4_conversation7/NY625_419_Part4_conversation7.npy\n",
      "Finished reading /projects/HASSON/247/data/625-conversations/NY625_419_Part4_conversation7/NY625_419_Part4_conversation7.npy. Loaded into numpy array of shape (744322, 98)\n",
      "Added rows to ecogs. Ecogs size: 33\n",
      "Reading /projects/HASSON/247/data/625-conversations/NY625_419_Part4_conversation8/NY625_419_Part4_conversation8.npy\n",
      "Finished reading /projects/HASSON/247/data/625-conversations/NY625_419_Part4_conversation8/NY625_419_Part4_conversation8.npy. Loaded into numpy array of shape (483625, 98)\n",
      "Added rows to ecogs. Ecogs size: 34\n",
      "Reading /projects/HASSON/247/data/625-conversations/NY625_419_Part6_conversation2/NY625_419_Part6_conversation2.npy\n",
      "Finished reading /projects/HASSON/247/data/625-conversations/NY625_419_Part6_conversation2/NY625_419_Part6_conversation2.npy. Loaded into numpy array of shape (273476, 98)\n",
      "Added rows to ecogs. Ecogs size: 35\n",
      "Reading /projects/HASSON/247/data/625-conversations/NY625_419_Part6_conversation3/NY625_419_Part6_conversation3.npy\n",
      "Finished reading /projects/HASSON/247/data/625-conversations/NY625_419_Part6_conversation3/NY625_419_Part6_conversation3.npy. Loaded into numpy array of shape (334562, 98)\n",
      "Added rows to ecogs. Ecogs size: 36\n",
      "Reading /projects/HASSON/247/data/625-conversations/NY625_419_Part6_conversation4/NY625_419_Part6_conversation4.npy\n",
      "Finished reading /projects/HASSON/247/data/625-conversations/NY625_419_Part6_conversation4/NY625_419_Part6_conversation4.npy. Loaded into numpy array of shape (115207, 98)\n",
      "Added rows to ecogs. Ecogs size: 37\n",
      "Reading /projects/HASSON/247/data/625-conversations/NY625_419_Part6_conversation5/NY625_419_Part6_conversation5.npy\n",
      "Finished reading /projects/HASSON/247/data/625-conversations/NY625_419_Part6_conversation5/NY625_419_Part6_conversation5.npy. Loaded into numpy array of shape (354368, 98)\n",
      "Added rows to ecogs. Ecogs size: 38\n",
      "Reading /projects/HASSON/247/data/625-conversations/NY625_419_Part7_conversation1/NY625_419_Part7_conversation1.npy\n",
      "Finished reading /projects/HASSON/247/data/625-conversations/NY625_419_Part7_conversation1/NY625_419_Part7_conversation1.npy. Loaded into numpy array of shape (459432, 98)\n",
      "Added rows to ecogs. Ecogs size: 39\n",
      "Reading /projects/HASSON/247/data/625-conversations/NY625_419_Part7_conversation2/NY625_419_Part7_conversation2.npy\n",
      "Finished reading /projects/HASSON/247/data/625-conversations/NY625_419_Part7_conversation2/NY625_419_Part7_conversation2.npy. Loaded into numpy array of shape (1016595, 98)\n",
      "Added rows to ecogs. Ecogs size: 40\n",
      "Reading /projects/HASSON/247/data/625-conversations/NY625_419_Part7_conversation4/NY625_419_Part7_conversation4.npy\n",
      "Finished reading /projects/HASSON/247/data/625-conversations/NY625_419_Part7_conversation4/NY625_419_Part7_conversation4.npy. Loaded into numpy array of shape (205173, 98)\n",
      "Added rows to ecogs. Ecogs size: 41\n",
      "Reading /projects/HASSON/247/data/625-conversations/NY625_419_Part7_conversation5/NY625_419_Part7_conversation5.npy\n",
      "Finished reading /projects/HASSON/247/data/625-conversations/NY625_419_Part7_conversation5/NY625_419_Part7_conversation5.npy. Loaded into numpy array of shape (265178, 98)\n",
      "Added rows to ecogs. Ecogs size: 42\n",
      "Reading /projects/HASSON/247/data/625-conversations/NY625_420_Part2_one_conversation2/NY625_420_Part2_one_conversation2.npy\n",
      "Finished reading /projects/HASSON/247/data/625-conversations/NY625_420_Part2_one_conversation2/NY625_420_Part2_one_conversation2.npy. Loaded into numpy array of shape (17456, 98)\n",
      "Added rows to ecogs. Ecogs size: 43\n",
      "Reading /projects/HASSON/247/data/625-conversations/NY625_420_Part2_two_conversation1/NY625_420_Part2_two_conversation1.npy\n",
      "Finished reading /projects/HASSON/247/data/625-conversations/NY625_420_Part2_two_conversation1/NY625_420_Part2_two_conversation1.npy. Loaded into numpy array of shape (110051, 98)\n",
      "Added rows to ecogs. Ecogs size: 44\n",
      "Reading /projects/HASSON/247/data/625-conversations/NY625_420_Part2_two_conversation2/NY625_420_Part2_two_conversation2.npy\n",
      "Finished reading /projects/HASSON/247/data/625-conversations/NY625_420_Part2_two_conversation2/NY625_420_Part2_two_conversation2.npy. Loaded into numpy array of shape (285572, 98)\n",
      "Added rows to ecogs. Ecogs size: 45\n",
      "Reading /projects/HASSON/247/data/625-conversations/NY625_420_Part4_conversation1/NY625_420_Part4_conversation1.npy\n",
      "Finished reading /projects/HASSON/247/data/625-conversations/NY625_420_Part4_conversation1/NY625_420_Part4_conversation1.npy. Loaded into numpy array of shape (931358, 98)\n",
      "Added rows to ecogs. Ecogs size: 46\n",
      "Reading /projects/HASSON/247/data/625-conversations/NY625_420_Part4_conversation4/NY625_420_Part4_conversation4.npy\n"
     ]
    }
   ],
   "source": [
    "ecogs = utils.create_ecog_array(file_paths, True)"
   ]
  },
  {
   "cell_type": "code",
   "execution_count": null,
   "metadata": {},
   "outputs": [],
   "source": [
    "ecogs.shape"
   ]
  },
  {
   "cell_type": "code",
   "execution_count": 23,
   "metadata": {},
   "outputs": [],
   "source": [
    "# Load patient data\n",
    "data = np.load(\"/projects/HASSON/247/data/625-conversations/NY625_420_Part6_conversation1/NY625_420_Part6_conversation1.npy\")"
   ]
  },
  {
   "cell_type": "code",
   "execution_count": 24,
   "metadata": {},
   "outputs": [
    {
     "data": {
      "text/plain": [
       "array([[  34.71443534,    3.58127871,   -0.98091271, ..., -101.73178115,\n",
       "         -36.25727312,  -70.14234797],\n",
       "       [  37.67167214,    9.05546553,   -6.47073932, ...,  -98.38837723,\n",
       "         -42.42399306,  -69.56880489],\n",
       "       [  39.47857797,   15.10714477,  -12.03648992, ...,  -94.67567675,\n",
       "         -48.70193101,  -68.46768645],\n",
       "       ...,\n",
       "       [   3.32768073,    6.44208625,   -1.43961943, ..., -109.46831071,\n",
       "         -88.25238891,  -55.73488824],\n",
       "       [  -1.12344955,    6.55080872,   -3.80005689, ..., -115.16248735,\n",
       "         -90.31095086,  -51.098763  ],\n",
       "       [  -5.87691698,    6.41104345,   -6.65966428, ..., -119.99802577,\n",
       "         -91.10151044,  -45.50820385]])"
      ]
     },
     "execution_count": 24,
     "metadata": {},
     "output_type": "execute_result"
    }
   ],
   "source": [
    "data"
   ]
  },
  {
   "cell_type": "code",
   "execution_count": 37,
   "metadata": {},
   "outputs": [],
   "source": [
    "float_data = data"
   ]
  },
  {
   "cell_type": "code",
   "execution_count": 41,
   "metadata": {},
   "outputs": [
    {
     "data": {
      "text/plain": [
       "98"
      ]
     },
     "execution_count": 41,
     "metadata": {},
     "output_type": "execute_result"
    }
   ],
   "source": [
    "len(float_data[0])"
   ]
  },
  {
   "cell_type": "markdown",
   "metadata": {},
   "source": [
    "Given data going as far back as `lookback` timesteps (a timestep is a 512th of a second), and sampled every `steps` timesteps, can you predict the value in `delay` timesteps?\n",
    "\n",
    "In this problem, we are also seeking to see if we can use more than one electrode at a time to predict the next value."
   ]
  },
  {
   "cell_type": "code",
   "execution_count": 4,
   "metadata": {},
   "outputs": [
    {
     "data": {
      "text/plain": [
       "(560786, 98)"
      ]
     },
     "execution_count": 4,
     "metadata": {},
     "output_type": "execute_result"
    }
   ],
   "source": [
    "data.shape"
   ]
  },
  {
   "cell_type": "markdown",
   "metadata": {},
   "source": [
    "We have 98 electrodes and 560786 timesteps. This is about 1000 seconds."
   ]
  },
  {
   "cell_type": "code",
   "execution_count": 5,
   "metadata": {},
   "outputs": [
    {
     "data": {
      "text/plain": [
       "[<matplotlib.lines.Line2D at 0x2aad6d3d1810>]"
      ]
     },
     "execution_count": 5,
     "metadata": {},
     "output_type": "execute_result"
    },
    {
     "data": {
      "image/png": "[encoded data removed]",
      "text/plain": [
       "<Figure size 432x288 with 1 Axes>"
      ]
     },
     "metadata": {
      "needs_background": "light"
     },
     "output_type": "display_data"
    }
   ],
   "source": [
    "# Plot one electrode\n",
    "signal = data[:,0]\n",
    "plt.plot(range(len(signal)), signal)"
   ]
  },
  {
   "cell_type": "code",
   "execution_count": 6,
   "metadata": {},
   "outputs": [],
   "source": [
    "# Preparing the data (normalization)\n",
    "# Axis=0 refers to rows. Rows are signal samples.\n",
    "# 307200 = 512 * 10 * 60 (first ten minutes)\n",
    "mean = float_data[:307200].mean(axis=0)\n",
    "float_data -= mean\n",
    "std = float_data[:307200].std(axis=0)\n",
    "float_data /= std"
   ]
  },
  {
   "cell_type": "code",
   "execution_count": 108,
   "metadata": {},
   "outputs": [
    {
     "data": {
      "text/plain": [
       "[<matplotlib.lines.Line2D at 0x2abef9caeb10>]"
      ]
     },
     "execution_count": 108,
     "metadata": {},
     "output_type": "execute_result"
    },
    {
     "data": {
      "image/png": "[encoded data removed]",
      "text/plain": [
       "<Figure size 432x288 with 1 Axes>"
      ]
     },
     "metadata": {
      "needs_background": "light"
     },
     "output_type": "display_data"
    }
   ],
   "source": [
    "# Plot one electrode (after normalization)\n",
    "signal = float_data[:,2]\n",
    "plt.plot(range(len(signal)), signal)"
   ]
  },
  {
   "cell_type": "code",
   "execution_count": 86,
   "metadata": {},
   "outputs": [],
   "source": [
    "# Generator (see Deep Learning with Python pag. 211)\n",
    "# data - the original array of floating-point data.\n",
    "# lookback - How many timesteps back the input data should go.\n",
    "# delay - How many timesteps in the future the target should be.\n",
    "# min_index and max_index - Indices in the data arr that delimit which time steps to draw from. \n",
    "#     This is useful for splitting the data in training, validation, and test.\n",
    "# shuffle - Whether to shuffle the samples or draw them in chronological order.\n",
    "# batch_size - The number of samples per batch.\n",
    "# step - The period, in timesteps, at which you sample data. \n",
    "def generator(data, lookback, delay, min_index, max_index,\n",
    "              shuffle=False, batch_size=128, step=6):\n",
    "    if max_index == None:\n",
    "        max_index = len(data) - delay - 1\n",
    "    i = min_index + lookback\n",
    "    while True:\n",
    "        if shuffle:\n",
    "            rows = np.random.randint(min_index + lookback,\n",
    "                                     max_index,\n",
    "                                     size=batch_size)\n",
    "        else:\n",
    "            if i + batch_size >= max_index:\n",
    "                i = min_index + lookback\n",
    "            rows = np.arange(i, min(i + batch_size, max_index))\n",
    "            i += len(rows)\n",
    "        samples = np.zeros((len(rows),\n",
    "                           lookback // step, \n",
    "                           data.shape[-1]))\n",
    "        targets = np.zeros((len(rows), ))\n",
    "        for j, row in enumerate(rows):\n",
    "            indices = range(rows[j] - lookback, rows[j], step)\n",
    "            samples[j] = data[indices]\n",
    "            targets[j] = data[rows[j] + delay][1]\n",
    "        yield (samples, targets)"
   ]
  },
  {
   "cell_type": "code",
   "execution_count": 87,
   "metadata": {},
   "outputs": [],
   "source": [
    "# Preparing the training, validation, and test generators\n",
    "lookback = 5120 # Observations will go back 10s.\n",
    "step = 128 # Observations will be sampled at 4 data points per second.\n",
    "delay = 256 # Targets are 0.5s in the future.\n",
    "batch_size = 64 # Number of samples per batch."
   ]
  },
  {
   "cell_type": "code",
   "execution_count": 88,
   "metadata": {},
   "outputs": [],
   "source": [
    "# Generate training data.\n",
    "train_gen = generator(float_data, \n",
    "                      lookback=lookback,\n",
    "                      delay = delay,\n",
    "                      min_index = 0,\n",
    "                      max_index = 307200,\n",
    "                      shuffle = True,\n",
    "                      step = step,\n",
    "                      batch_size = batch_size)"
   ]
  },
  {
   "cell_type": "code",
   "execution_count": 89,
   "metadata": {},
   "outputs": [],
   "source": [
    "# Generate validation data.\n",
    "val_gen = generator(float_data, \n",
    "                    lookback=lookback,\n",
    "                    delay = delay,\n",
    "                    min_index = 307201,\n",
    "                    max_index = 407200,\n",
    "                    step = step,\n",
    "                    batch_size = batch_size)"
   ]
  },
  {
   "cell_type": "code",
   "execution_count": 90,
   "metadata": {},
   "outputs": [],
   "source": [
    "# Generate test data.\n",
    "test_gen = generator(float_data, \n",
    "                      lookback=lookback,\n",
    "                      delay = delay,\n",
    "                      min_index = 407201,\n",
    "                      max_index = None,\n",
    "                      step = step,\n",
    "                      batch_size = batch_size)"
   ]
  },
  {
   "cell_type": "code",
   "execution_count": 58,
   "metadata": {},
   "outputs": [],
   "source": [
    "# How many steps to draw from val_gen in order to see the entire validation set.\n",
    "val_steps = (407200 - 307201 - lookback)\n",
    "# How many steps to draw from test_gen in order to see the entire test set.\n",
    "test_steps = (len(float_data) - 407201 - lookback)"
   ]
  },
  {
   "cell_type": "code",
   "execution_count": 59,
   "metadata": {},
   "outputs": [
    {
     "name": "stdout",
     "output_type": "stream",
     "text": [
      "94879\n"
     ]
    }
   ],
   "source": [
    "print(val_steps)"
   ]
  },
  {
   "cell_type": "code",
   "execution_count": 61,
   "metadata": {
    "scrolled": true
   },
   "outputs": [
    {
     "name": "stdout",
     "output_type": "stream",
     "text": [
      "MAE Mean is: 1.048459937123424\n"
     ]
    }
   ],
   "source": [
    "# Computing the common-sense baseline MAE\n",
    "# Assume that signal .5s from now is going to be the same\n",
    "def evaluate_naive_method():\n",
    "    batch_maes = []\n",
    "    for step in range(val_steps):\n",
    "        samples, targets = next(val_gen)\n",
    "        preds = samples[:, -1, 1]\n",
    "        mae = np.mean(np.abs(preds - targets))\n",
    "        batch_maes.append(mae)\n",
    "    print(f\"MAE Mean is: {np.mean(batch_maes)}\")\n",
    "evaluate_naive_method()"
   ]
  },
  {
   "cell_type": "code",
   "execution_count": 104,
   "metadata": {},
   "outputs": [
    {
     "data": {
      "text/plain": [
       "76.98671606379752"
      ]
     },
     "execution_count": 104,
     "metadata": {},
     "output_type": "execute_result"
    }
   ],
   "source": [
    "unit = 1.04 * std[1]\n",
    "unit "
   ]
  },
  {
   "cell_type": "code",
   "execution_count": 67,
   "metadata": {},
   "outputs": [
    {
     "name": "stdout",
     "output_type": "stream",
     "text": [
      "Epoch 1/20\n",
      "500/500 [==============================] - 15s 30ms/step - loss: 0.9730 - val_loss: 0.8901\n",
      "Epoch 2/20\n",
      "500/500 [==============================] - 15s 30ms/step - loss: 0.6060 - val_loss: 0.8415\n",
      "Epoch 3/20\n",
      "500/500 [==============================] - 15s 30ms/step - loss: 0.5209 - val_loss: 0.8877\n",
      "Epoch 4/20\n",
      "500/500 [==============================] - 15s 30ms/step - loss: 0.4648 - val_loss: 0.8763\n",
      "Epoch 5/20\n",
      "500/500 [==============================] - 15s 30ms/step - loss: 0.4192 - val_loss: 0.8467\n",
      "Epoch 6/20\n",
      "500/500 [==============================] - 15s 31ms/step - loss: 0.3891 - val_loss: 0.9260\n",
      "Epoch 7/20\n",
      "500/500 [==============================] - 15s 31ms/step - loss: 0.3596 - val_loss: 0.9154\n",
      "Epoch 8/20\n",
      "500/500 [==============================] - 16s 31ms/step - loss: 0.3373 - val_loss: 0.8632\n",
      "Epoch 9/20\n",
      "500/500 [==============================] - 15s 31ms/step - loss: 0.3177 - val_loss: 0.8781\n",
      "Epoch 10/20\n",
      "500/500 [==============================] - 16s 31ms/step - loss: 0.3032 - val_loss: 0.9400\n",
      "Epoch 11/20\n",
      "500/500 [==============================] - 15s 30ms/step - loss: 0.2894 - val_loss: 0.9257\n",
      "Epoch 12/20\n",
      "500/500 [==============================] - 15s 30ms/step - loss: 0.2756 - val_loss: 0.8802\n",
      "Epoch 13/20\n",
      "500/500 [==============================] - 15s 31ms/step - loss: 0.2639 - val_loss: 0.8805\n",
      "Epoch 14/20\n",
      "500/500 [==============================] - 15s 30ms/step - loss: 0.2528 - val_loss: 0.8667\n",
      "Epoch 15/20\n",
      "500/500 [==============================] - 15s 31ms/step - loss: 0.2443 - val_loss: 1.0464\n",
      "Epoch 16/20\n",
      "500/500 [==============================] - 15s 30ms/step - loss: 0.2385 - val_loss: 0.8916\n",
      "Epoch 17/20\n",
      "500/500 [==============================] - 15s 31ms/step - loss: 0.2293 - val_loss: 0.9075\n",
      "Epoch 18/20\n",
      "500/500 [==============================] - 15s 30ms/step - loss: 0.2232 - val_loss: 0.9334\n",
      "Epoch 19/20\n",
      "500/500 [==============================] - 15s 30ms/step - loss: 0.2194 - val_loss: 0.8759\n",
      "Epoch 20/20\n",
      "500/500 [==============================] - 16s 31ms/step - loss: 0.2111 - val_loss: 0.9005\n"
     ]
    }
   ],
   "source": [
    "# Basic ML Approach (Baseline)\n",
    "model = Sequential()\n",
    "model.add(layers.Flatten(input_shape=(lookback//step,\n",
    "                                      float_data.shape[-1])))\n",
    "model.add(layers.Dense(32, activation='relu'))\n",
    "model.add(layers.Dense(1))\n",
    "model.compile(optimizer=RMSprop(), loss='mae')\n",
    "history = model.fit_generator(train_gen,\n",
    "                              steps_per_epoch=500,\n",
    "                              epochs = 20,\n",
    "                              validation_data=val_gen,\n",
    "                              validation_steps=val_steps // batch_size)"
   ]
  },
  {
   "cell_type": "code",
   "execution_count": 68,
   "metadata": {},
   "outputs": [
    {
     "data": {
      "image/png": "[encoded data removed]",
      "text/plain": [
       "<Figure size 432x288 with 1 Axes>"
      ]
     },
     "metadata": {
      "needs_background": "light"
     },
     "output_type": "display_data"
    }
   ],
   "source": [
    "# Plotting Baseline Results\n",
    "loss = history.history['loss']\n",
    "val_loss = history.history['val_loss']\n",
    "\n",
    "epochs = range(1, len(loss) + 1)\n",
    "\n",
    "plt.figure()\n",
    "plt.plot(epochs, loss, 'bo', label='Training Loss')\n",
    "plt.plot(epochs, val_loss,'b', label='Validation Loss')\n",
    "plt.title(\"Training and Validation loss for Baseline 1\")\n",
    "plt.show()"
   ]
  },
  {
   "cell_type": "code",
   "execution_count": 95,
   "metadata": {},
   "outputs": [
    {
     "name": "stdout",
     "output_type": "stream",
     "text": [
      "Epoch 1/20\n",
      "500/500 [==============================] - 21s 42ms/step - loss: 0.7291 - val_loss: 0.8185\n",
      "Epoch 2/20\n",
      "500/500 [==============================] - 22s 44ms/step - loss: 0.6827 - val_loss: 0.7990\n",
      "Epoch 3/20\n",
      "500/500 [==============================] - 22s 45ms/step - loss: 0.6609 - val_loss: 0.8520\n",
      "Epoch 4/20\n",
      "500/500 [==============================] - 22s 44ms/step - loss: 0.6261 - val_loss: 0.9660\n",
      "Epoch 5/20\n",
      "500/500 [==============================] - 22s 44ms/step - loss: 0.6036 - val_loss: 0.8887\n",
      "Epoch 6/20\n",
      "500/500 [==============================] - 22s 45ms/step - loss: 0.5846 - val_loss: 0.9103\n",
      "Epoch 7/20\n",
      "500/500 [==============================] - 22s 45ms/step - loss: 0.5603 - val_loss: 0.9860\n",
      "Epoch 8/20\n",
      "500/500 [==============================] - 22s 44ms/step - loss: 0.5420 - val_loss: 0.9133\n",
      "Epoch 9/20\n",
      "500/500 [==============================] - 22s 43ms/step - loss: 0.5329 - val_loss: 0.8621\n",
      "Epoch 10/20\n",
      "500/500 [==============================] - 22s 43ms/step - loss: 0.5199 - val_loss: 0.9059\n",
      "Epoch 11/20\n",
      "500/500 [==============================] - 22s 44ms/step - loss: 0.5034 - val_loss: 0.8901\n",
      "Epoch 12/20\n",
      "500/500 [==============================] - 22s 43ms/step - loss: 0.4965 - val_loss: 1.0113\n",
      "Epoch 13/20\n",
      "500/500 [==============================] - 22s 43ms/step - loss: 0.4813 - val_loss: 0.9147\n",
      "Epoch 14/20\n",
      "500/500 [==============================] - 22s 44ms/step - loss: 0.4703 - val_loss: 0.9747\n",
      "Epoch 15/20\n",
      "500/500 [==============================] - 22s 44ms/step - loss: 0.4601 - val_loss: 0.9603\n",
      "Epoch 16/20\n",
      "500/500 [==============================] - 22s 44ms/step - loss: 0.4578 - val_loss: 0.9923\n",
      "Epoch 17/20\n",
      "500/500 [==============================] - 22s 43ms/step - loss: 0.4445 - val_loss: 0.9733\n",
      "Epoch 18/20\n",
      "500/500 [==============================] - 21s 43ms/step - loss: 0.4367 - val_loss: 0.9538\n",
      "Epoch 19/20\n",
      "500/500 [==============================] - 21s 42ms/step - loss: 0.4362 - val_loss: 1.0222\n",
      "Epoch 20/20\n",
      "500/500 [==============================] - 21s 43ms/step - loss: 0.4245 - val_loss: 0.9445\n"
     ]
    }
   ],
   "source": [
    "# A first recurrent baseline\n",
    "model = Sequential()\n",
    "model.add(layers.GRU(48, input_shape=(None, float_data.shape[-1])))\n",
    "model.add(layers.Dense(1))\n",
    "\n",
    "model.compile(optimizer=RMSprop(), loss='mae')\n",
    "\n",
    "history=model.fit_generator(train_gen,\n",
    "                             steps_per_epoch=500,\n",
    "                             epochs=20,\n",
    "                             validation_data = val_gen,\n",
    "                             validation_steps = val_steps // batch_size)"
   ]
  },
  {
   "cell_type": "code",
   "execution_count": 96,
   "metadata": {},
   "outputs": [
    {
     "data": {
      "image/png": "[encoded data removed]",
      "text/plain": [
       "<Figure size 432x288 with 1 Axes>"
      ]
     },
     "metadata": {
      "needs_background": "light"
     },
     "output_type": "display_data"
    }
   ],
   "source": [
    "# Plotting Baseline Results\n",
    "loss = history.history['loss']\n",
    "val_loss = history.history['val_loss']\n",
    "\n",
    "epochs = range(1, len(loss) + 1)\n",
    "\n",
    "plt.figure()\n",
    "plt.plot(epochs, loss, 'bo', label='Training Loss')\n",
    "plt.plot(epochs, val_loss,'b', label='Validation Loss')\n",
    "plt.title(\"Training and Validation loss for GRU Baseline with 48 Hidden Nodes\")\n",
    "plt.show()"
   ]
  },
  {
   "cell_type": "code",
   "execution_count": 93,
   "metadata": {
    "scrolled": true
   },
   "outputs": [
    {
     "name": "stdout",
     "output_type": "stream",
     "text": [
      "Epoch 1/20\n",
      " 98/500 [====>.........................] - ETA: 10:06 - loss: 2260751243.7551"
     ]
    },
    {
     "ename": "KeyboardInterrupt",
     "evalue": "",
     "output_type": "error",
     "traceback": [
      "\u001b[0;31m---------------------------------------------------------------------------\u001b[0m",
      "\u001b[0;31mKeyboardInterrupt\u001b[0m                         Traceback (most recent call last)",
      "\u001b[0;32m<ipython-input-93-c82882b0513b>\u001b[0m in \u001b[0;36m<module>\u001b[0;34m\u001b[0m\n\u001b[1;32m     19\u001b[0m                               \u001b[0mepochs\u001b[0m\u001b[0;34m=\u001b[0m\u001b[0;36m20\u001b[0m\u001b[0;34m,\u001b[0m\u001b[0;34m\u001b[0m\u001b[0;34m\u001b[0m\u001b[0m\n\u001b[1;32m     20\u001b[0m                               \u001b[0mvalidation_data\u001b[0m\u001b[0;34m=\u001b[0m\u001b[0mval_gen\u001b[0m\u001b[0;34m,\u001b[0m\u001b[0;34m\u001b[0m\u001b[0;34m\u001b[0m\u001b[0m\n\u001b[0;32m---> 21\u001b[0;31m                               validation_steps=val_steps)\n\u001b[0m",
      "\u001b[0;32m~/.conda/envs/brain2brain_env/lib/python3.7/site-packages/tensorflow_core/python/keras/engine/training.py\u001b[0m in \u001b[0;36mfit_generator\u001b[0;34m(self, generator, steps_per_epoch, epochs, verbose, callbacks, validation_data, validation_steps, validation_freq, class_weight, max_queue_size, workers, use_multiprocessing, shuffle, initial_epoch)\u001b[0m\n\u001b[1;32m   1295\u001b[0m         \u001b[0mshuffle\u001b[0m\u001b[0;34m=\u001b[0m\u001b[0mshuffle\u001b[0m\u001b[0;34m,\u001b[0m\u001b[0;34m\u001b[0m\u001b[0;34m\u001b[0m\u001b[0m\n\u001b[1;32m   1296\u001b[0m         \u001b[0minitial_epoch\u001b[0m\u001b[0;34m=\u001b[0m\u001b[0minitial_epoch\u001b[0m\u001b[0;34m,\u001b[0m\u001b[0;34m\u001b[0m\u001b[0;34m\u001b[0m\u001b[0m\n\u001b[0;32m-> 1297\u001b[0;31m         steps_name='steps_per_epoch')\n\u001b[0m\u001b[1;32m   1298\u001b[0m \u001b[0;34m\u001b[0m\u001b[0m\n\u001b[1;32m   1299\u001b[0m   def evaluate_generator(self,\n",
      "\u001b[0;32m~/.conda/envs/brain2brain_env/lib/python3.7/site-packages/tensorflow_core/python/keras/engine/training_generator.py\u001b[0m in \u001b[0;36mmodel_iteration\u001b[0;34m(model, data, steps_per_epoch, epochs, verbose, callbacks, validation_data, validation_steps, validation_freq, class_weight, max_queue_size, workers, use_multiprocessing, shuffle, initial_epoch, mode, batch_size, steps_name, **kwargs)\u001b[0m\n\u001b[1;32m    263\u001b[0m \u001b[0;34m\u001b[0m\u001b[0m\n\u001b[1;32m    264\u001b[0m       \u001b[0mis_deferred\u001b[0m \u001b[0;34m=\u001b[0m \u001b[0;32mnot\u001b[0m \u001b[0mmodel\u001b[0m\u001b[0;34m.\u001b[0m\u001b[0m_is_compiled\u001b[0m\u001b[0;34m\u001b[0m\u001b[0;34m\u001b[0m\u001b[0m\n\u001b[0;32m--> 265\u001b[0;31m       \u001b[0mbatch_outs\u001b[0m \u001b[0;34m=\u001b[0m \u001b[0mbatch_function\u001b[0m\u001b[0;34m(\u001b[0m\u001b[0;34m*\u001b[0m\u001b[0mbatch_data\u001b[0m\u001b[0;34m)\u001b[0m\u001b[0;34m\u001b[0m\u001b[0;34m\u001b[0m\u001b[0m\n\u001b[0m\u001b[1;32m    266\u001b[0m       \u001b[0;32mif\u001b[0m \u001b[0;32mnot\u001b[0m \u001b[0misinstance\u001b[0m\u001b[0;34m(\u001b[0m\u001b[0mbatch_outs\u001b[0m\u001b[0;34m,\u001b[0m \u001b[0mlist\u001b[0m\u001b[0;34m)\u001b[0m\u001b[0;34m:\u001b[0m\u001b[0;34m\u001b[0m\u001b[0;34m\u001b[0m\u001b[0m\n\u001b[1;32m    267\u001b[0m         \u001b[0mbatch_outs\u001b[0m \u001b[0;34m=\u001b[0m \u001b[0;34m[\u001b[0m\u001b[0mbatch_outs\u001b[0m\u001b[0;34m]\u001b[0m\u001b[0;34m\u001b[0m\u001b[0;34m\u001b[0m\u001b[0m\n",
      "\u001b[0;32m~/.conda/envs/brain2brain_env/lib/python3.7/site-packages/tensorflow_core/python/keras/engine/training.py\u001b[0m in \u001b[0;36mtrain_on_batch\u001b[0;34m(self, x, y, sample_weight, class_weight, reset_metrics)\u001b[0m\n\u001b[1;32m    971\u001b[0m       outputs = training_v2_utils.train_on_batch(\n\u001b[1;32m    972\u001b[0m           \u001b[0mself\u001b[0m\u001b[0;34m,\u001b[0m \u001b[0mx\u001b[0m\u001b[0;34m,\u001b[0m \u001b[0my\u001b[0m\u001b[0;34m=\u001b[0m\u001b[0my\u001b[0m\u001b[0;34m,\u001b[0m \u001b[0msample_weight\u001b[0m\u001b[0;34m=\u001b[0m\u001b[0msample_weight\u001b[0m\u001b[0;34m,\u001b[0m\u001b[0;34m\u001b[0m\u001b[0;34m\u001b[0m\u001b[0m\n\u001b[0;32m--> 973\u001b[0;31m           class_weight=class_weight, reset_metrics=reset_metrics)\n\u001b[0m\u001b[1;32m    974\u001b[0m       outputs = (outputs['total_loss'] + outputs['output_losses'] +\n\u001b[1;32m    975\u001b[0m                  outputs['metrics'])\n",
      "\u001b[0;32m~/.conda/envs/brain2brain_env/lib/python3.7/site-packages/tensorflow_core/python/keras/engine/training_v2_utils.py\u001b[0m in \u001b[0;36mtrain_on_batch\u001b[0;34m(model, x, y, sample_weight, class_weight, reset_metrics)\u001b[0m\n\u001b[1;32m    262\u001b[0m       \u001b[0my\u001b[0m\u001b[0;34m,\u001b[0m\u001b[0;34m\u001b[0m\u001b[0;34m\u001b[0m\u001b[0m\n\u001b[1;32m    263\u001b[0m       \u001b[0msample_weights\u001b[0m\u001b[0;34m=\u001b[0m\u001b[0msample_weights\u001b[0m\u001b[0;34m,\u001b[0m\u001b[0;34m\u001b[0m\u001b[0;34m\u001b[0m\u001b[0m\n\u001b[0;32m--> 264\u001b[0;31m       output_loss_metrics=model._output_loss_metrics)\n\u001b[0m\u001b[1;32m    265\u001b[0m \u001b[0;34m\u001b[0m\u001b[0m\n\u001b[1;32m    266\u001b[0m   \u001b[0;32mif\u001b[0m \u001b[0mreset_metrics\u001b[0m\u001b[0;34m:\u001b[0m\u001b[0;34m\u001b[0m\u001b[0;34m\u001b[0m\u001b[0m\n",
      "\u001b[0;32m~/.conda/envs/brain2brain_env/lib/python3.7/site-packages/tensorflow_core/python/keras/engine/training_eager.py\u001b[0m in \u001b[0;36mtrain_on_batch\u001b[0;34m(model, inputs, targets, sample_weights, output_loss_metrics)\u001b[0m\n\u001b[1;32m    309\u001b[0m           \u001b[0msample_weights\u001b[0m\u001b[0;34m=\u001b[0m\u001b[0msample_weights\u001b[0m\u001b[0;34m,\u001b[0m\u001b[0;34m\u001b[0m\u001b[0;34m\u001b[0m\u001b[0m\n\u001b[1;32m    310\u001b[0m           \u001b[0mtraining\u001b[0m\u001b[0;34m=\u001b[0m\u001b[0;32mTrue\u001b[0m\u001b[0;34m,\u001b[0m\u001b[0;34m\u001b[0m\u001b[0;34m\u001b[0m\u001b[0m\n\u001b[0;32m--> 311\u001b[0;31m           output_loss_metrics=output_loss_metrics))\n\u001b[0m\u001b[1;32m    312\u001b[0m   \u001b[0;32mif\u001b[0m \u001b[0;32mnot\u001b[0m \u001b[0misinstance\u001b[0m\u001b[0;34m(\u001b[0m\u001b[0mouts\u001b[0m\u001b[0;34m,\u001b[0m \u001b[0mlist\u001b[0m\u001b[0;34m)\u001b[0m\u001b[0;34m:\u001b[0m\u001b[0;34m\u001b[0m\u001b[0;34m\u001b[0m\u001b[0m\n\u001b[1;32m    313\u001b[0m     \u001b[0mouts\u001b[0m \u001b[0;34m=\u001b[0m \u001b[0;34m[\u001b[0m\u001b[0mouts\u001b[0m\u001b[0;34m]\u001b[0m\u001b[0;34m\u001b[0m\u001b[0;34m\u001b[0m\u001b[0m\n",
      "\u001b[0;32m~/.conda/envs/brain2brain_env/lib/python3.7/site-packages/tensorflow_core/python/keras/engine/training_eager.py\u001b[0m in \u001b[0;36m_process_single_batch\u001b[0;34m(model, inputs, targets, output_loss_metrics, sample_weights, training)\u001b[0m\n\u001b[1;32m    250\u001b[0m               \u001b[0moutput_loss_metrics\u001b[0m\u001b[0;34m=\u001b[0m\u001b[0moutput_loss_metrics\u001b[0m\u001b[0;34m,\u001b[0m\u001b[0;34m\u001b[0m\u001b[0;34m\u001b[0m\u001b[0m\n\u001b[1;32m    251\u001b[0m               \u001b[0msample_weights\u001b[0m\u001b[0;34m=\u001b[0m\u001b[0msample_weights\u001b[0m\u001b[0;34m,\u001b[0m\u001b[0;34m\u001b[0m\u001b[0;34m\u001b[0m\u001b[0m\n\u001b[0;32m--> 252\u001b[0;31m               training=training))\n\u001b[0m\u001b[1;32m    253\u001b[0m       \u001b[0;32mif\u001b[0m \u001b[0mtotal_loss\u001b[0m \u001b[0;32mis\u001b[0m \u001b[0;32mNone\u001b[0m\u001b[0;34m:\u001b[0m\u001b[0;34m\u001b[0m\u001b[0;34m\u001b[0m\u001b[0m\n\u001b[1;32m    254\u001b[0m         raise ValueError('The model cannot be run '\n",
      "\u001b[0;32m~/.conda/envs/brain2brain_env/lib/python3.7/site-packages/tensorflow_core/python/keras/engine/training_eager.py\u001b[0m in \u001b[0;36m_model_loss\u001b[0;34m(model, inputs, targets, output_loss_metrics, sample_weights, training)\u001b[0m\n\u001b[1;32m    125\u001b[0m     \u001b[0minputs\u001b[0m \u001b[0;34m=\u001b[0m \u001b[0mnest\u001b[0m\u001b[0;34m.\u001b[0m\u001b[0mmap_structure\u001b[0m\u001b[0;34m(\u001b[0m\u001b[0mops\u001b[0m\u001b[0;34m.\u001b[0m\u001b[0mconvert_to_tensor\u001b[0m\u001b[0;34m,\u001b[0m \u001b[0minputs\u001b[0m\u001b[0;34m)\u001b[0m\u001b[0;34m\u001b[0m\u001b[0;34m\u001b[0m\u001b[0m\n\u001b[1;32m    126\u001b[0m \u001b[0;34m\u001b[0m\u001b[0m\n\u001b[0;32m--> 127\u001b[0;31m   \u001b[0mouts\u001b[0m \u001b[0;34m=\u001b[0m \u001b[0mmodel\u001b[0m\u001b[0;34m(\u001b[0m\u001b[0minputs\u001b[0m\u001b[0;34m,\u001b[0m \u001b[0;34m**\u001b[0m\u001b[0mkwargs\u001b[0m\u001b[0;34m)\u001b[0m\u001b[0;34m\u001b[0m\u001b[0;34m\u001b[0m\u001b[0m\n\u001b[0m\u001b[1;32m    128\u001b[0m   \u001b[0mouts\u001b[0m \u001b[0;34m=\u001b[0m \u001b[0mnest\u001b[0m\u001b[0;34m.\u001b[0m\u001b[0mflatten\u001b[0m\u001b[0;34m(\u001b[0m\u001b[0mouts\u001b[0m\u001b[0;34m)\u001b[0m\u001b[0;34m\u001b[0m\u001b[0;34m\u001b[0m\u001b[0m\n\u001b[1;32m    129\u001b[0m \u001b[0;34m\u001b[0m\u001b[0m\n",
      "\u001b[0;32m~/.conda/envs/brain2brain_env/lib/python3.7/site-packages/tensorflow_core/python/keras/engine/base_layer.py\u001b[0m in \u001b[0;36m__call__\u001b[0;34m(self, inputs, *args, **kwargs)\u001b[0m\n\u001b[1;32m    889\u001b[0m           with base_layer_utils.autocast_context_manager(\n\u001b[1;32m    890\u001b[0m               self._compute_dtype):\n\u001b[0;32m--> 891\u001b[0;31m             \u001b[0moutputs\u001b[0m \u001b[0;34m=\u001b[0m \u001b[0mself\u001b[0m\u001b[0;34m.\u001b[0m\u001b[0mcall\u001b[0m\u001b[0;34m(\u001b[0m\u001b[0mcast_inputs\u001b[0m\u001b[0;34m,\u001b[0m \u001b[0;34m*\u001b[0m\u001b[0margs\u001b[0m\u001b[0;34m,\u001b[0m \u001b[0;34m**\u001b[0m\u001b[0mkwargs\u001b[0m\u001b[0;34m)\u001b[0m\u001b[0;34m\u001b[0m\u001b[0;34m\u001b[0m\u001b[0m\n\u001b[0m\u001b[1;32m    892\u001b[0m           \u001b[0mself\u001b[0m\u001b[0;34m.\u001b[0m\u001b[0m_handle_activity_regularization\u001b[0m\u001b[0;34m(\u001b[0m\u001b[0minputs\u001b[0m\u001b[0;34m,\u001b[0m \u001b[0moutputs\u001b[0m\u001b[0;34m)\u001b[0m\u001b[0;34m\u001b[0m\u001b[0;34m\u001b[0m\u001b[0m\n\u001b[1;32m    893\u001b[0m           \u001b[0mself\u001b[0m\u001b[0;34m.\u001b[0m\u001b[0m_set_mask_metadata\u001b[0m\u001b[0;34m(\u001b[0m\u001b[0minputs\u001b[0m\u001b[0;34m,\u001b[0m \u001b[0moutputs\u001b[0m\u001b[0;34m,\u001b[0m \u001b[0minput_masks\u001b[0m\u001b[0;34m)\u001b[0m\u001b[0;34m\u001b[0m\u001b[0;34m\u001b[0m\u001b[0m\n",
      "\u001b[0;32m~/.conda/envs/brain2brain_env/lib/python3.7/site-packages/tensorflow_core/python/keras/engine/network.py\u001b[0m in \u001b[0;36mcall\u001b[0;34m(self, inputs, training, mask)\u001b[0m\n\u001b[1;32m    706\u001b[0m     return self._run_internal_graph(\n\u001b[1;32m    707\u001b[0m         \u001b[0minputs\u001b[0m\u001b[0;34m,\u001b[0m \u001b[0mtraining\u001b[0m\u001b[0;34m=\u001b[0m\u001b[0mtraining\u001b[0m\u001b[0;34m,\u001b[0m \u001b[0mmask\u001b[0m\u001b[0;34m=\u001b[0m\u001b[0mmask\u001b[0m\u001b[0;34m,\u001b[0m\u001b[0;34m\u001b[0m\u001b[0;34m\u001b[0m\u001b[0m\n\u001b[0;32m--> 708\u001b[0;31m         convert_kwargs_to_constants=base_layer_utils.call_context().saving)\n\u001b[0m\u001b[1;32m    709\u001b[0m \u001b[0;34m\u001b[0m\u001b[0m\n\u001b[1;32m    710\u001b[0m   \u001b[0;32mdef\u001b[0m \u001b[0mcompute_output_shape\u001b[0m\u001b[0;34m(\u001b[0m\u001b[0mself\u001b[0m\u001b[0;34m,\u001b[0m \u001b[0minput_shape\u001b[0m\u001b[0;34m)\u001b[0m\u001b[0;34m:\u001b[0m\u001b[0;34m\u001b[0m\u001b[0;34m\u001b[0m\u001b[0m\n",
      "\u001b[0;32m~/.conda/envs/brain2brain_env/lib/python3.7/site-packages/tensorflow_core/python/keras/engine/network.py\u001b[0m in \u001b[0;36m_run_internal_graph\u001b[0;34m(self, inputs, training, mask, convert_kwargs_to_constants)\u001b[0m\n\u001b[1;32m    858\u001b[0m \u001b[0;34m\u001b[0m\u001b[0m\n\u001b[1;32m    859\u001b[0m           \u001b[0;31m# Compute outputs.\u001b[0m\u001b[0;34m\u001b[0m\u001b[0;34m\u001b[0m\u001b[0;34m\u001b[0m\u001b[0m\n\u001b[0;32m--> 860\u001b[0;31m           \u001b[0moutput_tensors\u001b[0m \u001b[0;34m=\u001b[0m \u001b[0mlayer\u001b[0m\u001b[0;34m(\u001b[0m\u001b[0mcomputed_tensors\u001b[0m\u001b[0;34m,\u001b[0m \u001b[0;34m**\u001b[0m\u001b[0mkwargs\u001b[0m\u001b[0;34m)\u001b[0m\u001b[0;34m\u001b[0m\u001b[0;34m\u001b[0m\u001b[0m\n\u001b[0m\u001b[1;32m    861\u001b[0m \u001b[0;34m\u001b[0m\u001b[0m\n\u001b[1;32m    862\u001b[0m           \u001b[0;31m# Update tensor_dict.\u001b[0m\u001b[0;34m\u001b[0m\u001b[0;34m\u001b[0m\u001b[0;34m\u001b[0m\u001b[0m\n",
      "\u001b[0;32m~/.conda/envs/brain2brain_env/lib/python3.7/site-packages/tensorflow_core/python/keras/engine/base_layer.py\u001b[0m in \u001b[0;36m__call__\u001b[0;34m(self, inputs, *args, **kwargs)\u001b[0m\n\u001b[1;32m    889\u001b[0m           with base_layer_utils.autocast_context_manager(\n\u001b[1;32m    890\u001b[0m               self._compute_dtype):\n\u001b[0;32m--> 891\u001b[0;31m             \u001b[0moutputs\u001b[0m \u001b[0;34m=\u001b[0m \u001b[0mself\u001b[0m\u001b[0;34m.\u001b[0m\u001b[0mcall\u001b[0m\u001b[0;34m(\u001b[0m\u001b[0mcast_inputs\u001b[0m\u001b[0;34m,\u001b[0m \u001b[0;34m*\u001b[0m\u001b[0margs\u001b[0m\u001b[0;34m,\u001b[0m \u001b[0;34m**\u001b[0m\u001b[0mkwargs\u001b[0m\u001b[0;34m)\u001b[0m\u001b[0;34m\u001b[0m\u001b[0;34m\u001b[0m\u001b[0m\n\u001b[0m\u001b[1;32m    892\u001b[0m           \u001b[0mself\u001b[0m\u001b[0;34m.\u001b[0m\u001b[0m_handle_activity_regularization\u001b[0m\u001b[0;34m(\u001b[0m\u001b[0minputs\u001b[0m\u001b[0;34m,\u001b[0m \u001b[0moutputs\u001b[0m\u001b[0;34m)\u001b[0m\u001b[0;34m\u001b[0m\u001b[0;34m\u001b[0m\u001b[0m\n\u001b[1;32m    893\u001b[0m           \u001b[0mself\u001b[0m\u001b[0;34m.\u001b[0m\u001b[0m_set_mask_metadata\u001b[0m\u001b[0;34m(\u001b[0m\u001b[0minputs\u001b[0m\u001b[0;34m,\u001b[0m \u001b[0moutputs\u001b[0m\u001b[0;34m,\u001b[0m \u001b[0minput_masks\u001b[0m\u001b[0;34m)\u001b[0m\u001b[0;34m\u001b[0m\u001b[0;34m\u001b[0m\u001b[0m\n",
      "\u001b[0;32m~/.conda/envs/brain2brain_env/lib/python3.7/site-packages/tensorflow_core/python/keras/engine/sequential.py\u001b[0m in \u001b[0;36mcall\u001b[0;34m(self, inputs, training, mask)\u001b[0m\n\u001b[1;32m    254\u001b[0m       \u001b[0;32mif\u001b[0m \u001b[0;32mnot\u001b[0m \u001b[0mself\u001b[0m\u001b[0;34m.\u001b[0m\u001b[0mbuilt\u001b[0m\u001b[0;34m:\u001b[0m\u001b[0;34m\u001b[0m\u001b[0;34m\u001b[0m\u001b[0m\n\u001b[1;32m    255\u001b[0m         \u001b[0mself\u001b[0m\u001b[0;34m.\u001b[0m\u001b[0m_init_graph_network\u001b[0m\u001b[0;34m(\u001b[0m\u001b[0mself\u001b[0m\u001b[0;34m.\u001b[0m\u001b[0minputs\u001b[0m\u001b[0;34m,\u001b[0m \u001b[0mself\u001b[0m\u001b[0;34m.\u001b[0m\u001b[0moutputs\u001b[0m\u001b[0;34m,\u001b[0m \u001b[0mname\u001b[0m\u001b[0;34m=\u001b[0m\u001b[0mself\u001b[0m\u001b[0;34m.\u001b[0m\u001b[0mname\u001b[0m\u001b[0;34m)\u001b[0m\u001b[0;34m\u001b[0m\u001b[0;34m\u001b[0m\u001b[0m\n\u001b[0;32m--> 256\u001b[0;31m       \u001b[0;32mreturn\u001b[0m \u001b[0msuper\u001b[0m\u001b[0;34m(\u001b[0m\u001b[0mSequential\u001b[0m\u001b[0;34m,\u001b[0m \u001b[0mself\u001b[0m\u001b[0;34m)\u001b[0m\u001b[0;34m.\u001b[0m\u001b[0mcall\u001b[0m\u001b[0;34m(\u001b[0m\u001b[0minputs\u001b[0m\u001b[0;34m,\u001b[0m \u001b[0mtraining\u001b[0m\u001b[0;34m=\u001b[0m\u001b[0mtraining\u001b[0m\u001b[0;34m,\u001b[0m \u001b[0mmask\u001b[0m\u001b[0;34m=\u001b[0m\u001b[0mmask\u001b[0m\u001b[0;34m)\u001b[0m\u001b[0;34m\u001b[0m\u001b[0;34m\u001b[0m\u001b[0m\n\u001b[0m\u001b[1;32m    257\u001b[0m \u001b[0;34m\u001b[0m\u001b[0m\n\u001b[1;32m    258\u001b[0m     \u001b[0moutputs\u001b[0m \u001b[0;34m=\u001b[0m \u001b[0minputs\u001b[0m  \u001b[0;31m# handle the corner case where self.layers is empty\u001b[0m\u001b[0;34m\u001b[0m\u001b[0;34m\u001b[0m\u001b[0m\n",
      "\u001b[0;32m~/.conda/envs/brain2brain_env/lib/python3.7/site-packages/tensorflow_core/python/keras/engine/network.py\u001b[0m in \u001b[0;36mcall\u001b[0;34m(self, inputs, training, mask)\u001b[0m\n\u001b[1;32m    706\u001b[0m     return self._run_internal_graph(\n\u001b[1;32m    707\u001b[0m         \u001b[0minputs\u001b[0m\u001b[0;34m,\u001b[0m \u001b[0mtraining\u001b[0m\u001b[0;34m=\u001b[0m\u001b[0mtraining\u001b[0m\u001b[0;34m,\u001b[0m \u001b[0mmask\u001b[0m\u001b[0;34m=\u001b[0m\u001b[0mmask\u001b[0m\u001b[0;34m,\u001b[0m\u001b[0;34m\u001b[0m\u001b[0;34m\u001b[0m\u001b[0m\n\u001b[0;32m--> 708\u001b[0;31m         convert_kwargs_to_constants=base_layer_utils.call_context().saving)\n\u001b[0m\u001b[1;32m    709\u001b[0m \u001b[0;34m\u001b[0m\u001b[0m\n\u001b[1;32m    710\u001b[0m   \u001b[0;32mdef\u001b[0m \u001b[0mcompute_output_shape\u001b[0m\u001b[0;34m(\u001b[0m\u001b[0mself\u001b[0m\u001b[0;34m,\u001b[0m \u001b[0minput_shape\u001b[0m\u001b[0;34m)\u001b[0m\u001b[0;34m:\u001b[0m\u001b[0;34m\u001b[0m\u001b[0;34m\u001b[0m\u001b[0m\n",
      "\u001b[0;32m~/.conda/envs/brain2brain_env/lib/python3.7/site-packages/tensorflow_core/python/keras/engine/network.py\u001b[0m in \u001b[0;36m_run_internal_graph\u001b[0;34m(self, inputs, training, mask, convert_kwargs_to_constants)\u001b[0m\n\u001b[1;32m    858\u001b[0m \u001b[0;34m\u001b[0m\u001b[0m\n\u001b[1;32m    859\u001b[0m           \u001b[0;31m# Compute outputs.\u001b[0m\u001b[0;34m\u001b[0m\u001b[0;34m\u001b[0m\u001b[0;34m\u001b[0m\u001b[0m\n\u001b[0;32m--> 860\u001b[0;31m           \u001b[0moutput_tensors\u001b[0m \u001b[0;34m=\u001b[0m \u001b[0mlayer\u001b[0m\u001b[0;34m(\u001b[0m\u001b[0mcomputed_tensors\u001b[0m\u001b[0;34m,\u001b[0m \u001b[0;34m**\u001b[0m\u001b[0mkwargs\u001b[0m\u001b[0;34m)\u001b[0m\u001b[0;34m\u001b[0m\u001b[0;34m\u001b[0m\u001b[0m\n\u001b[0m\u001b[1;32m    861\u001b[0m \u001b[0;34m\u001b[0m\u001b[0m\n\u001b[1;32m    862\u001b[0m           \u001b[0;31m# Update tensor_dict.\u001b[0m\u001b[0;34m\u001b[0m\u001b[0;34m\u001b[0m\u001b[0;34m\u001b[0m\u001b[0m\n",
      "\u001b[0;32m~/.conda/envs/brain2brain_env/lib/python3.7/site-packages/tensorflow_core/python/keras/layers/recurrent.py\u001b[0m in \u001b[0;36m__call__\u001b[0;34m(self, inputs, initial_state, constants, **kwargs)\u001b[0m\n\u001b[1;32m    621\u001b[0m \u001b[0;34m\u001b[0m\u001b[0m\n\u001b[1;32m    622\u001b[0m     \u001b[0;32mif\u001b[0m \u001b[0minitial_state\u001b[0m \u001b[0;32mis\u001b[0m \u001b[0;32mNone\u001b[0m \u001b[0;32mand\u001b[0m \u001b[0mconstants\u001b[0m \u001b[0;32mis\u001b[0m \u001b[0;32mNone\u001b[0m\u001b[0;34m:\u001b[0m\u001b[0;34m\u001b[0m\u001b[0;34m\u001b[0m\u001b[0m\n\u001b[0;32m--> 623\u001b[0;31m       \u001b[0;32mreturn\u001b[0m \u001b[0msuper\u001b[0m\u001b[0;34m(\u001b[0m\u001b[0mRNN\u001b[0m\u001b[0;34m,\u001b[0m \u001b[0mself\u001b[0m\u001b[0;34m)\u001b[0m\u001b[0;34m.\u001b[0m\u001b[0m__call__\u001b[0m\u001b[0;34m(\u001b[0m\u001b[0minputs\u001b[0m\u001b[0;34m,\u001b[0m \u001b[0;34m**\u001b[0m\u001b[0mkwargs\u001b[0m\u001b[0;34m)\u001b[0m\u001b[0;34m\u001b[0m\u001b[0;34m\u001b[0m\u001b[0m\n\u001b[0m\u001b[1;32m    624\u001b[0m \u001b[0;34m\u001b[0m\u001b[0m\n\u001b[1;32m    625\u001b[0m     \u001b[0;31m# If any of `initial_state` or `constants` are specified and are Keras\u001b[0m\u001b[0;34m\u001b[0m\u001b[0;34m\u001b[0m\u001b[0;34m\u001b[0m\u001b[0m\n",
      "\u001b[0;32m~/.conda/envs/brain2brain_env/lib/python3.7/site-packages/tensorflow_core/python/keras/engine/base_layer.py\u001b[0m in \u001b[0;36m__call__\u001b[0;34m(self, inputs, *args, **kwargs)\u001b[0m\n\u001b[1;32m    889\u001b[0m           with base_layer_utils.autocast_context_manager(\n\u001b[1;32m    890\u001b[0m               self._compute_dtype):\n\u001b[0;32m--> 891\u001b[0;31m             \u001b[0moutputs\u001b[0m \u001b[0;34m=\u001b[0m \u001b[0mself\u001b[0m\u001b[0;34m.\u001b[0m\u001b[0mcall\u001b[0m\u001b[0;34m(\u001b[0m\u001b[0mcast_inputs\u001b[0m\u001b[0;34m,\u001b[0m \u001b[0;34m*\u001b[0m\u001b[0margs\u001b[0m\u001b[0;34m,\u001b[0m \u001b[0;34m**\u001b[0m\u001b[0mkwargs\u001b[0m\u001b[0;34m)\u001b[0m\u001b[0;34m\u001b[0m\u001b[0;34m\u001b[0m\u001b[0m\n\u001b[0m\u001b[1;32m    892\u001b[0m           \u001b[0mself\u001b[0m\u001b[0;34m.\u001b[0m\u001b[0m_handle_activity_regularization\u001b[0m\u001b[0;34m(\u001b[0m\u001b[0minputs\u001b[0m\u001b[0;34m,\u001b[0m \u001b[0moutputs\u001b[0m\u001b[0;34m)\u001b[0m\u001b[0;34m\u001b[0m\u001b[0;34m\u001b[0m\u001b[0m\n\u001b[1;32m    893\u001b[0m           \u001b[0mself\u001b[0m\u001b[0;34m.\u001b[0m\u001b[0m_set_mask_metadata\u001b[0m\u001b[0;34m(\u001b[0m\u001b[0minputs\u001b[0m\u001b[0;34m,\u001b[0m \u001b[0moutputs\u001b[0m\u001b[0;34m,\u001b[0m \u001b[0minput_masks\u001b[0m\u001b[0;34m)\u001b[0m\u001b[0;34m\u001b[0m\u001b[0;34m\u001b[0m\u001b[0m\n",
      "\u001b[0;32m~/.conda/envs/brain2brain_env/lib/python3.7/site-packages/tensorflow_core/python/keras/layers/recurrent_v2.py\u001b[0m in \u001b[0;36mcall\u001b[0;34m(self, inputs, mask, training, initial_state)\u001b[0m\n\u001b[1;32m    337\u001b[0m           \u001b[0minput_length\u001b[0m\u001b[0;34m=\u001b[0m\u001b[0mtimesteps\u001b[0m\u001b[0;34m,\u001b[0m\u001b[0;34m\u001b[0m\u001b[0;34m\u001b[0m\u001b[0m\n\u001b[1;32m    338\u001b[0m           \u001b[0mtime_major\u001b[0m\u001b[0;34m=\u001b[0m\u001b[0mself\u001b[0m\u001b[0;34m.\u001b[0m\u001b[0mtime_major\u001b[0m\u001b[0;34m,\u001b[0m\u001b[0;34m\u001b[0m\u001b[0;34m\u001b[0m\u001b[0m\n\u001b[0;32m--> 339\u001b[0;31m           zero_output_for_mask=self.zero_output_for_mask)\n\u001b[0m\u001b[1;32m    340\u001b[0m       \u001b[0;31m# This is a dummy tensor for testing purpose.\u001b[0m\u001b[0;34m\u001b[0m\u001b[0;34m\u001b[0m\u001b[0;34m\u001b[0m\u001b[0m\n\u001b[1;32m    341\u001b[0m       \u001b[0mruntime\u001b[0m \u001b[0;34m=\u001b[0m \u001b[0m_runtime\u001b[0m\u001b[0;34m(\u001b[0m\u001b[0m_RUNTIME_UNKNOWN\u001b[0m\u001b[0;34m)\u001b[0m\u001b[0;34m\u001b[0m\u001b[0;34m\u001b[0m\u001b[0m\n",
      "\u001b[0;32m~/.conda/envs/brain2brain_env/lib/python3.7/site-packages/tensorflow_core/python/keras/backend.py\u001b[0m in \u001b[0;36mrnn\u001b[0;34m(step_function, inputs, initial_states, go_backwards, mask, constants, unroll, input_length, time_major, zero_output_for_mask)\u001b[0m\n\u001b[1;32m   4154\u001b[0m           \u001b[0mbody\u001b[0m\u001b[0;34m=\u001b[0m\u001b[0m_step\u001b[0m\u001b[0;34m,\u001b[0m\u001b[0;34m\u001b[0m\u001b[0;34m\u001b[0m\u001b[0m\n\u001b[1;32m   4155\u001b[0m           \u001b[0mloop_vars\u001b[0m\u001b[0;34m=\u001b[0m\u001b[0;34m(\u001b[0m\u001b[0mtime\u001b[0m\u001b[0;34m,\u001b[0m \u001b[0moutput_ta\u001b[0m\u001b[0;34m)\u001b[0m \u001b[0;34m+\u001b[0m \u001b[0mstates\u001b[0m\u001b[0;34m,\u001b[0m\u001b[0;34m\u001b[0m\u001b[0;34m\u001b[0m\u001b[0m\n\u001b[0;32m-> 4156\u001b[0;31m           **while_loop_kwargs)\n\u001b[0m\u001b[1;32m   4157\u001b[0m       \u001b[0mnew_states\u001b[0m \u001b[0;34m=\u001b[0m \u001b[0mfinal_outputs\u001b[0m\u001b[0;34m[\u001b[0m\u001b[0;36m2\u001b[0m\u001b[0;34m:\u001b[0m\u001b[0;34m]\u001b[0m\u001b[0;34m\u001b[0m\u001b[0;34m\u001b[0m\u001b[0m\n\u001b[1;32m   4158\u001b[0m \u001b[0;34m\u001b[0m\u001b[0m\n",
      "\u001b[0;32m~/.conda/envs/brain2brain_env/lib/python3.7/site-packages/tensorflow_core/python/ops/control_flow_ops.py\u001b[0m in \u001b[0;36mwhile_loop\u001b[0;34m(cond, body, loop_vars, shape_invariants, parallel_iterations, back_prop, swap_memory, name, maximum_iterations, return_same_structure)\u001b[0m\n\u001b[1;32m   2712\u001b[0m                                               list(loop_vars))\n\u001b[1;32m   2713\u001b[0m       \u001b[0;32mwhile\u001b[0m \u001b[0mcond\u001b[0m\u001b[0;34m(\u001b[0m\u001b[0;34m*\u001b[0m\u001b[0mloop_vars\u001b[0m\u001b[0;34m)\u001b[0m\u001b[0;34m:\u001b[0m\u001b[0;34m\u001b[0m\u001b[0;34m\u001b[0m\u001b[0m\n\u001b[0;32m-> 2714\u001b[0;31m         \u001b[0mloop_vars\u001b[0m \u001b[0;34m=\u001b[0m \u001b[0mbody\u001b[0m\u001b[0;34m(\u001b[0m\u001b[0;34m*\u001b[0m\u001b[0mloop_vars\u001b[0m\u001b[0;34m)\u001b[0m\u001b[0;34m\u001b[0m\u001b[0;34m\u001b[0m\u001b[0m\n\u001b[0m\u001b[1;32m   2715\u001b[0m         \u001b[0;32mif\u001b[0m \u001b[0mtry_to_pack\u001b[0m \u001b[0;32mand\u001b[0m \u001b[0;32mnot\u001b[0m \u001b[0misinstance\u001b[0m\u001b[0;34m(\u001b[0m\u001b[0mloop_vars\u001b[0m\u001b[0;34m,\u001b[0m \u001b[0;34m(\u001b[0m\u001b[0mlist\u001b[0m\u001b[0;34m,\u001b[0m \u001b[0m_basetuple\u001b[0m\u001b[0;34m)\u001b[0m\u001b[0;34m)\u001b[0m\u001b[0;34m:\u001b[0m\u001b[0;34m\u001b[0m\u001b[0;34m\u001b[0m\u001b[0m\n\u001b[1;32m   2716\u001b[0m           \u001b[0mpacked\u001b[0m \u001b[0;34m=\u001b[0m \u001b[0;32mTrue\u001b[0m\u001b[0;34m\u001b[0m\u001b[0;34m\u001b[0m\u001b[0m\n",
      "\u001b[0;32m~/.conda/envs/brain2brain_env/lib/python3.7/site-packages/tensorflow_core/python/ops/control_flow_ops.py\u001b[0m in \u001b[0;36m<lambda>\u001b[0;34m(i, lv)\u001b[0m\n\u001b[1;32m   2703\u001b[0m         cond = lambda i, lv: (  # pylint: disable=g-long-lambda\n\u001b[1;32m   2704\u001b[0m             math_ops.logical_and(i < maximum_iterations, orig_cond(*lv)))\n\u001b[0;32m-> 2705\u001b[0;31m         \u001b[0mbody\u001b[0m \u001b[0;34m=\u001b[0m \u001b[0;32mlambda\u001b[0m \u001b[0mi\u001b[0m\u001b[0;34m,\u001b[0m \u001b[0mlv\u001b[0m\u001b[0;34m:\u001b[0m \u001b[0;34m(\u001b[0m\u001b[0mi\u001b[0m \u001b[0;34m+\u001b[0m \u001b[0;36m1\u001b[0m\u001b[0;34m,\u001b[0m \u001b[0morig_body\u001b[0m\u001b[0;34m(\u001b[0m\u001b[0;34m*\u001b[0m\u001b[0mlv\u001b[0m\u001b[0;34m)\u001b[0m\u001b[0;34m)\u001b[0m\u001b[0;34m\u001b[0m\u001b[0;34m\u001b[0m\u001b[0m\n\u001b[0m\u001b[1;32m   2706\u001b[0m       \u001b[0mtry_to_pack\u001b[0m \u001b[0;34m=\u001b[0m \u001b[0;32mFalse\u001b[0m\u001b[0;34m\u001b[0m\u001b[0;34m\u001b[0m\u001b[0m\n\u001b[1;32m   2707\u001b[0m \u001b[0;34m\u001b[0m\u001b[0m\n",
      "\u001b[0;32m~/.conda/envs/brain2brain_env/lib/python3.7/site-packages/tensorflow_core/python/keras/backend.py\u001b[0m in \u001b[0;36m_step\u001b[0;34m(time, output_ta_t, *states)\u001b[0m\n\u001b[1;32m   4138\u001b[0m         \u001b[0mcurrent_input\u001b[0m \u001b[0;34m=\u001b[0m \u001b[0mnest\u001b[0m\u001b[0;34m.\u001b[0m\u001b[0mpack_sequence_as\u001b[0m\u001b[0;34m(\u001b[0m\u001b[0minputs\u001b[0m\u001b[0;34m,\u001b[0m \u001b[0mcurrent_input\u001b[0m\u001b[0;34m)\u001b[0m\u001b[0;34m\u001b[0m\u001b[0;34m\u001b[0m\u001b[0m\n\u001b[1;32m   4139\u001b[0m         output, new_states = step_function(current_input,\n\u001b[0;32m-> 4140\u001b[0;31m                                            tuple(states) + tuple(constants))\n\u001b[0m\u001b[1;32m   4141\u001b[0m         \u001b[0mflat_state\u001b[0m \u001b[0;34m=\u001b[0m \u001b[0mnest\u001b[0m\u001b[0;34m.\u001b[0m\u001b[0mflatten\u001b[0m\u001b[0;34m(\u001b[0m\u001b[0mstates\u001b[0m\u001b[0;34m)\u001b[0m\u001b[0;34m\u001b[0m\u001b[0;34m\u001b[0m\u001b[0m\n\u001b[1;32m   4142\u001b[0m         \u001b[0mflat_new_state\u001b[0m \u001b[0;34m=\u001b[0m \u001b[0mnest\u001b[0m\u001b[0;34m.\u001b[0m\u001b[0mflatten\u001b[0m\u001b[0;34m(\u001b[0m\u001b[0mnew_states\u001b[0m\u001b[0;34m)\u001b[0m\u001b[0;34m\u001b[0m\u001b[0;34m\u001b[0m\u001b[0m\n",
      "\u001b[0;32m~/.conda/envs/brain2brain_env/lib/python3.7/site-packages/tensorflow_core/python/keras/layers/recurrent_v2.py\u001b[0m in \u001b[0;36mstep\u001b[0;34m(cell_inputs, cell_states)\u001b[0m\n\u001b[1;32m    325\u001b[0m \u001b[0;34m\u001b[0m\u001b[0m\n\u001b[1;32m    326\u001b[0m       \u001b[0;32mdef\u001b[0m \u001b[0mstep\u001b[0m\u001b[0;34m(\u001b[0m\u001b[0mcell_inputs\u001b[0m\u001b[0;34m,\u001b[0m \u001b[0mcell_states\u001b[0m\u001b[0;34m)\u001b[0m\u001b[0;34m:\u001b[0m\u001b[0;34m\u001b[0m\u001b[0;34m\u001b[0m\u001b[0m\n\u001b[0;32m--> 327\u001b[0;31m         \u001b[0;32mreturn\u001b[0m \u001b[0mself\u001b[0m\u001b[0;34m.\u001b[0m\u001b[0mcell\u001b[0m\u001b[0;34m.\u001b[0m\u001b[0mcall\u001b[0m\u001b[0;34m(\u001b[0m\u001b[0mcell_inputs\u001b[0m\u001b[0;34m,\u001b[0m \u001b[0mcell_states\u001b[0m\u001b[0;34m,\u001b[0m \u001b[0;34m**\u001b[0m\u001b[0mkwargs\u001b[0m\u001b[0;34m)\u001b[0m\u001b[0;34m\u001b[0m\u001b[0;34m\u001b[0m\u001b[0m\n\u001b[0m\u001b[1;32m    328\u001b[0m \u001b[0;34m\u001b[0m\u001b[0m\n\u001b[1;32m    329\u001b[0m       last_output, outputs, states = K.rnn(\n",
      "\u001b[0;32m~/.conda/envs/brain2brain_env/lib/python3.7/site-packages/tensorflow_core/python/keras/layers/recurrent.py\u001b[0m in \u001b[0;36mcall\u001b[0;34m(self, inputs, states, training)\u001b[0m\n\u001b[1;32m   1699\u001b[0m         \u001b[0mmatrix_x\u001b[0m \u001b[0;34m=\u001b[0m \u001b[0mK\u001b[0m\u001b[0;34m.\u001b[0m\u001b[0mbias_add\u001b[0m\u001b[0;34m(\u001b[0m\u001b[0mmatrix_x\u001b[0m\u001b[0;34m,\u001b[0m \u001b[0minput_bias\u001b[0m\u001b[0;34m)\u001b[0m\u001b[0;34m\u001b[0m\u001b[0;34m\u001b[0m\u001b[0m\n\u001b[1;32m   1700\u001b[0m \u001b[0;34m\u001b[0m\u001b[0m\n\u001b[0;32m-> 1701\u001b[0;31m       \u001b[0mx_z\u001b[0m \u001b[0;34m=\u001b[0m \u001b[0mmatrix_x\u001b[0m\u001b[0;34m[\u001b[0m\u001b[0;34m:\u001b[0m\u001b[0;34m,\u001b[0m \u001b[0;34m:\u001b[0m\u001b[0mself\u001b[0m\u001b[0;34m.\u001b[0m\u001b[0munits\u001b[0m\u001b[0;34m]\u001b[0m\u001b[0;34m\u001b[0m\u001b[0;34m\u001b[0m\u001b[0m\n\u001b[0m\u001b[1;32m   1702\u001b[0m       \u001b[0mx_r\u001b[0m \u001b[0;34m=\u001b[0m \u001b[0mmatrix_x\u001b[0m\u001b[0;34m[\u001b[0m\u001b[0;34m:\u001b[0m\u001b[0;34m,\u001b[0m \u001b[0mself\u001b[0m\u001b[0;34m.\u001b[0m\u001b[0munits\u001b[0m\u001b[0;34m:\u001b[0m \u001b[0;36m2\u001b[0m \u001b[0;34m*\u001b[0m \u001b[0mself\u001b[0m\u001b[0;34m.\u001b[0m\u001b[0munits\u001b[0m\u001b[0;34m]\u001b[0m\u001b[0;34m\u001b[0m\u001b[0;34m\u001b[0m\u001b[0m\n\u001b[1;32m   1703\u001b[0m       \u001b[0mx_h\u001b[0m \u001b[0;34m=\u001b[0m \u001b[0mmatrix_x\u001b[0m\u001b[0;34m[\u001b[0m\u001b[0;34m:\u001b[0m\u001b[0;34m,\u001b[0m \u001b[0;36m2\u001b[0m \u001b[0;34m*\u001b[0m \u001b[0mself\u001b[0m\u001b[0;34m.\u001b[0m\u001b[0munits\u001b[0m\u001b[0;34m:\u001b[0m\u001b[0;34m]\u001b[0m\u001b[0;34m\u001b[0m\u001b[0;34m\u001b[0m\u001b[0m\n",
      "\u001b[0;32m~/.conda/envs/brain2brain_env/lib/python3.7/site-packages/tensorflow_core/python/ops/array_ops.py\u001b[0m in \u001b[0;36m_slice_helper\u001b[0;34m(tensor, slice_spec, var)\u001b[0m\n\u001b[1;32m    811\u001b[0m         \u001b[0mellipsis_mask\u001b[0m\u001b[0;34m=\u001b[0m\u001b[0mellipsis_mask\u001b[0m\u001b[0;34m,\u001b[0m\u001b[0;34m\u001b[0m\u001b[0;34m\u001b[0m\u001b[0m\n\u001b[1;32m    812\u001b[0m         \u001b[0mvar\u001b[0m\u001b[0;34m=\u001b[0m\u001b[0mvar\u001b[0m\u001b[0;34m,\u001b[0m\u001b[0;34m\u001b[0m\u001b[0;34m\u001b[0m\u001b[0m\n\u001b[0;32m--> 813\u001b[0;31m         name=name)\n\u001b[0m\u001b[1;32m    814\u001b[0m \u001b[0;34m\u001b[0m\u001b[0m\n\u001b[1;32m    815\u001b[0m \u001b[0;34m\u001b[0m\u001b[0m\n",
      "\u001b[0;32m~/.conda/envs/brain2brain_env/lib/python3.7/site-packages/tensorflow_core/python/framework/ops.py\u001b[0m in \u001b[0;36m__exit__\u001b[0;34m(self, type_arg, value_arg, traceback_arg)\u001b[0m\n\u001b[1;32m   6353\u001b[0m         \u001b[0;32mraise\u001b[0m\u001b[0;34m\u001b[0m\u001b[0;34m\u001b[0m\u001b[0m\n\u001b[1;32m   6354\u001b[0m \u001b[0;34m\u001b[0m\u001b[0m\n\u001b[0;32m-> 6355\u001b[0;31m   \u001b[0;32mdef\u001b[0m \u001b[0m__exit__\u001b[0m\u001b[0;34m(\u001b[0m\u001b[0mself\u001b[0m\u001b[0;34m,\u001b[0m \u001b[0mtype_arg\u001b[0m\u001b[0;34m,\u001b[0m \u001b[0mvalue_arg\u001b[0m\u001b[0;34m,\u001b[0m \u001b[0mtraceback_arg\u001b[0m\u001b[0;34m)\u001b[0m\u001b[0;34m:\u001b[0m\u001b[0;34m\u001b[0m\u001b[0;34m\u001b[0m\u001b[0m\n\u001b[0m\u001b[1;32m   6356\u001b[0m     \u001b[0;32mif\u001b[0m \u001b[0mself\u001b[0m\u001b[0;34m.\u001b[0m\u001b[0m_has_symbolic_input_in_eager\u001b[0m\u001b[0;34m:\u001b[0m\u001b[0;34m\u001b[0m\u001b[0;34m\u001b[0m\u001b[0m\n\u001b[1;32m   6357\u001b[0m       \u001b[0mself\u001b[0m\u001b[0;34m.\u001b[0m\u001b[0m_name_scope\u001b[0m\u001b[0;34m.\u001b[0m\u001b[0m__exit__\u001b[0m\u001b[0;34m(\u001b[0m\u001b[0mtype_arg\u001b[0m\u001b[0;34m,\u001b[0m \u001b[0mvalue_arg\u001b[0m\u001b[0;34m,\u001b[0m \u001b[0mtraceback_arg\u001b[0m\u001b[0;34m)\u001b[0m\u001b[0;34m\u001b[0m\u001b[0;34m\u001b[0m\u001b[0m\n",
      "\u001b[0;31mKeyboardInterrupt\u001b[0m: "
     ]
    }
   ],
   "source": [
    "# Training and evaluating a dropout-regularized, stacked GRU model\n",
    "model = Sequential()\n",
    "\n",
    "model.add(layers.GRU(64,\n",
    "                     dropout=0.1,\n",
    "                     recurrent_dropout=0.5,\n",
    "                     return_sequences=True,\n",
    "                     input_shape=(None, float_data.shape[-1])))\n",
    "model.add(layers.GRU(80, activation='relu',\n",
    "                     dropout=0.1,\n",
    "                     recurrent_dropout=0.5))\n",
    "model.add(layers.Dense(1))\n",
    "\n",
    "model.compile(optimizer=RMSprop(), loss='mae')\n",
    "history = model.fit_generator(train_gen,\n",
    "                              steps_per_epoch=500,\n",
    "                              epochs=20,\n",
    "                              validation_data=val_gen,\n",
    "                              validation_steps=val_steps // batch_size)"
   ]
  },
  {
   "cell_type": "code",
   "execution_count": null,
   "metadata": {},
   "outputs": [],
   "source": [
    "# Plotting Baseline Results\n",
    "loss = history.history['loss']\n",
    "val_loss = history.history['val_loss']\n",
    "\n",
    "epochs = range(1, len(loss) + 1)\n",
    "\n",
    "plt.figure()\n",
    "plt.plot(epochs, loss, 'bo', label='Training Loss')\n",
    "plt.plot(epochs, val_loss,'b', label='Validation Loss')\n",
    "plt.title(\"Training and Validation loss for a dropout-regularized, stacked GRU model\")\n",
    "plt.show()"
   ]
  },
  {
   "cell_type": "code",
   "execution_count": 100,
   "metadata": {},
   "outputs": [
    {
     "name": "stdout",
     "output_type": "stream",
     "text": [
      "Model: \"sequential_15\"\n",
      "_________________________________________________________________\n",
      "Layer (type)                 Output Shape              Param #   \n",
      "=================================================================\n",
      "conv1d (Conv1D)              (None, None, 64)          802880    \n",
      "_________________________________________________________________\n",
      "conv1d_1 (Conv1D)            (None, None, 128)         1048704   \n",
      "_________________________________________________________________\n",
      "conv1d_2 (Conv1D)            (None, None, 256)         4194560   \n",
      "_________________________________________________________________\n",
      "conv1d_3 (Conv1D)            (None, None, 1)           32769     \n",
      "=================================================================\n",
      "Total params: 6,078,913\n",
      "Trainable params: 6,078,913\n",
      "Non-trainable params: 0\n",
      "_________________________________________________________________\n"
     ]
    }
   ],
   "source": [
    "filter_size = 128\n",
    "model = Sequential()\n",
    "model.add(layers.Conv1D(64,\n",
    "                        filter_size,\n",
    "                        strides=1,\n",
    "                        padding='causal',\n",
    "                        data_format='channels_last',\n",
    "                        dilation_rate=1,\n",
    "                        activation='relu',\n",
    "                        input_shape=(None, float_data.shape[-1])))\n",
    "model.add(layers.Conv1D(128,\n",
    "                        filter_size,\n",
    "                        strides=1,\n",
    "                        padding='causal',\n",
    "                        data_format='channels_last',\n",
    "                        dilation_rate=2,\n",
    "                        activation='relu'))\n",
    "model.add(layers.Conv1D(256,\n",
    "                        filter_size,\n",
    "                        strides=1,\n",
    "                        padding='causal',\n",
    "                        data_format='channels_last',\n",
    "                        dilation_rate=4, activation='relu'))\n",
    "model.add(layers.Conv1D(1,\n",
    "                        filter_size,\n",
    "                        strides=1,\n",
    "                        padding='causal',\n",
    "                        data_format='channels_last',\n",
    "                        dilation_rate=8, activation='linear'))\n",
    "model.summary()"
   ]
  },
  {
   "cell_type": "code",
   "execution_count": 101,
   "metadata": {},
   "outputs": [
    {
     "name": "stdout",
     "output_type": "stream",
     "text": [
      "Epoch 1/20\n",
      "500/500 [==============================] - 35s 69ms/step - loss: 0.7343 - val_loss: 0.7856\n",
      "Epoch 2/20\n",
      "500/500 [==============================] - 34s 68ms/step - loss: 0.7116 - val_loss: 0.7894\n",
      "Epoch 3/20\n",
      "500/500 [==============================] - 34s 68ms/step - loss: 0.6981 - val_loss: 0.7748\n",
      "Epoch 4/20\n",
      "500/500 [==============================] - 34s 68ms/step - loss: 0.6711 - val_loss: 0.7623\n",
      "Epoch 5/20\n",
      "500/500 [==============================] - 34s 68ms/step - loss: 0.6522 - val_loss: 0.7798\n",
      "Epoch 6/20\n",
      "500/500 [==============================] - 34s 67ms/step - loss: 0.6222 - val_loss: 0.7674\n",
      "Epoch 7/20\n",
      "500/500 [==============================] - 34s 68ms/step - loss: 0.6007 - val_loss: 0.8378\n",
      "Epoch 8/20\n",
      "500/500 [==============================] - 34s 68ms/step - loss: 0.5864 - val_loss: 0.7784\n",
      "Epoch 9/20\n",
      "500/500 [==============================] - 34s 68ms/step - loss: 0.5666 - val_loss: 0.7939\n",
      "Epoch 10/20\n",
      "500/500 [==============================] - 34s 69ms/step - loss: 0.5511 - val_loss: 0.7842\n",
      "Epoch 11/20\n",
      "500/500 [==============================] - 35s 70ms/step - loss: 0.5378 - val_loss: 0.8101\n",
      "Epoch 12/20\n",
      "500/500 [==============================] - 34s 69ms/step - loss: 0.5255 - val_loss: 0.8194\n",
      "Epoch 13/20\n",
      "500/500 [==============================] - 34s 69ms/step - loss: 0.5124 - val_loss: 0.8828\n",
      "Epoch 14/20\n",
      "500/500 [==============================] - 34s 69ms/step - loss: 0.5079 - val_loss: 0.7883\n",
      "Epoch 15/20\n",
      "500/500 [==============================] - 34s 68ms/step - loss: 0.4955 - val_loss: 0.8322\n",
      "Epoch 16/20\n",
      "500/500 [==============================] - 34s 68ms/step - loss: 0.4832 - val_loss: 0.8225\n",
      "Epoch 17/20\n",
      "500/500 [==============================] - 34s 68ms/step - loss: 0.4758 - val_loss: 0.8723\n",
      "Epoch 18/20\n",
      "500/500 [==============================] - 34s 68ms/step - loss: 0.4668 - val_loss: 0.8341\n",
      "Epoch 19/20\n",
      "500/500 [==============================] - 34s 68ms/step - loss: 0.4580 - val_loss: 0.8510\n",
      "Epoch 20/20\n",
      "500/500 [==============================] - 34s 68ms/step - loss: 0.4483 - val_loss: 0.8154\n"
     ]
    }
   ],
   "source": [
    "model.compile(optimizer=RMSprop(), loss='mae')\n",
    "history = model.fit_generator(train_gen,\n",
    "                              steps_per_epoch=500,\n",
    "                              epochs=20,\n",
    "                              validation_data=val_gen,\n",
    "                              validation_steps=val_steps // batch_size)"
   ]
  },
  {
   "cell_type": "code",
   "execution_count": 102,
   "metadata": {},
   "outputs": [
    {
     "data": {
      "image/png": "[encoded data removed]",
      "text/plain": [
       "<Figure size 432x288 with 1 Axes>"
      ]
     },
     "metadata": {
      "needs_background": "light"
     },
     "output_type": "display_data"
    }
   ],
   "source": [
    "# Plotting Baseline Results\n",
    "loss = history.history['loss']\n",
    "val_loss = history.history['val_loss']\n",
    "\n",
    "epochs = range(1, len(loss) + 1)\n",
    "\n",
    "plt.figure()\n",
    "plt.plot(epochs, loss, 'bo', label='Training Loss')\n",
    "plt.plot(epochs, val_loss,'b', label='Validation Loss')\n",
    "plt.title(\"Training and Validation loss for a baseline TCN model\")\n",
    "plt.show()"
   ]
  },
  {
   "cell_type": "code",
   "execution_count": null,
   "metadata": {},
   "outputs": [],
   "source": []
  }
 ],
 "metadata": {
  "kernelspec": {
   "display_name": "Python 3",
   "language": "python",
   "name": "python3"
  },
  "language_info": {
   "codemirror_mode": {
    "name": "ipython",
    "version": 3
   },
   "file_extension": ".py",
   "mimetype": "text/x-python",
   "name": "python",
   "nbconvert_exporter": "python",
   "pygments_lexer": "ipython3",
   "version": "3.7.5"
  }
 },
 "nbformat": 4,
 "nbformat_minor": 4
}
